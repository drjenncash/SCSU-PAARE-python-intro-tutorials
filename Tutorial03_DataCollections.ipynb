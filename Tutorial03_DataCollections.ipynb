{
 "cells": [
  {
   "cell_type": "markdown",
   "id": "e58d02f5",
   "metadata": {},
   "source": [
    "# Tutorial 3: Collection Data Types in Python"
   ]
  },
  {
   "cell_type": "markdown",
   "id": "9feff32b-8434-4ea0-accd-27dd961a9cf8",
   "metadata": {},
   "source": [
    "\n",
    "Sections of this notebook come from several other tutorial notebooks including but not limited to the Python Documents at (https://docs.python.org/3/library/collections.html), the Geeks for Geels website (https://www.geeksforgeeks.org/python-data-types/). the Krittika Tutorials, and additional sources.\n",
    "\n",
    "This tutorial was compiled for the PAARE project at South Carolina State University in partnership with Clemson University and the University of the Virgin Islands and funded by NSF.  (NSF grant AST  2319415)\n",
    "\n",
    "* Original posting:\n",
    "  * JCash 06-05-2025\n",
    "* Last modification:\n",
    "  * JCash 06-09-2025"
   ]
  },
  {
   "cell_type": "markdown",
   "id": "eca10907",
   "metadata": {},
   "source": [
    "##  Overview\n",
    "\n",
    "In this tutorial, we cover some special data types that are collections of data objects. These are also referred to as compound data types, used to group other values together. \n",
    "\n",
    "Collections in Python are essentially container data types. They hold a group of data objects of various types in a way that allows those items to be kept together. They have different characteristics based on the declaration and the usage.\n",
    "\n",
    "This tutorial will cover:\n",
    "* Common Types of Data Collections.\n",
    "* How to declare and access each type.\n",
    "\n",
    "Specifically, we will cover:\n",
    "* Strings\n",
    "* Lists\n",
    "* Tuples\n",
    "* Dictionaries\n",
    "* NumPy Arrays"
   ]
  },
  {
   "cell_type": "markdown",
   "id": "e7b45d88-e008-4a41-9067-2dfaa1285a0e",
   "metadata": {},
   "source": [
    "### Python uses 0 indexing\n",
    "\n",
    "Programming languages, including Python, need a standard way to indicate where an item is within the collection. This process is called **Indexing**.\n",
    "\n",
    "Programming languages are split between 0-index and 1-index standards. We could debate which is better, but you just need to know that Python uses the 0-index standard. \n",
    "\n",
    "In this standard, the index can be thought of as the displacement from the start of the collection. \n",
    "* The index 0 is the start of the collection.\n",
    "* The index 1 shifts over to the first one after the start.\n",
    "* The index 2 shifts over to the item two spaces after the start.\n",
    "* The index 13 would be 13 spots after the start of the collection.\n",
    "\n",
    "In the index-0 standard, we can also use a negative index to count backwards from the end of the collection.\n",
    "* The index -1 is the last item in the collection.\n",
    "* The index -2 is the second to last item from the end.\n",
    "* The index -5 would be the fifth item from the end.\n",
    "\n",
    "\n",
    "From the Python.org documentation, they use the following to help explain the indexing:\n"
   ]
  },
  {
   "cell_type": "markdown",
   "id": "eda16777-3b8d-484c-a5c0-4d15b1d3fdd7",
   "metadata": {},
   "source": [
    "One way to remember how slices work is to think of the indices as pointing between characters, with the left edge of the first character numbered 0. Then the right edge of the last character of a string of n characters has index n, for example:"
   ]
  },
  {
   "cell_type": "raw",
   "id": "5ef3748b-7997-45d1-bcf8-fa1a2f14215d",
   "metadata": {},
   "source": [
    " +---+---+---+---+---+---+\n",
    " | P | y | t | h | o | n |\n",
    " +---+---+---+---+---+---+\n",
    " 0   1   2   3   4   5   6\n",
    "-6  -5  -4  -3  -2  -1"
   ]
  },
  {
   "cell_type": "markdown",
   "id": "1c9c6bd5-2e06-4cbf-a272-bce9e17e9c1a",
   "metadata": {},
   "source": [
    "The first row of numbers gives the position of the indices 0…6 in the string; the second row gives the corresponding negative indices. The slice from i to j consists of all characters between the edges labeled i and j, respectively.\n",
    "\n",
    "https://docs.python.org/3/tutorial/introduction.html#text"
   ]
  },
  {
   "cell_type": "markdown",
   "id": "a38285b6",
   "metadata": {},
   "source": [
    "###  Imports needed\n",
    "\n",
    "It is always best practice to import the needed packages at the very top of the notebook. As a notebook is developed, you can always add to or take away from that cell. \n",
    "\n",
    "The cell should always be run before any other cells in the notebook and right after any changes to the import list are given. \n",
    "\n",
    "For this tutorial we will use NumPy."
   ]
  },
  {
   "cell_type": "code",
   "execution_count": null,
   "id": "371a9388",
   "metadata": {},
   "outputs": [],
   "source": [
    "import numpy as np"
   ]
  },
  {
   "cell_type": "markdown",
   "id": "881d7911-3ae3-45c6-b9ed-4322757d7940",
   "metadata": {},
   "source": [
    "## 1.0) Lists\n",
    "\n",
    "In Python, a list is an ordered collection of items stored within one variable. In many ways, lists are the most versatile of the container types. The items in a list can be any data type or a combination of different data types (integers, floats, strings, booleans, etc). An item in a list can even be a more complicated object.\n",
    "\n",
    "Lists are like a row of boxes. You can put anything into a box and then get it back out of the same box. You NEED to know which box your item is stored in to be able to efficiently get it back out. \n",
    "\n",
    "- You create a list by enclosing the items in square brackets `[]` and separating the items with commas.\n",
    "- You can print a list.\n",
    "- The length of a list is the number of items stored in the list.\n",
    "- You can access individual items in the list.\n",
    "- You can modify individual items in the list.\n",
    "- You can select a slice of the list.\n",
    "- You can create nested lists (or 2D lists)."
   ]
  },
  {
   "cell_type": "markdown",
   "id": "d9ada2d5-87fe-4e92-aebb-7f532f19c45c",
   "metadata": {},
   "source": [
    "### 1.1) declaring and assigning lists\n",
    "\n",
    "- List values are placed in between square brackets [ ], separated by commas.\n",
    "\n",
    "- It is good practice to put a space between the comma and the next value for easier readability. \n",
    "\n",
    "- The values in a list do not need to be unique (the same value can be repeated).\n",
    "\n",
    "- Empty lists do not contain any values within the square brackets."
   ]
  },
  {
   "cell_type": "markdown",
   "id": "3d08ba50-bca6-437b-a9f6-c80f8cc3b524",
   "metadata": {},
   "source": [
    "Below is an example of a list assigned to the variable `a`. It contains 5 items of different types. \n",
    "Shown is how to manually declare the list and print the list. \n",
    "\n",
    "We will use this `a` list in a lot of our examples since the mixed data types will make some aspects more obvious."
   ]
  },
  {
   "cell_type": "code",
   "execution_count": null,
   "id": "4099ce0b-7e82-47d1-bde8-1dd5b579afd5",
   "metadata": {},
   "outputs": [],
   "source": [
    "# Create the list and assign it to the variable name a\n",
    "a = [1, \"apple\", True, 35.6, \"banana\"]\n",
    "\n",
    "# Print the list\n",
    "print(\"list 'a' contains the items: \",a)\n",
    "\n",
    "# See what type of object the list is\n",
    "print(type(a))"
   ]
  },
  {
   "cell_type": "markdown",
   "id": "d5285a09-4df6-4afd-94ba-8e75fd4fe710",
   "metadata": {},
   "source": [
    "Notice that the data type of `a` is just `list`.\n",
    "\n",
    "This doesn't tell us what types of data are stored inside the items in the list, just that the variable name `a` is assigned to an object that is a list.\n",
    "\n",
    "Below are a few more examples of lists. Even though each of these lists only contains one type of data, the list still has a DataType `list`."
   ]
  },
  {
   "cell_type": "code",
   "execution_count": null,
   "id": "6dbadb57-0e78-44f0-9328-ee4f27152cbd",
   "metadata": {},
   "outputs": [],
   "source": [
    "list1 = [0,1,2,3,4,5,6,7,8,9,10]\n",
    "list2 = [\"a\",\"b\",\"c\",\"d\"]\n",
    "list3 = [6.3, 1.45, 8.6]\n"
   ]
  },
  {
   "cell_type": "code",
   "execution_count": null,
   "id": "47ed3804-5a9d-4095-aa02-be519c616f5d",
   "metadata": {},
   "outputs": [],
   "source": [
    "type(list1)"
   ]
  },
  {
   "cell_type": "markdown",
   "id": "fe976171-c3c5-4fa1-bab6-83538aee1bee",
   "metadata": {
    "jp-MarkdownHeadingCollapsed": true
   },
   "source": [
    "**Caution**\n",
    "\n",
    "`list` is a built-in class in python and you should avoid using just `list` as a variable name. \n",
    "\n",
    "Consider how you are using the list and what it holds:\n",
    "- If your code only has a few lists that are similar in nature, you could use variable names such as list1, list2, etc.\n",
    "- If a list in your code represents a group of similar items, you can assign it's name to clearly relate to that group.\n",
    "- Consider how often you need to refer to the list and make sure it has a name that will not easily be misspelled.\n",
    "- Consider if you will often need to reference individual items in the list.\n",
    "- You can also add comment lines when you declare a list to explain what it contains.\n",
    "\n",
    "Below are some different examples to show you the variety that is possible."
   ]
  },
  {
   "cell_type": "code",
   "execution_count": null,
   "id": "1445da3f-5b84-42ad-ab99-220b5be957a4",
   "metadata": {},
   "outputs": [],
   "source": [
    "names = ['Bert', 'Ernie', 'Gonzo']\n",
    "\n",
    "prices = [93,24,67,142]\n",
    "\n",
    "# The following list contains the high temperature for each day last week.\n",
    "htemps = [92,94,95.3,97,91,87,88.5]\n",
    "# The following list contains the low temperatures for each day last week.\n",
    "ltemps = [74,69,72,75,76,71,69]\n",
    "\n"
   ]
  },
  {
   "cell_type": "markdown",
   "id": "a8a4b094-85e9-48e2-a1f5-a9565eb97146",
   "metadata": {},
   "source": [
    "### 1.2) Length of a list\n",
    "\n",
    "You can find out how many items are in a list using the built-in `len()` function.\n",
    "\n",
    "The result you get will be an integer value for the number of items in the list. \n"
   ]
  },
  {
   "cell_type": "code",
   "execution_count": null,
   "id": "d88eaab3-a097-49c3-afac-21dc5dc59bb9",
   "metadata": {},
   "outputs": [],
   "source": [
    "a = [1, \"apple\", True, 35.6, \"banana\"]\n",
    "print(a)\n",
    "print(len(a))"
   ]
  },
  {
   "cell_type": "markdown",
   "id": "090c4e37-5246-4a86-95fd-9b563951c9b0",
   "metadata": {},
   "source": [
    "You can also save that integer value to a variable name, just be careful that you know what each variable name is assigned to."
   ]
  },
  {
   "cell_type": "code",
   "execution_count": null,
   "id": "84dc6805-6712-4cc6-8f98-a39a3f3a3969",
   "metadata": {},
   "outputs": [],
   "source": [
    "b = len(a)\n",
    "print(b)\n",
    "print(\"list \", a, \"contains \", b, \"items\")"
   ]
  },
  {
   "cell_type": "markdown",
   "id": "c86e91ac-60c3-40ba-9ea9-da57e8fb8af6",
   "metadata": {},
   "source": [
    "### 1.3) Accessing list items using indexing\n",
    "\n",
    "As discussed at the top of this tutorial, Python uses a 0-index system.\n",
    "\n",
    "So the starting item is position 0, not 1.\n",
    "\n",
    "We can access a single item from a list using the list variable name followed by square brackets with the index inside the brackets as shown below. "
   ]
  },
  {
   "cell_type": "code",
   "execution_count": null,
   "id": "b7cc8356-3181-49e3-a4cc-130a61c30761",
   "metadata": {},
   "outputs": [],
   "source": [
    "a = [1, \"apple\",True, 35.6,\"banana\"]\n",
    "\n",
    "print(a[0])  # Print the initial 0 position item in the list.\n",
    "print(a[1])  # Print the item 1 position to the right of the starting position.\n",
    "print(a[2])  # Print the item 2 position to the right of the starting position.\n",
    "print(a[3])  # Print the item 3 position to the right of the starting position.\n",
    "print(a[4])  # Print the item 4 position to the right of the starting position."
   ]
  },
  {
   "cell_type": "markdown",
   "id": "2becf60a-8e33-4a4a-8cfd-21c5e97c3edc",
   "metadata": {},
   "source": [
    "Once you are accessing a single item in the list, you can use `type()` to find out the data type for the item itself."
   ]
  },
  {
   "cell_type": "code",
   "execution_count": null,
   "id": "ddb2c50a-1980-4bd5-9786-746cfac21128",
   "metadata": {},
   "outputs": [],
   "source": [
    "type(a[0])"
   ]
  },
  {
   "cell_type": "code",
   "execution_count": null,
   "id": "7298c750-96bf-468f-ac42-e542eac579e5",
   "metadata": {},
   "outputs": [],
   "source": [
    "type(a[1])"
   ]
  },
  {
   "cell_type": "code",
   "execution_count": null,
   "id": "3442f84b-37ac-4478-8280-7dc48dbe31b8",
   "metadata": {},
   "outputs": [],
   "source": [
    "# Try looking at the data type for each item in our list a.\n",
    "\n"
   ]
  },
  {
   "cell_type": "markdown",
   "id": "da85fae5-2279-4348-b9d0-57336f698572",
   "metadata": {},
   "source": [
    "**Allowed index range**\n",
    "\n",
    "When indexing lists, you can not use a value of the index that would be outside of the bounds of the list.\n",
    "\n",
    "Since we use 0 as the starting position, the last item has an index of `len()-1`.\n",
    "\n",
    "For our example of list2, the length is 4 items, which is:\n",
    "\n",
    "* Positive positions 0 through 3.\n",
    "* Backwards -1 through -4.\n",
    "\n",
    "\n",
    "Attempting to call an index outside of that range will cause an IndexError."
   ]
  },
  {
   "cell_type": "code",
   "execution_count": null,
   "id": "a44a5e29-4e58-4ba7-8ac1-a44fd718646e",
   "metadata": {},
   "outputs": [],
   "source": [
    "print(list2)"
   ]
  },
  {
   "cell_type": "code",
   "execution_count": null,
   "id": "9650f1f3-8ed2-4c3d-a285-f5bd9c52d4c7",
   "metadata": {},
   "outputs": [],
   "source": [
    "# This works.\n",
    "list2[3]"
   ]
  },
  {
   "cell_type": "code",
   "execution_count": null,
   "id": "0d2685b1-9f46-4016-bf49-f6e6f516b9e5",
   "metadata": {},
   "outputs": [],
   "source": [
    "# This also works.\n",
    "list2[-2]"
   ]
  },
  {
   "cell_type": "code",
   "execution_count": null,
   "id": "aa1c6c75-a879-4cf0-a28c-3cef65514865",
   "metadata": {},
   "outputs": [],
   "source": [
    "# This doesn't work and will give an IndexError.\n",
    "list2[4]"
   ]
  },
  {
   "cell_type": "markdown",
   "id": "4e2281ea-71b2-4824-bb0b-6fe27377db71",
   "metadata": {},
   "source": [
    "### 1.4) Slicing a list\n",
    "\n",
    "In addition to indexing, slicing is also supported.\n",
    "\n",
    "Slicing allows you to get a section of the list (often called a sublist).\n",
    "\n",
    "With slices, we can access multiple items by creating a range of index numbers separated by a colon `[x:y]`.\n",
    "\n",
    "When constructing a slice, as in `[x:y]`, the first index number is where the slice starts (inclusive), and the second index number is where the slice ends (exclusive). This is similar to selecting indices within the mathematical range of `x <= i < y`.\n",
    "\n",
    "\n",
    "This can be seen with the example `list1` defined above which lists the integers from zero to ten. For this case, the index and the value stored in that location are the same. "
   ]
  },
  {
   "cell_type": "code",
   "execution_count": null,
   "id": "63a89f0a-e88e-4ecb-a484-56688b732071",
   "metadata": {},
   "outputs": [],
   "source": [
    "print(list1)"
   ]
  },
  {
   "cell_type": "code",
   "execution_count": null,
   "id": "f717efae-52d7-461e-9633-5fd8cbbe7dba",
   "metadata": {},
   "outputs": [],
   "source": [
    "# Select the range where 0 <= index < 3; which would be positions 0, 1, and 2.\n",
    "list1[0:3] "
   ]
  },
  {
   "cell_type": "code",
   "execution_count": null,
   "id": "71a6d9e7",
   "metadata": {},
   "outputs": [],
   "source": [
    "# Select the range where 3 <= index < 7; which would be positions 3, 4, 5, and 6.\n",
    "list1[3:7]"
   ]
  },
  {
   "cell_type": "markdown",
   "id": "42f67d32-2596-4a12-8d34-ad36565d9d78",
   "metadata": {},
   "source": [
    "If either x or y is blank, then Python reverts to the ends of the list as that boundary as shown in the examples below."
   ]
  },
  {
   "cell_type": "code",
   "execution_count": null,
   "id": "97d116ca-1750-45fc-80e8-cbe5ebeacfd6",
   "metadata": {},
   "outputs": [],
   "source": [
    "# Select the range from the start of the list to right below the index of 4.\n",
    "list1[:4]"
   ]
  },
  {
   "cell_type": "code",
   "execution_count": null,
   "id": "fd9848e5-d398-4dd0-95cc-5aae0e30b214",
   "metadata": {},
   "outputs": [],
   "source": [
    "# Select the range from index 5 to the end of the list.\n",
    "list1[5:]"
   ]
  },
  {
   "cell_type": "markdown",
   "id": "53e8a078-7cd0-4074-9049-f4f4f6992c73",
   "metadata": {},
   "source": [
    "You can also use a negative index to specify the range."
   ]
  },
  {
   "cell_type": "code",
   "execution_count": null,
   "id": "49039df9-ee9a-403c-8660-c4c030bb31f3",
   "metadata": {},
   "outputs": [],
   "source": [
    "# Get the last three values.\n",
    "list1[-3:] "
   ]
  },
  {
   "cell_type": "markdown",
   "id": "5a5e569e-690b-4c1a-abcb-5b274e5ade36",
   "metadata": {},
   "source": [
    "When you have a mixed list such as the list `a` we have been using, it takes a little more counting to figure out what to use for the range. "
   ]
  },
  {
   "cell_type": "code",
   "execution_count": null,
   "id": "4f964f37-07b2-4c09-8224-ca1a5e2a942b",
   "metadata": {},
   "outputs": [],
   "source": [
    "# Start with one position to the right of the start and stop before you get to the position 3 spaces to the right of the start.\n",
    "a[1:3] "
   ]
  },
  {
   "cell_type": "markdown",
   "id": "7a80ac33-6835-49f8-a5ca-e5668020988f",
   "metadata": {},
   "source": [
    "### 1.5) Lists are \"Mutable\"\n",
    "\n",
    "Once you create a list and assign it to a variable name, you can still go in and change items in the list without having to recreate the list. \n",
    "\n",
    "The term \"mutable\" probably refers to being able to mutate the object.\n",
    "\n",
    "You can:\n",
    "* Modify individual items of a list.\n",
    "* Add new items to the end of a list.\n",
    "* Remove items from the end of a list."
   ]
  },
  {
   "cell_type": "markdown",
   "id": "f93264e9-6cc0-48b6-9191-a21b6c1f8d01",
   "metadata": {},
   "source": [
    "####  Modifying elements of a list\n",
    "\n",
    "To change a single item in a list, you can assign the new value to the specific index in the list.\n",
    "\n",
    "This will have the general format of `listname[index] = value`."
   ]
  },
  {
   "cell_type": "code",
   "execution_count": null,
   "id": "fef5d449-1af3-47f2-a186-43507adc0acd",
   "metadata": {},
   "outputs": [],
   "source": [
    "# List example.\n",
    "my_list = [1, 2, 3]  # Declaring the list.\n",
    "print(my_list)   # Output of the original list.\n",
    "my_list[0] = 100  # Modifying the item 0 value.\n",
    "print(my_list)    # Output of modified list.\n",
    "my_list[1] = 34   # Modifying the item 1 value.\n",
    "print(my_list)"
   ]
  },
  {
   "cell_type": "markdown",
   "id": "ffb72d2a-d810-4d5d-8749-e580f6d16b84",
   "metadata": {},
   "source": [
    "####  Adding to a list (Appending)\n",
    "\n",
    "You can add a single item to the end of a list using the append method.\n",
    "\n",
    "This will have the general format of `listname.append(value)`."
   ]
  },
  {
   "cell_type": "code",
   "execution_count": null,
   "id": "4d05af8a-8d35-4e87-af17-21cf8221a639",
   "metadata": {},
   "outputs": [],
   "source": [
    "my_list.append(15)\n",
    "print(my_list)\n",
    "my_list.append(23)\n",
    "print(my_list)"
   ]
  },
  {
   "cell_type": "markdown",
   "id": "ff325dcd-b451-4e31-8dcb-5d4b08b999fa",
   "metadata": {},
   "source": [
    "#### Combining lists (Concatenation)\n",
    "\n",
    "If you want to take two lists and create one longer list, you can use the addition operator as shown below."
   ]
  },
  {
   "cell_type": "code",
   "execution_count": null,
   "id": "9e2725ef-8d66-4298-9fb9-f13bea3dc45a",
   "metadata": {},
   "outputs": [],
   "source": [
    "alltemps=htemps+ltemps\n",
    "print(alltemps)"
   ]
  },
  {
   "cell_type": "markdown",
   "id": "645a8a5b-b88a-4860-b448-44279e4b1e7d",
   "metadata": {},
   "source": [
    "### 1.6) Comparing lists\n",
    "\n",
    "**Equality**\n",
    "\n",
    "To be equal, two lists must have the same items in the same order.\n"
   ]
  },
  {
   "cell_type": "code",
   "execution_count": null,
   "id": "b67fc3c5-d4ac-4370-adde-b270456ebeaf",
   "metadata": {},
   "outputs": [],
   "source": [
    "print([1,2,3] == [1,2,3])\n",
    "print([1,2,3] == [2,1,3])\n",
    "print([1,2,3] == [1,2,3,4])"
   ]
  },
  {
   "cell_type": "markdown",
   "id": "55f60483-a683-4e42-9c74-068448709a3f",
   "metadata": {},
   "source": [
    "**Ranking lists**\n",
    "\n",
    "Using the `>` or `<` operators on lists is a little more complicated.\n",
    "\n",
    "Python looks at the first element in each list and compares how they would be sorted.\n",
    "\n",
    "If the two first elements are equal, it then looks at the second element.\n",
    "\n",
    "See some examples below."
   ]
  },
  {
   "cell_type": "code",
   "execution_count": null,
   "id": "71cd915b-66d9-41e6-9bdf-cc51f4e9f1ed",
   "metadata": {},
   "outputs": [],
   "source": [
    "print([1,2,3] < [2,1,3])"
   ]
  },
  {
   "cell_type": "code",
   "execution_count": null,
   "id": "23e6efb4-0a0b-419f-87a4-6e91c761a52a",
   "metadata": {},
   "outputs": [],
   "source": [
    "print([1,2,3] < [1,1,3])"
   ]
  },
  {
   "cell_type": "markdown",
   "id": "54b517fc-d968-406b-8cd8-87ded68a4d6a",
   "metadata": {
    "jp-MarkdownHeadingCollapsed": true
   },
   "source": [
    "If you just want to see if one list is longer, shorter, or the same length as another array, you can compare the lengths."
   ]
  },
  {
   "cell_type": "code",
   "execution_count": null,
   "id": "12c99275-d425-4d18-b67e-d00f71b1094c",
   "metadata": {},
   "outputs": [],
   "source": [
    "len(list1) >= len(list2)"
   ]
  },
  {
   "cell_type": "markdown",
   "id": "f7656336-48cf-4174-9111-5ff5acbfedce",
   "metadata": {},
   "source": [
    "### 1.7) Nested Lists\n",
    "\n",
    "You can even store lists inside of lists.\n",
    "\n",
    "The length of the nested list is the number of lists inside the outside list. \n",
    "\n",
    "The lengths and data types of the inside lists do not need to match to place them inside the outside list. \n",
    "\n",
    "A list of lists is sometimes also referred to as a 2D list."
   ]
  },
  {
   "cell_type": "code",
   "execution_count": null,
   "id": "6010e5e9-dacf-4278-88af-9aad09e97e2b",
   "metadata": {},
   "outputs": [],
   "source": [
    "nlist = [list1, list2, list3]\n",
    "\n",
    "print(nlist)\n",
    "print(type(nlist))\n",
    "print(len(nlist))"
   ]
  },
  {
   "cell_type": "markdown",
   "id": "e2502b7d-3cce-4d0d-a2f4-1c1d476e312a",
   "metadata": {},
   "source": [
    "**Accessing nested lists**\n",
    "\n",
    "For these sorts of nested or 2D lists, you can access one of the inner lists using indexing. \n",
    "\n",
    "Similar to accessing items in a single list, the first inner list has an index of 0, the next inner list would have an index of 1, etc.  \n",
    "\n",
    "The code cells below show how to access each inner list. "
   ]
  },
  {
   "cell_type": "code",
   "execution_count": null,
   "id": "600c6eac-1aac-4d10-b9ee-bc8191e35517",
   "metadata": {},
   "outputs": [],
   "source": [
    "nlist[0]"
   ]
  },
  {
   "cell_type": "code",
   "execution_count": null,
   "id": "9622ea2c",
   "metadata": {},
   "outputs": [],
   "source": [
    "nlist[1]"
   ]
  },
  {
   "cell_type": "code",
   "execution_count": null,
   "id": "fc0c4ab3-26fb-4320-b5ce-a3cfb0294c2f",
   "metadata": {},
   "outputs": [],
   "source": [
    "nlist[2]"
   ]
  },
  {
   "cell_type": "markdown",
   "id": "b21ae614-9874-436c-a861-2df4d7668725",
   "metadata": {},
   "source": [
    "**Accessing elements inside inner list**\n",
    "\n",
    "If you want to access a single value within one of the inner lists, you need both the index of the inner list and the index of the value inside that inner list. \n",
    "\n",
    "You give the index for the inner list first and then the index for the position inside that inner list.\n",
    "\n",
    "For example you can get the very first element of the very first list using [0][0]\n",
    "\n",
    "If you want to get the 4th element inside the second list, you need to use [1][3]"
   ]
  },
  {
   "cell_type": "code",
   "execution_count": null,
   "id": "af948ce3-7e08-48d5-b643-2bbe32003a84",
   "metadata": {},
   "outputs": [],
   "source": [
    "nlist[0][0] "
   ]
  },
  {
   "cell_type": "code",
   "execution_count": null,
   "id": "1f58cdaa-84a8-42cb-aecd-b0c225671dde",
   "metadata": {},
   "outputs": [],
   "source": [
    "nlist[1][3]"
   ]
  },
  {
   "cell_type": "markdown",
   "id": "1915a622-41b6-4f6b-9514-9dee05f45bbe",
   "metadata": {},
   "source": [
    "## 2.0) Tuples"
   ]
  },
  {
   "cell_type": "markdown",
   "id": "6ab47645-390e-4ee7-a3f6-17836ed4c5c6",
   "metadata": {},
   "source": [
    "Tuples and lists are very similar but with a few important differences. \n",
    "\n",
    "- Tuples are defined using `( )`.\n",
    "- Tuples are accessed with the same indexing system.\n",
    "- Tuples are immutable.\n",
    "\n",
    "This last property is the most important."
   ]
  },
  {
   "cell_type": "markdown",
   "id": "0daba682-71e5-45be-8701-8c4750a9cf75",
   "metadata": {},
   "source": [
    "### 2.1) Creating a tuple\n",
    "\n",
    "Similar to creating a list, you can create a tuple by listing the values separated by commas, but now you need to use the round brackets instead of square brackets.\n",
    "\n",
    "The naming of tuples has the same cautions of readability as those for list variable names."
   ]
  },
  {
   "cell_type": "code",
   "execution_count": null,
   "id": "7b500095-267f-46a2-b786-93aa6769a7df",
   "metadata": {},
   "outputs": [],
   "source": [
    "lista = [1, \"apple\",True, 35.6,\"banana\"]\n",
    "tuplea =(1, \"apple\",True, 35.6,\"banana\")\n",
    "print(type(lista))\n",
    "print(type(tuplea))"
   ]
  },
  {
   "cell_type": "code",
   "execution_count": null,
   "id": "0fe0d0bf-9eaa-41fa-9e47-e1a5ec4e2cc1",
   "metadata": {},
   "outputs": [],
   "source": [
    "b = (120,300)\n",
    "coords = (33.493317, -80.855415)"
   ]
  },
  {
   "cell_type": "code",
   "execution_count": null,
   "id": "3e298110-1ac0-4623-a86e-03bc701ba008",
   "metadata": {},
   "outputs": [],
   "source": [
    "len(coords)"
   ]
  },
  {
   "cell_type": "markdown",
   "id": "93377d34-639c-4f62-9e16-643dde8cb13d",
   "metadata": {},
   "source": [
    "### 2.2) Accessing a tuple\n",
    "\n",
    "The same indexing system is used for tuples as was used for lists. \n",
    "\n",
    "Only one example is shown below; notice that the indices are still given in square brackets `[]` for tuples and lists."
   ]
  },
  {
   "cell_type": "code",
   "execution_count": null,
   "id": "0503dcd5-9604-4c20-8f37-1f36a3705427",
   "metadata": {},
   "outputs": [],
   "source": [
    "tuplea[0:3]"
   ]
  },
  {
   "cell_type": "markdown",
   "id": "490551f0-37a4-46de-a858-6ef338daac35",
   "metadata": {},
   "source": [
    "### 2.3) Tuples are immutable\n",
    "\n",
    "Unlike lists, you can not change individual values inside a tuple.\n",
    "\n",
    "To change a tuple, you would need to re-declare the tuple assignment statement.\n",
    "\n",
    "This can actually be very useful if you have information that you want to ensure is not accidentally changed as code is run. \n",
    "\n",
    "In the cells below we see what happens when you try to change a value in a tuple, followed by an attempt to append to a tuple, then reassigning a tuple."
   ]
  },
  {
   "cell_type": "code",
   "execution_count": null,
   "id": "459fd67a-fb5d-485e-8b53-1faa4811d5ce",
   "metadata": {},
   "outputs": [],
   "source": [
    "# Here we declare a 3-element tuple.\n",
    "my_tuple = (1, 2, 3)\n",
    "\n",
    "# Now we try to change the initial value.\n",
    "my_tuple[0] = 100\n",
    "\n",
    "# This will give a TypeError since you can't change the tuple bu assigning a new value"
   ]
  },
  {
   "cell_type": "code",
   "execution_count": null,
   "id": "247e1ee6-7cef-4f4f-9e04-22240f2acd84",
   "metadata": {},
   "outputs": [],
   "source": [
    "# Here we declare a 3-element tuple.\n",
    "my_tuple = (1, 2, 3)\n",
    "\n",
    "# Now we try to add another value.\n",
    "my_tuple.append(100)\n",
    "\n",
    "# This will also give a AttributeError since you can't append to a tuple"
   ]
  },
  {
   "cell_type": "code",
   "execution_count": null,
   "id": "76481a79-f220-4e69-9fe9-88bf81c6684d",
   "metadata": {},
   "outputs": [],
   "source": [
    "# Here we declare a 3-element tuple.\n",
    "my_tuple = (1, 2, 3)\n",
    "\n",
    "# Now we redefine the tuple (which does work).\n",
    "my_tuple = (100,2,3,100)\n",
    "print(my_tuple)"
   ]
  },
  {
   "cell_type": "markdown",
   "id": "dcb50332-f7c6-456d-bd7b-925e4eca3a66",
   "metadata": {},
   "source": [
    "## 3.0) NumPy Arrays\n",
    "\n",
    "Lists and tuples are a standard part of Python, but sometimes we want a collection object that has a little more power. We can use extra packages like NumPy to add that functionality.\n",
    "\n",
    "NumPy arrays are a very power data collection object.\n",
    "\n",
    "<div class=\"alert alert-block alert-warning\">\n",
    "<b>import Reminder:</b> If you get an error message that indicates that \"name 'np' is not defined\", that indicates that you did not import the numpy library. Return to the top of the notebook and run or rerun that cell before continuing. \n",
    "</div>\n"
   ]
  },
  {
   "cell_type": "markdown",
   "id": "31caf90c-26f6-4f11-a027-ee9fcef3bb80",
   "metadata": {},
   "source": [
    "### 3.1) Creating NumPy Arrays\n",
    "\n",
    "You can manually declare a NumPy Array using the function `np.array()` similar to how we used `np.sqrt()` in the last tutorial.\n",
    "\n",
    "Inside the `()`, you include a list either using the `[]` with comma-separated values or putting in the name for a list you already created. \n",
    "\n",
    "\n",
    "See the examples below."
   ]
  },
  {
   "cell_type": "markdown",
   "id": "63d88e24-b208-4823-985c-eb7d705048fc",
   "metadata": {},
   "source": [
    "#### Manual creation"
   ]
  },
  {
   "cell_type": "code",
   "execution_count": null,
   "id": "9b9fdb5c-0599-4b70-9dab-8e24274bc8c6",
   "metadata": {},
   "outputs": [],
   "source": [
    "# Here we manually create a NumPy Array by listing all the values.\n",
    "my_arr = np.array([1, 2, 3])"
   ]
  },
  {
   "cell_type": "code",
   "execution_count": null,
   "id": "54b3bfe3-6cc4-408d-a999-60bffc2e25b8",
   "metadata": {},
   "outputs": [],
   "source": [
    "type(my_arr)"
   ]
  },
  {
   "cell_type": "code",
   "execution_count": null,
   "id": "d03f42a7-1975-4b24-95f6-e914f3e4ac41",
   "metadata": {},
   "outputs": [],
   "source": [
    "print(my_arr)"
   ]
  },
  {
   "cell_type": "code",
   "execution_count": null,
   "id": "c1dbc672-677f-4765-a0f1-be3e27f214b3",
   "metadata": {},
   "outputs": [],
   "source": [
    "my_arr"
   ]
  },
  {
   "cell_type": "markdown",
   "id": "8dd6cf16-8f75-4be0-bd4a-eb97feee2092",
   "metadata": {},
   "source": [
    "#### Create from a list\n",
    "\n",
    "Here we have a list declared, and then create an array from that list variable."
   ]
  },
  {
   "cell_type": "code",
   "execution_count": null,
   "id": "54741839-271b-4360-9a97-e511e9f1b702",
   "metadata": {},
   "outputs": [],
   "source": [
    "print(\"list1 information\")\n",
    "list1 = [0,1,2,3,4,5,6,7,8,9,10]\n",
    "print(list1)\n",
    "print(type(list1))\n",
    "\n",
    "print(\"array1 information\")\n",
    "array1 = np.array(list1)\n",
    "print(array1)\n",
    "print(type(array1))"
   ]
  },
  {
   "cell_type": "markdown",
   "id": "20d2ab09-8273-40c7-b1b7-f06a8d5d8805",
   "metadata": {},
   "source": [
    "#### 2D arrays\n",
    "\n",
    "If we use the same method for creating a nested list, the nested arrays are now called 2D arrays and print out with a each array as a row instead of list of lists all on one line. See the difference below."
   ]
  },
  {
   "cell_type": "code",
   "execution_count": null,
   "id": "25d53b07-64ef-4001-91d6-e4298630932d",
   "metadata": {},
   "outputs": [],
   "source": [
    "print(\"nested list\")\n",
    "list_nested = [[1,2,3], [4,5,6], [7,8,9], [10,11,12]]\n",
    "print(list_nested)\n",
    "\n",
    "print(\"2D array\")\n",
    "array2D = np.array([[1,2,3], [4,5,6], [7,8,9], [10,11,12]])\n",
    "print(array2D)"
   ]
  },
  {
   "cell_type": "markdown",
   "id": "e672ed6c-6e3a-48eb-aaab-e70cbfff3087",
   "metadata": {},
   "source": [
    "####  DataTypes in Numpy arrays\n",
    "\n",
    "So far, all of the arrays we have created contained only numerical values. \n",
    "NumPy Arrays work best with numerical values (it is the Numerical Python package after all). \n",
    "\n",
    "Unlike lists, NumPy Arrays **cannot** have mixed data types in the same array. \n",
    "\n",
    "The `np.array` function will look at the values you want to put into the array and try to determine the common data type. \n",
    "\n",
    "Look at what happens if we take the mixed list that we used before and try to put it into an array."
   ]
  },
  {
   "cell_type": "code",
   "execution_count": null,
   "id": "e72c2bad-fa70-4b98-88f3-bf9a67c7b140",
   "metadata": {},
   "outputs": [],
   "source": [
    "array_mixa = np.array([1, \"apple\",True, 35.6,\"banana\"])\n",
    "print(array_mixa)\n",
    "print(type(array_mixa[0]))"
   ]
  },
  {
   "cell_type": "markdown",
   "id": "c28755d9-26f7-4170-80f3-23de7a9eaa36",
   "metadata": {},
   "source": [
    "With all of the data types in the list we gave it, they could all be interpreted as strings, so that is what NumPy used."
   ]
  },
  {
   "cell_type": "markdown",
   "id": "d330e517-7b4f-499f-90c0-351f25840ea7",
   "metadata": {},
   "source": [
    "The array below starts with integers and floats.\n",
    "\n",
    "Since integers easily convert to floats, but floats don't convert to integers, all elements are converted to floats."
   ]
  },
  {
   "cell_type": "code",
   "execution_count": null,
   "id": "a0f13f2f-f84a-4767-b8ad-eea1b842efe6",
   "metadata": {},
   "outputs": [],
   "source": [
    "array_mix2 = np.array([1, 2, 3.1])\n",
    "print(array_mix2)\n",
    "print(type(array_mix2[0]))"
   ]
  },
  {
   "cell_type": "markdown",
   "id": "f11741dc-cdaa-4e6f-9788-ea6db1ac8213",
   "metadata": {},
   "source": [
    "There are ways to force mixed data types into a NumPy Array, but it is generally considered better to use a different structure than a NumPy Array for those situations.\n",
    "\n",
    "A later tutorial on data files will examine some of those choices."
   ]
  },
  {
   "cell_type": "markdown",
   "id": "f5a400da-cfa0-4320-919f-81ae55db28fb",
   "metadata": {},
   "source": [
    "### 3.2) Array information\n",
    "\n"
   ]
  },
  {
   "cell_type": "markdown",
   "id": "d2f7574b-a63f-4360-a9fb-5db71860c29b",
   "metadata": {},
   "source": [
    "#### Dimensions and ND arrays\n",
    "\n",
    "You may have noticed that the DataType for these arrays is `numpy.ndarray` \n",
    "\n",
    "The `nd` stands for n-dimensional arrays. \n",
    "\n",
    "This means that NumPy Arrays are the primary data structure used for representing multidimensional arrays. \n",
    "\n",
    "* A 1D array is a single row.\n",
    "* A 2D array is a table with rows and columns.\n",
    "* A 3D array can be thought of:\n",
    "    * as a cube with each table stacked behind another.\n",
    "    * as a grid of regular x,y,z positions in space with values at each spot.\n",
    " \n",
    "Higher dimensions are easily manipulated with arrays, although it becomes hard to visualize what these mean."
   ]
  },
  {
   "cell_type": "markdown",
   "id": "487d4e8c-b53f-4889-a4dc-6fbc4f1a69b4",
   "metadata": {},
   "source": [
    "#### Length\n",
    "\n",
    "You find the length for an array in the same way as for lists and tuples. \n",
    "\n",
    "**1D arrays:**\n",
    "For a 1D array, the length is the number of elements in the singular row."
   ]
  },
  {
   "cell_type": "code",
   "execution_count": null,
   "id": "2eae9481-8cd7-470a-a0c8-476dfb4b302e",
   "metadata": {},
   "outputs": [],
   "source": [
    "print(array1)\n",
    "print(len(array1))"
   ]
  },
  {
   "cell_type": "markdown",
   "id": "04009034-44ad-46fe-87fa-0c99e5d58a61",
   "metadata": {},
   "source": [
    "**2D arrays:**\n",
    "For a 2D array, the length is the number of rows."
   ]
  },
  {
   "cell_type": "code",
   "execution_count": null,
   "id": "9bbbe359-9a4b-4c3a-9059-d9552649f30f",
   "metadata": {},
   "outputs": [],
   "source": [
    "print(array2D)\n",
    "print(len(array2D))"
   ]
  },
  {
   "cell_type": "markdown",
   "id": "53e06364-d60c-4be4-b611-ecfb991545ab",
   "metadata": {},
   "source": [
    "#### Shape\n",
    "\n",
    "For these NumPy Arrays, we now have some additional methods to get information about the size and shape of the array.\n",
    "\n",
    "The syntax for this is to list the variable name for the array followed by a dot followed by the method name. (You will learn more about methods in the next tutorial.)\n",
    "* `array.ndim` gives the number of dimensions in the array.\n",
    "* `array.shape` gives you the number of elements in each dimension."
   ]
  },
  {
   "cell_type": "code",
   "execution_count": null,
   "id": "c76ed0ae-2d16-4a6a-8638-aa6b09b1552e",
   "metadata": {},
   "outputs": [],
   "source": [
    "# Shape of the array (number of rows, number of columns).\n",
    "print('For the array1:')\n",
    "print(array1.ndim, 'dimensions')\n",
    "print(array1.shape, 'shape')"
   ]
  },
  {
   "cell_type": "code",
   "execution_count": null,
   "id": "900c606e-6d1f-43c9-85c7-0b8d61906a48",
   "metadata": {},
   "outputs": [],
   "source": [
    "# Shape of the array (number of rows, number of columns).\n",
    "print('For the array2D:')\n",
    "print(array2D.ndim, 'dimensions')\n",
    "print(array2D.shape, 'shape')"
   ]
  },
  {
   "cell_type": "markdown",
   "id": "dc32f07f-651f-4215-8e3b-bf7a372fe768",
   "metadata": {},
   "source": [
    "So we see above that the shape of our 2D array was 4 rows and 3 columns. \n"
   ]
  },
  {
   "cell_type": "markdown",
   "id": "9de176ab-49f3-48e9-8d48-7d35037b3267",
   "metadata": {},
   "source": [
    "#### DataType\n",
    "\n",
    "Since a NumPy Array can only have one datatype, it is possible to get that datatype without accessing each element to determine its type.\n",
    "\n",
    "The `array.dtype` method allows this."
   ]
  },
  {
   "cell_type": "code",
   "execution_count": null,
   "id": "328928ff-89c7-4dd5-855e-d165b87f31d0",
   "metadata": {},
   "outputs": [],
   "source": [
    "# Shape of the array (number of rows, number of columns).\n",
    "print(\"Shape:\", array2D.shape)\n",
    "\n",
    "# Number of dimensions.\n",
    "print(\"Dimensions:\", array2D.ndim)\n",
    "\n",
    "# Data type of the elements.\n",
    "print(\"Data Type:\", array2D.dtype)\n"
   ]
  },
  {
   "cell_type": "markdown",
   "id": "5dad7e33-ee24-4a9c-82f3-a32dc040606f",
   "metadata": {},
   "source": [
    "### 3.3) Indexing for Arrays\n",
    "\n",
    "The indexing for arrays works the same way as the indexing for lists and tuples.\n",
    "\n",
    "With the added information for the shape of a 2D array, we start to see some of the power of arrays compared to lists for data that naturally falls into columns.\n",
    "\n",
    "See the examples below for indexing on both 1 and 2D arrays."
   ]
  },
  {
   "cell_type": "markdown",
   "id": "ae5883a2-0978-4024-aee4-332cd2995fc8",
   "metadata": {},
   "source": [
    "#### 1D arrays\n",
    "\n",
    "- 1D arrays will use indexing along a single dimension just like lists. \n",
    "- You can pull out single values along the array.\n",
    "- You can pull out slices of the array."
   ]
  },
  {
   "cell_type": "code",
   "execution_count": null,
   "id": "1cf47f49-2bd3-4c4a-b55a-62fe0da40b3c",
   "metadata": {},
   "outputs": [],
   "source": [
    "print(array1)"
   ]
  },
  {
   "cell_type": "code",
   "execution_count": null,
   "id": "29804635-19f2-497c-96ad-1f031393e1c3",
   "metadata": {},
   "outputs": [],
   "source": [
    "array1[0]"
   ]
  },
  {
   "cell_type": "code",
   "execution_count": null,
   "id": "b5cea579-d806-4c3a-9b5b-7dda7c718d6a",
   "metadata": {},
   "outputs": [],
   "source": [
    "array1[5]"
   ]
  },
  {
   "cell_type": "code",
   "execution_count": null,
   "id": "bd666070-6ecd-4109-8664-0bda2088e408",
   "metadata": {},
   "outputs": [],
   "source": [
    "array1[2:8]"
   ]
  },
  {
   "cell_type": "markdown",
   "id": "d18af804-d3e7-42b6-8327-1f53703bbc4e",
   "metadata": {},
   "source": [
    "#### 2D arrays\n",
    "\n",
    "- 2D arrays will use a pair of indexes separated by a comma; the first represents the row and the second one is the column.\n",
    "- The syntax is `array[rows,cols]`.\n",
    "- If only one dimension is given, it gives all columns for that row."
   ]
  },
  {
   "cell_type": "code",
   "execution_count": null,
   "id": "609659f5-511a-4791-9b49-62ee5abe5b32",
   "metadata": {},
   "outputs": [],
   "source": [
    "print(array2D)"
   ]
  },
  {
   "cell_type": "code",
   "execution_count": null,
   "id": "e3ccde9b-7d28-488e-8622-2d181553b0a7",
   "metadata": {},
   "outputs": [],
   "source": [
    "# Here we get the 0 index row and the 0 index column.\n",
    "array2D[0,0]"
   ]
  },
  {
   "cell_type": "code",
   "execution_count": null,
   "id": "916e57c0-bebb-4eb1-b307-9c87a39117fa",
   "metadata": {},
   "outputs": [],
   "source": [
    "# Here we get the zero index row and the 2 index column.\n",
    "array2D[0,2]"
   ]
  },
  {
   "cell_type": "code",
   "execution_count": null,
   "id": "44f69183-f525-4c8e-bb54-651c08c57f5e",
   "metadata": {},
   "outputs": [],
   "source": [
    "# Here we get the 2 index row and the 0 index column.\n",
    "array2D[2,0]"
   ]
  },
  {
   "cell_type": "code",
   "execution_count": null,
   "id": "73348ced-e8bc-40b1-a2b9-d91a07183a8a",
   "metadata": {},
   "outputs": [],
   "source": [
    "# Here we get rows with index 0:3 and columns with index 0:2.\n",
    "# Remember that slices go from the first number up to and not including the next number.\n",
    "array2D[0:3,0:2]"
   ]
  },
  {
   "cell_type": "code",
   "execution_count": null,
   "id": "f75c2a4f-615d-4098-b280-5e161cb71574",
   "metadata": {},
   "outputs": [],
   "source": [
    "array2D[0:3,1:3] # Select  0<=row<3 and  1<=column<3."
   ]
  },
  {
   "cell_type": "code",
   "execution_count": null,
   "id": "5ca506bd-255b-4d7e-898c-5da857ba4924",
   "metadata": {},
   "outputs": [],
   "source": [
    "# Here we get every row but only the last two columns.\n",
    "array2D[:,-2:]"
   ]
  },
  {
   "cell_type": "code",
   "execution_count": null,
   "id": "bf481035-2ecd-41fc-91d1-85b2ad0bcf89",
   "metadata": {},
   "outputs": [],
   "source": [
    "# If only 1 dimension is given, it assumes that it is a row, so it takes the full row with index = 0.\n",
    "array2D[0]"
   ]
  },
  {
   "cell_type": "markdown",
   "id": "e01c6ca0-3d36-4f28-a31d-e2fb7c6de6a6",
   "metadata": {},
   "source": [
    "#### ND arrays\n",
    "\n",
    "The following example is taken from w3schools. Again, it is harder to imagine a 3D array, but it is like slices of a cube."
   ]
  },
  {
   "cell_type": "code",
   "execution_count": null,
   "id": "fef17de6-5feb-4723-a5ff-9fa470ef90a8",
   "metadata": {},
   "outputs": [],
   "source": [
    "arr = np.array([[[1, 2, 3], [4, 5, 6]], [[7, 8, 9], [10, 11, 12]]])\n",
    "\n",
    "print('The full 3d array.')\n",
    "print(arr)\n",
    "print('')\n",
    "print('The first dimension tells which slice of the cube.')\n",
    "print('So arr[0] gives:')\n",
    "print(arr[0])\n",
    "print(' ')\n",
    "print('The second dimension tells which row of that slice.')\n",
    "print('So arr[0,1] gives:')\n",
    "print(arr[0,1])\n",
    "print(' ')\n",
    "print('The third dimension tells which column of that row.')\n",
    "print('So arr[0,1,2] gives:')\n",
    "print(arr[0, 1, 2])\n"
   ]
  },
  {
   "cell_type": "markdown",
   "id": "6b26787b-18cb-4cc6-8877-b055fb3d50b8",
   "metadata": {},
   "source": [
    "### 3.4) Calculations with arrays\n",
    "\n",
    "One of the biggest advantages of using NumPy Arrays instead of lists is the power to easily do calculations on a whole array at a time. \n",
    "\n",
    "When we covered lists, we noted that adding two lists creates a single longer list. Other mathematical operations can't be done with lists, even if the lists contain numbers. \n",
    "\n",
    "If we have NumPy Arrays with numbers, we can do much more on these arrays.\n",
    "\n",
    "Using the `list1` and `array1` defined above with numbers 0-10, we can demonstrate some of these operations."
   ]
  },
  {
   "cell_type": "code",
   "execution_count": null,
   "id": "61dac160-698b-4c5d-85d6-07c57cf055b7",
   "metadata": {},
   "outputs": [],
   "source": [
    "# Here we add lists.\n",
    "print(list1+list1)"
   ]
  },
  {
   "cell_type": "code",
   "execution_count": null,
   "id": "ed055de0-68b5-443f-8fb4-e433c24a2e1b",
   "metadata": {},
   "outputs": [],
   "source": [
    "# Here we add arrays.\n",
    "print(array1+array1)"
   ]
  },
  {
   "cell_type": "markdown",
   "id": "e1ecccb7-81ea-4053-8055-32b9522baaef",
   "metadata": {},
   "source": [
    "#### Vectorization\n",
    "\n",
    "For NumPy, mathematical operations operate on each element in the array. So adding two arrays added the elements from one array to the other. \n",
    "\n",
    "You can also do each of the following:\n",
    "- `+`,`-`,`*`,`/`: all elements of an array by a number.\n",
    "- `+`,`-`,`*`,`/`: one array by another array."
   ]
  },
  {
   "cell_type": "code",
   "execution_count": null,
   "id": "c7848612-7d52-4b0c-bb9b-c3498ed15b22",
   "metadata": {},
   "outputs": [],
   "source": [
    "# Here we add a constant value to each element in the array.\n",
    "a2 = array1 + 2\n",
    "print(a2)\n"
   ]
  },
  {
   "cell_type": "code",
   "execution_count": null,
   "id": "fb32ac87-33e3-4478-a305-31ed55306a09",
   "metadata": {},
   "outputs": [],
   "source": [
    "# Here we multiply each value by 3.\n",
    "a3 = a2*3\n",
    "print(a3)\n",
    "\n",
    "# Here we subtract a constant value of 10.\n",
    "a4 = a3 - 10\n",
    "print(a4)"
   ]
  },
  {
   "cell_type": "code",
   "execution_count": null,
   "id": "a80a12a9-ebf1-40c2-a671-03935ea99082",
   "metadata": {},
   "outputs": [],
   "source": [
    "# Here we subtract one array from another.\n",
    "a5 = a4-a2\n",
    "print(a5)"
   ]
  },
  {
   "cell_type": "code",
   "execution_count": null,
   "id": "af78cae7-f747-462a-a499-4dc15d90a7e5",
   "metadata": {},
   "outputs": [],
   "source": [
    "# For the temperature lists we had defined above:\n",
    "# Now we convert those to NumPy Arrays.\n",
    "ht = np.array(htemps)\n",
    "lt = np.array(ltemps)\n",
    "\n",
    "# Then we can get an array of the temperature differences on each day.\n",
    "print( ht-lt)"
   ]
  },
  {
   "cell_type": "code",
   "execution_count": null,
   "id": "d39eae32-505e-426b-b081-17665138fee5",
   "metadata": {},
   "outputs": [],
   "source": [
    "# Here we take the sqrt of each value in the array.\n",
    "print(np.sqrt(a5))\n",
    "\n",
    "# Notice that we get the warning, and some of the results are the NumPy Not a Number 'nan'."
   ]
  },
  {
   "cell_type": "markdown",
   "id": "a9522e8b-f0d7-474a-88ec-d80bc46ae1d6",
   "metadata": {},
   "source": [
    "#### Modifying NumPy Arrays\n",
    "\n",
    "Similar to lists, you can add elements to an array, but the syntax is a little different.\n",
    "You use the `np.append()` function with the array you want to add to and what you want to add, assigned to a new array name."
   ]
  },
  {
   "cell_type": "code",
   "execution_count": null,
   "id": "0ef651c5-17e3-4324-8dad-27e02e8f517d",
   "metadata": {},
   "outputs": [],
   "source": [
    "a6 = np.append(a5, 99)\n",
    "print(a6)\n",
    "print(a5)"
   ]
  },
  {
   "cell_type": "code",
   "execution_count": null,
   "id": "cf08c4bb-8d92-4102-94b9-96a0a4bf6ac6",
   "metadata": {},
   "outputs": [],
   "source": [
    "print(a6)\n",
    "a6[1] = 0\n",
    "print(a6)"
   ]
  },
  {
   "cell_type": "markdown",
   "id": "2af16fc5-1e0f-49e2-9090-854478d184d4",
   "metadata": {},
   "source": [
    "**Caution**\n",
    "\n",
    "When using some mathematical operations involving two or more arrays, the arrays will need to be the same length. \n",
    "\n",
    "Below is an example that doesn't work because one array is a different size."
   ]
  },
  {
   "cell_type": "code",
   "execution_count": null,
   "id": "4a435d4f-5a43-418e-af3b-bac5c773bf42",
   "metadata": {},
   "outputs": [],
   "source": [
    "# This will give a ValueError and let you know the shapes are different.\n",
    "print(a5+a6)"
   ]
  },
  {
   "cell_type": "markdown",
   "id": "a6e2dbfe-5f87-4aed-95c0-b51edfd2016f",
   "metadata": {},
   "source": [
    "**2D arrays**\n",
    "\n",
    "You can do all of the above mathematical operations with 2D arrays, but also matrix operations. \n",
    "These will be explored in more detail in later tutorials.\n"
   ]
  },
  {
   "cell_type": "markdown",
   "id": "a9a9c41b-5faa-49fc-96f0-d7d112c981f0",
   "metadata": {},
   "source": [
    "## 4.0) Strings\n",
    "\n",
    "In Python, strings are a collection of individual characters. \n",
    "\n",
    "There is not a *character* data type. A single character is just a string on length 1.\n",
    "\n",
    "We looked at many of the properties of strings in the previous tutorial, and will review those basic properties here.\n"
   ]
  },
  {
   "cell_type": "markdown",
   "id": "f45ec3c5-b0dc-4b1d-a607-fec47d57e129",
   "metadata": {},
   "source": [
    "### 4.1) Declaring a string\n",
    "\n",
    "- You declare a string by enclosing the text in quotation marks.\n",
    "- You can use double quotes `\"` or single quotes `'`.\n",
    "- You can create an empty string by putting the quotation marks right next to each other `\"\"`.\n",
    "\n",
    "See our earlier tutorial for more information about string declarations. \n",
    "\n",
    "You can also refer to https://docs.python.org/3/tutorial/introduction.html#text for more information."
   ]
  },
  {
   "cell_type": "code",
   "execution_count": null,
   "id": "438c3a76-26dc-4a25-848e-f534335202b6",
   "metadata": {},
   "outputs": [],
   "source": [
    "string1 = \"Hello \"\n",
    "string2 = 'Hello world!'\n",
    "string3 = \"\"\n",
    "string4 = \"string \\n with a newline\""
   ]
  },
  {
   "cell_type": "markdown",
   "id": "38ff4bf9-ef83-4ed2-bb65-157630d44378",
   "metadata": {},
   "source": [
    "### 4.2) Printing a string\n",
    "\n",
    "The `print()` function produces the most readable form of the string, by omitting the enclosing quotes and by printing escaped and special characters such as newline `\\n`.\n"
   ]
  },
  {
   "cell_type": "code",
   "execution_count": null,
   "id": "b4d048b1-77c0-415f-99b7-3e3cb0021053",
   "metadata": {},
   "outputs": [],
   "source": [
    "print(string1)\n",
    "print(string2)\n",
    "print(string3)\n",
    "print(string4)"
   ]
  },
  {
   "cell_type": "markdown",
   "id": "92b6fee3-faa0-43a0-a7fd-c1f0d41b920c",
   "metadata": {},
   "source": [
    "Sometimes you may want to see exactly what is in a string. \n",
    "\n",
    "In a notebook cell or at an interactive python console, you can also view the contents of a string by just putting in the variable name and executing. The output will show the string enclosed in single quotes.\n",
    "\n",
    "For strings with special characters or empty, this can be more informative. \n",
    "\n",
    "For strings with space characters at the ends, it will also clarify where the string ends."
   ]
  },
  {
   "cell_type": "code",
   "execution_count": null,
   "id": "dc2b0bba-c012-44ee-9661-13107baf1c82",
   "metadata": {},
   "outputs": [],
   "source": [
    "string1"
   ]
  },
  {
   "cell_type": "code",
   "execution_count": null,
   "id": "6cba3ff5-9177-4f48-bbf7-583aac43ee3a",
   "metadata": {},
   "outputs": [],
   "source": [
    "string2"
   ]
  },
  {
   "cell_type": "code",
   "execution_count": null,
   "id": "2545e81b-875a-43fa-9c32-7478c3b2adcf",
   "metadata": {},
   "outputs": [],
   "source": [
    "string3"
   ]
  },
  {
   "cell_type": "code",
   "execution_count": null,
   "id": "c2db4568-d2c8-4c4e-99c4-193ebbebf7dc",
   "metadata": {},
   "outputs": [],
   "source": [
    "string4"
   ]
  },
  {
   "cell_type": "markdown",
   "id": "22612349-3318-48f7-82b3-4f1914fc1f7f",
   "metadata": {},
   "source": [
    "### 4.3) String length\n",
    "- You can find out how many characters are in a string using the built-in `len()` function.\n",
    "- The length includes all visible characters, spaces, and punctuation.\n",
    "- Special characters such as the newline `\\n` count as a single item."
   ]
  },
  {
   "cell_type": "code",
   "execution_count": null,
   "id": "3845e38d-a792-4645-9c2b-b224321d4c4b",
   "metadata": {},
   "outputs": [],
   "source": [
    "print(len(string1))\n",
    "string1"
   ]
  },
  {
   "cell_type": "code",
   "execution_count": null,
   "id": "6a1a8f91-ce28-415c-ba8d-f2961d92c724",
   "metadata": {},
   "outputs": [],
   "source": [
    "print(len(string2))\n",
    "string2"
   ]
  },
  {
   "cell_type": "code",
   "execution_count": null,
   "id": "c843cc08-23be-4b9e-9f6c-eb4e94bb54bd",
   "metadata": {},
   "outputs": [],
   "source": [
    "print(len(string3))\n",
    "string3"
   ]
  },
  {
   "cell_type": "code",
   "execution_count": null,
   "id": "8005b2ad-af82-4fd5-a14b-b599e238d439",
   "metadata": {},
   "outputs": [],
   "source": [
    "print(len(string4))\n",
    "string4"
   ]
  },
  {
   "cell_type": "markdown",
   "id": "6a3388c8-54f1-4f2f-90a8-fdb3797efbfe",
   "metadata": {},
   "source": [
    "### 4.4) Comparing strings \n",
    "We can compare the equality of two strings using the `==` operator.\n",
    "\n",
    "To be equal they must be exactly the same (capital letters and spaces matter).\n",
    "\n",
    "Using the numerical `>` `<` `>=` `<=` on strings uses their alphabetical order."
   ]
  },
  {
   "cell_type": "code",
   "execution_count": null,
   "id": "85d8181e-9559-4963-a5ae-70d23c189b16",
   "metadata": {},
   "outputs": [],
   "source": [
    "print(\"a\" == \"a\")\n",
    "print(\"a\" == \"A\")\n",
    "print(\"a \" == \"a\")"
   ]
  },
  {
   "cell_type": "code",
   "execution_count": null,
   "id": "44e2bad2-cca9-4a7a-8cfb-9971a7548569",
   "metadata": {},
   "outputs": [],
   "source": [
    "'apple' < 'banana'"
   ]
  },
  {
   "cell_type": "code",
   "execution_count": null,
   "id": "8329f79f-c890-4d6c-b4c0-5e3912991cd1",
   "metadata": {},
   "outputs": [],
   "source": [
    "'monkey' > 'gorilla'"
   ]
  },
  {
   "cell_type": "markdown",
   "id": "907ad479-c9c1-4a7d-bc4f-348409143537",
   "metadata": {},
   "source": [
    "### 4.5) Indexing for strings\n",
    "\n",
    "As discussed at the top of this tutorial, Python uses a 0-index system. \n",
    "\n",
    "So the starting character is 0, not 1.\n",
    "\n",
    "We can access a single character from a string using the string variable name followed by square brackets with the index inside the brackets as shown below."
   ]
  },
  {
   "cell_type": "code",
   "execution_count": null,
   "id": "058e299a-df7a-4dce-943e-ec67f0277de8",
   "metadata": {},
   "outputs": [],
   "source": [
    "word = 'Python'\n",
    "print(word[0])   # Character in the 0 position.\n",
    "print(word[1])   # Character in position 1.\n",
    "print(word[3])   # Character in position 3.\n",
    "print(word[-1])  # Last character.\n",
    "print(word[-2])  # Second to last character."
   ]
  },
  {
   "cell_type": "markdown",
   "id": "9f8818e5-3710-47b9-9cb3-f320283d51f0",
   "metadata": {},
   "source": [
    "When indexing strings, you cannot use a value of the index that would be outside of the bounds of the collection. \n",
    "\n",
    "Since we use 0 as the starting position, the last character has an index of len()-1\n",
    "\n",
    "For our example of `word = 'Python'`, the length is 6 characters which is:\n",
    "* positive positions 0 through 5.\n",
    "* backwards -1 through -6.\n",
    "\n",
    "Attempting to call an index outside of that range will cause an IndexError."
   ]
  },
  {
   "cell_type": "code",
   "execution_count": null,
   "id": "226bd73e-2f55-4f5f-9426-3022feae52e8",
   "metadata": {},
   "outputs": [],
   "source": [
    "# You will get an IndexError for this one, since the word only has 6 characters.\n",
    "word[8]"
   ]
  },
  {
   "cell_type": "markdown",
   "id": "18a3a8c3-35d5-44fe-a274-59f0ef18741d",
   "metadata": {},
   "source": [
    "### 4.6) Slicing strings\n",
    "\n",
    "In addition to indexing, slicing is also supported. \n",
    "\n",
    "Slicing allows you to get a section of the string (often called a substring).\n",
    "\n",
    "With slices, we can call multiple character values by creating a range of index numbers separated by a colon `[x:y]`.\n",
    "\n",
    "When constructing a slice, as in `[x:y]`, the first index number is where the slice starts (inclusive), and the second index number is where the slice ends (exclusive), which is why in our example above the range has to be the index number that would occur after the string ends. This is similar to selecting indices within the mathematical range of `x <= i < y`.\n"
   ]
  },
  {
   "cell_type": "code",
   "execution_count": null,
   "id": "0e3d33e2-d835-4693-934a-44084cc89b10",
   "metadata": {},
   "outputs": [],
   "source": [
    "a = 'Python'\n",
    "print(a[1:4])   # Select starting at position 1 and ending before position 4."
   ]
  },
  {
   "cell_type": "markdown",
   "id": "95c33338-6db1-4bfa-bb58-a886d2053ee0",
   "metadata": {},
   "source": [
    "If either x or y is blank, then Python reverts to the ends of the string as that boundary, as shown in the examples below:"
   ]
  },
  {
   "cell_type": "code",
   "execution_count": null,
   "id": "37be682a-0272-45ae-ae11-7d1d9ac6b4b2",
   "metadata": {},
   "outputs": [],
   "source": [
    "print(a[:4])     # Select starting at the beginning and ending before position 4.\n",
    "print(a[1:])     # Select starting at position 1 and going to the end of the string."
   ]
  },
  {
   "cell_type": "markdown",
   "id": "0c2e37bd-5794-4b08-bfb0-beb59f40b36a",
   "metadata": {},
   "source": [
    "You can also use a negative index in a slice, which can be a convenient way to get the last n characters of the string. "
   ]
  },
  {
   "cell_type": "code",
   "execution_count": null,
   "id": "147444ac-ed03-4a59-8ebf-dd54f32779f1",
   "metadata": {},
   "outputs": [],
   "source": [
    "print(a[-3:])"
   ]
  },
  {
   "cell_type": "markdown",
   "id": "c4d6d528-c78d-4a4b-b630-3badc74e1241",
   "metadata": {},
   "source": [
    "### 4.7) Other string methods\n",
    "\n",
    "In Data Science, a string may contain useful information that we want to extract. \n",
    "\n",
    "`str.split` is a way to split a long string into smaller strings whenever a specific character appears.\n",
    "\n",
    "The general syntax is `stringvariblename.split(delimiterstring)`.\n",
    "\n",
    "Common delimiter strings might be:\n",
    "- `','` for comma-separated strings.\n",
    "- `' '` for a single space separator.\n",
    "- `'_'` for underscore separators.\n",
    "- If you don't specify the separator character, it will use any white space ( single space, double space, etc).\n",
    "\n",
    "\n",
    "If you have a string saved into a variable name such as `str1` with white space, you can use `str1.split()`.\n",
    "\n",
    "If you have a string saved into a variable name such as `txt` with commas, then it would be `txt.split(',')`.\n",
    "\n",
    "The result is a list of substrings, and you can access the substrings using list indexing. "
   ]
  },
  {
   "cell_type": "code",
   "execution_count": null,
   "id": "ebfa6f09-177e-4146-94c7-085df76ef9f9",
   "metadata": {},
   "outputs": [],
   "source": [
    "# Here we split a string into words, assuming it is white space that separates them.\n",
    "txt = \"welcome to the jungle\"\n",
    "x = txt.split()\n",
    "print(x)"
   ]
  },
  {
   "cell_type": "code",
   "execution_count": null,
   "id": "6d9e814a-ef32-4a8e-8961-c30dce7ae161",
   "metadata": {},
   "outputs": [],
   "source": [
    "# Here we have to specify the character separating the parts of the string is a comma.\n",
    "txt = 'Moon,Earth,1737.1'\n",
    "x = txt.split(',')\n",
    "print(x)"
   ]
  },
  {
   "cell_type": "code",
   "execution_count": null,
   "id": "0ad6be73-3f37-49d9-bbaf-5d55849912d8",
   "metadata": {},
   "outputs": [],
   "source": [
    "# Then you can get one of these values with indexing.\n",
    "x[1]"
   ]
  },
  {
   "cell_type": "markdown",
   "id": "f0fe355a-3b60-4bcc-879f-e7cb21683e49",
   "metadata": {},
   "source": [
    "## 5.0) Dictionary\n",
    "\n",
    "Much of this section is taken from the tutorials at: \n",
    "- https://www.dataquest.io/blog/python-dictionaries/\n",
    "and\n",
    "- https://realpython.com/python-dicts/\n",
    "\n",
    "A Python dictionary is a data structure that allows us to easily write very efficient code. A Python dictionary is a collection of `key:value` pairs. You can think about them as words and their meaning in an ordinary dictionary. Values are said to be mapped to keys. For example, in a physical dictionary, the definition \"science that searches for patterns in complex data using computer methods\" is mapped to the key \"Data Science\".\n",
    "\n",
    "Python dictionaries allow us to associate a value to a unique key, and then to quickly access this value. It's a good idea to use them whenever we want to find (lookup for) a certain Python object. We can also use lists for this scope, but they are much slower than dictionaries.\n",
    "It is best to think of a dictionary as a set of `key:value` pairs, with the requirement that the keys are unique (within one dictionary).\n",
    "\n",
    "\n",
    "Dictionaries and lists share the following characteristics:\n",
    "\n",
    "- Both are mutable.\n",
    "- Both are dynamic. They can grow and shrink as needed.\n",
    "- Both can be nested. A list can contain another list. A dictionary can contain another dictionary. A dictionary can also contain a list, and vice versa.\n",
    "\n",
    "Dictionaries differ from lists primarily in how elements are accessed:\n",
    "- List elements are accessed by their position in the list, via indexing.\n",
    "- Dictionary elements are accessed via keys.\n",
    "- Accessing dictionaries can be much faster than accessing lists.\n",
    "\n",
    "\n"
   ]
  },
  {
   "cell_type": "markdown",
   "id": "bc607f4d-21a5-4a12-a898-5d6762fffdf9",
   "metadata": {},
   "source": [
    "### 5.1) Creating a dictionary\n",
    "\n",
    "There are two ways to create a dictionary. \n",
    "\n",
    "We have two main methods to define a dictionary:\n",
    "- With curly braces {}.\n",
    "    - A pair of braces creates an empty dictionary.\n",
    "    - Placing a comma-separated list of `key:value` pairs within the braces adds initial `key:value` pairs to the dictionary.\n",
    "- The `dict()` method.\n",
    "    - An assignment of `dict()` creates an empty dictionary.\n",
    "    - Placing a comma-separated list of `key=value` assignments within the parentheses adds initial `key:value` pairs to the dictionary.\n",
    "\n",
    "We'll create two empty dictionaries to show these methods and see the data types associated with them."
   ]
  },
  {
   "cell_type": "code",
   "execution_count": null,
   "id": "d6edc0e9-7cec-4961-92c2-c6783a39db7d",
   "metadata": {},
   "outputs": [],
   "source": [
    "# Create an empty dictionary.\n",
    "dictionary = {} # The curly braces method.\n",
    "another_dictionary = dict() # The dict() method.\n",
    "\n",
    "print('DataType ',type(dictionary))\n",
    "print('Contents ',dictionary)"
   ]
  },
  {
   "cell_type": "markdown",
   "id": "1851574c-aeee-41c6-9560-54c2195d57df",
   "metadata": {},
   "source": [
    "You can create a dictionary and insert contents in one step using several different methods. "
   ]
  },
  {
   "cell_type": "code",
   "execution_count": null,
   "id": "14ff7141-c8e7-4ce9-8154-161362abf1f4",
   "metadata": {},
   "outputs": [],
   "source": [
    "# Create the same dictionary with pre-inserted keys/values using different methods.\n",
    "\n",
    "# Using {} with a  list of key:value pairs.\n",
    "dict1 = {\"key1\": \"value1\",\"key2\":\"value2\"}\n",
    "\n",
    "# Using dict() with a list of key=value assignments.\n",
    "dict2 = dict(key1=\"value1\", key2=\"value2\")\n",
    "\n",
    "# Using dict() with a list of tuples.\n",
    "dict3 = dict([(\"key1\", \"value1\"), (\"key2\", \"value2\")])\n",
    "\n",
    "print('dict1' , dict1)\n",
    "print('dict2' , dict2)\n",
    "print('dict3' , dict3)"
   ]
  },
  {
   "cell_type": "markdown",
   "id": "55cb32fb-efd9-43e2-b162-3d564df4d0b3",
   "metadata": {},
   "source": [
    "### 5.2) Accessing a Dictionary\n",
    "\n",
    "When accessing values in a dictionary, you don't need to know the position in the dictionary, just the keywords.\n",
    "\n",
    "This property also means that it doesn't matter what order the `key:value` pairs are placed inside the dictionary.\n",
    "\n",
    "See the examples below."
   ]
  },
  {
   "cell_type": "code",
   "execution_count": null,
   "id": "6101faca-e829-487a-8df1-b8d87afa3f13",
   "metadata": {},
   "outputs": [],
   "source": [
    "# Accessing the value associated with key1.\n",
    "dict1['key1']"
   ]
  },
  {
   "cell_type": "code",
   "execution_count": null,
   "id": "ff5941a3-4876-423f-96ca-961c008e91ec",
   "metadata": {},
   "outputs": [],
   "source": [
    "# Accessing the value associated with key2.\n",
    "dict1['key2']"
   ]
  },
  {
   "cell_type": "code",
   "execution_count": null,
   "id": "e3c1b75d-07ba-4ebb-bf95-5bfe2a1635a3",
   "metadata": {},
   "outputs": [],
   "source": [
    "# Creating a dictionary that matches the letter with the position in the alphabet.\n",
    "# Note that the order in the dictionary is not alphabetical.\n",
    "letters = {'a':1,\"b\":2, \"z\":26,\"d\":4,\"c\":3}\n",
    "print(letters)\n",
    "\n",
    "# Accessing a few of the entries.\n",
    "print(letters['c'])\n",
    "print(letters['z'])"
   ]
  },
  {
   "cell_type": "markdown",
   "id": "f1897c5b-d815-44bc-8bdd-8f78305b74cf",
   "metadata": {},
   "source": [
    "### 5.3) Modifying a dictionary\n",
    "\n",
    "Dictionaries are mutable, and we can add new entries and change entries dynamically. This can be very useful when you have a program where the values you want to put into the dictionary are discovered/created at different points in the program, or when those values may change.\n",
    "\n",
    "You can add a single `key:value` pair to the dictionary using an assignment statement with the new keyword.\n",
    "\n",
    "You can add multiple `key:value` pairs using the update method. "
   ]
  },
  {
   "cell_type": "code",
   "execution_count": null,
   "id": "1c2c71a0-926d-465d-a630-227170749d51",
   "metadata": {},
   "outputs": [],
   "source": [
    "# Adding a single new letter to the letters dictionary.\n",
    "letters['y'] = 25\n",
    "print(letters)"
   ]
  },
  {
   "cell_type": "code",
   "execution_count": null,
   "id": "a4aad4d8-8030-4921-9481-a9c34797b541",
   "metadata": {},
   "outputs": [],
   "source": [
    "# Adding a list of tuples to the letters dictionary.\n",
    "letters.update([(\"e\",5),('f',6)])\n",
    "print(letters)"
   ]
  },
  {
   "cell_type": "code",
   "execution_count": null,
   "id": "bc9b9465-ece1-4251-94a1-ea1744490da9",
   "metadata": {},
   "outputs": [],
   "source": [
    "# Adding a dictionary to another dictionary.\n",
    "newletters = {\"m\":13,\"p\":16,\"t\":19}\n",
    "letters.update(newletters)\n",
    "print(letters)"
   ]
  },
  {
   "cell_type": "code",
   "execution_count": null,
   "id": "33927574-4436-4dfc-92aa-9d7201dba0ef",
   "metadata": {},
   "outputs": [],
   "source": [
    "# Changing a single value in a dictionary by assignment.\n",
    "# We had the wrong value stored for the letter t.\n",
    "letters['t'] = 20\n",
    "print(letters)"
   ]
  },
  {
   "cell_type": "code",
   "execution_count": null,
   "id": "e69182f7-8a42-4eb8-8caf-f3bb5e492a15",
   "metadata": {},
   "outputs": [],
   "source": [
    "# If a value is added to the dictionary but it already exists in the dictionary,\n",
    "# it will replace that value instead of adding it again.\n",
    "letters.update([(\"y\",25),(\"i\",9)])\n",
    "print(letters)"
   ]
  },
  {
   "cell_type": "markdown",
   "id": "98e66556-d6af-4355-9ab4-03d58f77b773",
   "metadata": {},
   "source": [
    "### 5.4) Limitations on Keys and Values\n",
    "\n",
    "So far we showed examples where the `key` was a string. We also saw examples where the `value` was either a string or an integer. \n",
    "\n",
    "Dictionaries are much more flexible than this.\n",
    "\n",
    "Keys:\n",
    "- Must be unique in the dictionary.\n",
    "- Can be strings, floats, integers, or booleans.\n",
    "- Can be tuples.\n",
    "- Can NOT be lists, arrays, or dictionaries.\n",
    "\n",
    "\n",
    "Values: \n",
    "- Can be strings, floats, integers, or booleans.\n",
    "- Can be lists, tuples, dictionaries, or arrays.\n",
    "- Can be repeated in the dictionary.\n",
    "\n",
    "\n",
    "Below are some additional examples showing dictionaries of different forms."
   ]
  },
  {
   "cell_type": "code",
   "execution_count": null,
   "id": "189de2e3-0c57-46f1-a419-e3c5805b403e",
   "metadata": {},
   "outputs": [],
   "source": [
    "# Here is a dictionary with a mix of key types.\n",
    "foo = {42: 'aaa', 2.78: 'bbb', True: 'ccc'}\n",
    "print(foo)\n",
    "print(foo[True])"
   ]
  },
  {
   "cell_type": "code",
   "execution_count": null,
   "id": "3f4b54af-3e1f-4e80-954f-70354fdfee67",
   "metadata": {},
   "outputs": [],
   "source": [
    "# Here is a dictionary with integers for keys and strings for values.\n",
    "# Notice that the value a is associated with several keys.\n",
    "d = {0: 'a', 1: 'a', 2: 'a', 3: 'a'}"
   ]
  },
  {
   "cell_type": "code",
   "execution_count": null,
   "id": "c4c9adb9-6c11-42ac-97aa-a957374664c2",
   "metadata": {},
   "outputs": [],
   "source": [
    "# Here is a dictionary with tuples as keys.\n",
    "d = {(1, 1): 'a', (1, 2): 'b', (2, 1): 'c', (2, 2): 'd'}\n",
    "print(d[(1,2)])"
   ]
  },
  {
   "cell_type": "markdown",
   "id": "dbec5c9f-b774-4d98-9c9f-40a365c768cf",
   "metadata": {},
   "source": [
    "### 5.5) Dictionary Functions and Methods\n",
    "\n",
    "**Length**:\n",
    "- `len(dict)` will tell you how many `key:value` pairs are in a dictionary."
   ]
  },
  {
   "cell_type": "code",
   "execution_count": null,
   "id": "c26741e2-d1b8-4417-906c-4f403ff0a0ca",
   "metadata": {},
   "outputs": [],
   "source": [
    "len(letters)"
   ]
  },
  {
   "cell_type": "markdown",
   "id": "cba72320-c8d0-4e08-95bc-3a5f33d3a1b8",
   "metadata": {},
   "source": [
    "**Keys** and **Values**:\n",
    "- `d.keys()` returns a list of all keys in d.\n",
    "- `d.values()` returns a list of all values in d (if a value is associated with more than one key, it will be repeated).\n",
    "\n"
   ]
  },
  {
   "cell_type": "code",
   "execution_count": null,
   "id": "98f2612e-cbf1-4839-a469-aa1912059f49",
   "metadata": {},
   "outputs": [],
   "source": [
    "letters.keys()"
   ]
  },
  {
   "cell_type": "code",
   "execution_count": null,
   "id": "b5ed1f75-a74d-4678-a24c-ce9e1ba68be1",
   "metadata": {},
   "outputs": [],
   "source": [
    "letters.values()"
   ]
  },
  {
   "cell_type": "markdown",
   "id": "2f6f41a6-98c9-49ae-aaab-3f198d2ffa58",
   "metadata": {},
   "source": [
    "**Get**:\n",
    "- `d.get(<key>)` searches dictionary d for \"key\", and returns the associated value if it is found.\n",
    "    - If \"key\" is not found, it returns \"None\"."
   ]
  },
  {
   "cell_type": "code",
   "execution_count": null,
   "id": "3611d910-1510-49fa-94c4-e1fe5654f8b7",
   "metadata": {},
   "outputs": [],
   "source": [
    "print(letters.get('z'))\n",
    "print(letters.get('k'))"
   ]
  },
  {
   "cell_type": "markdown",
   "id": "621313e9-e2f5-4dd1-968f-7bbfa89f53c5",
   "metadata": {},
   "source": [
    "**Clear**:\n",
    "- `d.clear()` empties dictionary d of all `key:value` pairs."
   ]
  },
  {
   "cell_type": "code",
   "execution_count": null,
   "id": "ba8c7b59-c91e-45b7-8836-1cf6df7159cd",
   "metadata": {},
   "outputs": [],
   "source": [
    "print(dict1)\n",
    "\n",
    "dict1.clear()\n",
    "print(dict1)"
   ]
  },
  {
   "cell_type": "markdown",
   "id": "7d3f3407-4c4d-4b52-b3ec-bcd24f0f2c1f",
   "metadata": {},
   "source": [
    "### 5.6) Other Examples\n",
    "\n",
    "The examples above were very generic. Below, we look at a few examples where dictionaries might be useful and show how they are used.\n",
    "\n",
    "You will also notice that it is often easier to format a dictionary by splitting the lines at a comma; just make sure to indent properly."
   ]
  },
  {
   "cell_type": "code",
   "execution_count": null,
   "id": "5bbff831-4b0b-47fa-834d-eff49132edd2",
   "metadata": {},
   "outputs": [],
   "source": [
    "# Example of a dictionary with planet properties.\n",
    "Earth = {\"name\":\"Earth\",\n",
    "         \"mass\": 5.9722E24,'mass_unit':\"kg\",\n",
    "         'radius':6371.0,'radius_unit': \"km\",\n",
    "         'grav':9.82,'grav_unit':\"m/s^2\",\n",
    "         'year':365.24,'year_unit':\"days\"\n",
    "         }\n",
    "print('the mass is',Earth['mass'], Earth['mass_unit'])\n",
    "print('the year is ',Earth['year'],Earth['year_unit'],'long')"
   ]
  },
  {
   "cell_type": "code",
   "execution_count": null,
   "id": "40fbffbf-1ba2-4b00-a1eb-d1b975c67b7d",
   "metadata": {},
   "outputs": [],
   "source": [
    "# Example of filter band info from RSP tutorial.\n",
    "# Here they first create a list of the possible filter band names.\n",
    "flabel = ['u', 'g', 'r', 'i', 'z', 'y']\n",
    "\n",
    "# Then they create dictionaries to hold colors and symbols that will be associated with each filter.\n",
    "fcolor = {'u': '#56b4e9', 'g': '#008060', 'r': '#ff4000',\n",
    "            'i': '#850000', 'z': '#6600cc', 'y': '#000000'}\n",
    "fsymbol = {'u': 'o', 'g': '^', 'r': 'v', 'i': 's', 'z': '*', 'y': 'p'}\n",
    "\n",
    "# Then you can get all the values for whichever filter you want.\n",
    "a = flabel[1]\n",
    "print(a,fcolor[a],fsymbol[a])\n",
    "b = flabel[2]\n",
    "print(b,fcolor[b],fsymbol[b])"
   ]
  },
  {
   "cell_type": "code",
   "execution_count": null,
   "id": "e2f7a00f-e388-4e84-ab73-e66f14cec9db",
   "metadata": {},
   "outputs": [],
   "source": [
    "# You can store a set of arrays in a dictionary, and you can create a list of dictionaries.\n",
    "\n",
    "# Creating arrays to hold data.\n",
    "t1 = np.array([0,1,2,3,4,5,6,7,8,9,10])\n",
    "f1 = np.array([0,1,2,1,0,-1,-2,-1,0,1,2])\n",
    "t2 = t1+50\n",
    "f2 = f1**2\n",
    "\n",
    "lcs = [{'t':t1,'f':f1},{'t':t2,'f':f2}]\n",
    "\n",
    "\n",
    "print(lcs[1]['t'])\n",
    "print(lcs[1]['f'])"
   ]
  },
  {
   "cell_type": "markdown",
   "id": "4705a873",
   "metadata": {},
   "source": [
    "# Assignment\n",
    "\n"
   ]
  },
  {
   "cell_type": "markdown",
   "id": "fa6b807c-00b0-443a-8108-6e43b91f9aa3",
   "metadata": {},
   "source": [
    "## Exercise 1)\n",
    "\n",
    "1) Manually create a list containing the names of the eight major planets. \n",
    "\n",
    "2) Use the append method to add the names of at least three dwarf planets to your list. "
   ]
  },
  {
   "cell_type": "code",
   "execution_count": null,
   "id": "99a7423f-638d-4cfd-bc34-0500db652d32",
   "metadata": {},
   "outputs": [],
   "source": [
    "# Create a list of the names of the planets.\n",
    "\n",
    "# Use an append to add the names of at least three dwarf planets.\n",
    "\n",
    "# Print out the full list at the end.\n"
   ]
  },
  {
   "cell_type": "markdown",
   "id": "c7a45ba3-97d1-4a45-b45d-f739e0c45c80",
   "metadata": {},
   "source": [
    "## Exercise 2)\n",
    "\n",
    "1) Use the internet to look up information on the eight major planets in our solar system.\n",
    "2) Manually create a NumPy Array with the values for the mass of each major planet in units of kg.\n",
    "3) Manually create a NumPy Array with the values for the radius of each major planet in units of m.\n",
    "    - (You will want to put in the radius in scientific notation not as integers) \n",
    "5) Using mathematical operations, create a new NumPy Array that holds the calculated values for the average density of each planet.\n",
    "6) Create a 2D array with rows for the mass, radius, and density, where each column is for a planet.\n",
    "7) Use slicing on the 2D array to get all of the values for the inner terrestrial planets.\n",
    "8) Use slicing on the 2D array to get just the density values for the outer jovian planets."
   ]
  },
  {
   "cell_type": "code",
   "execution_count": null,
   "id": "dc8ec298-f7de-44f6-97e4-5a2151b5dc58",
   "metadata": {},
   "outputs": [],
   "source": [
    "# Enter your code below."
   ]
  },
  {
   "cell_type": "markdown",
   "id": "2c30dc6c-0cba-4a12-bb8b-b3c3e45b9966",
   "metadata": {},
   "source": [
    "## Exercise 3)\n",
    "\n",
    "In this exercise, you are given a filename as a string. This file name contains information about the data contained in the file (a common practice in data science).\n",
    "\n",
    "You are told that the file name has three parts separated by underscore characters `_`.\n",
    "\n",
    "You need to:\n",
    "- Split the string using the delimiter.\n",
    "- Save the first part of the filename to a variable called `id` and convert it into an integer value.\n",
    "- Save the second part of the filename to a variable called `period` and convert it into a float.\n",
    "- Save the third part of the filename into a string variable called `ftype`."
   ]
  },
  {
   "cell_type": "code",
   "execution_count": null,
   "id": "6cc1b25a-8a83-4ef8-889b-102d3f7bb312",
   "metadata": {},
   "outputs": [],
   "source": [
    "fname = '450119293_0.522044_lc.dat'\n",
    "\n",
    "# Put your code below.\n"
   ]
  },
  {
   "cell_type": "markdown",
   "id": "af724cd7-d541-482f-b4b6-e75bc7a8696b",
   "metadata": {},
   "source": [
    "## Exercise 4)\n",
    "\n",
    "Create a dictionary representing the stellar characteristics of the Sun.\n",
    "\n",
    "1) Use the internet to look up the values for the Sun.\n",
    "2) Think about which values are important for an astronomer.\n",
    "3) Manually create a dictionary of the values.\n",
    "4) Use the dictionary values to calculate the average density of the Sun from the radius and mass.\n",
    "\n"
   ]
  },
  {
   "cell_type": "code",
   "execution_count": null,
   "id": "1b947808-6676-45ed-927d-bb2886628e97",
   "metadata": {},
   "outputs": [],
   "source": [
    "# Insert your code here.\n"
   ]
  }
 ],
 "metadata": {
  "kernelspec": {
   "display_name": "Python 3 (ipykernel)",
   "language": "python",
   "name": "python3"
  },
  "language_info": {
   "codemirror_mode": {
    "name": "ipython",
    "version": 3
   },
   "file_extension": ".py",
   "mimetype": "text/x-python",
   "name": "python",
   "nbconvert_exporter": "python",
   "pygments_lexer": "ipython3",
   "version": "3.12.4"
  }
 },
 "nbformat": 4,
 "nbformat_minor": 5
}

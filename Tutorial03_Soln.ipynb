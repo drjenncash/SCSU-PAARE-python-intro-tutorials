{
 "cells": [
  {
   "cell_type": "markdown",
   "id": "e58d02f5",
   "metadata": {},
   "source": [
    "# Solutions for Tutorial 3: Collection Data Types in Python"
   ]
  },
  {
   "cell_type": "markdown",
   "id": "9feff32b-8434-4ea0-accd-27dd961a9cf8",
   "metadata": {},
   "source": [
    "\n",
    "This notebook accompanies the Tutorial 3 notebook and shows some possible solutions for the Exercises at the end of the Tutorial\n",
    "\n",
    "This tutorial was compiled for the PAARE project at South Carolina State University in partnership with Clemson University and the University of the Virgin Islands and funded by NSF.  (NSF grant AST  2319415)\n",
    "\n",
    "* Original posting:\n",
    "  * JCash 06-13-2025\n",
    "* Last modification:\n",
    "  * JCash 06-24-2025"
   ]
  },
  {
   "cell_type": "markdown",
   "id": "a38285b6",
   "metadata": {},
   "source": [
    "###  Imports needed\n",
    "\n",
    "It is always best practice to import the needed packages at the very top of the notebook. As a notebook is developed, you can always add to or take from that cell. \n",
    "\n",
    "The cell should always be run before any other cells in the notebook, and right after any changes to the import list are made. \n",
    "\n",
    "For this tutorial, we will use NumPy."
   ]
  },
  {
   "cell_type": "code",
   "execution_count": 27,
   "id": "371a9388",
   "metadata": {},
   "outputs": [],
   "source": [
    "import numpy as np"
   ]
  },
  {
   "cell_type": "markdown",
   "id": "4705a873",
   "metadata": {},
   "source": [
    "# Assignment\n",
    "\n"
   ]
  },
  {
   "cell_type": "code",
   "execution_count": 28,
   "id": "e4fd4cf4-1cd5-44e7-9167-db513a28444d",
   "metadata": {},
   "outputs": [],
   "source": [
    "# If you reopen the notebook to continue working on the assignments, you probably will need to rerun the import.\n",
    "import numpy as np"
   ]
  },
  {
   "cell_type": "markdown",
   "id": "fa6b807c-00b0-443a-8108-6e43b91f9aa3",
   "metadata": {},
   "source": [
    "## Exercise 1)\n",
    "\n",
    "1) Manually create a list containing the names of the eight major planets. \n",
    "\n",
    "2) Use the append method to add the names of at least three dwarf planets to your list. "
   ]
  },
  {
   "cell_type": "code",
   "execution_count": 29,
   "id": "99a7423f-638d-4cfd-bc34-0500db652d32",
   "metadata": {},
   "outputs": [],
   "source": [
    "# Create a list of the names of the planets.\n",
    "\n",
    "# Use an append to add the names of at least three dwarf planets.\n",
    "\n",
    "# Print out the full list at the end.\n"
   ]
  },
  {
   "cell_type": "markdown",
   "id": "9aed2de8-863d-4aab-aebc-9c1d5e2c5c95",
   "metadata": {
    "jp-MarkdownHeadingCollapsed": true
   },
   "source": [
    "---\n",
    "**Possible Solution 1**\n",
    "\n",
    "This example does all of the steps requested but with little explanation or comments."
   ]
  },
  {
   "cell_type": "code",
   "execution_count": 38,
   "id": "6278978f-3566-45aa-8984-866959ae6c2f",
   "metadata": {},
   "outputs": [
    {
     "name": "stdout",
     "output_type": "stream",
     "text": [
      "['Mercury', 'Venus', 'Earth', 'Mars', 'Jupiter', 'Saturn', 'Uranus', 'Neptune', 'Pluto', 'Ceres', 'Eris', 'Haumea']\n"
     ]
    }
   ],
   "source": [
    "# Example Solution 1\n",
    "# Create a list of the names of the planets.\n",
    "SS = ['Mercury','Venus','Earth','Mars','Jupiter','Saturn','Uranus','Neptune']\n",
    "\n",
    "# Use an append to add the names of the dwarf planets.\n",
    "SS.append('Pluto')\n",
    "SS.append('Ceres')\n",
    "SS.append('Eris')\n",
    "SS.append('Haumea')\n",
    "\n",
    "# Print out the full list at the end.\n",
    "print(SS)"
   ]
  },
  {
   "cell_type": "markdown",
   "id": "6f3f3aa7-111d-415b-bf0d-3c9284db738a",
   "metadata": {},
   "source": [
    "For append you need to add each item one at a time."
   ]
  },
  {
   "cell_type": "markdown",
   "id": "083cdc81-0d8a-433b-bfdc-a067164c91b4",
   "metadata": {
    "jp-MarkdownHeadingCollapsed": true
   },
   "source": [
    "---\n",
    "**Possible Solution 2**\n",
    "\n",
    "At a first glance, it looks like this one was able to append all of the extra planets in one step, but a closer examination shows that the four dwarf planets were added as a single item, which was a list of the four. We actually wanted them as individual items."
   ]
  },
  {
   "cell_type": "code",
   "execution_count": 1,
   "id": "e5ff7102-455c-4c0f-981e-cc72137a48eb",
   "metadata": {},
   "outputs": [
    {
     "name": "stdout",
     "output_type": "stream",
     "text": [
      "['Mercury', 'Venus', 'Earth', 'Mars', 'Jupiter', 'Saturn', 'Uranus', 'Neptune', ['Pluto', 'Ceres', 'Eris', 'Haumea']]\n"
     ]
    }
   ],
   "source": [
    "# Example Solution 2\n",
    "# Create a list of the names of the planets.\n",
    "SS = ['Mercury','Venus','Earth','Mars','Jupiter','Saturn','Uranus','Neptune']\n",
    "\n",
    "# Use an append to add the names of the dwarf planets.\n",
    "SS.append(['Pluto','Ceres','Eris','Haumea'])\n",
    "# Print out the full list at the end.\n",
    "print(SS)"
   ]
  },
  {
   "cell_type": "markdown",
   "id": "89fc7bfa-e791-4958-901c-d782884c71f7",
   "metadata": {
    "jp-MarkdownHeadingCollapsed": true
   },
   "source": [
    "---\n",
    "**Possible Solution 3**\n",
    "\n",
    "As an alternative to append, you can use another built-in function called `extend` which acts the way we want. "
   ]
  },
  {
   "cell_type": "code",
   "execution_count": 2,
   "id": "a3387657-13f8-4c42-bbe9-92e25d2dea92",
   "metadata": {},
   "outputs": [
    {
     "name": "stdout",
     "output_type": "stream",
     "text": [
      "['Mercury', 'Venus', 'Earth', 'Mars', 'Jupiter', 'Saturn', 'Uranus', 'Neptune', 'Pluto', 'Ceres', 'Eris', 'Haumea']\n"
     ]
    }
   ],
   "source": [
    "# Example Solution 3\n",
    "# Create a list of the names of the planets.\n",
    "SS = ['Mercury','Venus','Earth','Mars','Jupiter','Saturn','Uranus','Neptune']\n",
    "\n",
    "# Use an append to add the names of the dwarf planets.\n",
    "SS.extend(['Pluto','Ceres','Eris','Haumea'])\n",
    "# Print out the full list at the end.\n",
    "print(SS)"
   ]
  },
  {
   "cell_type": "markdown",
   "id": "3b48f0f9-f551-460f-9294-fe54289c4fbe",
   "metadata": {},
   "source": [
    "## Exercise 2)\n",
    "\n",
    "1) Use the internet to look up information on the eight major planets in our solar system.\n",
    "2) Manually create a NumPy Array with the values for the mass of each major planet in units of kg.\n",
    "3) Manually create a NumPy Array with the values for the radius of each major planet in units of m.\n",
    "    - (You will want to put in the radius values in scientific notation, not as integers) \n",
    "5) Using mathematical operations, create a new NumPy Array that holds the calculated values for the average density of each planet.\n",
    "6) Create a 2D array with rows for the mass, radius, and density, where each column is for a planet.\n",
    "7) Use slicing on the 2D array to get all of the values for the inner terrestrial planets.\n",
    "8) Use slicing on the 2D array to get just the density values for the outer jovian planets."
   ]
  },
  {
   "cell_type": "markdown",
   "id": "1bb6b75d-9f38-4b14-80a9-f1b04d3cfd68",
   "metadata": {
    "jp-MarkdownHeadingCollapsed": true
   },
   "source": [
    "---\n",
    "**Possible Solution 1**\n",
    "\n",
    "This cell does the steps required with minimal documentation."
   ]
  },
  {
   "cell_type": "code",
   "execution_count": 3,
   "id": "8856b8f3-4248-490b-883e-3760b4afa21b",
   "metadata": {},
   "outputs": [
    {
     "name": "stdout",
     "output_type": "stream",
     "text": [
      "[[3.30000000e+23 4.87000000e+24 5.97000000e+24 6.42000000e+23]\n",
      " [2.44000000e+06 6.05000000e+06 6.38000000e+06 3.39600000e+06]\n",
      " [5.42320288e+03 5.25018042e+03 5.48812110e+03 3.91330208e+03]]\n",
      "[1234.81203825  619.44020162 1249.71382594 1615.92314966]\n"
     ]
    }
   ],
   "source": [
    "# Enter your code below.\n",
    "\n",
    "import numpy as np\n",
    "\n",
    "Pmass = np.array([3.30e+23,4.87e+24,5.97e+24,6.42e+23,1.89e+27,5.68e+26,8.68e+25,1.02e+26])\n",
    "Prad = np.array([2.44e+6,6.05e+6,6.38e+6,3.396e+6,7.1492e+7,6.0268e+7,2.55e+7,2.47e+7])\n",
    "\n",
    "Pvol = 4/3*(np.pi)*(Prad**3)\n",
    "Pden = Pmass/Pvol\n",
    "\n",
    "full = np.stack([Pmass,Prad,Pden])\n",
    "\n",
    "print(full[:,0:4])\n",
    "\n",
    "print(full[2,4:8])"
   ]
  },
  {
   "cell_type": "markdown",
   "id": "df172600-7e97-42c2-a5e5-c12f76394fee",
   "metadata": {},
   "source": [
    "--- \n",
    "**Possible Solution 2**\n",
    "\n",
    "Let's do this again, but with more clarity on the code and output."
   ]
  },
  {
   "cell_type": "code",
   "execution_count": 31,
   "id": "18e7d9a5-4ef2-49a7-81d8-ce0e37b39b2f",
   "metadata": {},
   "outputs": [
    {
     "name": "stdout",
     "output_type": "stream",
     "text": [
      "Values for this assignment were taken from a NASA Website.\n",
      "https://nssdc.gsfc.gov/planetary/factsheet/\n",
      "The full data is:\n",
      "[[3.30000000e+23 4.87000000e+24 5.97000000e+24 6.42000000e+23\n",
      "  1.89000000e+27 5.68000000e+26 8.68000000e+25 1.02000000e+26]\n",
      " [2.44000000e+06 6.05000000e+06 6.38000000e+06 3.39600000e+06\n",
      "  7.14920000e+07 6.02680000e+07 2.55000000e+07 2.47000000e+07]\n",
      " [5.42320288e+03 5.25018042e+03 5.48812110e+03 3.91330208e+03\n",
      "  1.23481204e+03 6.19440202e+02 1.24971383e+03 1.61592315e+03]]\n",
      "The shape is: (3, 8)\n",
      "The terrestrial planets:\n",
      "[[3.30000000e+23 4.87000000e+24 5.97000000e+24 6.42000000e+23]\n",
      " [2.44000000e+06 6.05000000e+06 6.38000000e+06 3.39600000e+06]\n",
      " [5.42320288e+03 5.25018042e+03 5.48812110e+03 3.91330208e+03]]\n",
      "The Jovian planets:\n",
      "[1234.81203825  619.44020162 1249.71382594 1615.92314966]\n"
     ]
    }
   ],
   "source": [
    "# Possible Solution 2\n",
    "\"\"\"\n",
    "This assignment worked with data about the planets to calculate the densities.\n",
    "\n",
    "The data used came from:\n",
    "\n",
    "We use the following variable names:\n",
    "Pmass is a list of the mass of each planet in units of kg.\n",
    "Prad is a list of the radius of each planet in units of meters.\n",
    "Pvol is a list of the volumes of each planet calculated from the radius, assuming a sphere.\n",
    "Pden is a list of the average density of each planet in units of kg/m^3.\n",
    "Ptable is a 2D np array.\n",
    "\"\"\"\n",
    "\n",
    "\n",
    "import numpy as np\n",
    "\n",
    "# Step 1: Values come from a NASA website.\n",
    "print('Values for this assignment were taken from a NASA Website.')\n",
    "print('https://nssdc.gsfc.gov/planetary/factsheet/')\n",
    "\n",
    "# Steps 2 and 3: Create arrays for the mass and radius.\n",
    "Pmass = np.array([3.30e+23,4.87e+24,5.97e+24,6.42e+23,1.89e+27,5.68e+26,8.68e+25,1.02e+26])\n",
    "Prad = np.array([2.44e+6,6.05e+6,6.38e+6,3.396e+6,7.1492e+7,6.0268e+7,2.55e+7,2.47e+7])\n",
    "\n",
    "\n",
    "# Step 4: Calculate the density assuming a sphere.\n",
    "Pvol = 4/3*(np.pi)*(Prad**3)\n",
    "Pden = Pmass/Pvol\n",
    "\n",
    "\n",
    "# Step 5: Create a 2D array with mass, radius, and density as rows.\n",
    "Ptable = np.stack([Pmass,Prad,Pden])\n",
    "print('The full data is:')\n",
    "print(Ptable)\n",
    "print('The shape is:',Ptable.shape)\n",
    "\n",
    "# Step 6: Use slicing on the 2D array to get the values for the inner terrestrial planets.\n",
    "print('The terrestrial planets:')\n",
    "# We want all of the rows, but just the four opening columns, so we need an index from 0 up to 4.\n",
    "print(Ptable[:,0:4])\n",
    "\n",
    "# Step 7: Use slicing on the 2D array to get just the density values for the outer jovian planets.\n",
    "print('The Jovian planets:')\n",
    "# We want just the density row at row index 2, but just the columns starting with Jupiter in index 4 and going to the end.\n",
    "print(Ptable[2,4:])"
   ]
  },
  {
   "cell_type": "markdown",
   "id": "a3d9995a-c058-4c67-a899-05410344443c",
   "metadata": {},
   "source": [
    "---\n",
    "**Possible Solution 3**\n",
    "\n",
    "In this longer example, the data is entered in such a way as to make it easier to read in the code.\n",
    "\n",
    "Note that the array declaration spans multiple lines, but there is a comma between each value and the comments\n",
    "are ignored."
   ]
  },
  {
   "cell_type": "code",
   "execution_count": 32,
   "id": "5aac4a86-6d4d-473e-b8fd-82fc57213b2d",
   "metadata": {},
   "outputs": [
    {
     "name": "stdout",
     "output_type": "stream",
     "text": [
      "=== Inner Terrestrial Planets (Mass, Radius, Density) ===\n",
      "[[3.30000000e+23 4.87000000e+24 5.97000000e+24 6.39000000e+23]\n",
      " [2.44000000e+06 6.05200000e+06 6.37100000e+06 3.39600000e+06]\n",
      " [5.42320288e+03 5.24497707e+03 5.51141237e+03 3.89501562e+03]]\n",
      "\n",
      "=== Outer Jovian Planets (Density Only) ===\n",
      "[1326.08406378  687.07465368 1270.37123737 1637.72646239]\n"
     ]
    }
   ],
   "source": [
    "import numpy as np\n",
    "\n",
    "\n",
    "planets = [\"Mercury\", \"Venus\", \"Earth\", \"Mars\", \"Jupiter\", \"Saturn\", \"Uranus\", \"Neptune\"]\n",
    "\n",
    "# Mass of planets in kilograms.\n",
    "mass = np.array([\n",
    "    3.30e23,  # Mercury\n",
    "    4.87e24,  # Venus\n",
    "    5.97e24,  # Earth\n",
    "    6.39e23,  # Mars\n",
    "    1.898e27, # Jupiter\n",
    "    5.683e26, # Saturn\n",
    "    8.681e25, # Uranus\n",
    "    1.024e26  # Neptune\n",
    "])\n",
    "\n",
    "# Radius of planets in meters.\n",
    "radius = np.array([\n",
    "    2.44e6,   # Mercury\n",
    "    6.052e6,  # Venus\n",
    "    6.371e6,  # Earth\n",
    "    3.396e6,  # Mars\n",
    "    6.9911e7, # Jupiter\n",
    "    5.8232e7, # Saturn\n",
    "    2.5362e7, # Uranus\n",
    "    2.4622e7  # Neptune\n",
    "])\n",
    "\n",
    "volume = (4/3) * np.pi * radius**3\n",
    "density = mass / volume\n",
    "\n",
    "\n",
    "planet_data = np.array([mass, radius, density])\n",
    "\n",
    "\n",
    "inner_terrestrial = planet_data[:, 0:4]\n",
    "\n",
    "\n",
    "outer_jovian_density = planet_data[2, 4:8]\n",
    "\n",
    "\n",
    "print(\"=== Inner Terrestrial Planets (Mass, Radius, Density) ===\")\n",
    "print(inner_terrestrial)\n",
    "\n",
    "print(\"\\n=== Outer Jovian Planets (Density Only) ===\")\n",
    "print(outer_jovian_density)\n"
   ]
  },
  {
   "cell_type": "markdown",
   "id": "2c30dc6c-0cba-4a12-bb8b-b3c3e45b9966",
   "metadata": {},
   "source": [
    "## Exercise 3)\n",
    "\n",
    "In this exercise, you are given a filename as a string. This filename contains information about the data contained in the file (a common practice in data science).\n",
    "\n",
    "You are told that the file name has three parts separated by underscore characters `_`.\n",
    "\n",
    "You need to:\n",
    "- Split the string using the delimiter.\n",
    "- Save the first part of the filename to a variable called `id` and convert it into an integer value.\n",
    "- Save the second part of the filename to a variable called `period` and convert it into a float.\n",
    "- Save the third part of the filename into a string variable called `ftype`."
   ]
  },
  {
   "cell_type": "code",
   "execution_count": 5,
   "id": "6cc1b25a-8a83-4ef8-889b-102d3f7bb312",
   "metadata": {},
   "outputs": [],
   "source": [
    "fname = '450119293_0.522044_lc.dat'\n",
    "\n",
    "# Put your code below.\n"
   ]
  },
  {
   "cell_type": "markdown",
   "id": "1f0ef537-0b74-4188-a432-0ee5d7d204e8",
   "metadata": {},
   "source": [
    "---\n",
    "**Possible Solution 1**\n",
    "\n",
    "This solution does what the assignment asks for, but has no documentation or output to confirm what is happening."
   ]
  },
  {
   "cell_type": "code",
   "execution_count": 6,
   "id": "e8d9a2a1-87d6-4b17-a7f3-5150591af053",
   "metadata": {},
   "outputs": [],
   "source": [
    "parts = fname.split(sep='_')\n",
    "id = int(parts[0])\n",
    "period = float(parts[1])\n",
    "ftype = parts[2]"
   ]
  },
  {
   "cell_type": "markdown",
   "id": "52f5b46d-2828-4a76-9ec7-078f0f4d4a24",
   "metadata": {},
   "source": [
    "---\n",
    "**Possible Solution 2**\n",
    "\n",
    "This solution does what the assignment asks for, and has better documentation."
   ]
  },
  {
   "cell_type": "code",
   "execution_count": 7,
   "id": "6a2e9a91-838c-453c-b12b-cf129ceb95c1",
   "metadata": {},
   "outputs": [],
   "source": [
    "# Take the filename and do a string split using the separator of an underscore.\n",
    "# This saves the split string as a list in the variable name \"parts\".\n",
    "parts = fname.split(sep='_')\n",
    "\n",
    "# The ID is stored in index 0 of that list and needs to be converted to an integer.\n",
    "id = int(parts[0])\n",
    "\n",
    "# The period is stored in index 1 of that list and needs to be converted to a float.\n",
    "period = float(parts[1])\n",
    "\n",
    "# The file type is stored in index 2 of that list and can be left as a string. \n",
    "ftype = parts[2]"
   ]
  },
  {
   "cell_type": "markdown",
   "id": "af724cd7-d541-482f-b4b6-e75bc7a8696b",
   "metadata": {},
   "source": [
    "## Exercise 4)\n",
    "\n",
    "Create a dictionary representing the stellar characteristics of the Sun.\n",
    "\n",
    "1) Use the internet to look up the values for the Sun.\n",
    "2) Think about which values are important for an astronomer.\n",
    "3) Manually create a dictionary of the values.\n",
    "4) Use the dictionary values to calculate the average density of the Sun from the radius and mass.\n",
    "\n"
   ]
  },
  {
   "cell_type": "markdown",
   "id": "05b8319a-eb58-4af0-9161-8ca7158c7fc9",
   "metadata": {},
   "source": [
    "---\n",
    "**Possible Solution 1**\n",
    "\n",
    "This solution creates the full dictionary as one step with `key:value` pairs.\n",
    "\n",
    "It has only a few entries in the dictionary (not all that we would care about, but all that are needed for the density).\n",
    "\n"
   ]
  },
  {
   "cell_type": "code",
   "execution_count": 8,
   "id": "1b947808-6676-45ed-927d-bb2886628e97",
   "metadata": {},
   "outputs": [
    {
     "name": "stdout",
     "output_type": "stream",
     "text": [
      "1409.7982686961336\n"
     ]
    }
   ],
   "source": [
    "# Insert your code here.\n",
    "sun = {\"Mass\":1.99e30,\"Radius\":6.96e8,\"Temperature\":5772,\"Luminosity\":382.8e24}\n",
    "density = sun['Mass']/(4/3*3.14*sun['Radius']**3)\n",
    "print(density)"
   ]
  },
  {
   "cell_type": "markdown",
   "id": "865d256e-c056-48b6-8e55-68dad988b248",
   "metadata": {},
   "source": [
    "---\n",
    "**Possible Solution 2**\n",
    "\n",
    "This version creates an empty dictionary and then updates it with the keys and values one at a time.\n",
    "\n",
    "This makes it easier to read the code, and just add what you want to use.\n"
   ]
  },
  {
   "cell_type": "code",
   "execution_count": 9,
   "id": "abf1dfe5-1946-419c-b077-8978554aed7d",
   "metadata": {},
   "outputs": [
    {
     "name": "stdout",
     "output_type": "stream",
     "text": [
      "Dictionary for the Sun\n",
      "{'Name': 'Sol', 'Mass': 1.99e+30, 'Mean_Radius': 696000000.0, 'Mean_Density': 1408, 'Surface_Gravity': 274.0, 'Luminosity': 3.82e+26, 'Spectral_Type': 'G2 V'}\n",
      "\n",
      "The calculated density is 1409.7982686961336 . The value in the dictionary is 1408\n"
     ]
    }
   ],
   "source": [
    "# Create an empty dictionary.\n",
    "sun_dict={}\n",
    "\n",
    "# Update the dictionary with keys and values.\n",
    "sun_dict['Name'] = 'Sol'\n",
    "sun_dict['Mass'] = 1.99e30       # In units of kilograms.\n",
    "sun_dict['Mean_Radius'] = 6.96e8 # In units of meters.\n",
    "sun_dict['Mean_Density'] = 1408  # In units of kg/m^3.\n",
    "sun_dict['Surface_Gravity'] = 274.0 # In units of m/s^2.\n",
    "sun_dict['Luminosity'] = 3.82e26    # In units of J/s.\n",
    "sun_dict['Spectral_Type'] = 'G2 V'\n",
    "\n",
    "# Print the whole dictionary.\n",
    "print('Dictionary for the Sun')\n",
    "print(sun_dict)\n",
    "print()\n",
    "\n",
    "# Calculate the density.\n",
    "density = sun_dict['Mass']/(4/3*3.14*sun_dict['Mean_Radius']**3)\n",
    "\n",
    "# Print out the calculation, and also compare it to the value in the dictionary.\n",
    "print(\"The calculated density is\", density,\". The value in the dictionary is\",sun_dict['Mean_Density'])"
   ]
  },
  {
   "cell_type": "code",
   "execution_count": null,
   "id": "19e9b0b9-b0ae-47d9-ae71-42b6ee9532e7",
   "metadata": {},
   "outputs": [],
   "source": []
  }
 ],
 "metadata": {
  "kernelspec": {
   "display_name": "Python 3 (ipykernel)",
   "language": "python",
   "name": "python3"
  },
  "language_info": {
   "codemirror_mode": {
    "name": "ipython",
    "version": 3
   },
   "file_extension": ".py",
   "mimetype": "text/x-python",
   "name": "python",
   "nbconvert_exporter": "python",
   "pygments_lexer": "ipython3",
   "version": "3.12.4"
  }
 },
 "nbformat": 4,
 "nbformat_minor": 5
}

{
 "cells": [
  {
   "cell_type": "markdown",
   "metadata": {},
   "source": [
    "# Tutorial 5: Functions in Python\n",
    "\n",
    "Sections of this notebook come from several other tutorial notebooks including but not limited to the Python Documents at\n",
    "the Geeks for Geeks website (https://www.geeksforgeeks.org/conditional-statements-in-python/), \n",
    "the W3 tutorials (https://www.geeksforgeeks.org/python/python-functions/),\n",
    "the Krittika Tutorials, and additional sources.\n",
    "\n",
    "\n",
    "\n",
    "This tutorial was compiled for the PAARE project at South Carolina State University in partnership with Clemson University and the University of the Virgin Islands and funded by NSF.  (NSF grant AST  2319415)\n",
    "\n",
    "* Original posting:\n",
    "  * JCash 06-20-2025\n",
    "* Last modification:\n",
    "  * JCash 06-20-2025"
   ]
  },
  {
   "cell_type": "markdown",
   "metadata": {},
   "source": [
    "## Overview\n",
    "\n",
    "In this tutorial, we will look at functions in Python. \n",
    "\n",
    "You will learn about:\n",
    "* Using Functions\n",
    "* Built-in Functions\n",
    "* Imported Functions\n",
    "* User-Defined Functions\n",
    "* Methods\n",
    "\n"
   ]
  },
  {
   "cell_type": "markdown",
   "metadata": {},
   "source": [
    "### Imports needed\n",
    "\n",
    "Normally a tutorial or notebook like this will have an import section at the top where all packages and functions needed inside the tutorial are imported at the same time before any other cells. \n",
    "\n",
    "Since one topic in this tutorial is more information about imports, we hold off on the import statements until we get to each package.\n",
    "\n",
    "We list the packages that will be imported later in this tutorial here for consistency. \n",
    "* math\n",
    "* numpy\n",
    "* random\n",
    "* matplotlib"
   ]
  },
  {
   "cell_type": "markdown",
   "metadata": {},
   "source": [
    "## 1) Using Functions\n",
    "\n",
    "In the tutorials so far, we have seen quite a few functions. The question arises, what exactly a function is, and if we can define functions of our own. \n",
    "\n",
    "A function is simply a piece of code that performs a task, which might take some inputs and might return some outputs. The input and output could be a number, an array, a string, or any other data type. This will, of course, depend on the task.\n",
    "\n",
    "\n",
    "A function is a block of code which only runs when it is called. You can pass data, known as parameters, into a function. A function can return data as a result.\n",
    "\n",
    "\n",
    "<blockquote> Clarification:  \n",
    "    \n",
    "    The terms *parameter* and *argument* can be used for the same thing: information that is passed into a function. \n",
    "\n",
    "    From a function's perspective:\n",
    "    * A parameter is the variable listed inside the parentheses in the function definition.\n",
    "    * An argument is the value that is sent to the function when it is called.\n",
    "\n",
    "    In Python documentation *arguments* is often shortened to *args*\n",
    "\n",
    "</blockquote>\n",
    "\n",
    "\n"
   ]
  },
  {
   "cell_type": "markdown",
   "metadata": {},
   "source": [
    "## 1) Built-in Functions"
   ]
  },
  {
   "cell_type": "markdown",
   "metadata": {},
   "source": [
    "### 1.1) print() and type()"
   ]
  },
  {
   "cell_type": "markdown",
   "metadata": {},
   "source": [
    "The first functions we introduced were the \"built-in\" functions: \n",
    "`print()` and `type()`\n",
    "\n",
    "\n",
    "\n",
    "These functions had a similar structure\n",
    "- function name: \n",
    "    - this is the command word such as `print` or `type`\n",
    "    - by itself, the output just tells you it is a function\n",
    "- parentheses to call function `()`:\n",
    "    - this runs the function\n",
    "- argument:  \n",
    "    - this is a value or values that are passed to the function\n",
    "- returned result:\n",
    "    -  not all functions return a value\n",
    "\n",
    "\n",
    "\n",
    "To call a function, use the function name followed by parenthesis:\n",
    "\n",
    "Information can be passed into functions as arguments.\n",
    "\n",
    "Arguments are specified after the function name, inside the parentheses. \n",
    "\n",
    "\n",
    "If a function returns a result, you will be able to assign that result into a variable.\n",
    "\n",
    "If a function doesn't return a result and you try to assign the result into a variable, then the variable will have the None DataType\n",
    "\n",
    "Look at the examples below for the print and type functions"
   ]
  },
  {
   "cell_type": "code",
   "execution_count": null,
   "metadata": {},
   "outputs": [],
   "source": [
    "# Here we just put the function name by itself and the output describes the function\n",
    "print"
   ]
  },
  {
   "cell_type": "code",
   "execution_count": null,
   "metadata": {},
   "outputs": [],
   "source": [
    "#Here, print is the name of the function and \"hello\" is the argument\n",
    "a = print(\"hello\")\n"
   ]
  },
  {
   "cell_type": "code",
   "execution_count": null,
   "metadata": {},
   "outputs": [],
   "source": [
    "#the function does something inside the function, print the string to the screen (as shown above)\n",
    "#but nothing is saved into the variable a shown below, It has the special None value\n",
    "print(a)"
   ]
  },
  {
   "cell_type": "code",
   "execution_count": null,
   "metadata": {},
   "outputs": [],
   "source": [
    "# The function name is type  and \"hello\" is the argument passed to the function\n",
    "type(\"hello\")"
   ]
  },
  {
   "cell_type": "code",
   "execution_count": null,
   "metadata": {},
   "outputs": [],
   "source": [
    "# Here we assign the output of the function to a variable named b \n",
    "b = type(\"hello\")"
   ]
  },
  {
   "cell_type": "code",
   "execution_count": null,
   "metadata": {},
   "outputs": [],
   "source": [
    "#the function doesn't look like it did anything, but it returned a result into the variable b as shown below\n",
    "print(b)"
   ]
  },
  {
   "cell_type": "code",
   "execution_count": null,
   "metadata": {},
   "outputs": [],
   "source": [
    "#Here we see that we can use a function call as the argument for another function\n",
    "print(type(\"hello\"))"
   ]
  },
  {
   "cell_type": "markdown",
   "metadata": {},
   "source": [
    "### 1.2) Function Errors\n",
    "\n",
    "If you call a function in an unexpected way, you may get an error. The information in the error message can give you a clue on what might have gone wrong.\n"
   ]
  },
  {
   "cell_type": "markdown",
   "metadata": {},
   "source": [
    "**Wrong Number of agruments**\n",
    "\n",
    "`print()` can take have any number of arguments including zero arguments\n",
    "\n",
    "`type()` must have either 1 or 3 arguments\n",
    "\n",
    "See what happens below, when they are called in different ways"
   ]
  },
  {
   "cell_type": "code",
   "execution_count": null,
   "metadata": {},
   "outputs": [],
   "source": [
    "#print with empty call\n",
    "print()\n",
    "\n",
    "#which looks like it doesn't do anything, but is really printing nothing since the () were empty"
   ]
  },
  {
   "cell_type": "code",
   "execution_count": null,
   "metadata": {},
   "outputs": [],
   "source": [
    "#print with several parameters\n",
    "print(\"hello\",\"1\",3)\n",
    "\n",
    "#which prints out each parameter with a space in between"
   ]
  },
  {
   "cell_type": "code",
   "execution_count": null,
   "metadata": {},
   "outputs": [],
   "source": [
    "# type with empty call\n",
    "# this will give an TypeError telling you that it takes 1 argument or 3 arguments\n",
    "type()"
   ]
  },
  {
   "cell_type": "markdown",
   "metadata": {},
   "source": [
    "**Wrong type for the arguments**\n",
    "\n",
    "The syntax for the `type()` function is listed below:\n",
    "\n",
    "<blockquote>\n",
    "\n",
    "Syntax: type(object, bases, dict)\n",
    "\n",
    "Parameters : \n",
    "* object: Required. If only one parameter is specified, the type() function returns the type of this object\n",
    "* bases : tuple of classes from which the current class derives. Later corresponds to the __bases__ attribute. \n",
    "* dict : a dictionary that holds the namespaces for the class. Later corresponds to the __dict__ attribute.\n",
    "\n",
    "Return: returns a new type class or essentially a metaclass.\n",
    "\n",
    "</blockquote>\n",
    "\n",
    "So even if you give it three parameters, if the second one isn't a tuple and the third a dictionary; you will still get an error"
   ]
  },
  {
   "cell_type": "code",
   "execution_count": null,
   "metadata": {},
   "outputs": [],
   "source": [
    "#type with three parameters\n",
    "type(\"hello\",\"1\",3)\n",
    "\n",
    "#which doesn't work because the parameters aren't the correct format"
   ]
  },
  {
   "cell_type": "markdown",
   "metadata": {},
   "source": [
    "### 1.3) Geting Help for functions\n",
    "\n",
    "Another built-in function that is very useful is `help()`\n",
    "\n",
    "For all built-in functions, you can call `help()` with the function name to get more information about the function"
   ]
  },
  {
   "cell_type": "code",
   "execution_count": null,
   "metadata": {},
   "outputs": [],
   "source": [
    "help(print)"
   ]
  },
  {
   "cell_type": "markdown",
   "metadata": {},
   "source": [
    "The print function is pretty basic. and the help information above is pretty simple.\n",
    "\n",
    "Another function that we used was the type conversion function `float()`.\n",
    "The help information on this function has much more information. \n",
    "\n",
    "After executing the cell below, you will probably want to minimize the output."
   ]
  },
  {
   "cell_type": "code",
   "execution_count": null,
   "metadata": {
    "scrolled": true
   },
   "outputs": [],
   "source": [
    "help(float)\n",
    "\n",
    "#minimize the output by commenting out the command above by adding a # in front and re-executing"
   ]
  },
  {
   "cell_type": "markdown",
   "metadata": {},
   "source": [
    "### 1.4) The input function\n",
    "\n",
    "Another built-in function that is very useful is `input`.\n",
    "\n",
    "This function allows python to ask a user for a value to save into a variable.\n",
    "\n",
    "The syntax can be either:\n",
    " - variable = input() \n",
    " - variable = input('prompt')\n",
    "\n",
    "When an `input` command is run, it will open a dialog for the user to enter their answer. Type in your response and then hit enter\n",
    "\n",
    "See the examples below."
   ]
  },
  {
   "cell_type": "code",
   "execution_count": null,
   "metadata": {},
   "outputs": [],
   "source": [
    "# With a prompt\n",
    "a = input('Enter your name:')\n",
    "print(\"hello\", a)"
   ]
  },
  {
   "cell_type": "code",
   "execution_count": null,
   "metadata": {},
   "outputs": [],
   "source": [
    "# Without a prompt\n",
    "b = input()\n",
    "print(b)"
   ]
  },
  {
   "cell_type": "markdown",
   "metadata": {},
   "source": [
    "The input is automatically assigned as a string type, but you can convert it to other data types.\n",
    "\n",
    "Below is a larger example of the `input` function used within a larger block of code."
   ]
  },
  {
   "cell_type": "code",
   "execution_count": null,
   "metadata": {},
   "outputs": [],
   "source": [
    "x = input('Enter an integer')\n",
    "print(x,type(x))\n",
    "\n",
    "print()\n",
    "print('checking')\n",
    "if x.isdigit():\n",
    "    x = int(x)\n",
    "else: print('that was not an integer')\n",
    "print(x,type(x))"
   ]
  },
  {
   "cell_type": "markdown",
   "metadata": {},
   "source": [
    "### 1.5) Other built-in functions\n",
    "\n",
    "Built-in functions are available in any Python environment without the need to import. Different versions of Python (such as the much older Python2 and the current Python3) have different sets of built-in functions that may work differently. \n",
    "\n",
    "To view a full list of built-in functions in Python 3, use the official documentation for Python at the link below\n",
    "\n",
    "<a href=\"https://docs.python.org/3/library/functions.html\"> https://docs.python.org/3/library/functions.html</a>"
   ]
  },
  {
   "cell_type": "markdown",
   "metadata": {},
   "source": [
    "## 2) Imported Functions"
   ]
  },
  {
   "cell_type": "markdown",
   "metadata": {},
   "source": [
    "While the set of Built-in functions are very useful, Python becomes much more powerful with the addition of many more functions that have been developed by other groups and programmers. \n",
    "\n",
    "These functions are typically grouped together into modules or packages. One tutorial listed the following information:\n",
    "\n",
    "<div class=\"alert alert-block alert-success\">\n",
    "If you have a basic knowledge of Python or you have created any program in Python, you must have come across different Python packages such as ‘numpy’, ‘pandas’, ‘matplotlib’, ‘seaborn’, etc., and Python modules such as ‘math’, ‘random’, ‘datetime’ etc. Even using them frequently, we often need clarification about modules and packages in Python. \n",
    "\n",
    "\n",
    "In Python, both modules and packages organize and structure the code but serve different purposes.\n",
    "\n",
    "In simple terms, a module is a single file containing Python code, whereas a package is a collection of modules that are organized in a directory hierarchy.\n",
    "</div>\n",
    "\n",
    "To be able to access all of these useful functions, you must **import** the module into your notebook. After the module is imported, the function names will be recognized\n"
   ]
  },
  {
   "cell_type": "markdown",
   "metadata": {},
   "source": [
    "### 2.1) Math as an example\n",
    "\n",
    "One module that may be useful to you is `math` which contains a variety of functions and constants. \n",
    "\n",
    "<blockquote>\n",
    "    \n",
    "Many of the functions in the Math module are similar to the functions available in NumPy. \n",
    "\n",
    "Many of these functions have the same names as functions within NumPy. \n",
    "\n",
    "NumPy has many more functions than Math, so it is easier to explore the Math module than the NumPy Module. \n",
    "\n",
    "A separate tutorial with More on NumPy will go over some of those additional features\n",
    "    \n",
    "</blockquote>\n",
    "\n",
    "\n",
    "These functions are only available after you import the package.\n",
    "\n",
    "If you execute the cells below in the order listed, you will see what happens when you try to call a function before it has been imported."
   ]
  },
  {
   "cell_type": "code",
   "execution_count": null,
   "metadata": {},
   "outputs": [],
   "source": [
    "# If you haven't run the import command yet, You should get a NameError saying math is not defined.\n",
    "\n",
    "math.sqrt(25)\n"
   ]
  },
  {
   "cell_type": "code",
   "execution_count": null,
   "metadata": {},
   "outputs": [],
   "source": [
    "# Now we do the import\n",
    "import math\n",
    "\n",
    "# and then we can use the function\n",
    "math.sqrt(25)"
   ]
  },
  {
   "cell_type": "markdown",
   "metadata": {},
   "source": [
    "**Remember** For Python notebooks, it matters which order you execute the cells (not just the order they are listed)\n",
    "\n",
    "If you have an import statement in a cell but don't execute that cell, you will get the NameError on the later cell that calls the function that you didn't import. \n",
    "\n",
    "Similarly, if you go back and execute the cell above the import cell, `math.sqrt(25)` will work now. One you import the module, then it is available in all cells executed after the import not just the ones listed after. "
   ]
  },
  {
   "cell_type": "markdown",
   "metadata": {},
   "source": [
    "To see the functions available in a module that has been imported you can use either `help()` or `dir()`\n",
    "\n",
    "Just remember that the output of these may be long"
   ]
  },
  {
   "cell_type": "code",
   "execution_count": null,
   "metadata": {
    "scrolled": true
   },
   "outputs": [],
   "source": [
    "# Uncomment one of the below lines to see the module information. \n",
    "#help(math) #longer format with more information about all functions and constants\n",
    "#dir(math) #shorter listing of just the names of functions and constants defined\n",
    "# You can then comment out both lines to clean up the notebook and hide that long text"
   ]
  },
  {
   "cell_type": "markdown",
   "metadata": {},
   "source": [
    "**Calling functions after import**\n",
    "\n",
    "Once you have imported the module, you can call individual functions from the module using the syntax of `module.function()`\n",
    "\n",
    "For example `math.sqrt(25)` that we used above has:\n",
    "* the module name of `math`\n",
    "* the function `sqrt` within that module\n",
    "* the argument of `25` that was passed to the function\n",
    "\n",
    "Some other examples of math function calls are shown below."
   ]
  },
  {
   "cell_type": "code",
   "execution_count": null,
   "metadata": {},
   "outputs": [],
   "source": [
    "print(math.sqrt(36))\n",
    "print(math.log(36))\n",
    "print(math.pow(2,3))"
   ]
  },
  {
   "cell_type": "markdown",
   "metadata": {},
   "source": [
    "In addition to functions, some modules also contain constant values that you can use as a variable name. \n",
    "\n",
    "Notice in the example below math.pi is not called as a function but instead represents the value"
   ]
  },
  {
   "cell_type": "code",
   "execution_count": null,
   "metadata": {},
   "outputs": [],
   "source": [
    "math.pi"
   ]
  },
  {
   "cell_type": "code",
   "execution_count": null,
   "metadata": {},
   "outputs": [],
   "source": [
    "pi = 3.14\n",
    "print(\"I made the variable pi, which is equal to \", pi)\n",
    "print(\"Math has the variable math.pi, which is equal to \",math.pi)"
   ]
  },
  {
   "cell_type": "markdown",
   "metadata": {},
   "source": [
    "### 2.2) Import Options\n",
    "\n",
    "**standard import syntax**\n",
    "\n",
    "To import a module you simply need to use the command `import [modulename]` where `modulename` is replaced with the file name.\n",
    "\n",
    "\n",
    "The example we did above was `import math`\n",
    "\n",
    "You can list more than one module on the same line to import all of them such as the example below\n"
   ]
  },
  {
   "cell_type": "code",
   "execution_count": null,
   "metadata": {},
   "outputs": [],
   "source": [
    "import math, random"
   ]
  },
  {
   "cell_type": "markdown",
   "metadata": {},
   "source": [
    "**Importing from a module**\n",
    "To refer to items from a module within your program’s namespace, you can use the from … import statement. \n",
    "\n",
    "When you import modules this way, you can refer to the functions by name rather than through dot notation. \n",
    "\n",
    "It is also useful if you only need a very select function from a larger module and don't want to import the entire set of functions.\n",
    "\n",
    "So if you wanted to use math.pi often you could use the command `from math import pi` and then just use `pi` as a declared variable.\n",
    "\n",
    "Notice that this overwrites the value of pi that I assigned above."
   ]
  },
  {
   "cell_type": "code",
   "execution_count": null,
   "metadata": {},
   "outputs": [],
   "source": [
    "from math import pi\n",
    "print(pi)"
   ]
  },
  {
   "cell_type": "markdown",
   "metadata": {},
   "source": [
    "<font color=red> Caution: </font> When you use `from ...import`, there are two things to be aware of: \n",
    "* You may create conflicts between definitions\n",
    "* You don't get everything else in the module\n",
    "\n",
    "For example: numpy also has a pi value (luckily it is the same number) so you might not know which one you are using, and importing pi from numpy doesn't get you the rest of numpy\n",
    "\n",
    "See the cells below for examples"
   ]
  },
  {
   "cell_type": "code",
   "execution_count": null,
   "metadata": {},
   "outputs": [],
   "source": [
    "from numpy import pi\n",
    "print(pi)"
   ]
  },
  {
   "cell_type": "code",
   "execution_count": null,
   "metadata": {},
   "outputs": [],
   "source": [
    "print(math.cos(pi))"
   ]
  },
  {
   "cell_type": "markdown",
   "metadata": {},
   "source": [
    "It is possible to import everything from a module using the general syntax `from [modulename] import *`\n",
    "\n",
    "\n",
    "In general the practice of importing * from a module or package is frowned upon, since it often causes poorly readable code and can lead to conflicting function names between modules. It also leads to a much larger list of variable nams you can not use."
   ]
  },
  {
   "cell_type": "markdown",
   "metadata": {},
   "source": [
    "**Aliasing a module name**\n",
    "\n",
    "It is possible to modify the names of modules and their functions within Python by using the as keyword.\n",
    "\n",
    "You may want to change a name because you have already used the same name for something else in your program, another module you have imported also uses that name, or you may want to abbreviate a longer name that you are using a lot.\n",
    "\n",
    "`import [module] as [another_name]`\n",
    "\n",
    "For example we will commonly use both \n",
    "* numpy is typically imported as np `import numpy as np`\n",
    "* matplotlib.pyplot often uses `import matplotlib.pyplot as plt`\n"
   ]
  },
  {
   "cell_type": "code",
   "execution_count": null,
   "metadata": {},
   "outputs": [],
   "source": [
    "import numpy as np\n",
    "import matplotlib.pyplot as plt"
   ]
  },
  {
   "cell_type": "markdown",
   "metadata": {},
   "source": [
    "Without the aliasing shown above you would need to call numpy functions with the full name such as \n",
    "`numpy.sqrt(25)` `numpy.log(36)` `numpy.pi`\n",
    "\n",
    "\n",
    "\n",
    "For the case of matplotlib, `matplotlib` is a huge package and we only wanted to use functions within the `pyplot` module. \n",
    "\n",
    "If we had imported the entire `matplotlib` package using `import matplotlib` we would have gotten the whole package but had to use the full path to do a simple plot `matplotlib.pylot.plot(x,y)` but can now just use `plt.plot(x,y)`\n",
    "\n",
    "\n",
    "You still make sure that the names of the functions from different packages are kept separate but you can save a lot of typing which will make the code more readable."
   ]
  },
  {
   "cell_type": "markdown",
   "metadata": {},
   "source": [
    "## 3) User Defined Functions\n",
    "\n",
    "We can create custom functions in Python. \n",
    "\n",
    "The function must be defined first before it can be called.\n"
   ]
  },
  {
   "cell_type": "markdown",
   "metadata": {},
   "source": [
    "### 3.1) \"Anatomy\" of a Function Definition\n",
    "\n",
    "Every function has a standard format with the following components\n",
    "1. def\n",
    "2. name\n",
    "3. arguments\n",
    "4. code\n",
    "5. return\n",
    "\n",
    "It will be structured as follows\n",
    "\n",
    "<blockquote>\n",
    "    \n",
    "\n",
    "def name(arguments):\n",
    "> code line\n",
    "\n",
    "> code line\n",
    "\n",
    "> return\n",
    "\n",
    "</blockquote>"
   ]
  },
  {
   "cell_type": "markdown",
   "metadata": {},
   "source": [
    "### 3.2) Function without an argument\n",
    "\n",
    "Here is a function that doesn't need any input arguments"
   ]
  },
  {
   "cell_type": "code",
   "execution_count": null,
   "metadata": {},
   "outputs": [],
   "source": [
    "def my_print(): #function definition\n",
    "    print(\"Hello World\")                # a first task done in the function\n",
    "    print(\"Hope you have a great day.\") # a second task done in the function\n",
    "    return"
   ]
  },
  {
   "cell_type": "markdown",
   "metadata": {},
   "source": [
    "above is just the definition, which hasn't been run yet..."
   ]
  },
  {
   "cell_type": "code",
   "execution_count": null,
   "metadata": {},
   "outputs": [],
   "source": [
    "my_print()  #calling the function"
   ]
  },
  {
   "cell_type": "markdown",
   "metadata": {},
   "source": [
    "The above function does not accept any input, and does not give any output. It just performs a simple task, i.e. printing \"Hello World\" whenever its called. (Printing something is not an output, its a task that the function performs. More specifically, if the function gives an output, we call it a 'returned' value)."
   ]
  },
  {
   "cell_type": "code",
   "execution_count": null,
   "metadata": {},
   "outputs": [],
   "source": [
    "#This example has better documentation \n",
    "\n",
    "def my_greeting(): \n",
    "    \"\"\"\n",
    "    This function prints out a multi-line greeting.\n",
    "    It has no input arguments.\n",
    "    It does not return any outputs.\n",
    "    \"\"\"\n",
    "    print(\"Hello World\")                # a first task done in the function\n",
    "    print(\"Hope you have a great day.\") # a second task done in the function\n",
    "    \n",
    "    return"
   ]
  },
  {
   "cell_type": "code",
   "execution_count": null,
   "metadata": {},
   "outputs": [],
   "source": [
    "# With the documentation, you can use help to get info\n",
    "help(my_greeting)"
   ]
  },
  {
   "cell_type": "markdown",
   "metadata": {},
   "source": [
    "### 3.3) A function with an input argument\n",
    "\n",
    "The examples below are simple ones that do a mathematical calculation"
   ]
  },
  {
   "cell_type": "code",
   "execution_count": null,
   "metadata": {},
   "outputs": [],
   "source": [
    "def square(x):\n",
    "    \"\"\"\n",
    "        This function calculates the square of a number \n",
    "        It has one input argument, which should be a number.\n",
    "        It returns one value. \n",
    "    \"\"\"\n",
    "    result = x**2     #this line does the task\n",
    "    return result     # Function returns output\n",
    "\n",
    "y = 5\n",
    "print(square(y))"
   ]
  },
  {
   "cell_type": "code",
   "execution_count": null,
   "metadata": {},
   "outputs": [],
   "source": [
    "def my_product(array):\n",
    "    \"\"\"\n",
    "        This function accepts an array as input, and returns the product of its elements\n",
    "    \"\"\"\n",
    "    product = 1\n",
    "    for i in range(array.size):\n",
    "        product = product*array[i]\n",
    "    return product\n",
    "\n",
    "my_array = np.array([2,5,3,7])\n",
    "print(my_product(my_array))"
   ]
  },
  {
   "cell_type": "markdown",
   "metadata": {},
   "source": [
    "Some functions only do a single task which can be written in a simplfied format. \n",
    "\n",
    "In these cases the task and return statements are on the same line.\n",
    "\n",
    "See the example below. \n"
   ]
  },
  {
   "cell_type": "code",
   "execution_count": null,
   "metadata": {},
   "outputs": [],
   "source": [
    "def double(number):\n",
    "    return number*2"
   ]
  },
  {
   "cell_type": "markdown",
   "metadata": {},
   "source": [
    "### 3.4) Multiple arguments\n",
    "\n",
    "We can also have functions which take multiple arguments as inputs as shown below."
   ]
  },
  {
   "cell_type": "code",
   "execution_count": null,
   "metadata": {},
   "outputs": [],
   "source": [
    "def power(x,n):\n",
    "    \"\"\"\n",
    "    This function takes a number to a power\n",
    "    The input x is any number\n",
    "    The input n is an integer\n",
    "    The output is the calculation of x^n\n",
    "    \"\"\"\n",
    "    res = x**n\n",
    "    return res\n",
    "    \n"
   ]
  },
  {
   "cell_type": "code",
   "execution_count": null,
   "metadata": {},
   "outputs": [],
   "source": [
    "power(3,2)\n"
   ]
  },
  {
   "cell_type": "code",
   "execution_count": null,
   "metadata": {},
   "outputs": [],
   "source": [
    "power(3.65, 5)"
   ]
  },
  {
   "cell_type": "markdown",
   "metadata": {},
   "source": [
    "Note the following code, where we return two values"
   ]
  },
  {
   "cell_type": "markdown",
   "metadata": {},
   "source": [
    "### 3.5) Multiple outputs\n",
    "\n",
    "Functions can also return two values. \n",
    "\n",
    "To get the output values:\n",
    "* assign the output of the function to a single variable which will be a tuple of the\n",
    "* assign mutiple variable from the function\n",
    "\n",
    "See the example function below with two different ways to call the function."
   ]
  },
  {
   "cell_type": "code",
   "execution_count": null,
   "metadata": {
    "scrolled": true
   },
   "outputs": [],
   "source": [
    "def powers(x):\n",
    "    sq = x**2\n",
    "    cu = x**3\n",
    "    return sq,cu  # Note that we are returning two values\n"
   ]
  },
  {
   "cell_type": "code",
   "execution_count": null,
   "metadata": {
    "scrolled": true
   },
   "outputs": [],
   "source": [
    "#Assign the result to a single variable\n",
    "result = powers(5)\n",
    "print(result)\n",
    "type(result)"
   ]
  },
  {
   "cell_type": "code",
   "execution_count": null,
   "metadata": {
    "scrolled": true
   },
   "outputs": [],
   "source": [
    "# Assign two results to different variables\n",
    "a, b = powers(5)\n",
    "print(a)\n",
    "print(b)"
   ]
  },
  {
   "cell_type": "markdown",
   "metadata": {},
   "source": [
    "### 3.6) Optional keyword arguments"
   ]
  },
  {
   "cell_type": "markdown",
   "metadata": {},
   "source": [
    "The function below has 1 required argument `num` and 2 keyword arguments `color` and `taste`. \n",
    "\n",
    "For the function to work properly, you must enter at least one argument that will be used for the variable `num`\n",
    "\n",
    "If you only enter one argument, then the function will use the default values of `color = \"red\"` and `taste = \"sweet\"`\n",
    "If you enter more than just one argument, then the second and third will be used for color and taste"
   ]
  },
  {
   "cell_type": "code",
   "execution_count": null,
   "metadata": {},
   "outputs": [],
   "source": [
    "#first we define the function\n",
    "def fruits(num, color = \"red\", taste = \"sweet\"):\n",
    "    print(\"I am\", num, \"years old and I like fruits which are the color\", color, \"and taste\", taste)"
   ]
  },
  {
   "cell_type": "code",
   "execution_count": null,
   "metadata": {},
   "outputs": [],
   "source": [
    "#then we can call it with just the one required argument\n",
    "fruits(12)"
   ]
  },
  {
   "cell_type": "code",
   "execution_count": null,
   "metadata": {},
   "outputs": [],
   "source": [
    "#then we can call it with the required argument and one optional argument\n",
    "fruits(14,'purple')"
   ]
  },
  {
   "cell_type": "code",
   "execution_count": null,
   "metadata": {},
   "outputs": [],
   "source": [
    "#then we can call it with the required argument and one optional argument\n",
    "fruits(51,'purple','tart')"
   ]
  },
  {
   "cell_type": "code",
   "execution_count": null,
   "metadata": {},
   "outputs": [],
   "source": [
    "#We can also call it with the required argument and just the second optional argument if we use the keyword\n",
    "fruits(33,taste ='tart')"
   ]
  },
  {
   "cell_type": "markdown",
   "metadata": {},
   "source": [
    "### Usefulness of defined functions\n",
    "\n",
    "So why do we need such a thing? If there is a function to evaluate a polynomial at a given point, then we can just code it normally. The answer is robustness. \n",
    "\n",
    "Apart from just being correct, codes should ideally be robust, efficient, easy to debug, and of course, self-explanatory for someone else reading it. Functions are very important for achieving all of the above, with utmost simplicity. Functions are also very useful if you want the same task to be performed repeatedly, with no changes, or maybe with minor modifications. For example, if you want to evaluate that polynomial repeatedly, then it is better to define a function to do so; otherwise, simple typing mistakes in one of those lines might break your code. Or if you want to now change your polynomial coefficients, and you have 100 repetitions of the code, then you'll have to go line by line to each of those. \n",
    "\n",
    "**In short, functions eventually make your code easier to read and modify, and much easier to debug.**\n",
    "\n",
    "The following references should be useful:\n",
    "https://docs.python.org/3/tutorial/controlflow.html#defining-functions and https://scipy-lectures.org/intro/language/functions.html for an exhaustive description of functions.\n"
   ]
  },
  {
   "cell_type": "markdown",
   "metadata": {},
   "source": [
    "The above is a very basic introduction to functions. The tutorial is by no means complete, and is intended to give you a start, and teach you the stuff that is most commonly used. You are encouraged to Google things, and explore yourself, to know more about functions - one of the most powerful tools developed in programming."
   ]
  },
  {
   "cell_type": "markdown",
   "metadata": {},
   "source": [
    "## 4) Functions vs Methods\n",
    "\n",
    "In the Python Documentation, we have the following definitions:\n",
    "\n",
    "<blockquote>\n",
    "    function\n",
    "    \n",
    "A series of statements which returns some value to a caller. It can also be passed zero or more arguments which may be used in the execution of the body. See also parameter, method, and the Function definitions section.\n",
    "</blockquote>\n",
    "\n",
    "<blockquote>\n",
    "method\n",
    "\n",
    "A function which is defined inside a class body. If called as an attribute of an instance of that class, the method will get the instance object as its first argument (which is usually called self). See function and nested scope.</blockquote>\n",
    "\n",
    "\n",
    "Without pointing it out, we have already seen a method in action for the shape of a NumPy ndarray."
   ]
  },
  {
   "cell_type": "code",
   "execution_count": null,
   "metadata": {},
   "outputs": [],
   "source": [
    "# creating an array using the np.array function\n",
    "array2D = np.array([[1, 2, 3], [4, 5, 6],[7,8,9],[10,11,12]])\n",
    "\n",
    "# finding the shape of the array using the shape method on the array2D object\n",
    "array2D.shape"
   ]
  },
  {
   "cell_type": "markdown",
   "metadata": {},
   "source": [
    "Creating user defined methods is a topic that goes well beyond the scope of this tutorial"
   ]
  },
  {
   "cell_type": "markdown",
   "metadata": {},
   "source": [
    "## Assignments"
   ]
  },
  {
   "cell_type": "markdown",
   "metadata": {},
   "source": [
    "<div class=\"alert alert-block alert-info\">\n",
    "<b>TBA:</b> jcash will improve text here\n",
    "</div>"
   ]
  },
  {
   "cell_type": "code",
   "execution_count": null,
   "metadata": {},
   "outputs": [],
   "source": [
    "# Import the following packages\n",
    "\n",
    "import math\n",
    "import numpy as np\n"
   ]
  },
  {
   "cell_type": "markdown",
   "metadata": {},
   "source": [
    "### Exercise 1) Convert Light Years to Parsecs (Intro level)\n",
    "\n",
    "\n",
    "In astronomy, we often work with large distances between stars and galaxies. Two commonly used units are **light years (ly)** and **parsecs (pc)**. \n",
    "\n",
    "This assignment will give you practice writing a simple function to convert between these two units.\n",
    "\n",
    "\n",
    "Write a function called `lightyears_to_parsecs(ly)` that takes one input:\n",
    "\n",
    "- `ly`: a distance in light years (a float or int)\n",
    "\n",
    "and returns the equivalent distance in parsecs.\n",
    "\n",
    " **Conversion factor:**  \n",
    "$$\n",
    "1 \\text{ parsec} = 3.26 \\text{ light years}\n",
    "$$  \n",
    "So to convert from light years to parsecs:\n",
    "$$\n",
    "\\text{parsecs} = \\frac{\\text{light years}}{3.26}\n",
    "$$\n"
   ]
  },
  {
   "cell_type": "code",
   "execution_count": null,
   "metadata": {},
   "outputs": [],
   "source": [
    "# Place your code for the function definition here.\n"
   ]
  },
  {
   "cell_type": "code",
   "execution_count": null,
   "metadata": {},
   "outputs": [],
   "source": [
    "# Test your function.\n",
    "print(lightyears_to_parsecs(32.6))   # Should print 10.0\n",
    "print(lightyears_to_parsecs(3.26))   # Should print 1.0\n",
    "print(lightyears_to_parsecs(0))      # Should print 0.0\n"
   ]
  },
  {
   "cell_type": "markdown",
   "metadata": {},
   "source": [
    "### Exercise 2) Calculate Apparent Brightness of a Star\n",
    "\n",
    "In astronomy, the **apparent brightness** of a star (how bright it appears from Earth) depends on both its **luminosity** and **distance**.\n",
    "\n",
    "This assignment will give you practice using formulas and writing functions with multiple inputs.\n",
    "\n",
    "---\n",
    "\n",
    "**Task**\n",
    "\n",
    "Write a function called `apparent_brightness(luminosity, distance)` that takes:\n",
    "\n",
    "- `luminosity`: the true brightness of the star (a float), measured in solar units (relative to the Sun)\n",
    "- `distance`: the distance to the star in parsecs\n",
    "\n",
    "and returns:\n",
    "\n",
    "- the **apparent brightness** of the star, calculated using the **inverse square law**:\n",
    "\n",
    "$$\n",
    "b = \\frac{L}{4 \\pi d^2}\n",
    "$$\n",
    "\n",
    "where:\n",
    "- \\( b \\) is the apparent brightness\n",
    "- \\( L \\) is the luminosity\n",
    "- \\( d \\) is the distance in parsecs\n",
    "- \\( \\pi \\) is the mathematical constant pi (available in Python as `math.pi`)\n",
    "\n",
    "---\n",
    "\n",
    "**Pseudocode Outline**\n",
    "\n",
    "1. Import the `math` or `numpy` module (if you haven’t already).\n",
    "2. Define a function that takes `luminosity` and `distance` as inputs.\n",
    "3. Use the inverse square law formula:  \n",
    "   brightness = luminosity divided by (4 × pi × distance squared)\n",
    "4. Return the computed brightness.\n",
    "\n",
    "\n",
    "\n"
   ]
  },
  {
   "cell_type": "code",
   "execution_count": null,
   "metadata": {},
   "outputs": [],
   "source": [
    "# Place your code for the function in this code cell\n",
    "\n"
   ]
  },
  {
   "cell_type": "code",
   "execution_count": null,
   "metadata": {},
   "outputs": [],
   "source": [
    "# Test your code in this cell\n",
    "\n",
    "print(apparent_brightness(1.0, 10.0))     # Around 0.000795\n",
    "print(apparent_brightness(10.0, 10.0))    # Around 0.00795\n"
   ]
  },
  {
   "cell_type": "code",
   "execution_count": null,
   "metadata": {},
   "outputs": [],
   "source": [
    "# Look up values for the Luminosity and distance for Sirius. Use your function to calculate its brightness. \n",
    "\n"
   ]
  },
  {
   "cell_type": "markdown",
   "metadata": {},
   "source": [
    "### Exercise 3A) Count Values Above a Threshold\n",
    "\n",
    "In this exercise, you'll work with a NumPy array of brightness measurements. Your task is to count how many values are greater than a given threshold.\n",
    "\n",
    "---\n",
    "\n",
    "**Task**\n",
    "\n",
    "Write a function called `count_above_threshold(data, threshold)` that takes:\n",
    "\n",
    "- `data`: a NumPy array of brightness values (floats)\n",
    "- `threshold`: a numeric threshold\n",
    "\n",
    "and returns the **number of elements in the array that are greater than the threshold**.\n",
    "\n",
    "---\n",
    "\n",
    "**Pseudocode Outline**\n",
    "\n",
    "1. Use a comparison expression to create a Boolean array: `data > threshold`\n",
    "2. Use a NumPy function to count the number of `True` values.\n",
    "3. Return the count.\n",
    "\n"
   ]
  },
  {
   "cell_type": "code",
   "execution_count": null,
   "metadata": {},
   "outputs": [],
   "source": [
    "# Place your code for the function definition here.\n"
   ]
  },
  {
   "cell_type": "code",
   "execution_count": null,
   "metadata": {},
   "outputs": [],
   "source": [
    "# Test your code here.\n",
    "\n",
    "arr = np.array([0.1, 2.3, 1.5, 0.7, 3.0])\n",
    "count_above_threshold(arr, 1.0) #should return a value of 3\n"
   ]
  },
  {
   "cell_type": "markdown",
   "metadata": {},
   "source": [
    "### Exercise 4) Replace Negative Values with np.nan\n",
    "\n",
    "Sometimes in astronomy data, measurements may be corrupted or invalid. For example, a brightness measurement shouldn't be negative. In this exercise, you'll write a function to clean a NumPy array by replacing all negative values with np.nan.\n",
    "\n",
    "**Task**\n",
    "Write a function called clean_negatives(data) that:\n",
    "\n",
    "Takes a NumPy array of brightness values.\n",
    "\n",
    "Returns a new array with all negative values replaced by np.nan.\n",
    "\n",
    "Note: Do not modify the original array — return a copy with the cleaned values.\n",
    "\n",
    "**Pseudocode Outline**\n",
    "1. Import NumPy (`import numpy as np`).\n",
    "2. Make a copy of the input array.\n",
    "3. Loop through the indices of the array using `range(len(...))`.\n",
    "4. For each index:\n",
    "   - If the value is less than 0, replace it with `np.nan`.\n",
    "5. Return the modified copy.\n"
   ]
  },
  {
   "cell_type": "code",
   "execution_count": null,
   "metadata": {},
   "outputs": [],
   "source": [
    "# Place your code for the function definition here.\n",
    "\n"
   ]
  },
  {
   "cell_type": "code",
   "execution_count": null,
   "metadata": {},
   "outputs": [],
   "source": [
    "# Test your function here\n",
    "\n",
    "arr = np.array([1.2, -0.5, 0.3, -2.0, 5.0])\n",
    "cleaned = clean_negatives(arr)\n",
    "print(cleaned)\n",
    "\n",
    "#should return [ 1.2   nan  0.3   nan  5.0]"
   ]
  }
 ],
 "metadata": {
  "kernelspec": {
   "display_name": "Python 3 (ipykernel)",
   "language": "python",
   "name": "python3"
  },
  "language_info": {
   "codemirror_mode": {
    "name": "ipython",
    "version": 3
   },
   "file_extension": ".py",
   "mimetype": "text/x-python",
   "name": "python",
   "nbconvert_exporter": "python",
   "pygments_lexer": "ipython3",
   "version": "3.12.4"
  }
 },
 "nbformat": 4,
 "nbformat_minor": 4
}

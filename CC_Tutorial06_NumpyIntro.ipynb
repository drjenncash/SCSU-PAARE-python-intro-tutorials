{
 "cells": [
  {
   "cell_type": "markdown",
   "id": "1b64be04-b60e-424d-b3c4-c49cd869ba54",
   "metadata": {},
   "source": [
    "<div class=\"alert alert-block alert-info\">\n",
    "<b>TBA:</b> jcash will improve text here\n",
    "\n",
    "    I need to finish up the arrangement of the sections and then set the section numbers\n",
    "\n",
    "    I need to create the assignments\n",
    "</div>"
   ]
  },
  {
   "cell_type": "markdown",
   "id": "699ee8b8-6bf5-4527-bbbf-5d1ed4192fd1",
   "metadata": {},
   "source": [
    "<div class=\"alert alert-block alert-warning\">\n",
    "<b>Caution:</b> Use this when a section is unclear\n",
    "</div>"
   ]
  },
  {
   "cell_type": "markdown",
   "id": "89a693cb-529a-4548-8977-502faa0d6b7f",
   "metadata": {},
   "source": [
    "# Tutorial More on NumPy "
   ]
  },
  {
   "cell_type": "markdown",
   "id": "9b95fa39",
   "metadata": {},
   "source": [
    "<div class=\"alert alert-block alert-info\">\n",
    "<b>TBA:</b> jcash will improve text here\n",
    "</div>"
   ]
  },
  {
   "cell_type": "markdown",
   "id": "e0a9d9cc-8b72-463f-b2e9-543b01bffb00",
   "metadata": {},
   "source": [
    "## Overview"
   ]
  },
  {
   "cell_type": "markdown",
   "id": "1b9a1aa4-54a5-450b-bfc9-9ba1482f2e45",
   "metadata": {},
   "source": [
    "### Imports needed"
   ]
  },
  {
   "cell_type": "code",
   "execution_count": 3,
   "id": "21ef51de-1d6e-4f55-9b6d-4b67656e6b4b",
   "metadata": {},
   "outputs": [],
   "source": [
    "import numpy as np"
   ]
  },
  {
   "cell_type": "markdown",
   "id": "b23fd153-0a4e-4e78-a376-7c7fd65c62af",
   "metadata": {},
   "source": [
    "## Review of NumPy\n",
    "\n",
    "### NumPy math operations\n",
    "\n",
    "### NumPy Arrays\n",
    "\n",
    "### Numpy as a package import\n"
   ]
  },
  {
   "cell_type": "code",
   "execution_count": 5,
   "id": "0bf6caa0-9d01-4fc5-bb9f-a7a8aa383f7c",
   "metadata": {},
   "outputs": [
    {
     "name": "stdout",
     "output_type": "stream",
     "text": [
      "an angle of  60  degrees is equal to  1.0471975511965976  radians\n"
     ]
    }
   ],
   "source": [
    "angle_deg = 60\n",
    "angle_rad = np.deg2rad(angle_deg)\n",
    "print(\"an angle of \", angle_deg,\" degrees is equal to \", angle_rad,\" radians\")"
   ]
  },
  {
   "cell_type": "code",
   "execution_count": 7,
   "id": "f96ef903-7f6a-4098-9f04-13de89c7135c",
   "metadata": {},
   "outputs": [
    {
     "name": "stdout",
     "output_type": "stream",
     "text": [
      "an angle of  1.3  radians is equal to  74.48451336700703  degrees\n"
     ]
    }
   ],
   "source": [
    "angle_rad = 1.3\n",
    "angle_deg = np.rad2deg(angle_rad)\n",
    "print(\"an angle of \", angle_rad,\" radians is equal to \", angle_deg,\" degrees\")"
   ]
  },
  {
   "cell_type": "code",
   "execution_count": 13,
   "id": "a11e0f94-d26f-4996-864a-b295de2baa11",
   "metadata": {},
   "outputs": [],
   "source": [
    "import numpy as np"
   ]
  },
  {
   "cell_type": "code",
   "execution_count": 15,
   "id": "fd14a89d-3aad-41ca-942a-e0fe61a9ab4c",
   "metadata": {},
   "outputs": [],
   "source": [
    "#Defining both the matrices.\n",
    "a = np.array([5, 72, 13, 100])\n",
    "b = np.array([2, 5, 10, 30])"
   ]
  },
  {
   "cell_type": "code",
   "execution_count": 17,
   "id": "3b9f3bd5-b430-4e12-9808-b3acbbab9daf",
   "metadata": {},
   "outputs": [
    {
     "name": "stdout",
     "output_type": "stream",
     "text": [
      "[  7  77  23 130]\n"
     ]
    }
   ],
   "source": [
    "#Performing addition using arithmetic operator.\n",
    "add_ans = a+b\n",
    "print(add_ans)"
   ]
  },
  {
   "cell_type": "code",
   "execution_count": 19,
   "id": "28ff2ed6-62b2-4a4f-8305-e38a905c966f",
   "metadata": {},
   "outputs": [
    {
     "name": "stdout",
     "output_type": "stream",
     "text": [
      "[  7  77  23 130]\n"
     ]
    }
   ],
   "source": [
    "#Performing addition using numpy function.\n",
    "add_ans = np.add(a, b)\n",
    "print(add_ans)"
   ]
  },
  {
   "cell_type": "code",
   "execution_count": 21,
   "id": "4600c0f7-ad98-44df-9648-e4dbde0b333e",
   "metadata": {},
   "outputs": [
    {
     "name": "stdout",
     "output_type": "stream",
     "text": [
      "[  8  79  26 134]\n"
     ]
    }
   ],
   "source": [
    "#This would work.\n",
    "c = np.array([1, 2, 3, 4])\n",
    "add_ans = a+b+c\n",
    "print(add_ans)"
   ]
  },
  {
   "cell_type": "code",
   "execution_count": 23,
   "id": "af84ff31-6e40-4e17-9dd5-c5e4242bb6d0",
   "metadata": {},
   "outputs": [
    {
     "name": "stdout",
     "output_type": "stream",
     "text": [
      "[  7  77  23 130]\n"
     ]
    }
   ],
   "source": [
    "#But here NumPy only considers the first two arrays (a and b) and ignores the third one (c).\n",
    "add_ans = np.add(a, b, c)\n",
    "print(add_ans)"
   ]
  },
  {
   "cell_type": "code",
   "execution_count": 25,
   "id": "01e684cb-1c93-4b2f-9b8d-e94da17c4831",
   "metadata": {},
   "outputs": [],
   "source": [
    "#Defining both the matrices.\n",
    "a = np.array([5, 72, 13, 100])\n",
    "b = np.array([2, 5, 10, 30])"
   ]
  },
  {
   "cell_type": "code",
   "execution_count": 27,
   "id": "e0464fc3-4df3-48aa-9aae-2d7fe908a0f8",
   "metadata": {},
   "outputs": [
    {
     "name": "stdout",
     "output_type": "stream",
     "text": [
      "[ 3 67  3 70]\n"
     ]
    }
   ],
   "source": [
    "#Performing subtraction using arithmetic operator.\n",
    "sub_ans = a-b\n",
    "print(sub_ans)"
   ]
  },
  {
   "cell_type": "code",
   "execution_count": 29,
   "id": "fdfad981-ab34-493b-8cda-858cf8cb7556",
   "metadata": {},
   "outputs": [
    {
     "name": "stdout",
     "output_type": "stream",
     "text": [
      "[ 3 67  3 70]\n"
     ]
    }
   ],
   "source": [
    "#Performing subtraction using numpy function.\n",
    "sub_ans = np.subtract(a, b)\n",
    "print(sub_ans)"
   ]
  },
  {
   "cell_type": "code",
   "execution_count": 31,
   "id": "a429c548-70e9-45e0-8d0b-64ff6919db9d",
   "metadata": {},
   "outputs": [],
   "source": [
    "#Defining both the matrices.\n",
    "a = np.array([5, 72, 13, 100])\n",
    "b = np.array([2, 5, 10, 30])"
   ]
  },
  {
   "cell_type": "code",
   "execution_count": 33,
   "id": "ed289587-50ff-4187-874b-00ff8e2f8449",
   "metadata": {},
   "outputs": [
    {
     "name": "stdout",
     "output_type": "stream",
     "text": [
      "[ 2 66  2 69]\n"
     ]
    }
   ],
   "source": [
    "#Performing subtraction using arithmetic operator.\n",
    "sub_ans = a-b-1\n",
    "print(sub_ans)"
   ]
  },
  {
   "cell_type": "code",
   "execution_count": 35,
   "id": "aec71b96-c09b-44dd-b156-f8dcd3305aac",
   "metadata": {},
   "outputs": [
    {
     "name": "stdout",
     "output_type": "stream",
     "text": [
      "[ 2 66  2 69]\n"
     ]
    }
   ],
   "source": [
    "#Performing subtraction using numpy function.\n",
    "sub_ans = np.subtract(a, b)-1\n",
    "print(sub_ans)"
   ]
  },
  {
   "cell_type": "code",
   "execution_count": 37,
   "id": "2b407396-ef66-450a-84b7-0df31f24ee73",
   "metadata": {},
   "outputs": [
    {
     "name": "stdout",
     "output_type": "stream",
     "text": [
      "[  10  360  130 3000]\n"
     ]
    }
   ],
   "source": [
    "#Performing multiplication using arithmetic operator.\n",
    "mul_ans = a*b\n",
    "print(mul_ans)"
   ]
  },
  {
   "cell_type": "code",
   "execution_count": 33,
   "id": "700173c8-a21c-46e8-ba64-efc01643dbed",
   "metadata": {},
   "outputs": [
    {
     "name": "stdout",
     "output_type": "stream",
     "text": [
      "[  10  360  130 3000]\n"
     ]
    }
   ],
   "source": [
    "#Performing multiplication using numpy function.\n",
    "mul_ans = np.multiply(a, b)\n",
    "print(mul_ans)"
   ]
  },
  {
   "cell_type": "code",
   "execution_count": 39,
   "id": "baf45a92-dc76-4379-9302-ae3a3c56d491",
   "metadata": {},
   "outputs": [
    {
     "name": "stdout",
     "output_type": "stream",
     "text": [
      "[ 2.5        14.4         1.3         3.33333333]\n"
     ]
    }
   ],
   "source": [
    "#Performing division using arithmetic operators.\n",
    "div_ans = a/b\n",
    "print(div_ans)"
   ]
  },
  {
   "cell_type": "code",
   "execution_count": 41,
   "id": "fc9d490f-22c5-4eea-8fd5-aedb6e5e2dc9",
   "metadata": {},
   "outputs": [
    {
     "name": "stdout",
     "output_type": "stream",
     "text": [
      "[ 2.5        14.4         1.3         3.33333333]\n"
     ]
    }
   ],
   "source": [
    "#Performing division using numpy functions.\n",
    "div_ans = np.divide(a, b)\n",
    "print(div_ans)"
   ]
  },
  {
   "cell_type": "code",
   "execution_count": 43,
   "id": "c71848b5-a23b-493c-aea2-b718cdee4c5c",
   "metadata": {},
   "outputs": [
    {
     "name": "stdout",
     "output_type": "stream",
     "text": [
      "[ 1  2  3 10]\n"
     ]
    }
   ],
   "source": [
    "#Performing mod on two matrices.\n",
    "mod_ans = np.mod(a, b)\n",
    "print(mod_ans)"
   ]
  },
  {
   "cell_type": "code",
   "execution_count": 45,
   "id": "78de9f86-9cb6-4ad8-8e0d-9d20433505b7",
   "metadata": {},
   "outputs": [
    {
     "name": "stdout",
     "output_type": "stream",
     "text": [
      "[ 1  2  3 10]\n"
     ]
    }
   ],
   "source": [
    "#Performing remainder on two matrices.\n",
    "rem_ans=np.remainder(a,b)\n",
    "print(rem_ans)"
   ]
  },
  {
   "cell_type": "code",
   "execution_count": 47,
   "id": "bb21adaa-a618-446b-8cda-37bf96b1155e",
   "metadata": {},
   "outputs": [
    {
     "name": "stdout",
     "output_type": "stream",
     "text": [
      "[        25 1934917632  419538377          0]\n"
     ]
    }
   ],
   "source": [
    "#Performing power of two matrices.\n",
    "pow_ans = np.power(a, b)\n",
    "print(pow_ans)"
   ]
  },
  {
   "cell_type": "code",
   "execution_count": 51,
   "id": "4c75e66e-82d3-40c5-a4be-51c20e773ed8",
   "metadata": {},
   "outputs": [
    {
     "name": "stdout",
     "output_type": "stream",
     "text": [
      "47.5\n"
     ]
    }
   ],
   "source": [
    "#Getting mean of all numbers in 'a'.\n",
    "mean_a = np.mean(a)\n",
    "print(mean_a)"
   ]
  },
  {
   "cell_type": "code",
   "execution_count": 53,
   "id": "5df4dad9-1e6f-475f-ba47-f4faa0371e32",
   "metadata": {},
   "outputs": [
    {
     "name": "stdout",
     "output_type": "stream",
     "text": [
      "11.75\n"
     ]
    }
   ],
   "source": [
    "#Getting average of all numbers in 'b'.\n",
    "mean_b = np.average(b)\n",
    "print(mean_b)"
   ]
  },
  {
   "cell_type": "code",
   "execution_count": 55,
   "id": "49e7fe46-b6b2-4626-80ba-6a5d2b8bb28e",
   "metadata": {},
   "outputs": [
    {
     "name": "stdout",
     "output_type": "stream",
     "text": [
      "190\n"
     ]
    }
   ],
   "source": [
    "#Getting sum of all numbers in 'a'.\n",
    "sum_a = np.sum(a)\n",
    "print(sum_a)"
   ]
  },
  {
   "cell_type": "code",
   "execution_count": 57,
   "id": "1a563713-2a77-4493-8658-0228b54842b8",
   "metadata": {},
   "outputs": [
    {
     "name": "stdout",
     "output_type": "stream",
     "text": [
      "119.1875\n"
     ]
    }
   ],
   "source": [
    "#Getting variance of all number in 'b'.\n",
    "var_b = np.var(b)\n",
    "print(var_b)"
   ]
  },
  {
   "cell_type": "code",
   "execution_count": 59,
   "id": "ce99cb26-769b-44ec-8f6b-7a996bb2dc6d",
   "metadata": {},
   "outputs": [
    {
     "name": "stdout",
     "output_type": "stream",
     "text": [
      "[1 2 3 4 5]\n",
      "<class 'numpy.ndarray'>\n"
     ]
    }
   ],
   "source": [
    "import numpy as np\n",
    "\n",
    "arr = np.array([1, 2, 3, 4, 5])\n",
    "\n",
    "print(arr)\n",
    "\n",
    "print(type(arr))"
   ]
  },
  {
   "cell_type": "markdown",
   "id": "1ee3177d-e850-4a42-a6c0-441a0ea5b3e3",
   "metadata": {},
   "source": [
    "## Creating NumPy arrays\n",
    "\n",
    "Manually added was in tutorial 3."
   ]
  },
  {
   "cell_type": "code",
   "execution_count": 61,
   "id": "fa9d012f-9a2a-44fc-85c9-7bfc7a882745",
   "metadata": {},
   "outputs": [
    {
     "name": "stdout",
     "output_type": "stream",
     "text": [
      "42\n"
     ]
    }
   ],
   "source": [
    "#0D arrays.\n",
    "import numpy as np\n",
    "\n",
    "arr = np.array(42)\n",
    "\n",
    "print(arr)"
   ]
  },
  {
   "cell_type": "code",
   "execution_count": 63,
   "id": "29c40e37-02b4-4cad-853c-008a13aa0a68",
   "metadata": {},
   "outputs": [
    {
     "name": "stdout",
     "output_type": "stream",
     "text": [
      "[1 2 3 4 5]\n"
     ]
    }
   ],
   "source": [
    "import numpy as np\n",
    "\n",
    "arr = np.array((1, 2, 3, 4, 5))\n",
    "\n",
    "print(arr)"
   ]
  },
  {
   "cell_type": "code",
   "execution_count": 65,
   "id": "f8a0a6cb-bee6-494d-9aaf-2b7eb6e763a6",
   "metadata": {},
   "outputs": [
    {
     "name": "stdout",
     "output_type": "stream",
     "text": [
      "[1 2 3 4 5]\n"
     ]
    }
   ],
   "source": [
    "#1D arrays.\n",
    "import numpy as np\n",
    "\n",
    "arr = np.array([1, 2, 3, 4, 5])\n",
    "\n",
    "print(arr)"
   ]
  },
  {
   "cell_type": "code",
   "execution_count": 67,
   "id": "ac542ee0-9889-47af-be95-e77493a03497",
   "metadata": {},
   "outputs": [
    {
     "name": "stdout",
     "output_type": "stream",
     "text": [
      "[[1 2 3]\n",
      " [4 5 6]]\n"
     ]
    }
   ],
   "source": [
    "#2D arrays.\n",
    "import numpy as np\n",
    "\n",
    "arr = np.array([[1, 2, 3], [4, 5, 6]])\n",
    "\n",
    "print(arr)"
   ]
  },
  {
   "cell_type": "code",
   "execution_count": 69,
   "id": "ac63c5dc-9719-40e7-8910-9dd23d2d903d",
   "metadata": {},
   "outputs": [
    {
     "name": "stdout",
     "output_type": "stream",
     "text": [
      "[[[1 2 3]\n",
      "  [4 5 6]]\n",
      "\n",
      " [[1 2 3]\n",
      "  [4 5 6]]]\n"
     ]
    }
   ],
   "source": [
    "#3D arrays.\n",
    "import numpy as np\n",
    "\n",
    "arr = np.array([[[1, 2, 3], [4, 5, 6]], [[1, 2, 3], [4, 5, 6]]])\n",
    "\n",
    "print(arr)"
   ]
  },
  {
   "cell_type": "code",
   "execution_count": 71,
   "id": "433b24b5-f8f7-47b5-a76b-aa44ea2a3f1d",
   "metadata": {},
   "outputs": [
    {
     "name": "stdout",
     "output_type": "stream",
     "text": [
      "0\n",
      "1\n",
      "2\n",
      "3\n"
     ]
    }
   ],
   "source": [
    "#Checking number of dimensions.\n",
    "a = np.array(42)\n",
    "b = np.array([1, 2, 3, 4, 5])\n",
    "c = np.array([[1, 2, 3], [4, 5, 6]])\n",
    "d = np.array([[[1, 2, 3], [4, 5, 6]], [[1, 2, 3], [4, 5, 6]]])\n",
    "\n",
    "print(a.ndim)\n",
    "print(b.ndim)\n",
    "print(c.ndim)\n",
    "print(d.ndim)"
   ]
  },
  {
   "cell_type": "code",
   "execution_count": 68,
   "id": "365ee2a9-9276-4867-9995-e6729cfe430f",
   "metadata": {},
   "outputs": [
    {
     "name": "stdout",
     "output_type": "stream",
     "text": [
      "[[[[[1 2 3 4]]]]]\n",
      "number of dimensions : 5\n"
     ]
    }
   ],
   "source": [
    "#Higher dimensional arrays.\n",
    "import numpy as np\n",
    "\n",
    "arr = np.array([1, 2, 3, 4], ndmin=5)\n",
    "\n",
    "print(arr)\n",
    "print('number of dimensions :', arr.ndim)"
   ]
  },
  {
   "cell_type": "markdown",
   "id": "20dbca5a-ce52-4856-8159-fa7bdb471456",
   "metadata": {
    "jp-MarkdownHeadingCollapsed": true
   },
   "source": [
    "### Empty array"
   ]
  },
  {
   "cell_type": "markdown",
   "id": "d8a1a946-268f-4f46-ba68-ef6fb128b456",
   "metadata": {},
   "source": [
    "### Zero arrays and ones"
   ]
  },
  {
   "cell_type": "markdown",
   "id": "995b8e2c-0afc-41a5-9903-7596fbf9ea2c",
   "metadata": {},
   "source": [
    "<div class=\"alert alert-block alert-warning\">\n",
    "<b>Caution:</b> Use this when a section is unclear\n",
    "</div>"
   ]
  },
  {
   "cell_type": "code",
   "execution_count": 75,
   "id": "15a7fa49-901c-4fe2-8c85-4ecefa83845f",
   "metadata": {},
   "outputs": [
    {
     "name": "stdout",
     "output_type": "stream",
     "text": [
      "\n",
      "Zeros Array:\n",
      "[[0. 0. 0.]\n",
      " [0. 0. 0.]]\n"
     ]
    }
   ],
   "source": [
    "#Creating an array of zeros.\n",
    "zeros_array = np.zeros((2, 3))  # 2 rows, 3 columns\n",
    "print(\"\\nZeros Array:\")\n",
    "print(zeros_array)"
   ]
  },
  {
   "cell_type": "code",
   "execution_count": 77,
   "id": "f6fb3081-ac0a-4c4a-906b-b429bd6afad8",
   "metadata": {},
   "outputs": [
    {
     "name": "stdout",
     "output_type": "stream",
     "text": [
      "\n",
      "Ones Array:\n",
      "[[1. 1.]\n",
      " [1. 1.]\n",
      " [1. 1.]]\n"
     ]
    }
   ],
   "source": [
    "#Creating an array of ones.\n",
    "ones_array = np.ones((3, 2))  # 3 rows, 2 columns\n",
    "print(\"\\nOnes Array:\")\n",
    "print(ones_array)"
   ]
  },
  {
   "cell_type": "code",
   "execution_count": 79,
   "id": "7f6297c3-347a-460a-a527-b087cd710240",
   "metadata": {},
   "outputs": [
    {
     "name": "stdout",
     "output_type": "stream",
     "text": [
      "[ 0  1  2  3  4  5  6  7  8  9 10 11 12 13 14 15 16 17 18 19]\n"
     ]
    }
   ],
   "source": [
    "#Ranged arrays\n",
    "range_array = np.arange(20)\n",
    "print(range_array)"
   ]
  },
  {
   "cell_type": "code",
   "execution_count": 81,
   "id": "b865e24a-5d5e-460f-b8af-6e83b4883960",
   "metadata": {},
   "outputs": [
    {
     "name": "stdout",
     "output_type": "stream",
     "text": [
      "\n",
      "Random Array:\n",
      "[[0.68219786 0.5981278  0.08797941]\n",
      " [0.11969875 0.1946249  0.92025499]]\n"
     ]
    }
   ],
   "source": [
    "#Random arrays.\n",
    "\n",
    "#Creating an array with random values.\n",
    "random_array = np.random.rand(2, 3)  # 2 rows, 3 columns\n",
    "print(\"\\nRandom Array:\")\n",
    "print(random_array)"
   ]
  },
  {
   "cell_type": "markdown",
   "id": "d67fa48e-44b8-4cea-b15b-c3c97139e986",
   "metadata": {},
   "source": [
    "## NumPy array math\n",
    "\n",
    "Vectorization concept: \n",
    "NumPy vectorization involves performing mathematical operations on entire arrays, eliminating the need to loop through individual elements.\n",
    "\n",
    "Examples of these:\n",
    "- Square all items in array\n",
    "- Add constants\n",
    "\n",
    "\n",
    "And things you can do with two arrays\n",
    "(caution on relative size and shapes allowed):\n",
    "- Add two arrays\n",
    "- Dot product\n",
    "- Cross product\n"
   ]
  },
  {
   "cell_type": "code",
   "execution_count": 83,
   "id": "88b2e496-f681-43dd-bded-2022dc86ed18",
   "metadata": {},
   "outputs": [],
   "source": [
    "arr1 = np.array([[1, 2], [3, 4]])\n",
    "arr2 = np.array([[5, 6], [7, 8]])"
   ]
  },
  {
   "cell_type": "code",
   "execution_count": 85,
   "id": "c0373982-3e30-4930-95c6-b2f6d87c3289",
   "metadata": {},
   "outputs": [
    {
     "name": "stdout",
     "output_type": "stream",
     "text": [
      "Element-wise addition:\n",
      "[[ 6  8]\n",
      " [10 12]]\n"
     ]
    }
   ],
   "source": [
    "#Element-wise addition.\n",
    "print(\"Element-wise addition:\")\n",
    "print(arr1 + arr2)"
   ]
  },
  {
   "cell_type": "code",
   "execution_count": 87,
   "id": "2ed3f9fb-3079-43b2-89ce-f9a30637fe05",
   "metadata": {},
   "outputs": [
    {
     "name": "stdout",
     "output_type": "stream",
     "text": [
      "\n",
      "Element-wise multiplication:\n",
      "[[ 5 12]\n",
      " [21 32]]\n"
     ]
    }
   ],
   "source": [
    "#Element-wise multiplication.\n",
    "print(\"\\nElement-wise multiplication:\")\n",
    "print(arr1 * arr2)"
   ]
  },
  {
   "cell_type": "code",
   "execution_count": 89,
   "id": "3e3f3d05-96a2-47a3-a522-e7aa2275a535",
   "metadata": {},
   "outputs": [
    {
     "name": "stdout",
     "output_type": "stream",
     "text": [
      "\n",
      "Matrix multiplication:\n",
      "[[19 22]\n",
      " [43 50]]\n"
     ]
    }
   ],
   "source": [
    "#Matrix multiplication.\n",
    "#Maybe clarify that's the dot product of two arrays?\n",
    "print(\"\\nMatrix multiplication:\")\n",
    "print(np.dot(arr1, arr2))"
   ]
  },
  {
   "cell_type": "code",
   "execution_count": 91,
   "id": "da2672d8-f21a-4660-a81f-f589dad63020",
   "metadata": {},
   "outputs": [
    {
     "name": "stdout",
     "output_type": "stream",
     "text": [
      "[-4 -4]\n"
     ]
    }
   ],
   "source": [
    "print(np.cross(arr1, arr2))"
   ]
  },
  {
   "cell_type": "markdown",
   "id": "303ffd24-af02-4c38-a156-7edbbd19bbbc",
   "metadata": {},
   "source": [
    "## NumPy Array Manipulation"
   ]
  },
  {
   "cell_type": "markdown",
   "id": "5bf6c194-379d-433a-a282-93e804952d76",
   "metadata": {},
   "source": [
    "### Flattening arrays"
   ]
  },
  {
   "cell_type": "code",
   "execution_count": 96,
   "id": "e0a6aeb5-e6e4-4a29-bb3b-84b68f7f022b",
   "metadata": {},
   "outputs": [
    {
     "name": "stdout",
     "output_type": "stream",
     "text": [
      "The original array:\n",
      "[[0 1 2 3]\n",
      " [4 5 6 7]]\n",
      "\n",
      "\n",
      "After applying the flat function:\n"
     ]
    },
    {
     "data": {
      "text/plain": [
       "5"
      ]
     },
     "execution_count": 96,
     "metadata": {},
     "output_type": "execute_result"
    }
   ],
   "source": [
    "import numpy as np \n",
    "a = np.arange(8).reshape(2,4) \n",
    "print ('The original array:' )\n",
    "print (a )\n",
    "print ('\\n') \n",
    "\n",
    "print ('After applying the flat function:' )\n",
    "#Returns element corresponding to index in flattened array. \n",
    "a.flat[5]"
   ]
  },
  {
   "cell_type": "code",
   "execution_count": 98,
   "id": "a8d56ccb-6101-4162-b9e6-224020b91c04",
   "metadata": {},
   "outputs": [
    {
     "name": "stdout",
     "output_type": "stream",
     "text": [
      "The original array is:\n",
      "[[0 1 2 3]\n",
      " [4 5 6 7]]\n",
      "\n",
      "\n",
      "The flattened array is:\n",
      "[0 1 2 3 4 5 6 7]\n",
      "\n",
      "\n",
      "The flattened array in F-style ordering:\n"
     ]
    },
    {
     "data": {
      "text/plain": [
       "array([0, 4, 1, 5, 2, 6, 3, 7])"
      ]
     },
     "execution_count": 98,
     "metadata": {},
     "output_type": "execute_result"
    }
   ],
   "source": [
    "#Flattening.\n",
    "a = np.arange(8).reshape(2,4) \n",
    "\n",
    "print ('The original array is:') \n",
    "print (a )\n",
    "print ('\\n')  \n",
    "#Default is column-major. \n",
    "\n",
    "print ('The flattened array is:' )\n",
    "print (a.flatten() )\n",
    "print ('\\n')  \n",
    "\n",
    "print ('The flattened array in F-style ordering:') \n",
    "a.flatten(order = 'F')"
   ]
  },
  {
   "cell_type": "code",
   "execution_count": 100,
   "id": "003a3331-7017-4725-8694-da8979115b9b",
   "metadata": {},
   "outputs": [
    {
     "name": "stdout",
     "output_type": "stream",
     "text": [
      "The original array is:\n",
      "\n",
      "\n",
      "After applying ravel function:\n",
      "\n",
      "\n",
      "Applying ravel function in F-style ordering:\n"
     ]
    },
    {
     "data": {
      "text/plain": [
       "array([0, 4, 1, 5, 2, 6, 3, 7])"
      ]
     },
     "execution_count": 100,
     "metadata": {},
     "output_type": "execute_result"
    }
   ],
   "source": [
    "#Raval.\n",
    "a = np.arange(8).reshape(2,4) \n",
    "\n",
    "print ('The original array is:' )\n",
    "a\n",
    "print ('\\n'  )\n",
    "\n",
    "print( 'After applying ravel function:' )\n",
    "a.ravel()  \n",
    "print ('\\n') \n",
    "\n",
    "print ('Applying ravel function in F-style ordering:') \n",
    "a.ravel(order = 'F')"
   ]
  },
  {
   "cell_type": "markdown",
   "id": "cc7c181f-cdf9-4be8-af7b-8cb60eb0a116",
   "metadata": {},
   "source": [
    "### Reshaping arrays"
   ]
  },
  {
   "cell_type": "code",
   "execution_count": 103,
   "id": "c9ba205e-bf64-4b10-ac28-d2eedb76d4ce",
   "metadata": {},
   "outputs": [
    {
     "name": "stdout",
     "output_type": "stream",
     "text": [
      "The original array:\n",
      "\n",
      "\n",
      "The modified array:\n"
     ]
    },
    {
     "data": {
      "text/plain": [
       "array([[0, 1],\n",
       "       [2, 3],\n",
       "       [4, 5],\n",
       "       [6, 7]])"
      ]
     },
     "execution_count": 103,
     "metadata": {},
     "output_type": "execute_result"
    }
   ],
   "source": [
    "a = np.arange(8)\n",
    "print ('The original array:')\n",
    "a\n",
    "print ('\\n')\n",
    "\n",
    "b = a.reshape(4,2)\n",
    "print ('The modified array:')\n",
    "b"
   ]
  },
  {
   "cell_type": "code",
   "execution_count": 105,
   "id": "e2a5dd0e-e4d4-46f0-bab1-9eaac3c0f6cb",
   "metadata": {},
   "outputs": [
    {
     "data": {
      "text/plain": [
       "array([0, 4, 1, 5, 2, 6, 3, 7])"
      ]
     },
     "execution_count": 105,
     "metadata": {},
     "output_type": "execute_result"
    }
   ],
   "source": [
    "#Transpose.\n",
    "a = np.arange(8).reshape(2,4) \n",
    "\n",
    "'The original array is:' \n",
    "a \n",
    "'\\n'  \n",
    "\n",
    "'After applying ravel function:' \n",
    "a.ravel()  \n",
    "'\\n' \n",
    "\n",
    "'Applying ravel function in F-style ordering:' \n",
    "a.ravel(order = 'F')"
   ]
  },
  {
   "cell_type": "markdown",
   "id": "9fd91611-5e06-43db-a234-ea1041c2508b",
   "metadata": {},
   "source": [
    "### Switching axes"
   ]
  },
  {
   "cell_type": "code",
   "execution_count": 108,
   "id": "cc3b16a2-5eba-4592-bafe-e45abfd8de14",
   "metadata": {},
   "outputs": [
    {
     "data": {
      "text/plain": [
       "array([[[0, 2],\n",
       "        [1, 3]],\n",
       "\n",
       "       [[4, 6],\n",
       "        [5, 7]]])"
      ]
     },
     "execution_count": 108,
     "metadata": {},
     "output_type": "execute_result"
    }
   ],
   "source": [
    "#Roll Axis.\n",
    "a = np.arange(8).reshape(2,2,2) \n",
    "\n",
    "'The original array:' \n",
    "a \n",
    "'\\n'\n",
    "#To roll axis-2 to axis-0 (along width to along depth). \n",
    "\n",
    "'After applying rollaxis function:' \n",
    "np.rollaxis(a,2)  \n",
    "\n",
    "#To roll axis 0 to 1 (along width to height).\n",
    "'\\n' \n",
    "\n",
    "'After applying rollaxis function:' \n",
    "np.rollaxis(a,2,1)"
   ]
  },
  {
   "cell_type": "code",
   "execution_count": 110,
   "id": "7a45a633-a2d4-4dfd-9c2d-9143c3547314",
   "metadata": {},
   "outputs": [
    {
     "name": "stdout",
     "output_type": "stream",
     "text": [
      "The original array:\n",
      "[[[0 1]\n",
      "  [2 3]]\n",
      "\n",
      " [[4 5]\n",
      "  [6 7]]]\n",
      "\n",
      "\n",
      "The array after applying the swapaxes function:\n",
      "[[[0 4]\n",
      "  [2 6]]\n",
      "\n",
      " [[1 5]\n",
      "  [3 7]]]\n"
     ]
    }
   ],
   "source": [
    "#Swap axis.\n",
    "a = np.arange(8).reshape(2,2,2) \n",
    "\n",
    "print ('The original array:') \n",
    "print (a) \n",
    "print ('\\n')  \n",
    "#Now swap numbers between axis 0 (along depth) and axis 2 (along width). \n",
    "\n",
    "print ('The array after applying the swapaxes function:') \n",
    "print (np.swapaxes(a, 2, 0))"
   ]
  },
  {
   "cell_type": "markdown",
   "id": "22b3eacc-3f1c-4e2f-9e59-7d7cba6e1cc9",
   "metadata": {},
   "source": [
    "### Joining arrays\n",
    "\n",
    "Different ways"
   ]
  },
  {
   "cell_type": "code",
   "execution_count": 120,
   "id": "fdb952b8-aacb-4d16-83e2-3754758aded7",
   "metadata": {},
   "outputs": [
    {
     "name": "stdout",
     "output_type": "stream",
     "text": [
      "First array:\n",
      "[[1 2]\n",
      " [3 4]]\n",
      "\n",
      "\n",
      "Second array:\n",
      "[[5 6]\n",
      " [7 8]]\n",
      "\n",
      "\n",
      "Joining the two arrays along axis 0:\n",
      "[[1 2]\n",
      " [3 4]\n",
      " [5 6]\n",
      " [7 8]]\n",
      "\n",
      "\n",
      "Joining the two arrays along axis 1:\n",
      "[[1 2 5 6]\n",
      " [3 4 7 8]]\n"
     ]
    }
   ],
   "source": [
    "#Concatination.\n",
    "a = np.array([[1,2],[3,4]]) \n",
    "\n",
    "print ('First array:') \n",
    "print (a) \n",
    "print ('\\n')  \n",
    "b = np.array([[5,6],[7,8]]) \n",
    "\n",
    "print ('Second array:') \n",
    "print (b) \n",
    "print ('\\n')  \n",
    "#Both the arrays are of same dimensions. \n",
    "\n",
    "print ('Joining the two arrays along axis 0:' )\n",
    "print (np.concatenate((a,b)) )\n",
    "print ('\\n')  \n",
    "\n",
    "print ('Joining the two arrays along axis 1:') \n",
    "print( np.concatenate((a,b),axis = 1))"
   ]
  },
  {
   "cell_type": "code",
   "execution_count": 126,
   "id": "6d10ed18-85d0-43af-a407-5ad8636a54e8",
   "metadata": {},
   "outputs": [
    {
     "name": "stdout",
     "output_type": "stream",
     "text": [
      "First Array:\n",
      "[[1 2]\n",
      " [3 4]]\n",
      "\n",
      "\n",
      "Second Array:\n",
      "[[5 6]\n",
      " [7 8]]\n",
      "\n",
      "\n",
      "Stack the two arrays along axis 0:\n",
      "[[[1 2]\n",
      "  [3 4]]\n",
      "\n",
      " [[5 6]\n",
      "  [7 8]]]\n",
      "\n",
      "\n",
      "Stack the two arrays along axis 1:\n",
      "[[[1 2]\n",
      "  [5 6]]\n",
      "\n",
      " [[3 4]\n",
      "  [7 8]]]\n"
     ]
    }
   ],
   "source": [
    "#Stacking.\n",
    "a = np.array([[1,2],[3,4]]) \n",
    "\n",
    "print ('First Array:') \n",
    "print (a )\n",
    "print ('\\n')\n",
    "b = np.array([[5,6],[7,8]]) \n",
    "\n",
    "print ('Second Array:') \n",
    "print (b) \n",
    "print ('\\n')  \n",
    "\n",
    "print ('Stack the two arrays along axis 0:' )\n",
    "print (np.stack((a,b),0) )\n",
    "print ('\\n')  \n",
    "\n",
    "print ('Stack the two arrays along axis 1:') \n",
    "print (np.stack((a,b),1))"
   ]
  },
  {
   "cell_type": "code",
   "execution_count": 128,
   "id": "1b785a74-95e0-471b-8646-e8191f4a1877",
   "metadata": {},
   "outputs": [
    {
     "name": "stdout",
     "output_type": "stream",
     "text": [
      "First array:\n",
      "[0 1 2 3 4 5 6 7 8]\n",
      "\n",
      "\n",
      "Split the array in 3 equal-sized subarrays:\n",
      "[array([0, 1, 2]), array([3, 4, 5]), array([6, 7, 8])]\n",
      "\n",
      "\n",
      "Split the array at positions indicated in 1-D array:\n",
      "[array([0, 1, 2, 3]), array([4, 5, 6]), array([7, 8])]\n"
     ]
    }
   ],
   "source": [
    "#Splitting arrays.\n",
    "a = np.arange(9) \n",
    "\n",
    "print ('First array:' )\n",
    "print (a )\n",
    "print ('\\n')  \n",
    "\n",
    "print ('Split the array in 3 equal-sized subarrays:' )\n",
    "b = np.split(a,3) \n",
    "print( b )\n",
    "print( '\\n'  )\n",
    "\n",
    "print ('Split the array at positions indicated in 1-D array:') \n",
    "b = np.split(a,[4,7])\n",
    "print( b )"
   ]
  },
  {
   "cell_type": "code",
   "execution_count": null,
   "id": "d530971a-f138-4888-8e51-008000d05541",
   "metadata": {},
   "outputs": [],
   "source": [
    "#Resize array.\n",
    "a = np.array([[1,2,3],[4,5,6]]) \n",
    "\n",
    "print ('First array:') \n",
    "print (a) \n",
    "print ('\\n')\n",
    "\n",
    "print( 'The shape of first array:' )\n",
    "print (a.shape )\n",
    "print ('\\n' ) \n",
    "b = np.resize(a, (3,2)) \n",
    "\n",
    "print ('Second array:' )\n",
    "print (b) \n",
    "print ('\\n')  \n",
    "\n",
    "print ('The shape of second array:') \n",
    "print (b.shape )\n",
    "print ('\\n')  \n",
    "# Observe that first row of a is repeated in b since size is bigger. \n",
    "\n",
    "print ('Resize the second array:' )\n",
    "b = np.resize(a,(3,3)) \n",
    "print b"
   ]
  },
  {
   "cell_type": "code",
   "execution_count": 130,
   "id": "7ebc335d-8051-4d70-b3b1-485c141d5c07",
   "metadata": {},
   "outputs": [
    {
     "name": "stdout",
     "output_type": "stream",
     "text": [
      "First array:\n",
      "\n",
      "\n",
      "Axis parameter not passed. The input array is flattened before insertion.\n",
      "\n",
      "\n",
      "Axis parameter passed. The values array is broadcast to match input array.\n",
      "Broadcast along axis 0:\n",
      "\n",
      "\n",
      "Broadcast along axis 1:\n"
     ]
    },
    {
     "data": {
      "text/plain": [
       "array([[ 1, 11,  2],\n",
       "       [ 3, 11,  4],\n",
       "       [ 5, 11,  6]])"
      ]
     },
     "execution_count": 130,
     "metadata": {},
     "output_type": "execute_result"
    }
   ],
   "source": [
    "#Insert.\n",
    "a = np.array([[1,2],[3,4],[5,6]]) \n",
    "\n",
    "print( 'First array:' )\n",
    "a \n",
    "print ('\\n')  \n",
    "\n",
    "print ('Axis parameter not passed. The input array is flattened before insertion.')\n",
    "np.insert(a,3,[11,12]) \n",
    "print ('\\n')  \n",
    "print ('Axis parameter passed. The values array is broadcast to match input array.')\n",
    "\n",
    "print ('Broadcast along axis 0:') \n",
    "np.insert(a,1,[11],axis = 0) \n",
    "print ('\\n'  )\n",
    "\n",
    "print ('Broadcast along axis 1:' )\n",
    "np.insert(a,1,11,axis = 1)"
   ]
  },
  {
   "cell_type": "markdown",
   "id": "22f9e1f0-6e60-421f-93e5-ee0544c8eafd",
   "metadata": {},
   "source": [
    "## Very useful NumPy functions and methods\n",
    "\n",
    "Ones that look at whole array:\n",
    "- where()\n",
    "- sort()\n",
    "- min()\n",
    "- max()\n",
    "- mean()\n",
    "- count()\n",
    "\n",
    "- ??unique()\n",
    "\n",
    "\n",
    "Ones that look at specific elements in the array:\n",
    "- maximum()"
   ]
  },
  {
   "cell_type": "markdown",
   "id": "33355fcd-d2b4-48d8-a0da-3844436bfa03",
   "metadata": {},
   "source": [
    "#### Some to check things in arrays  \n",
    "np.isnan\n",
    "\n",
    "Functions that deal with nan values."
   ]
  },
  {
   "cell_type": "code",
   "execution_count": 147,
   "id": "bfc0384a-9742-4c71-bbd5-cb46acf68f15",
   "metadata": {},
   "outputs": [
    {
     "data": {
      "text/plain": [
       "array([0, 1, 2, 3, 4, 5, 6, 7, 8, 9])"
      ]
     },
     "execution_count": 147,
     "metadata": {},
     "output_type": "execute_result"
    }
   ],
   "source": [
    "a = np.arange(10)\n",
    ">>> a"
   ]
  },
  {
   "cell_type": "code",
   "execution_count": 149,
   "id": "94a68afd-d3cb-4298-818c-0da1f9d4e29a",
   "metadata": {},
   "outputs": [
    {
     "data": {
      "text/plain": [
       "array([ 0,  1,  2,  3,  4, 50, 60, 70, 80, 90])"
      ]
     },
     "execution_count": 149,
     "metadata": {},
     "output_type": "execute_result"
    }
   ],
   "source": [
    "np.where(a < 5, a, 10*a)"
   ]
  },
  {
   "cell_type": "code",
   "execution_count": 151,
   "id": "3d111b58-ad4e-4940-9687-925c1630b519",
   "metadata": {},
   "outputs": [
    {
     "data": {
      "text/plain": [
       "(array([0, 1, 1], dtype=int64), array([0, 0, 1], dtype=int64))"
      ]
     },
     "execution_count": 151,
     "metadata": {},
     "output_type": "execute_result"
    }
   ],
   "source": [
    "np.where([[True, False], [True, True]])"
   ]
  },
  {
   "cell_type": "code",
   "execution_count": 153,
   "id": "8e98ddc0-b9a6-42f0-b0c7-17b14972e49b",
   "metadata": {},
   "outputs": [
    {
     "data": {
      "text/plain": [
       "array([[10,  0,  0,  0],\n",
       "       [10, 11,  1,  1],\n",
       "       [10, 11, 12,  2]])"
      ]
     },
     "execution_count": 153,
     "metadata": {},
     "output_type": "execute_result"
    }
   ],
   "source": [
    "x, y = np.ogrid[:3, :4]\n",
    ">>> np.where(x < y, x, 10 + y)"
   ]
  },
  {
   "cell_type": "code",
   "execution_count": 155,
   "id": "b4b1d841-ea5e-4e87-b919-8c7128ae1b70",
   "metadata": {},
   "outputs": [
    {
     "data": {
      "text/plain": [
       "array([[ 0,  1,  2],\n",
       "       [ 0,  2, -1],\n",
       "       [ 0,  3, -1]])"
      ]
     },
     "execution_count": 155,
     "metadata": {},
     "output_type": "execute_result"
    }
   ],
   "source": [
    "a = np.array([[0, 1, 2],\n",
    "...               [0, 2, 4],\n",
    "...               [0, 3, 6]])\n",
    ">>> np.where(a < 4, a, -1) "
   ]
  },
  {
   "cell_type": "code",
   "execution_count": 157,
   "id": "7fc92d5a-7a29-4a6c-9a09-2a0733d1530a",
   "metadata": {},
   "outputs": [
    {
     "data": {
      "text/plain": [
       "array([[1, 4],\n",
       "       [1, 3]])"
      ]
     },
     "execution_count": 157,
     "metadata": {},
     "output_type": "execute_result"
    }
   ],
   "source": [
    "a = np.array([[1,4],[3,1]])\n",
    ">>> np.sort(a)     "
   ]
  },
  {
   "cell_type": "code",
   "execution_count": 159,
   "id": "049489e6-9baf-4121-9d19-47e0ce75f1d5",
   "metadata": {},
   "outputs": [
    {
     "data": {
      "text/plain": [
       "array([1, 1, 3, 4])"
      ]
     },
     "execution_count": 159,
     "metadata": {},
     "output_type": "execute_result"
    }
   ],
   "source": [
    "np.sort(a, axis=None) "
   ]
  },
  {
   "cell_type": "code",
   "execution_count": 161,
   "id": "415606e0-2ae0-4d2b-84e3-32eb6decfc90",
   "metadata": {},
   "outputs": [
    {
     "data": {
      "text/plain": [
       "array([[1, 1],\n",
       "       [3, 4]])"
      ]
     },
     "execution_count": 161,
     "metadata": {},
     "output_type": "execute_result"
    }
   ],
   "source": [
    "np.sort(a, axis=0)"
   ]
  },
  {
   "cell_type": "code",
   "execution_count": 163,
   "id": "97a6ab2d-fbf0-451a-8ae6-605009ac3656",
   "metadata": {},
   "outputs": [
    {
     "name": "stdout",
     "output_type": "stream",
     "text": [
      "14\n"
     ]
    }
   ],
   "source": [
    "array1 = np.array([10, 12, 14, 11, 5])\n",
    "\n",
    "#Return the largest element. \n",
    "maxValue= np.max(array1)\n",
    "\n",
    "print(maxValue)"
   ]
  },
  {
   "cell_type": "code",
   "execution_count": 165,
   "id": "99f00275-7d75-4c22-8485-fc58feb79f25",
   "metadata": {},
   "outputs": [
    {
     "name": "stdout",
     "output_type": "stream",
     "text": [
      "The largest element in the flattened array:  25\n",
      "The largest element in each column (axis 0):  [15 17 25]\n",
      "The largest element in each row (axis 1):  [25 22]\n"
     ]
    }
   ],
   "source": [
    "array = np.array([[10, 17, 25], \n",
    "                  [15, 11, 22]])\n",
    "                  \n",
    "#Return the largest element of the flattened array.\n",
    "maxValue = np.max(array)\n",
    "\n",
    "print('The largest element in the flattened array: ', maxValue)\n",
    "\n",
    "#Return the largest element in each column.\n",
    "maxValue = np.max(array, axis = 0)\n",
    "\n",
    "print('The largest element in each column (axis 0): ', maxValue)\n",
    "\n",
    "#Return the largest element in each row.\n",
    "maxValue = np.max(array, axis = 1)\n",
    "\n",
    "print('The largest element in each row (axis 1): ', maxValue)"
   ]
  },
  {
   "cell_type": "code",
   "execution_count": 167,
   "id": "49f0d9a6-7f9c-4313-99ff-4757caa42bea",
   "metadata": {},
   "outputs": [
    {
     "name": "stdout",
     "output_type": "stream",
     "text": [
      "[15 19 25]\n"
     ]
    }
   ],
   "source": [
    "array1 = np.array([[10, 17, 25], \n",
    "                  [15, 11, 22], \n",
    "                  [11, 19, 20]])\n",
    "\n",
    "#Create an empty array.\n",
    "array2= np.array([0, 0, 0])\n",
    "\n",
    "#Pass the 'out' argument to store the result in array2.\n",
    "np.max(array1, axis = 0, out = array2)\n",
    "\n",
    "print(array2)"
   ]
  },
  {
   "cell_type": "code",
   "execution_count": 169,
   "id": "9262a36e-8bb0-4a20-b978-b112a5124114",
   "metadata": {},
   "outputs": [
    {
     "name": "stdout",
     "output_type": "stream",
     "text": [
      "Dimensions of original array:  2\n",
      "\n",
      " Without keepdims: \n",
      " [25 22 20]\n",
      "Dimensions of array:  1\n",
      "\n",
      " With keepdims: \n",
      " [[25]\n",
      " [22]\n",
      " [20]]\n",
      "Dimensions of array:  2\n"
     ]
    }
   ],
   "source": [
    "rray1 = np.array([[10, 17, 25], \n",
    "                   [15, 11, 22]])\n",
    "print('Dimensions of original array: ', array1.ndim)\n",
    "\n",
    "maxValue = np.max(array1, axis = 1)\n",
    "\n",
    "print('\\n Without keepdims: \\n', maxValue)\n",
    "print('Dimensions of array: ', maxValue.ndim) \n",
    "\n",
    "#Set keepdims to True to retain the dimension of the input array.\n",
    "maxValue = np.max(array1, axis = 1, keepdims = True)\n",
    "\n",
    "print('\\n With keepdims: \\n', maxValue)\n",
    "print('Dimensions of array: ', maxValue.ndim)"
   ]
  },
  {
   "cell_type": "code",
   "execution_count": 171,
   "id": "857375b1-3ad2-418a-b428-a82e7e28053e",
   "metadata": {},
   "outputs": [
    {
     "name": "stdout",
     "output_type": "stream",
     "text": [
      "25\n",
      "26\n",
      "5.0\n"
     ]
    }
   ],
   "source": [
    "#Max value > initial, returns max value.\n",
    "array1 = np.array([[10, 25, 17, 16, 14]])\n",
    "maxValue = np.max(array1, initial = 6)\n",
    "print(maxValue)\n",
    "\n",
    "#Max value < initial, returns initial.\n",
    "array2 = np.array([[10, 25, 17, 16, 14]])\n",
    "maxValue = np.max(array2, initial = 26)\n",
    "print(maxValue)\n",
    "\n",
    "#In case of an empty array, initial value is returned.\n",
    "array3 = np.array([])\n",
    "maxValue = np.max(array3, initial = 5)\n",
    "print(maxValue)"
   ]
  },
  {
   "cell_type": "code",
   "execution_count": 173,
   "id": "71276281-4cd6-47c8-be72-7feb05c213e7",
   "metadata": {},
   "outputs": [
    {
     "name": "stdout",
     "output_type": "stream",
     "text": [
      "10\n"
     ]
    }
   ],
   "source": [
    "rray1 = np.array([10, 12, 14, 11, 5])\n",
    "\n",
    "#Return the smallest element. \n",
    "minValue= np.min(array1)\n",
    "\n",
    "print(minValue)\n",
    "\n",
    "# Output: 5"
   ]
  },
  {
   "cell_type": "code",
   "execution_count": 175,
   "id": "100bf36d-97d7-4155-a280-e6f6ef289a2c",
   "metadata": {},
   "outputs": [
    {
     "name": "stdout",
     "output_type": "stream",
     "text": [
      "The smallest element in the flattened array:  10\n",
      "The smallest element in each column (axis 0):  [10 11 22]\n",
      "The smallest element in each row (axis 1):  [10 11]\n"
     ]
    }
   ],
   "source": [
    "array = np.array([[10, 17, 25], \n",
    "                  [15, 11, 22]])\n",
    "                  \n",
    "#Return the smallest element of the flattened array.\n",
    "minValue = np.min(array)\n",
    "\n",
    "print('The smallest element in the flattened array: ', minValue)\n",
    "\n",
    "#Return the smallest element in each column.\n",
    "minValue = np.min(array, axis = 0)\n",
    "\n",
    "print('The smallest element in each column (axis 0): ', minValue)\n",
    "\n",
    "#Return the smallest element in each row.\n",
    "minValue = np.min(array, axis = 1)\n",
    "\n",
    "print('The smallest element in each row (axis 1): ', minValue)"
   ]
  },
  {
   "cell_type": "code",
   "execution_count": 177,
   "id": "99d95fd4-e747-4bfe-93c0-a8946eedab37",
   "metadata": {},
   "outputs": [
    {
     "name": "stdout",
     "output_type": "stream",
     "text": [
      "[10 11 20]\n"
     ]
    }
   ],
   "source": [
    "array1 = np.array([[10, 17, 25], \n",
    "                   [15, 11, 22], \n",
    "                   [11, 19, 20]])\n",
    "\n",
    "#Create an empty array.\n",
    "array2= np.array([0, 0, 0])\n",
    "\n",
    "#Pass the 'out' argument to store the result in array2.\n",
    "np.min(array1, axis = 0, out = array2)\n",
    "\n",
    "print(array2)"
   ]
  },
  {
   "cell_type": "code",
   "execution_count": 179,
   "id": "54bffa91-b86f-4060-a7fb-841e72e3c4d3",
   "metadata": {},
   "outputs": [
    {
     "name": "stdout",
     "output_type": "stream",
     "text": [
      "Dimensions of original array:  2\n",
      "\n",
      " Without keepdims: \n",
      " [10 11]\n",
      "Dimensions of array:  1\n",
      "\n",
      " With keepdims: \n",
      " [[10]\n",
      " [11]]\n",
      "Dimensions of array:  2\n"
     ]
    }
   ],
   "source": [
    "array1 = np.array([[10, 17, 25], \n",
    "              \t    [15, 11, 22]])\n",
    "\n",
    "print('Dimensions of original array: ', array1.ndim)\n",
    "\n",
    "minValue = np.min(array1, axis = 1)\n",
    "\n",
    "print('\\n Without keepdims: \\n', minValue)\n",
    "print('Dimensions of array: ', minValue.ndim) \n",
    "\n",
    "#Set keepdims to True to retain the dimension of the input array.\n",
    "minValue = np.min(array1, axis = 1, keepdims = True)\n",
    "\n",
    "print('\\n With keepdims: \\n', minValue)\n",
    "print('Dimensions of array: ', minValue.ndim)"
   ]
  },
  {
   "cell_type": "code",
   "execution_count": 181,
   "id": "4181c284-8f4f-4b51-992a-f0ad1c176f0e",
   "metadata": {},
   "outputs": [
    {
     "name": "stdout",
     "output_type": "stream",
     "text": [
      "3.5\n"
     ]
    }
   ],
   "source": [
    "import numpy as np\n",
    "\n",
    "#Create an array.\n",
    "array1 = np.array([0, 1, 2, 3, 4, 5, 6, 7])\n",
    "\n",
    "#Calculate the mean of the array.\n",
    "avg = np.mean(array1)\n",
    "\n",
    "print(avg)\n",
    "\n",
    "# Output: 3.5"
   ]
  },
  {
   "cell_type": "code",
   "execution_count": 77,
   "id": "f45e04fc-0d9c-41a5-8c2d-a2a1a8fd46d2",
   "metadata": {},
   "outputs": [
    {
     "name": "stdout",
     "output_type": "stream",
     "text": [
      "\n",
      "Mean of the entire array: 4.5\n",
      "\n",
      "Mean across axis 0:\n",
      " [[3. 4.]\n",
      " [5. 6.]]\n",
      "\n",
      "Mean across axis 0 and 1 [4. 5.]\n"
     ]
    }
   ],
   "source": [
    "#Create a 3D array.\n",
    "array1 = np.array([[[1, 2], [3, 4]],                     \n",
    "                    [[5, 6], [7, 8]]])\n",
    "\n",
    "#Find the mean of entire array.\n",
    "mean1 = np.mean(array1)\n",
    "\n",
    "#Find the mean across axis 0.\n",
    "mean2 = np.mean(array1, 0)\n",
    "\n",
    "#Find the mean across axis 0 and 1.\n",
    "mean3 = np.mean(array1, (0, 1))\n",
    "\n",
    "print('\\nMean of the entire array:', mean1)\n",
    "print('\\nMean across axis 0:\\n', mean2)\n",
    "print('\\nMean across axis 0 and 1', mean3)"
   ]
  },
  {
   "cell_type": "code",
   "execution_count": 183,
   "id": "d1cdc939-04b4-49d0-b78d-2b2eb87cf7cf",
   "metadata": {},
   "outputs": [
    {
     "name": "stdout",
     "output_type": "stream",
     "text": [
      "Float mean: 3.5\n",
      "Integer mean: 3\n"
     ]
    }
   ],
   "source": [
    "arr = np.array([[1, 2, 3],\n",
    "                [4, 5, 6]])\n",
    "\n",
    "#By default int is converted to float.\n",
    "result1 = np.mean(arr)\n",
    "\n",
    "#Get integer mean.\n",
    "result2 = np.mean(arr, dtype = int)\n",
    "\n",
    "print('Float mean:', result1)\n",
    "print('Integer mean:', result2)"
   ]
  },
  {
   "cell_type": "code",
   "execution_count": 185,
   "id": "c6d7a0ce-c706-4dac-9b8e-1a4c1373b5c8",
   "metadata": {},
   "outputs": [
    {
     "name": "stdout",
     "output_type": "stream",
     "text": [
      "Original Array Dimension: 2\n",
      "Mean without keepdims: [2.5 3.5 4.5] Dimensions 1\n",
      "Mean with keepdims: [[2.5 3.5 4.5]] Dimensions 2\n"
     ]
    }
   ],
   "source": [
    "arr = np.array([[1, 2, 3],\n",
    "                [4, 5, 6]])\n",
    "\n",
    "#Keepdims defaults to False.\n",
    "result1 = np.mean(arr, axis = 0)\n",
    "\n",
    "#Set keepdims to True.\n",
    "result2 = np.mean(arr, axis = 0, keepdims = True)\n",
    "\n",
    "print('Original Array Dimension:', arr.ndim)\n",
    "print('Mean without keepdims:', result1, 'Dimensions', result1.ndim)\n",
    "print('Mean with keepdims:', result2, 'Dimensions', result2.ndim)"
   ]
  },
  {
   "cell_type": "code",
   "execution_count": 187,
   "id": "d7df647c-641c-484a-a3df-64fa27ab65ac",
   "metadata": {},
   "outputs": [
    {
     "name": "stdout",
     "output_type": "stream",
     "text": [
      "arr :  ['vdsdsttetteteAAAa', 'AAAAAAAaattttds', 'AAaaxxxxtt', 'AAaaXDSDdscz']\n",
      "Count of 'tt' [2 2 1 0]\n",
      "Count of 'tt' [2 2 1 0]\n",
      "Count of 'tt' [1 2 1 0]\n"
     ]
    }
   ],
   "source": [
    "#2D array.  \n",
    "arr = ['vdsdsttetteteAAAa', 'AAAAAAAaattttds', 'AAaaxxxxtt', 'AAaaXDSDdscz'] \n",
    "  \n",
    "print (\"arr : \", arr) \n",
    "  \n",
    "print (\"Count of 'tt'\", np.char.count(arr, 'tt')) \n",
    "print (\"Count of 'tt'\", np.char.count(arr, 'tt', start = 0)) \n",
    "print (\"Count of 'tt'\", np.char.count(arr, 'tt', start = 8)) "
   ]
  },
  {
   "cell_type": "code",
   "execution_count": 189,
   "id": "703d9aae-d432-427c-9f55-c2d5c944e3c7",
   "metadata": {},
   "outputs": [
    {
     "name": "stdout",
     "output_type": "stream",
     "text": [
      "arr :  ['vdsdsttetteteAAAa', 'AAAAAAAaattttds', 'AAaaxxxxtt', 'AAaaXDSDdscz']\n",
      "Count of 'Aa' [1 1 1 1]\n",
      "Count of 'Aa' [1 0 0 0]\n"
     ]
    }
   ],
   "source": [
    "#2D array.  \n",
    "arr = ['vdsdsttetteteAAAa', 'AAAAAAAaattttds', 'AAaaxxxxtt', 'AAaaXDSDdscz'] \n",
    "  \n",
    "print (\"arr : \", arr) \n",
    "  \n",
    "print (\"Count of 'Aa'\", np.char.count(arr, 'Aa')) \n",
    "print (\"Count of 'Aa'\", np.char.count(arr, 'Aa', start = 8)) "
   ]
  },
  {
   "cell_type": "code",
   "execution_count": 191,
   "id": "6aa52fac-f22e-482f-93a8-08fa7f309cbe",
   "metadata": {},
   "outputs": [
    {
     "data": {
      "text/plain": [
       "array([0, 1, 2, 3, 4])"
      ]
     },
     "execution_count": 191,
     "metadata": {},
     "output_type": "execute_result"
    }
   ],
   "source": [
    "np.unique([0,1,2,0,2,3,4,3,0,4])\n",
    "np.array([0, 1, 2, 3, 4])"
   ]
  },
  {
   "cell_type": "code",
   "execution_count": 193,
   "id": "7872c8ce-3fd5-46a1-85fa-88de3500b789",
   "metadata": {},
   "outputs": [
    {
     "data": {
      "text/plain": [
       "array([1, 2, 3, 4])"
      ]
     },
     "execution_count": 193,
     "metadata": {},
     "output_type": "execute_result"
    }
   ],
   "source": [
    "x = np.array([[1, 1], [2,3], [3,4]])\n",
    ">>> np.unique(x)\n",
    "np.array([1, 2, 3, 4])"
   ]
  },
  {
   "cell_type": "code",
   "execution_count": 195,
   "id": "0cf3e9d8-3367-4f65-8b68-d1a8495617cf",
   "metadata": {},
   "outputs": [
    {
     "data": {
      "text/plain": [
       "array(['h', 'o', 'p', 't', 'y'], dtype='<U1')"
      ]
     },
     "execution_count": 195,
     "metadata": {},
     "output_type": "execute_result"
    }
   ],
   "source": [
    "x = np.array(['o', 'p', 'y', 't', 'h', 'o', 'p'])\n",
    ">>> u, indices = np.unique(x, return_index=True)\n",
    ">>> u\n",
    "np.array(['h', 'o', 'p', 't', 'y'], \n",
    "      dtype='<U1')\n",
    ">>> indices\n",
    "np.array([4, 0, 1, 3, 2])\n",
    ">>> x[indices]\n",
    "np.array(['h', 'o', 'p', 't', 'y'], \n",
    "      dtype='<U1')"
   ]
  },
  {
   "cell_type": "code",
   "execution_count": 197,
   "id": "d7dc7b94-b67e-430c-b316-4ab5fecb97dc",
   "metadata": {},
   "outputs": [
    {
     "data": {
      "text/plain": [
       "array([0, 1, 2, 3, 5, 6])"
      ]
     },
     "execution_count": 197,
     "metadata": {},
     "output_type": "execute_result"
    }
   ],
   "source": [
    "x = np.array([0, 1, 2, 5, 2, 6, 5, 2, 3, 1])\n",
    ">>> u, indices = np.unique(x, return_inverse=True)\n",
    ">>> u\n",
    "np.array([0, 1, 2, 3, 5, 6])"
   ]
  },
  {
   "cell_type": "code",
   "execution_count": 199,
   "id": "980ead82-baff-41d3-8ef4-dad90506995e",
   "metadata": {},
   "outputs": [
    {
     "data": {
      "text/plain": [
       "array([1, 2, 3, 4, 5])"
      ]
     },
     "execution_count": 199,
     "metadata": {},
     "output_type": "execute_result"
    }
   ],
   "source": [
    "x = np.array([1,2,5,3,4,2,3,2,5,4])\n",
    ">>> u, indices = np.unique(x, return_inverse=True)\n",
    ">>> u\n",
    "np.array([1, 2, 3, 4, 5])"
   ]
  },
  {
   "cell_type": "markdown",
   "id": "513d6a40-61b6-4c1e-b62d-70ba97f7dcfd",
   "metadata": {},
   "source": [
    "# Assignments"
   ]
  },
  {
   "cell_type": "markdown",
   "id": "fbce45c7-abc9-4c57-a650-ac42cdf3adb6",
   "metadata": {},
   "source": [
    "## Exercise 1)"
   ]
  },
  {
   "cell_type": "code",
   "execution_count": null,
   "id": "364b7757-2d82-48fa-b9a7-c3aa97ea826e",
   "metadata": {},
   "outputs": [],
   "source": []
  },
  {
   "cell_type": "markdown",
   "id": "eaaf26ad-2153-4922-b641-279b1313daa5",
   "metadata": {},
   "source": [
    "## Exercise 2)"
   ]
  },
  {
   "cell_type": "code",
   "execution_count": null,
   "id": "baa1d938-e1ec-4ce8-9eb7-404657e1a70c",
   "metadata": {},
   "outputs": [],
   "source": []
  },
  {
   "cell_type": "markdown",
   "id": "ee477746-ed68-448e-bde4-c7ee44129a79",
   "metadata": {},
   "source": [
    "## Exercise 3)"
   ]
  },
  {
   "cell_type": "code",
   "execution_count": null,
   "id": "35b4ab30-754e-4230-a401-595f84b692ec",
   "metadata": {},
   "outputs": [],
   "source": []
  }
 ],
 "metadata": {
  "kernelspec": {
   "display_name": "Python 3 (ipykernel)",
   "language": "python",
   "name": "python3"
  },
  "language_info": {
   "codemirror_mode": {
    "name": "ipython",
    "version": 3
   },
   "file_extension": ".py",
   "mimetype": "text/x-python",
   "name": "python",
   "nbconvert_exporter": "python",
   "pygments_lexer": "ipython3",
   "version": "3.12.3"
  }
 },
 "nbformat": 4,
 "nbformat_minor": 5
}

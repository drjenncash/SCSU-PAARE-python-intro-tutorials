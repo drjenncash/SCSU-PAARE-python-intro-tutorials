{
 "cells": [
  {
   "cell_type": "markdown",
   "id": "1b64be04-b60e-424d-b3c4-c49cd869ba54",
   "metadata": {},
   "source": [
    "<div class=\"alert alert-block alert-info\">\n",
    "<b>TBA:</b> jcash will improve text here\n",
    "\n",
    "    I need to finish up the arrangement of the sections and then set the section numbers\n",
    "\n",
    "    I need to create the assignments\n",
    "</div>"
   ]
  },
  {
   "cell_type": "markdown",
   "id": "89a693cb-529a-4548-8977-502faa0d6b7f",
   "metadata": {},
   "source": [
    "# Tutorial 6: Introduction to NumPy \n",
    "\n",
    "**Still a draft version**\n",
    "\n",
    "Sections of this notebook come from several other tutorial notebooks including but not limited to the Officialy Numpy Documentation at https://numpy.org/doc/stable/,  tutorials at the W3 school  (https://www.w3schools.com/python/numpy/default.asp), the Geeks for Geels website (https://www.geeksforgeeks.org/numpy/python-numpy/). the Krittika Tutorials, and additional sources.\n",
    "\n",
    "This tutorial was compiled for the PAARE project at South Carolina State University in partnership with Clemson University and the University of the Virgin Islands and funded by NSF. (NSF grant AST  2319415)\n",
    "\n",
    "* Originally posted\n",
    "  * JCash June 25, 2025\n",
    "* Last modified:\n",
    "  * JCash June 25, 2025"
   ]
  },
  {
   "cell_type": "markdown",
   "id": "e0a9d9cc-8b72-463f-b2e9-543b01bffb00",
   "metadata": {},
   "source": [
    "## Overview\n",
    "\n",
    "In this tutorial we will take a closer look at some of the powerful tools available within the NumPy (Numerical Python) module. We have already used numpy functions in several of the preceeding tutorials and will continue to use them in the future tutorials. \n",
    "\n",
    "From the NumPy website:\n",
    ">NumPy is the fundamental package for scientific computing in Python. It is a Python library that provides a multidimensional array object, various derived objects (such as masked arrays and matrices), and an assortment of routines for fast operations on arrays, including mathematical, logical, shape manipulation, sorting, selecting, I/O, discrete Fourier transforms, basic linear algebra, basic statistical operations, random simulation and much more.\n",
    "\n",
    "\n",
    "\n",
    "Specifically in this tutorial:\n",
    "* NumPy math operations\n",
    "* Num Array Creation\n",
    "* Array Manipulation\n",
    "* Useful functions and methods in NumPy\n",
    "\n",
    "> Note that NumPy and numpy are used interchangeably when describing the package. The official name is `NumPy`. For import statements, you must use the lower-case version `numpy`."
   ]
  },
  {
   "cell_type": "markdown",
   "id": "1b9a1aa4-54a5-450b-bfc9-9ba1482f2e45",
   "metadata": {},
   "source": [
    "### Imports needed\n",
    "\n",
    "Since NumPy is not built into Python, we need import the package to use the functions. NumPy is so commonly used that the shortened alias import statement of `import numpy as np` is standard. \n",
    "\n",
    "As a reminder, you only need to import the package once when you open a notebook, but it doesn't hurt to run that command multiple times in the notebook. If you save your notebook and come back to it later or interrupt the kernel, you will need to reimport the package. \n"
   ]
  },
  {
   "cell_type": "code",
   "execution_count": 3,
   "id": "21ef51de-1d6e-4f55-9b6d-4b67656e6b4b",
   "metadata": {},
   "outputs": [],
   "source": [
    "import numpy as np"
   ]
  },
  {
   "cell_type": "markdown",
   "id": "f5f7b102-0748-4802-8c95-4d105eb077a5",
   "metadata": {},
   "source": [
    "## 1.0) NumPy math operations\n",
    "\n",
    "In tutorial 2, used numpy functions for square roots, rounding, and trig functions. We also used the numpy constant `np.pi`. Another package called `math` has many similar functions which work well, but `numpy` is more powerful.\n",
    "\n",
    "A full listing of the available math functions can be found at:\n",
    "https://numpy.org/doc/stable/reference/routines.math.html\n",
    "\n",
    "The math functions in numpy can act on a single number (int or float) or a numpy array of numbers. This makes the numpy functions faster when applied to data science."
   ]
  },
  {
   "cell_type": "markdown",
   "id": "2becba1b-e911-42e5-aa25-15d3f38fcd66",
   "metadata": {},
   "source": [
    "### 1.1) Review of Some Math Operations\n",
    "\n",
    "Below are a few of the math operations introduced in previous tutorials. "
   ]
  },
  {
   "cell_type": "code",
   "execution_count": 80,
   "id": "84dfd6ca-f4b4-4e16-ba2a-29c2281ac6d3",
   "metadata": {},
   "outputs": [
    {
     "name": "stdout",
     "output_type": "stream",
     "text": [
      "The square root of 25 is 5.0\n",
      "The number 2 to the 11 power can be found by numpy 2048\n",
      "We can round off a number using numpy: 4.6874 becomes 4.69\n",
      "The cosine of pi is -1.0\n"
     ]
    }
   ],
   "source": [
    "print('The square root of 25 is',np.sqrt(25)) \n",
    "print('The number 2 to the 11 power can be found by numpy',np.power(2,11))\n",
    "print('We can round off a number using numpy: 4.6874 becomes',np.round(4.6874,2))\n",
    "print('The cosine of pi is', np.cos(np.pi))"
   ]
  },
  {
   "cell_type": "markdown",
   "id": "b957655b-6624-4b94-87b5-8342a81b0235",
   "metadata": {},
   "source": [
    "### 1.2) Trig and Angular Conversion Functions\n",
    "\n",
    "\n",
    "NumPy has the full range of Trigonometric, inverse trig, and Hyperbolic functions.\n",
    "\n",
    "In general, the functions assume angles in radians, but there are also functions to change between degrees and radians.\n",
    "\n",
    "See below for some examples."
   ]
  },
  {
   "cell_type": "code",
   "execution_count": 81,
   "id": "937bed77-3151-4ee3-8ddb-0315b0e0b2a1",
   "metadata": {},
   "outputs": [
    {
     "name": "stdout",
     "output_type": "stream",
     "text": [
      "Sine of pi/2 =  1.0\n",
      "The inverse cosine of 0.5 = 1.0471975511965979\n",
      "The hyperbolic tangent of pi/2 = 0.9171523356672744\n"
     ]
    }
   ],
   "source": [
    "# Example trig functions\n",
    "print('Sine of pi/2 = ', np.sin(np.pi/2))\n",
    "print('The inverse cosine of 0.5 =',np.arccos(0.5))\n",
    "print('The hyperbolic tangent of pi/2 =',np.tanh(np.pi/2))"
   ]
  },
  {
   "cell_type": "code",
   "execution_count": 82,
   "id": "0bf6caa0-9d01-4fc5-bb9f-a7a8aa383f7c",
   "metadata": {},
   "outputs": [
    {
     "name": "stdout",
     "output_type": "stream",
     "text": [
      "an angle of  60  degrees is equal to  1.0471975511965976  radians\n"
     ]
    }
   ],
   "source": [
    "#This example shows the numpy function to change degrees to radians\n",
    "angle_deg = 60\n",
    "angle_rad = np.deg2rad(angle_deg)\n",
    "print(\"an angle of \", angle_deg,\" degrees is equal to \", angle_rad,\" radians\")"
   ]
  },
  {
   "cell_type": "code",
   "execution_count": 83,
   "id": "3d7273c5-a36e-427e-96ed-ae1ecff0550a",
   "metadata": {},
   "outputs": [
    {
     "name": "stdout",
     "output_type": "stream",
     "text": [
      "53.13010235415598\n",
      "126.86989764584402\n"
     ]
    }
   ],
   "source": [
    "#This example uses several functions together to get the inverse tangent in degrees with the correct quadrant.\n",
    "x = 3\n",
    "y = 4\n",
    "print(np.degrees(np.arctan2(y,x)))\n",
    "print(np.degrees(np.arctan2(y,-x)))\n"
   ]
  },
  {
   "cell_type": "code",
   "execution_count": 84,
   "id": "f96ef903-7f6a-4098-9f04-13de89c7135c",
   "metadata": {},
   "outputs": [
    {
     "name": "stdout",
     "output_type": "stream",
     "text": [
      "an angle of  1.3  radians is equal to  74.48451336700703  degrees\n"
     ]
    }
   ],
   "source": [
    "angle_rad = 1.3\n",
    "angle_deg = np.rad2deg(angle_rad)\n",
    "print(\"an angle of \", angle_rad,\" radians is equal to \", angle_deg,\" degrees\")"
   ]
  },
  {
   "cell_type": "markdown",
   "id": "006dcd05-b57c-4a64-9327-bb196e1dcda3",
   "metadata": {},
   "source": [
    "### 1.3) Rounding functions\n",
    "\n",
    "There is a set of numpy functions for various rounding processes with more options than the built-in round function. \n",
    "\n",
    "* `np.round(x,d)` rounds off a float to the given decimals and returns it as a float value \n"
   ]
  },
  {
   "cell_type": "code",
   "execution_count": 34,
   "id": "79b0f10c-6793-43fb-a53e-84e402752486",
   "metadata": {},
   "outputs": [
    {
     "name": "stdout",
     "output_type": "stream",
     "text": [
      "This is the built-in round function 451 <class 'int'>\n",
      "This is the numpy round function 451.0 <class 'numpy.float64'>\n",
      "This is the numpy round function with three digits 450.599 <class 'numpy.float64'>\n",
      "The numpy fix function rounds down 450.0 <class 'numpy.float64'>\n",
      "The numpy floor function rounds down 450.0 <class 'numpy.float64'>\n",
      "The numpy ceiling function rounds up 451.0 <class 'numpy.float64'>\n"
     ]
    }
   ],
   "source": [
    "#Various examples\n",
    "x = 450.598756\n",
    "print('This is the built-in round function',round(x),type(round(x)))\n",
    "print('This is the numpy round function',np.round(x,0),type(np.round(x,0)))\n",
    "print('This is the numpy round function with three digits',np.round(x,3),type(np.round(x,3)))\n",
    "print('The numpy fix function rounds down',np.fix(x),type(np.fix(x)))\n",
    "print('The numpy floor function rounds down',np.floor(x),type(np.floor(x)))\n",
    "print('The numpy ceiling function rounds up',np.ceil(x),type(np.ceil(x)))\n",
    "\n"
   ]
  },
  {
   "cell_type": "code",
   "execution_count": 35,
   "id": "3e6e8271-7535-46b7-9961-f3fa26db6c39",
   "metadata": {},
   "outputs": [
    {
     "name": "stdout",
     "output_type": "stream",
     "text": [
      "In this example, you can get the decimal part of a floating point number\n",
      "0.5987559999999803\n"
     ]
    }
   ],
   "source": [
    "print(\"In this example, you can get the decimal part of a floating point number\")\n",
    "x = 450.598756\n",
    "print(x-np.floor(x))"
   ]
  },
  {
   "cell_type": "markdown",
   "id": "3de8b2f6-1143-4854-8708-907652c1eb62",
   "metadata": {},
   "source": [
    "### 1.4) Other functions in NumPy\n",
    "\n",
    "The full range of mathematical functions to operate on single values in numpy is beyond the scope of this tutorial, but I list some of the categories below.\n",
    "\n",
    "* exponents\n",
    "* logarithms\n",
    "* complex numbers\n",
    "* miscallaneous"
   ]
  },
  {
   "cell_type": "code",
   "execution_count": 13,
   "id": "a11e0f94-d26f-4996-864a-b295de2baa11",
   "metadata": {},
   "outputs": [],
   "source": [
    "import numpy as np"
   ]
  },
  {
   "cell_type": "markdown",
   "id": "1ee3177d-e850-4a42-a6c0-441a0ea5b3e3",
   "metadata": {},
   "source": [
    "## 2.0) Creating NumPy arrays\n",
    "\n",
    "NumPy is particularly powerful due to its ability to deal with arrays of data instead of just single values. \n",
    "\n",
    "We have explored basic array creation in previous tutorials, but show some additional methods here. "
   ]
  },
  {
   "cell_type": "markdown",
   "id": "cce7cb5b-9ea4-4d3b-bcc9-7999ca157eec",
   "metadata": {},
   "source": [
    "### 2.1) Manual array creation\n",
    "\n",
    "As a reminder from previous tutorials, the basic `np.array()` function creates a numpy array.\n",
    "\n",
    "* 0 D arrays are single values.\n",
    "* 1 D arrays are a set of values in a row.\n",
    "    * it has a single index for the position in the row \n",
    "* 2 D arrays are a table of values (with rows and columns).\n",
    "    * it has two indexes the first for the row and the second for the column.\n",
    "* 3 D arrays are like a cube of data with a table at each layer.\n",
    "    * it has three indexes, the first for the layer, then the row, then the column.\n",
    "\n",
    "You can get the number of dimensions using the method `.ndim` on the array.\n",
    "You can get the shape with the `.shape` method.\n",
    "\n",
    "Examples of each are shown below."
   ]
  },
  {
   "cell_type": "code",
   "execution_count": 40,
   "id": "fa9d012f-9a2a-44fc-85c9-7bfc7a882745",
   "metadata": {},
   "outputs": [
    {
     "name": "stdout",
     "output_type": "stream",
     "text": [
      "The array is 42\n",
      "It has 0 dimensions.\n",
      "The shape is ()\n"
     ]
    }
   ],
   "source": [
    "# 0D arrays\n",
    "\n",
    "\n",
    "arr = np.array(42)\n",
    "\n",
    "print('The array is',arr)\n",
    "print('It has',arr.ndim,'dimensions.')\n",
    "print('The shape is', arr.shape)\n"
   ]
  },
  {
   "cell_type": "code",
   "execution_count": 41,
   "id": "29c40e37-02b4-4cad-853c-008a13aa0a68",
   "metadata": {},
   "outputs": [
    {
     "name": "stdout",
     "output_type": "stream",
     "text": [
      "The array is [1 2 3 4 5]\n",
      "It has 1 dimensions.\n",
      "The shape is (5,)\n"
     ]
    }
   ],
   "source": [
    "# 1D array\n",
    "\n",
    "arr = np.array((1, 2, 3, 4, 5))\n",
    "print('The array is',arr)\n",
    "print('It has',arr.ndim,'dimensions.')\n",
    "print('The shape is', arr.shape)"
   ]
  },
  {
   "cell_type": "code",
   "execution_count": 42,
   "id": "ac542ee0-9889-47af-be95-e77493a03497",
   "metadata": {},
   "outputs": [
    {
     "name": "stdout",
     "output_type": "stream",
     "text": [
      "The array is [[1 2 3]\n",
      " [4 5 6]]\n",
      "It has 2 dimensions.\n",
      "The shape is (2, 3)\n"
     ]
    }
   ],
   "source": [
    "#2D arrays.\n",
    "\n",
    "arr = np.array([[1, 2, 3], [4, 5, 6]])\n",
    "print('The array is',arr)\n",
    "print('It has',arr.ndim,'dimensions.')\n",
    "print('The shape is', arr.shape)"
   ]
  },
  {
   "cell_type": "code",
   "execution_count": 48,
   "id": "ac63c5dc-9719-40e7-8910-9dd23d2d903d",
   "metadata": {},
   "outputs": [
    {
     "name": "stdout",
     "output_type": "stream",
     "text": [
      "The array is\n",
      "[[[1 2 3]\n",
      "  [4 5 6]\n",
      "  [4 5 6]]\n",
      "\n",
      " [[1 2 3]\n",
      "  [4 5 6]\n",
      "  [1 2 3]]]\n",
      "It has 3 dimensions.\n",
      "The shape is (2, 3, 3)\n"
     ]
    }
   ],
   "source": [
    "#3D arrays.\n",
    "import numpy as np\n",
    "\n",
    "arr = np.array([[[1, 2, 3], [4, 5, 6] ,[4, 5, 6]], [[1, 2, 3], [4, 5, 6],[1, 2, 3]]])\n",
    "\n",
    "print('The array is')\n",
    "print(arr)\n",
    "print('It has',arr.ndim,'dimensions.')\n",
    "print('The shape is', arr.shape)"
   ]
  },
  {
   "cell_type": "code",
   "execution_count": 68,
   "id": "365ee2a9-9276-4867-9995-e6729cfe430f",
   "metadata": {},
   "outputs": [
    {
     "name": "stdout",
     "output_type": "stream",
     "text": [
      "[[[[[1 2 3 4]]]]]\n",
      "number of dimensions : 5\n"
     ]
    }
   ],
   "source": [
    "#Higher dimensional arrays.\n",
    "import numpy as np\n",
    "\n",
    "arr = np.array([1, 2, 3, 4], ndmin=5)\n",
    "\n",
    "print(arr)\n",
    "print('number of dimensions :', arr.ndim)"
   ]
  },
  {
   "cell_type": "markdown",
   "id": "d2ee9c97-e53a-4a89-bd16-7a1a6081bf4b",
   "metadata": {},
   "source": [
    "### 2.2) Array creation from a list\n",
    "\n",
    "If you already have data in a list, you can convert the list to an array as long as all items in the list are the same DataType."
   ]
  },
  {
   "cell_type": "code",
   "execution_count": 70,
   "id": "942559e9-3da1-44f5-b665-2ba8ac826973",
   "metadata": {},
   "outputs": [
    {
     "name": "stdout",
     "output_type": "stream",
     "text": [
      "List is [3, 7, 2, 6] <class 'list'>\n",
      "Array is [3 7 2 6] <class 'numpy.ndarray'>\n"
     ]
    }
   ],
   "source": [
    "list = [3,7,2,6]\n",
    "print('List is',list,type(list))\n",
    "\n",
    "array = np.array(list)\n",
    "print('Array is',array,type(array))"
   ]
  },
  {
   "cell_type": "markdown",
   "id": "da5a9fa3-a232-4c82-b121-fbc618c7f424",
   "metadata": {},
   "source": [
    "If the list has multiple DataTypes you can still convert it to an array but all of the values will be converted to the string DataType."
   ]
  },
  {
   "cell_type": "code",
   "execution_count": 73,
   "id": "914360d8-4bf3-4d6a-80e0-677487cb07f2",
   "metadata": {},
   "outputs": [
    {
     "name": "stdout",
     "output_type": "stream",
     "text": [
      "List is [3.0, '7', 2, 6] <class 'list'>\n",
      "Array is ['3.0' '7' '2' '6'] <class 'numpy.ndarray'>\n"
     ]
    }
   ],
   "source": [
    "list = [3.0,'7',2,6]\n",
    "print('List is',list,type(list))\n",
    "\n",
    "array = np.array(list)\n",
    "print('Array is',array,type(array))"
   ]
  },
  {
   "cell_type": "markdown",
   "id": "7a13ed4d-9039-4504-8b38-2d5bce2219e9",
   "metadata": {},
   "source": [
    "If you have multiple lists you can convert them to a 2D array with each list being a row of the 2D array. Note the arrays must have the same length to do this so that the rows have the same number of columns. \n"
   ]
  },
  {
   "cell_type": "code",
   "execution_count": 78,
   "id": "92cad0c4-642e-4bdb-a337-19c0eddfcb7a",
   "metadata": {},
   "outputs": [
    {
     "name": "stdout",
     "output_type": "stream",
     "text": [
      "Array is\n",
      "[[3 7 2 6]\n",
      " [4 2 8 7]]\n",
      "Array shape is (2, 4)\n"
     ]
    }
   ],
   "source": [
    "list1 = [3,7,2,6]\n",
    "list2 = [4,2,8,7]\n",
    "\n",
    "array = np.array([list1,list2])\n",
    "print('Array is')\n",
    "print(array)\n",
    "print('Array shape is',array.shape)"
   ]
  },
  {
   "cell_type": "markdown",
   "id": "20dbca5a-ce52-4856-8159-fa7bdb471456",
   "metadata": {},
   "source": [
    "### 2.3) Special Array Creation\n",
    "\n",
    "Below are some special ways to create an array and fill the array with specific values or patterns"
   ]
  },
  {
   "cell_type": "markdown",
   "id": "d8a1a946-268f-4f46-ba68-ef6fb128b456",
   "metadata": {},
   "source": [
    "#### Zero arrays\n",
    "\n",
    "This creates an array of the specified size with zero values at each location."
   ]
  },
  {
   "cell_type": "code",
   "execution_count": 54,
   "id": "67d9e29f-20d8-4a03-b931-5bc6751ac081",
   "metadata": {},
   "outputs": [
    {
     "name": "stdout",
     "output_type": "stream",
     "text": [
      "1D Zeros Array:\n",
      "[0. 0. 0. 0. 0.]\n"
     ]
    }
   ],
   "source": [
    "# 1 D zeros array\n",
    "a = np.zeros(5)\n",
    "print(\"1D Zeros Array:\")\n",
    "print(a)"
   ]
  },
  {
   "cell_type": "code",
   "execution_count": 55,
   "id": "15a7fa49-901c-4fe2-8c85-4ecefa83845f",
   "metadata": {},
   "outputs": [
    {
     "name": "stdout",
     "output_type": "stream",
     "text": [
      "2D Zeros Array:\n",
      "[[0. 0. 0.]\n",
      " [0. 0. 0.]]\n"
     ]
    }
   ],
   "source": [
    "#Creating an 2D array of zeros.\n",
    "zeros_array = np.zeros((2, 3))  # 2 rows, 3 columns\n",
    "print(\"2D Zeros Array:\")\n",
    "print(zeros_array)"
   ]
  },
  {
   "cell_type": "markdown",
   "id": "56b84619-b328-4f8e-8c00-aa76d515517c",
   "metadata": {},
   "source": [
    "#### Ones arrays\n",
    "\n",
    "This creates an array with a value of 1 at each location. "
   ]
  },
  {
   "cell_type": "code",
   "execution_count": null,
   "id": "e0d17876-62ce-4605-9c9b-cfac74758976",
   "metadata": {},
   "outputs": [],
   "source": []
  },
  {
   "cell_type": "code",
   "execution_count": 77,
   "id": "f6fb3081-ac0a-4c4a-906b-b429bd6afad8",
   "metadata": {},
   "outputs": [
    {
     "name": "stdout",
     "output_type": "stream",
     "text": [
      "\n",
      "Ones Array:\n",
      "[[1. 1.]\n",
      " [1. 1.]\n",
      " [1. 1.]]\n"
     ]
    }
   ],
   "source": [
    "#Creating an array of ones.\n",
    "ones_array = np.ones((3, 2))  # 3 rows, 2 columns\n",
    "print(\"\\nOnes Array:\")\n",
    "print(ones_array)"
   ]
  },
  {
   "cell_type": "markdown",
   "id": "05969487-ed29-4d2d-aec9-f1ed779d95d5",
   "metadata": {},
   "source": [
    "#### Filled arrays\n",
    "\n",
    "This creates an array with a value you choose at each location. You put in the shape first (as a tuple) and then give the value. \n",
    "\n",
    "This fill value can be a number or the `np.nan` (not a number). \n"
   ]
  },
  {
   "cell_type": "code",
   "execution_count": 58,
   "id": "447b0c2d-748a-4fc5-a906-4aafe1961c8a",
   "metadata": {},
   "outputs": [
    {
     "name": "stdout",
     "output_type": "stream",
     "text": [
      "[[25. 25.]\n",
      " [25. 25.]\n",
      " [25. 25.]]\n"
     ]
    }
   ],
   "source": [
    "full_array = np.full((3,2),25.)\n",
    "print(full_array)"
   ]
  },
  {
   "cell_type": "code",
   "execution_count": 57,
   "id": "67ec5fdf-2902-4e0d-85c9-0f51995049a3",
   "metadata": {},
   "outputs": [
    {
     "name": "stdout",
     "output_type": "stream",
     "text": [
      "[[nan nan]\n",
      " [nan nan]\n",
      " [nan nan]]\n"
     ]
    }
   ],
   "source": [
    "full_array = np.full((3,2),np.nan)\n",
    "print(full_array)"
   ]
  },
  {
   "cell_type": "markdown",
   "id": "b8920775-f077-45fb-8738-2ecd3d936765",
   "metadata": {},
   "source": [
    "#### Ranged arrays\n",
    "\n",
    "These functions create an array with evenly spaced values.\n",
    "\n",
    "* `arange` is used for integer values\n",
    "* `linspace` is used for decimal values"
   ]
  },
  {
   "cell_type": "code",
   "execution_count": 79,
   "id": "7f6297c3-347a-460a-a527-b087cd710240",
   "metadata": {},
   "outputs": [
    {
     "name": "stdout",
     "output_type": "stream",
     "text": [
      "[ 0  1  2  3  4  5  6  7  8  9 10 11 12 13 14 15 16 17 18 19]\n"
     ]
    }
   ],
   "source": [
    "#Ranged arrays\n",
    "range_array = np.arange(20)\n",
    "print(range_array)"
   ]
  },
  {
   "cell_type": "code",
   "execution_count": 67,
   "id": "a4f1d2a8-4341-4fc8-a47c-d6b516df16d6",
   "metadata": {},
   "outputs": [
    {
     "name": "stdout",
     "output_type": "stream",
     "text": [
      "[1.   1.25 1.5  1.75 2.  ]\n"
     ]
    }
   ],
   "source": [
    "lin_array = np.linspace(1,2,5) #start at 1, stop at 2, include 5 values\n",
    "print(lin_array)"
   ]
  },
  {
   "cell_type": "markdown",
   "id": "7762afc6-8583-4faa-b636-27588cd40931",
   "metadata": {},
   "source": [
    "#### Random arrays\n",
    "\n",
    "These functions create an array with evenly spaced values.\n",
    "\n",
    "* `np.random.randint` is used for integer values with a specified low, high, and size\n",
    "* `np.random.rand` is used for decimal values between zero and 1"
   ]
  },
  {
   "cell_type": "code",
   "execution_count": 68,
   "id": "b865e24a-5d5e-460f-b8af-6e83b4883960",
   "metadata": {},
   "outputs": [
    {
     "name": "stdout",
     "output_type": "stream",
     "text": [
      "\n",
      "Random Array:\n",
      "[[5 7 5]\n",
      " [5 6 4]]\n"
     ]
    }
   ],
   "source": [
    "#Creating an array with random values.\n",
    "random_array = np.random.randint(4,8,(2, 3))  # between 4 and 8 with a shape of 2 rows, 3 columns\n",
    "print(\"\\nRandom Array:\")\n",
    "print(random_array)"
   ]
  },
  {
   "cell_type": "code",
   "execution_count": 59,
   "id": "f5be8d1f-a3f0-48de-90e6-222b694e0e35",
   "metadata": {},
   "outputs": [
    {
     "name": "stdout",
     "output_type": "stream",
     "text": [
      "\n",
      "Random Array:\n",
      "[[0.41872658 0.30324633 0.78732409]\n",
      " [0.80916927 0.68959888 0.35457104]]\n"
     ]
    }
   ],
   "source": [
    "#Creating an array with random values.\n",
    "random_array = np.random.rand(2, 3)  # 2 rows, 3 columns\n",
    "print(\"\\nRandom Array:\")\n",
    "print(random_array)"
   ]
  },
  {
   "cell_type": "markdown",
   "id": "034db266-d424-4e32-950c-756810532af6",
   "metadata": {},
   "source": [
    "#### Identity matrix\n",
    "\n",
    "This is a 2D square array with values of 1 on the diagonal and 0 everywhere else (useful in some linear algebra operations)."
   ]
  },
  {
   "cell_type": "code",
   "execution_count": 60,
   "id": "7c1597cf-4ce6-4b5c-91d4-88f0fd7e5548",
   "metadata": {},
   "outputs": [
    {
     "name": "stdout",
     "output_type": "stream",
     "text": [
      "[[1. 0. 0. 0.]\n",
      " [0. 1. 0. 0.]\n",
      " [0. 0. 1. 0.]\n",
      " [0. 0. 0. 1.]]\n"
     ]
    }
   ],
   "source": [
    "ident = np.identity(4)\n",
    "print(ident)"
   ]
  },
  {
   "cell_type": "markdown",
   "id": "d67fa48e-44b8-4cea-b15b-c3c97139e986",
   "metadata": {},
   "source": [
    "## 3.0) NumPy Array Math\n",
    "\n",
    "Vectorization concept: \n",
    "NumPy vectorization involves performing mathematical operations on entire arrays, eliminating the need to loop through individual elements. This simplifies the code and speeds up the computations.\n",
    "\n",
    "Examples of these:\n",
    "- Square all items in array\n",
    "- Add the same constant to each array\n",
    "\n",
    "\n",
    "And things you can do with two arrays\n",
    "(caution on relative size and shapes allowed):\n",
    "- Add two arrays\n",
    "- Dot product\n",
    "- Cross product\n"
   ]
  },
  {
   "cell_type": "markdown",
   "id": "f0fa67ca-e8a3-4bde-8746-703972529e19",
   "metadata": {},
   "source": [
    "### 3.1) Numpy math functions on an array\n",
    "\n",
    "Here we start by creating a ranged array and then showing the results of different mathematical calculations on the array."
   ]
  },
  {
   "cell_type": "code",
   "execution_count": 85,
   "id": "baeb91d5-5154-44cd-a816-005f1255612d",
   "metadata": {},
   "outputs": [
    {
     "name": "stdout",
     "output_type": "stream",
     "text": [
      "Original array:  [0 1 2 3 4 5 6 7 8 9]\n"
     ]
    }
   ],
   "source": [
    "#Setting up the array of numbers\n",
    "a = np.arange(10)\n",
    "print('Original array: ', a)"
   ]
  },
  {
   "cell_type": "code",
   "execution_count": 86,
   "id": "9174acb9-3502-46f6-9a67-6917030be991",
   "metadata": {},
   "outputs": [
    {
     "name": "stdout",
     "output_type": "stream",
     "text": [
      "Adding a constant [ 2  3  4  5  6  7  8  9 10 11]\n"
     ]
    }
   ],
   "source": [
    "print('Adding a constant',a+2)"
   ]
  },
  {
   "cell_type": "code",
   "execution_count": 87,
   "id": "5c0b6690-f7ca-48e1-9f3f-2774e1826aea",
   "metadata": {},
   "outputs": [
    {
     "name": "stdout",
     "output_type": "stream",
     "text": [
      "Multiplying by a constant [ 0 10 20 30 40 50 60 70 80 90]\n"
     ]
    }
   ],
   "source": [
    "print('Multiplying by a constant',a*10)"
   ]
  },
  {
   "cell_type": "code",
   "execution_count": 89,
   "id": "22123b9d-175d-43c0-b7a5-605dc9e99a13",
   "metadata": {},
   "outputs": [
    {
     "name": "stdout",
     "output_type": "stream",
     "text": [
      "Square of each value: [ 0  1  4  9 16 25 36 49 64 81]\n"
     ]
    }
   ],
   "source": [
    "print('Square of each value:',a**2)"
   ]
  },
  {
   "cell_type": "markdown",
   "id": "5223515e-60d7-4bef-bed4-8cc278101d0f",
   "metadata": {},
   "source": [
    "### 3.2) Math with multiple arrays\n",
    "\n",
    "You can also do element-wise math operations with numpy arrays. \n",
    "In this case the first value from the first array is matched with the first value from the second array, and then the math operation is done, returning a new value at that first position. \n",
    "\n",
    "As an example, below we create an array with a range of values and a second array over a different range of values. Then we show the element-wise addition, subtraction, multiplication, etc.\n",
    "\n",
    "In most cases, the arrays must be the same size for these operations to work. "
   ]
  },
  {
   "cell_type": "code",
   "execution_count": 94,
   "id": "a8932323-3201-4862-9222-00c4380dec04",
   "metadata": {},
   "outputs": [
    {
     "name": "stdout",
     "output_type": "stream",
     "text": [
      "array a [0 1 2 3 4 5 6 7 8 9]\n",
      "array b [20 22 24 26 28 30 32 34 36 38]\n"
     ]
    }
   ],
   "source": [
    "#Setting up the arrays\n",
    "\n",
    "a = np.arange(10)  #This array ranges from 0 to 9\n",
    "b = np.arange(20,40,2) #This array ranges from 20 to 40 in steps of 2\n",
    "print('array a', a)\n",
    "print('array b', b)"
   ]
  },
  {
   "cell_type": "code",
   "execution_count": 95,
   "id": "fa4bc7b3-294b-4b46-bb79-6b829b4e351f",
   "metadata": {},
   "outputs": [
    {
     "name": "stdout",
     "output_type": "stream",
     "text": [
      "Adding the arrays [20 23 26 29 32 35 38 41 44 47]\n",
      "Subtracting the arrays [-20 -21 -22 -23 -24 -25 -26 -27 -28 -29]\n"
     ]
    }
   ],
   "source": [
    "print(\"Adding the arrays\", a+b)\n",
    "print(\"Subtracting the arrays\", a-b)"
   ]
  },
  {
   "cell_type": "code",
   "execution_count": 96,
   "id": "a4d0ccb1-6bb4-4974-a229-981ed03c4964",
   "metadata": {},
   "outputs": [
    {
     "name": "stdout",
     "output_type": "stream",
     "text": [
      "Multiplying the arrays [  0  22  48  78 112 150 192 238 288 342]\n"
     ]
    }
   ],
   "source": [
    "print(\"Multiplying the arrays\", a*b)"
   ]
  },
  {
   "cell_type": "code",
   "execution_count": 100,
   "id": "ed289587-50ff-4187-874b-00ff8e2f8449",
   "metadata": {},
   "outputs": [
    {
     "name": "stdout",
     "output_type": "stream",
     "text": [
      "A more complicated math equation\n",
      "[-4.5        -3.54545455 -2.58333333 -1.61538462 -0.64285714  0.33333333\n",
      "  1.3125      2.29411765  3.27777778  4.26315789]\n"
     ]
    }
   ],
   "source": [
    "#Performing subtraction using arithmetic operator.\n",
    "temp = a*b\n",
    "result = (temp+10)/b -5\n",
    "print(\"A more complicated math equation\")\n",
    "print(result)"
   ]
  },
  {
   "cell_type": "code",
   "execution_count": 101,
   "id": "fc9d490f-22c5-4eea-8fd5-aedb6e5e2dc9",
   "metadata": {},
   "outputs": [
    {
     "name": "stdout",
     "output_type": "stream",
     "text": [
      "[0.         0.04545455 0.08333333 0.11538462 0.14285714 0.16666667\n",
      " 0.1875     0.20588235 0.22222222 0.23684211]\n"
     ]
    }
   ],
   "source": [
    "#Performing division using numpy functions.\n",
    "div_ans = np.divide(a, b)\n",
    "print(div_ans)"
   ]
  },
  {
   "cell_type": "code",
   "execution_count": 105,
   "id": "ebfb5be0-5e72-430c-b601-fd02dfad7496",
   "metadata": {},
   "outputs": [
    {
     "name": "stdout",
     "output_type": "stream",
     "text": [
      "[        inf 22.         12.          8.66666667  7.          6.\n",
      "  5.33333333  4.85714286  4.5         4.22222222]\n"
     ]
    },
    {
     "name": "stderr",
     "output_type": "stream",
     "text": [
      "/tmp/ipykernel_540878/3970297134.py:2: RuntimeWarning: divide by zero encountered in divide\n",
      "  div_ans = b/a\n"
     ]
    }
   ],
   "source": [
    "#Performing division using numpy functions.\n",
    "div_ans = b/a\n",
    "print(div_ans)\n",
    "\n",
    "#Note this one will give a warning since you divided by zero for the first index. The value of inf is the result."
   ]
  },
  {
   "cell_type": "code",
   "execution_count": 106,
   "id": "bb21adaa-a618-446b-8cda-37bf96b1155e",
   "metadata": {},
   "outputs": [
    {
     "name": "stdout",
     "output_type": "stream",
     "text": [
      "[              1              22             576           17576\n",
      "          614656        24300000      1073741824     52523350144\n",
      "   2821109907456 165216101262848]\n"
     ]
    }
   ],
   "source": [
    "#Performing power of two matrices. b to the power of a\n",
    "pow_ans = np.power(b, a)\n",
    "print(pow_ans)"
   ]
  },
  {
   "cell_type": "markdown",
   "id": "a8959677-8ae0-44fe-be34-c0bcf023c4f3",
   "metadata": {},
   "source": [
    "### 3.3) Statistical functions"
   ]
  },
  {
   "cell_type": "code",
   "execution_count": 136,
   "id": "fcf8fde1-07a0-492b-bfe1-187a1020036b",
   "metadata": {},
   "outputs": [
    {
     "name": "stdout",
     "output_type": "stream",
     "text": [
      "a\n",
      " [0 1 2 3 4 5 6 7 8 9]\n",
      "b\n",
      " [ 1 11 21 31 41 51 61 71 81 91]\n",
      "c\n",
      " [0.10770127 0.14817633 0.61995691 0.62387043 0.83354071 0.50234868\n",
      " 0.61236915 0.1616878  0.93213031 0.10898624]\n"
     ]
    }
   ],
   "source": [
    "a = np.arange(10)  #This array ranges from 0 to 9\n",
    "b = a *10+1        #This array ranges from 1 to 91\n",
    "c = np.random.rand(10)\n",
    "\n",
    "print('a\\n',a)\n",
    "\n",
    "print('b\\n',b)\n",
    "\n",
    "print('c\\n',c)"
   ]
  },
  {
   "cell_type": "code",
   "execution_count": 137,
   "id": "4c75e66e-82d3-40c5-a4be-51c20e773ed8",
   "metadata": {},
   "outputs": [
    {
     "name": "stdout",
     "output_type": "stream",
     "text": [
      "mean a: 4.5\n",
      "mean b: 46.0\n",
      "mean c: 0.4650767832654258\n"
     ]
    }
   ],
   "source": [
    "#Getting mean of all numbers in 'a'.\n",
    "print(\"mean a:\",np.mean(a))\n",
    "print(\"mean b:\", np.mean(b))\n",
    "print(\"mean c:\", np.mean(c))\n"
   ]
  },
  {
   "cell_type": "code",
   "execution_count": 141,
   "id": "345a5e43-19e3-48b0-9732-09bf0612910e",
   "metadata": {},
   "outputs": [
    {
     "name": "stdout",
     "output_type": "stream",
     "text": [
      "Median a: 4.5\n",
      "Median b: 46.0\n",
      "Median c: 0.5573589162376533\n"
     ]
    }
   ],
   "source": [
    "#Getting Median of all numbers in 'a'.\n",
    "print(\"Median a:\",np.median(a))\n",
    "print(\"Median b:\", np.median(b))\n",
    "print(\"Median c:\", np.median(c))\n"
   ]
  },
  {
   "cell_type": "code",
   "execution_count": 142,
   "id": "49e7fe46-b6b2-4626-80ba-6a5d2b8bb28e",
   "metadata": {},
   "outputs": [
    {
     "name": "stdout",
     "output_type": "stream",
     "text": [
      "Sum of values in a: 45\n",
      "Sum of values in b: 460\n",
      "Sum of values in c: 4.650767832654258\n"
     ]
    }
   ],
   "source": [
    "#Getting sum of all numbers in 'a'.\n",
    "sum_a = np.sum(a)\n",
    "print('Sum of values in a:',np.sum(a))\n",
    "print('Sum of values in b:',np.sum(b))\n",
    "print('Sum of values in c:',np.sum(c))\n"
   ]
  },
  {
   "cell_type": "code",
   "execution_count": 140,
   "id": "1a563713-2a77-4493-8658-0228b54842b8",
   "metadata": {},
   "outputs": [
    {
     "name": "stdout",
     "output_type": "stream",
     "text": [
      "SD in a: 2.8722813232690143\n",
      "SD in b: 28.722813232690143\n",
      "SD in c: 0.29549630823505696\n"
     ]
    }
   ],
   "source": [
    "#Getting Standard Deviation of all numbers in the arrays\n",
    "var_b = np.var(b)\n",
    "print('SD in a:',np.std(a))\n",
    "print('SD in b:',np.std(b))\n",
    "print('SD in c:',np.std(c))\n"
   ]
  },
  {
   "cell_type": "markdown",
   "id": "b7b5cb4a-d120-49d3-81b7-fee06e7f84e6",
   "metadata": {},
   "source": [
    "### 3.4) Matrix math\n",
    "\n",
    "Numpy has several matrix functions built in.\n",
    "\n",
    "To illustrate matrix math, we need to have 2D arrays in several shapes. The next cell creates those arrays. \n",
    "Some of the code in that cell will be explained later in this tutorial for array manipulation.\n",
    "\n",
    "* `arr1` 1D array with 3 values\n",
    "* `arr2` 1D array with 3 values\n",
    "* `arr3` 1D array with 2 values\n",
    "* `arr4` 1D array with 2 values\n",
    "* `arr5` 1D array with 6 values\n",
    "* `arr6` 2D array with 2 rows and 3 columns\n",
    "* `arr7` 2D array with  3 rows and 2 columns"
   ]
  },
  {
   "cell_type": "code",
   "execution_count": 107,
   "id": "a24cc826-e1ef-45ff-a20a-ad1f23802a99",
   "metadata": {},
   "outputs": [],
   "source": [
    "arr1 = np.arange(3)\n",
    "arr2 = arr1 + 3\n",
    "arr3 = np.arange(2)\n",
    "arr4 = arr3 + 4\n",
    "arr5 = np.arange(6) \n",
    "arr6 = np.reshape(arr5,(2,3))\n",
    "arr7 = np.reshape(arr5,(3,2))"
   ]
  },
  {
   "cell_type": "code",
   "execution_count": 112,
   "id": "f7a82e83-1cfb-4281-8b0b-2ed3a8bdc8cd",
   "metadata": {},
   "outputs": [
    {
     "name": "stdout",
     "output_type": "stream",
     "text": [
      "Matrix 1 \n",
      " [0 1 2]\n",
      "Matrix 2 \n",
      " [3 4 5]\n",
      "Matrix 3 \n",
      " [0 1]\n",
      "Matrix 4\n",
      " [4 5]\n",
      "Matrix 5\n",
      " [0 1 2 3 4 5]\n",
      "Matrix 6\n",
      " [[0 1 2]\n",
      " [3 4 5]]\n",
      "Matrix 7\n",
      " [[0 1]\n",
      " [2 3]\n",
      " [4 5]]\n"
     ]
    }
   ],
   "source": [
    "print('Matrix 1 \\n',arr1)\n",
    "print('Matrix 2 \\n',arr2)\n",
    "print('Matrix 3 \\n',arr3)\n",
    "print('Matrix 4\\n',arr4)\n",
    "print('Matrix 5\\n',arr5)\n",
    "print('Matrix 6\\n',arr6)\n",
    "print('Matrix 7\\n',arr7)\n"
   ]
  },
  {
   "cell_type": "markdown",
   "id": "a70b03ae-8e33-4d8c-9a1d-e75f93ba9681",
   "metadata": {},
   "source": [
    "---\n",
    "Element-wise multiplication can be done when the two arrays are the same shape. In that case each element mulitplies with the same position in the other array."
   ]
  },
  {
   "cell_type": "code",
   "execution_count": 113,
   "id": "5ec7959e-bf7c-4216-b008-3352c8ec18bb",
   "metadata": {},
   "outputs": [
    {
     "name": "stdout",
     "output_type": "stream",
     "text": [
      "[ 0  4 10]\n"
     ]
    }
   ],
   "source": [
    "print(arr1*arr2)"
   ]
  },
  {
   "cell_type": "code",
   "execution_count": 127,
   "id": "0834bbba-678f-4ee1-a114-173ef8cb1eb7",
   "metadata": {},
   "outputs": [
    {
     "name": "stdout",
     "output_type": "stream",
     "text": [
      "[0 5]\n"
     ]
    }
   ],
   "source": [
    "print(arr3*arr4)"
   ]
  },
  {
   "cell_type": "markdown",
   "id": "9fc58a2a-1bf0-4a75-9f5b-4ee1f1bfe0e0",
   "metadata": {},
   "source": [
    "If the two arrays have the same number of columns, then the multiplication can still work."
   ]
  },
  {
   "cell_type": "code",
   "execution_count": 115,
   "id": "348d4637-a039-49f6-8d04-4e0ec4a313d6",
   "metadata": {},
   "outputs": [
    {
     "name": "stdout",
     "output_type": "stream",
     "text": [
      "[[ 0  1  4]\n",
      " [ 0  4 10]]\n"
     ]
    }
   ],
   "source": [
    "print(arr1*arr6)"
   ]
  },
  {
   "cell_type": "code",
   "execution_count": 143,
   "id": "ef774317-fa6f-44ad-87a7-3e965a2c870e",
   "metadata": {},
   "outputs": [
    {
     "name": "stdout",
     "output_type": "stream",
     "text": [
      "[[ 0  5]\n",
      " [ 8 15]\n",
      " [16 25]]\n"
     ]
    }
   ],
   "source": [
    "print(arr4*arr7)"
   ]
  },
  {
   "cell_type": "markdown",
   "id": "c6107d27-07c8-4be2-98ed-110e18db99aa",
   "metadata": {},
   "source": [
    "If the arrays don't have the same number of columns, there will be a ValueError indicating the shape incompatibility."
   ]
  },
  {
   "cell_type": "code",
   "execution_count": 116,
   "id": "fbe685d6-1d6b-40dc-b326-048b0782602f",
   "metadata": {},
   "outputs": [
    {
     "ename": "ValueError",
     "evalue": "operands could not be broadcast together with shapes (3,) (3,2) ",
     "output_type": "error",
     "traceback": [
      "\u001b[0;31m---------------------------------------------------------------------------\u001b[0m",
      "\u001b[0;31mValueError\u001b[0m                                Traceback (most recent call last)",
      "Cell \u001b[0;32mIn[116], line 1\u001b[0m\n\u001b[0;32m----> 1\u001b[0m \u001b[38;5;28mprint\u001b[39m(arr1\u001b[38;5;241m*\u001b[39marr7)\n",
      "\u001b[0;31mValueError\u001b[0m: operands could not be broadcast together with shapes (3,) (3,2) "
     ]
    }
   ],
   "source": [
    "print(arr1*arr7)"
   ]
  },
  {
   "cell_type": "markdown",
   "id": "b5032fec-852c-4612-8a58-5eac0ed4cc9d",
   "metadata": {},
   "source": [
    "--- \n",
    "Matrix multiplication uses a row vs column set up.\n",
    "\n",
    "The number of columns in the first array has to map to the number of rows in the second array.\n",
    "\n",
    "**need to explain more**"
   ]
  },
  {
   "cell_type": "code",
   "execution_count": 118,
   "id": "5fcac0a0-4bfe-4e7e-bf4d-2cb39c0873de",
   "metadata": {},
   "outputs": [
    {
     "name": "stdout",
     "output_type": "stream",
     "text": [
      "[10 13]\n"
     ]
    }
   ],
   "source": [
    "print(np.matmul(arr1,arr7))"
   ]
  },
  {
   "cell_type": "code",
   "execution_count": 120,
   "id": "12408acb-fd6f-4009-b1ea-05309f4e19c5",
   "metadata": {},
   "outputs": [
    {
     "name": "stdout",
     "output_type": "stream",
     "text": [
      "[3 4 5]\n"
     ]
    }
   ],
   "source": [
    "print(np.matmul(arr3,arr6))"
   ]
  },
  {
   "cell_type": "code",
   "execution_count": 124,
   "id": "81842a6f-7368-4b55-aae5-25edc29f135a",
   "metadata": {},
   "outputs": [
    {
     "name": "stdout",
     "output_type": "stream",
     "text": [
      "[[10 13]\n",
      " [28 40]]\n"
     ]
    }
   ],
   "source": [
    "print(np.matmul(arr6,arr7))"
   ]
  },
  {
   "cell_type": "code",
   "execution_count": 125,
   "id": "4d000b9e-344a-4316-80f2-2c27641a237a",
   "metadata": {},
   "outputs": [
    {
     "name": "stdout",
     "output_type": "stream",
     "text": [
      "[[ 3  4  5]\n",
      " [ 9 14 19]\n",
      " [15 24 33]]\n"
     ]
    }
   ],
   "source": [
    "print(np.matmul(arr7,arr6))"
   ]
  },
  {
   "cell_type": "markdown",
   "id": "14b306f1-a10f-48b5-af95-6e4b749fd961",
   "metadata": {},
   "source": [
    "---\n",
    "Dot product multiplication\n",
    "\n",
    "Need to clarify\n",
    "\n",
    "Cross multiplication\n",
    "\n",
    " Need to clarify"
   ]
  },
  {
   "cell_type": "code",
   "execution_count": 122,
   "id": "3e3f3d05-96a2-47a3-a522-e7aa2275a535",
   "metadata": {},
   "outputs": [
    {
     "name": "stdout",
     "output_type": "stream",
     "text": [
      "Dot prodcut of two 1D arrays\n",
      "14\n"
     ]
    }
   ],
   "source": [
    "print(\"Dot product of two 1D arrays\")\n",
    "print(np.dot(arr1, arr2))"
   ]
  },
  {
   "cell_type": "code",
   "execution_count": 126,
   "id": "5631eee6-43e4-4f6e-aa8e-6978bf0dd578",
   "metadata": {},
   "outputs": [
    {
     "name": "stdout",
     "output_type": "stream",
     "text": [
      "Cross product of two 1D arrays\n",
      "[-3  6 -3]\n"
     ]
    }
   ],
   "source": [
    "print(\"Cross product of two 1D arrays\")\n",
    "print(np.cross(arr1,arr2))"
   ]
  },
  {
   "cell_type": "markdown",
   "id": "303ffd24-af02-4c38-a156-7edbbd19bbbc",
   "metadata": {},
   "source": [
    "## 4.0) NumPy Array Manipulation"
   ]
  },
  {
   "cell_type": "markdown",
   "id": "cc7c181f-cdf9-4be8-af7b-8cb60eb0a116",
   "metadata": {},
   "source": [
    "### 4.1)  Reshaping arrays\n",
    "\n",
    "If you have an array with N items total, then you can reshape it into an form where the total items is still N.\n",
    "\n",
    "For example:\n",
    " * A 1D array with 8 items can be reshaped into\n",
    "     * A 2D array with 2 rows and 4 columns\n",
    "     * A 2D array with 4 rows and 2 columns\n",
    "     * A 2D array with 8 rows and 1 columns \n",
    " * A 2D array with a shape of (3,4) can be reshaped into\n",
    "     * A 2D array with a shape of (4,3)\n",
    "     * A 2D array with a shape of (6,2)\n",
    "     * A 2D array with a shape of (2,6)\n",
    "     * A 1D array with a length of 12 items"
   ]
  },
  {
   "cell_type": "code",
   "execution_count": 152,
   "id": "c9ba205e-bf64-4b10-ac28-d2eedb76d4ce",
   "metadata": {},
   "outputs": [
    {
     "name": "stdout",
     "output_type": "stream",
     "text": [
      "The original array with 8 items:\n",
      "[0 1 2 3 4 5 6 7]\n",
      "\n",
      "\n",
      "The modified to 4 rows and 2 columns:\n",
      "[[0 1]\n",
      " [2 3]\n",
      " [4 5]\n",
      " [6 7]]\n",
      "\n",
      "\n",
      "The modified to 2 rows and 4 columns:\n",
      "[[0 1 2 3]\n",
      " [4 5 6 7]]\n"
     ]
    }
   ],
   "source": [
    "a = np.arange(8)\n",
    "print ('The original array with 8 items:')\n",
    "print(a)\n",
    "print ('\\n')\n",
    "\n",
    "b = a.reshape(4,2)\n",
    "print ('The modified to 4 rows and 2 columns:')\n",
    "print(b)\n",
    "print ('\\n')\n",
    "\n",
    "print ('The modified to 2 rows and 4 columns:')\n",
    "print(a.reshape(2,4))\n"
   ]
  },
  {
   "cell_type": "markdown",
   "id": "5bf6c194-379d-433a-a282-93e804952d76",
   "metadata": {},
   "source": [
    "### 4.2) Flattening arrays\n",
    "\n",
    "If you have a 2D array and want to turn it into a 1D array, you have several options.\n",
    "\n",
    "The standard way is the `.flatten method` which creates one long array that starts with the first row, goes through all of the columns, and then gets the next row. \n",
    "\n",
    "If you use the `.flatten(order='F')` syntax, it gets the first column, goes through all of the rows and then gets the next column. It is called the `F` order since this was the standard way in fortran. "
   ]
  },
  {
   "cell_type": "code",
   "execution_count": 156,
   "id": "e0a6aeb5-e6e4-4a29-bb3b-84b68f7f022b",
   "metadata": {},
   "outputs": [
    {
     "name": "stdout",
     "output_type": "stream",
     "text": [
      "The original array:\n",
      "[[0 1 2 3]\n",
      " [4 5 6 7]]\n",
      "\n",
      "\n",
      "After applying the flatten function:\n",
      "The flattened array:\n",
      "[0 1 2 3 4 5 6 7]\n",
      "<class 'numpy.ndarray'>\n"
     ]
    }
   ],
   "source": [
    "import numpy as np \n",
    "a = np.arange(8).reshape(2,4) \n",
    "print ('The original array:' )\n",
    "print (a )\n",
    "print ('\\n') \n",
    "\n",
    "print ('After applying the flatten function:' ) \n",
    "print(\"The flattened array:\")\n",
    "b = a.flatten()\n",
    "print(b)"
   ]
  },
  {
   "cell_type": "code",
   "execution_count": 155,
   "id": "a8d56ccb-6101-4162-b9e6-224020b91c04",
   "metadata": {},
   "outputs": [
    {
     "name": "stdout",
     "output_type": "stream",
     "text": [
      "The original array is:\n",
      "[[0 1 2 3]\n",
      " [4 5 6 7]]\n",
      "\n",
      "\n",
      "The flattened array in F-style ordering:\n"
     ]
    },
    {
     "data": {
      "text/plain": [
       "array([0, 4, 1, 5, 2, 6, 3, 7])"
      ]
     },
     "execution_count": 155,
     "metadata": {},
     "output_type": "execute_result"
    }
   ],
   "source": [
    "#Flattening.\n",
    "a = np.arange(8).reshape(2,4) \n",
    "\n",
    "print ('The original array is:') \n",
    "print (a )\n",
    "print ('\\n')  \n",
    "#Default is column-major. \n",
    "\n",
    "print ('The flattened array in F-style ordering:') \n",
    "a.flatten(order = 'F')"
   ]
  },
  {
   "cell_type": "code",
   "execution_count": 144,
   "id": "003a3331-7017-4725-8694-da8979115b9b",
   "metadata": {},
   "outputs": [
    {
     "name": "stdout",
     "output_type": "stream",
     "text": [
      "The original array is:\n",
      "[[0 1 2 3]\n",
      " [4 5 6 7]]\n",
      "\n",
      "\n",
      "After applying ravel function:\n",
      "[0 1 2 3 4 5 6 7]\n",
      "\n",
      "\n",
      "Applying ravel function in F-style ordering:\n"
     ]
    },
    {
     "data": {
      "text/plain": [
       "array([0, 4, 1, 5, 2, 6, 3, 7])"
      ]
     },
     "execution_count": 144,
     "metadata": {},
     "output_type": "execute_result"
    }
   ],
   "source": [
    "#Raval.\n",
    "a = np.arange(8).reshape(2,4) \n",
    "\n",
    "print ('The original array is:' )\n",
    "print(a)\n",
    "print ('\\n'  )\n",
    "\n",
    "print( 'After applying ravel function:' )\n",
    "print(a.ravel())  \n",
    "print ('\\n') \n",
    "\n",
    "print ('Applying ravel function in F-style ordering:') \n",
    "a.ravel(order = 'F')"
   ]
  },
  {
   "cell_type": "markdown",
   "id": "d2786cf7-eb5b-4d3e-87a3-cf2406e1ef98",
   "metadata": {},
   "source": [
    "### 4.3) Transpose and Other Axes Manipulation\n",
    "\n",
    "The numpy function `transpose` takes a 2D input array and flips the rows and columns. \n",
    "\n",
    "An array with a shape of 2 rows and 3 columns, will become an array with a shape of 3 rows and 2 columns.\n",
    "\n",
    "But unlike reshape, the values are moved. So the element that was originally in the row 0, column 2 position will now be in the row 2, column 0 position.\n"
   ]
  },
  {
   "cell_type": "code",
   "execution_count": 154,
   "id": "5e0ffb11-d92e-47ac-894a-20b56c788817",
   "metadata": {},
   "outputs": [
    {
     "name": "stdout",
     "output_type": "stream",
     "text": [
      "Original Matrix \n",
      " [[0 1 2]\n",
      " [3 4 5]]\n",
      "Transposed Matrix \n",
      " [[0 3]\n",
      " [1 4]\n",
      " [2 5]]\n"
     ]
    }
   ],
   "source": [
    "a = np.arange(6).reshape(2,3)\n",
    "print('Original Matrix \\n',a)\n",
    "print('Transposed Matrix \\n',np.transpose(a))"
   ]
  },
  {
   "cell_type": "markdown",
   "id": "7b7ec9d9-9927-4e7d-b212-e032ca3dbe48",
   "metadata": {},
   "source": [
    "The numpy function `squeeze` will reduce the dimensions of an ND array if one or more of the dimensions have a size of 1. \n",
    "\n",
    "In the example below, the x array is a 3D matrix, with one layer, 3 rows,and 1 column.\n",
    "After squeezing it, we get a 1D array with 3 items. \n",
    "\n",
    "This can be useful if you are extracting a subset of data from a larger dimensional data structure. "
   ]
  },
  {
   "cell_type": "code",
   "execution_count": 162,
   "id": "e2a15948-de4b-411f-a012-c015deeb71cc",
   "metadata": {},
   "outputs": [
    {
     "name": "stdout",
     "output_type": "stream",
     "text": [
      "Original array \n",
      " [[[0]\n",
      "  [1]\n",
      "  [2]]]\n",
      "Original shape (1, 3, 1)\n",
      "\n",
      " after the squeeze\n",
      "[0 1 2]\n",
      "Shape of new array (3,)\n"
     ]
    }
   ],
   "source": [
    "x = np.array([[[0], [1], [2]]])\n",
    "print('Original array \\n',x)\n",
    "print('Original shape',x.shape)\n",
    "\n",
    "print('\\n after the squeeze')\n",
    "y = np.squeeze(x)\n",
    "print(y)\n",
    "print('Shape of new array', y.shape)"
   ]
  },
  {
   "cell_type": "markdown",
   "id": "4087f0e7-c887-49d7-b8f5-8f36e5fcc60f",
   "metadata": {},
   "source": [
    "When working with larger dimensional data sets, there are a variety of functions and methods that can transform the ND array by swapping or rolling axes that go beyond the scope of this tutorial."
   ]
  },
  {
   "cell_type": "markdown",
   "id": "22b3eacc-3f1c-4e2f-9e59-7d7cba6e1cc9",
   "metadata": {},
   "source": [
    "### 4.4) Joining arrays\n",
    "\n",
    "Different ways"
   ]
  },
  {
   "cell_type": "code",
   "execution_count": 120,
   "id": "fdb952b8-aacb-4d16-83e2-3754758aded7",
   "metadata": {},
   "outputs": [
    {
     "name": "stdout",
     "output_type": "stream",
     "text": [
      "First array:\n",
      "[[1 2]\n",
      " [3 4]]\n",
      "\n",
      "\n",
      "Second array:\n",
      "[[5 6]\n",
      " [7 8]]\n",
      "\n",
      "\n",
      "Joining the two arrays along axis 0:\n",
      "[[1 2]\n",
      " [3 4]\n",
      " [5 6]\n",
      " [7 8]]\n",
      "\n",
      "\n",
      "Joining the two arrays along axis 1:\n",
      "[[1 2 5 6]\n",
      " [3 4 7 8]]\n"
     ]
    }
   ],
   "source": [
    "#Concatenation.\n",
    "a = np.array([[1,2],[3,4]]) \n",
    "\n",
    "print ('First array:') \n",
    "print (a) \n",
    "print ('\\n')  \n",
    "b = np.array([[5,6],[7,8]]) \n",
    "\n",
    "print ('Second array:') \n",
    "print (b) \n",
    "print ('\\n')  \n",
    "#Both the arrays are of same dimensions. \n",
    "\n",
    "print ('Joining the two arrays along axis 0:' )\n",
    "print (np.concatenate((a,b)) )\n",
    "print ('\\n')  \n",
    "\n",
    "print ('Joining the two arrays along axis 1:') \n",
    "print( np.concatenate((a,b),axis = 1))"
   ]
  },
  {
   "cell_type": "code",
   "execution_count": 126,
   "id": "6d10ed18-85d0-43af-a407-5ad8636a54e8",
   "metadata": {},
   "outputs": [
    {
     "name": "stdout",
     "output_type": "stream",
     "text": [
      "First Array:\n",
      "[[1 2]\n",
      " [3 4]]\n",
      "\n",
      "\n",
      "Second Array:\n",
      "[[5 6]\n",
      " [7 8]]\n",
      "\n",
      "\n",
      "Stack the two arrays along axis 0:\n",
      "[[[1 2]\n",
      "  [3 4]]\n",
      "\n",
      " [[5 6]\n",
      "  [7 8]]]\n",
      "\n",
      "\n",
      "Stack the two arrays along axis 1:\n",
      "[[[1 2]\n",
      "  [5 6]]\n",
      "\n",
      " [[3 4]\n",
      "  [7 8]]]\n"
     ]
    }
   ],
   "source": [
    "#Stacking.\n",
    "a = np.array([[1,2],[3,4]]) \n",
    "\n",
    "print ('First Array:') \n",
    "print (a )\n",
    "print ('\\n')\n",
    "b = np.array([[5,6],[7,8]]) \n",
    "\n",
    "print ('Second Array:') \n",
    "print (b) \n",
    "print ('\\n')  \n",
    "\n",
    "print ('Stack the two arrays along axis 0:' )\n",
    "print (np.stack((a,b),0) )\n",
    "print ('\\n')  \n",
    "\n",
    "print ('Stack the two arrays along axis 1:') \n",
    "print (np.stack((a,b),1))"
   ]
  },
  {
   "cell_type": "code",
   "execution_count": 128,
   "id": "1b785a74-95e0-471b-8646-e8191f4a1877",
   "metadata": {},
   "outputs": [
    {
     "name": "stdout",
     "output_type": "stream",
     "text": [
      "First array:\n",
      "[0 1 2 3 4 5 6 7 8]\n",
      "\n",
      "\n",
      "Split the array in 3 equal-sized subarrays:\n",
      "[array([0, 1, 2]), array([3, 4, 5]), array([6, 7, 8])]\n",
      "\n",
      "\n",
      "Split the array at positions indicated in 1-D array:\n",
      "[array([0, 1, 2, 3]), array([4, 5, 6]), array([7, 8])]\n"
     ]
    }
   ],
   "source": [
    "#Splitting arrays.\n",
    "a = np.arange(9) \n",
    "\n",
    "print ('First array:' )\n",
    "print (a )\n",
    "print ('\\n')  \n",
    "\n",
    "print ('Split the array in 3 equal-sized subarrays:' )\n",
    "b = np.split(a,3) \n",
    "print( b )\n",
    "print( '\\n'  )\n",
    "\n",
    "print ('Split the array at positions indicated in 1-D array:') \n",
    "b = np.split(a,[4,7])\n",
    "print( b )"
   ]
  },
  {
   "cell_type": "code",
   "execution_count": 164,
   "id": "d530971a-f138-4888-8e51-008000d05541",
   "metadata": {},
   "outputs": [
    {
     "name": "stdout",
     "output_type": "stream",
     "text": [
      "First array:\n",
      "[[1 2 3]\n",
      " [4 5 6]]\n",
      "\n",
      "\n",
      "The shape of first array:\n",
      "(2, 3)\n",
      "\n",
      "\n",
      "Second array:\n",
      "[[1 2]\n",
      " [3 4]\n",
      " [5 6]]\n",
      "\n",
      "\n",
      "The shape of second array:\n",
      "(3, 2)\n",
      "\n",
      "\n",
      "Resize the second array:\n",
      "[[1 2 3]\n",
      " [4 5 6]\n",
      " [1 2 3]]\n"
     ]
    }
   ],
   "source": [
    "#Resize array.\n",
    "a = np.array([[1,2,3],[4,5,6]]) \n",
    "\n",
    "print ('First array:') \n",
    "print (a) \n",
    "print ('\\n')\n",
    "\n",
    "print( 'The shape of first array:' )\n",
    "print (a.shape )\n",
    "print ('\\n' ) \n",
    "b = np.resize(a, (3,2)) \n",
    "\n",
    "print ('Second array:' )\n",
    "print (b) \n",
    "print ('\\n')  \n",
    "\n",
    "print ('The shape of second array:') \n",
    "print (b.shape )\n",
    "print ('\\n')  \n",
    "# Observe that first row of a is repeated in b since size is bigger. \n",
    "\n",
    "print ('Resize the second array:' )\n",
    "b = np.resize(a,(3,3)) \n",
    "print (b)"
   ]
  },
  {
   "cell_type": "code",
   "execution_count": 166,
   "id": "7ebc335d-8051-4d70-b3b1-485c141d5c07",
   "metadata": {},
   "outputs": [
    {
     "name": "stdout",
     "output_type": "stream",
     "text": [
      "First array:\n",
      "[[1 2]\n",
      " [3 4]\n",
      " [5 6]]\n",
      "\n",
      "\n",
      "Axis parameter not passed. The input array is flattened before insertion.\n",
      "[ 1  2  3 11 12  4  5  6]\n",
      "\n",
      "\n",
      "Axis parameter passed. The values array is broadcast to match input array.\n",
      "Broadcast along axis 0:\n",
      "[[ 1  2]\n",
      " [11 11]\n",
      " [ 3  4]\n",
      " [ 5  6]]\n",
      "\n",
      "\n",
      "Broadcast along axis 1:\n"
     ]
    },
    {
     "data": {
      "text/plain": [
       "array([[ 1, 11,  2],\n",
       "       [ 3, 11,  4],\n",
       "       [ 5, 11,  6]])"
      ]
     },
     "execution_count": 166,
     "metadata": {},
     "output_type": "execute_result"
    }
   ],
   "source": [
    "#Insert.\n",
    "a = np.array([[1,2],[3,4],[5,6]]) \n",
    "\n",
    "print( 'First array:' )\n",
    "print(a) \n",
    "print ('\\n')  \n",
    "\n",
    "print ('Axis parameter not passed. The input array is flattened before insertion.')\n",
    "print(np.insert(a,3,[11,12]) )\n",
    "print ('\\n')  \n",
    "print ('Axis parameter passed. The values array is broadcast to match input array.')\n",
    "\n",
    "print ('Broadcast along axis 0:') \n",
    "print(np.insert(a,1,[11],axis = 0) )\n",
    "print ('\\n'  )\n",
    "\n",
    "print ('Broadcast along axis 1:' )\n",
    "np.insert(a,1,11,axis = 1)"
   ]
  },
  {
   "cell_type": "markdown",
   "id": "22f9e1f0-6e60-421f-93e5-ee0544c8eafd",
   "metadata": {},
   "source": [
    "## 5.0) Very useful NumPy functions and methods\n",
    "\n",
    "Ones that look at whole array:\n",
    "- where()\n",
    "- sort()\n",
    "- min()\n",
    "- max()\n",
    "- mean()\n",
    "- count()\n",
    "\n",
    "- ??unique()\n",
    "\n",
    "\n",
    "Ones that look at specific elements in the array:\n",
    "- maximum()"
   ]
  },
  {
   "cell_type": "markdown",
   "id": "33355fcd-d2b4-48d8-a0da-3844436bfa03",
   "metadata": {},
   "source": [
    "#### Some to check things in arrays  \n",
    "np.isnan\n",
    "\n",
    "Functions that deal with nan values."
   ]
  },
  {
   "cell_type": "code",
   "execution_count": 147,
   "id": "bfc0384a-9742-4c71-bbd5-cb46acf68f15",
   "metadata": {},
   "outputs": [
    {
     "data": {
      "text/plain": [
       "array([0, 1, 2, 3, 4, 5, 6, 7, 8, 9])"
      ]
     },
     "execution_count": 147,
     "metadata": {},
     "output_type": "execute_result"
    }
   ],
   "source": [
    "a = np.arange(10)\n",
    ">>> a"
   ]
  },
  {
   "cell_type": "code",
   "execution_count": 149,
   "id": "94a68afd-d3cb-4298-818c-0da1f9d4e29a",
   "metadata": {},
   "outputs": [
    {
     "data": {
      "text/plain": [
       "array([ 0,  1,  2,  3,  4, 50, 60, 70, 80, 90])"
      ]
     },
     "execution_count": 149,
     "metadata": {},
     "output_type": "execute_result"
    }
   ],
   "source": [
    "np.where(a < 5, a, 10*a)"
   ]
  },
  {
   "cell_type": "code",
   "execution_count": 151,
   "id": "3d111b58-ad4e-4940-9687-925c1630b519",
   "metadata": {},
   "outputs": [
    {
     "data": {
      "text/plain": [
       "(array([0, 1, 1], dtype=int64), array([0, 0, 1], dtype=int64))"
      ]
     },
     "execution_count": 151,
     "metadata": {},
     "output_type": "execute_result"
    }
   ],
   "source": [
    "np.where([[True, False], [True, True]])"
   ]
  },
  {
   "cell_type": "code",
   "execution_count": 153,
   "id": "8e98ddc0-b9a6-42f0-b0c7-17b14972e49b",
   "metadata": {},
   "outputs": [
    {
     "data": {
      "text/plain": [
       "array([[10,  0,  0,  0],\n",
       "       [10, 11,  1,  1],\n",
       "       [10, 11, 12,  2]])"
      ]
     },
     "execution_count": 153,
     "metadata": {},
     "output_type": "execute_result"
    }
   ],
   "source": [
    "x, y = np.ogrid[:3, :4]\n",
    ">>> np.where(x < y, x, 10 + y)"
   ]
  },
  {
   "cell_type": "code",
   "execution_count": 155,
   "id": "b4b1d841-ea5e-4e87-b919-8c7128ae1b70",
   "metadata": {},
   "outputs": [
    {
     "data": {
      "text/plain": [
       "array([[ 0,  1,  2],\n",
       "       [ 0,  2, -1],\n",
       "       [ 0,  3, -1]])"
      ]
     },
     "execution_count": 155,
     "metadata": {},
     "output_type": "execute_result"
    }
   ],
   "source": [
    "a = np.array([[0, 1, 2],\n",
    "...               [0, 2, 4],\n",
    "...               [0, 3, 6]])\n",
    ">>> np.where(a < 4, a, -1) "
   ]
  },
  {
   "cell_type": "code",
   "execution_count": 157,
   "id": "7fc92d5a-7a29-4a6c-9a09-2a0733d1530a",
   "metadata": {},
   "outputs": [
    {
     "data": {
      "text/plain": [
       "array([[1, 4],\n",
       "       [1, 3]])"
      ]
     },
     "execution_count": 157,
     "metadata": {},
     "output_type": "execute_result"
    }
   ],
   "source": [
    "a = np.array([[1,4],[3,1]])\n",
    ">>> np.sort(a)     "
   ]
  },
  {
   "cell_type": "code",
   "execution_count": 159,
   "id": "049489e6-9baf-4121-9d19-47e0ce75f1d5",
   "metadata": {},
   "outputs": [
    {
     "data": {
      "text/plain": [
       "array([1, 1, 3, 4])"
      ]
     },
     "execution_count": 159,
     "metadata": {},
     "output_type": "execute_result"
    }
   ],
   "source": [
    "np.sort(a, axis=None) "
   ]
  },
  {
   "cell_type": "code",
   "execution_count": 161,
   "id": "415606e0-2ae0-4d2b-84e3-32eb6decfc90",
   "metadata": {},
   "outputs": [
    {
     "data": {
      "text/plain": [
       "array([[1, 1],\n",
       "       [3, 4]])"
      ]
     },
     "execution_count": 161,
     "metadata": {},
     "output_type": "execute_result"
    }
   ],
   "source": [
    "np.sort(a, axis=0)"
   ]
  },
  {
   "cell_type": "code",
   "execution_count": 163,
   "id": "97a6ab2d-fbf0-451a-8ae6-605009ac3656",
   "metadata": {},
   "outputs": [
    {
     "name": "stdout",
     "output_type": "stream",
     "text": [
      "14\n"
     ]
    }
   ],
   "source": [
    "array1 = np.array([10, 12, 14, 11, 5])\n",
    "\n",
    "#Return the largest element. \n",
    "maxValue= np.max(array1)\n",
    "\n",
    "print(maxValue)"
   ]
  },
  {
   "cell_type": "code",
   "execution_count": 165,
   "id": "99f00275-7d75-4c22-8485-fc58feb79f25",
   "metadata": {},
   "outputs": [
    {
     "name": "stdout",
     "output_type": "stream",
     "text": [
      "The largest element in the flattened array:  25\n",
      "The largest element in each column (axis 0):  [15 17 25]\n",
      "The largest element in each row (axis 1):  [25 22]\n"
     ]
    }
   ],
   "source": [
    "array = np.array([[10, 17, 25], \n",
    "                  [15, 11, 22]])\n",
    "                  \n",
    "#Return the largest element of the flattened array.\n",
    "maxValue = np.max(array)\n",
    "\n",
    "print('The largest element in the flattened array: ', maxValue)\n",
    "\n",
    "#Return the largest element in each column.\n",
    "maxValue = np.max(array, axis = 0)\n",
    "\n",
    "print('The largest element in each column (axis 0): ', maxValue)\n",
    "\n",
    "#Return the largest element in each row.\n",
    "maxValue = np.max(array, axis = 1)\n",
    "\n",
    "print('The largest element in each row (axis 1): ', maxValue)"
   ]
  },
  {
   "cell_type": "code",
   "execution_count": 167,
   "id": "49f0d9a6-7f9c-4313-99ff-4757caa42bea",
   "metadata": {},
   "outputs": [
    {
     "name": "stdout",
     "output_type": "stream",
     "text": [
      "[15 19 25]\n"
     ]
    }
   ],
   "source": [
    "array1 = np.array([[10, 17, 25], \n",
    "                  [15, 11, 22], \n",
    "                  [11, 19, 20]])\n",
    "\n",
    "#Create an empty array.\n",
    "array2= np.array([0, 0, 0])\n",
    "\n",
    "#Pass the 'out' argument to store the result in array2.\n",
    "np.max(array1, axis = 0, out = array2)\n",
    "\n",
    "print(array2)"
   ]
  },
  {
   "cell_type": "code",
   "execution_count": 169,
   "id": "9262a36e-8bb0-4a20-b978-b112a5124114",
   "metadata": {},
   "outputs": [
    {
     "name": "stdout",
     "output_type": "stream",
     "text": [
      "Dimensions of original array:  2\n",
      "\n",
      " Without keepdims: \n",
      " [25 22 20]\n",
      "Dimensions of array:  1\n",
      "\n",
      " With keepdims: \n",
      " [[25]\n",
      " [22]\n",
      " [20]]\n",
      "Dimensions of array:  2\n"
     ]
    }
   ],
   "source": [
    "rray1 = np.array([[10, 17, 25], \n",
    "                   [15, 11, 22]])\n",
    "print('Dimensions of original array: ', array1.ndim)\n",
    "\n",
    "maxValue = np.max(array1, axis = 1)\n",
    "\n",
    "print('\\n Without keepdims: \\n', maxValue)\n",
    "print('Dimensions of array: ', maxValue.ndim) \n",
    "\n",
    "#Set keepdims to True to retain the dimension of the input array.\n",
    "maxValue = np.max(array1, axis = 1, keepdims = True)\n",
    "\n",
    "print('\\n With keepdims: \\n', maxValue)\n",
    "print('Dimensions of array: ', maxValue.ndim)"
   ]
  },
  {
   "cell_type": "code",
   "execution_count": 171,
   "id": "857375b1-3ad2-418a-b428-a82e7e28053e",
   "metadata": {},
   "outputs": [
    {
     "name": "stdout",
     "output_type": "stream",
     "text": [
      "25\n",
      "26\n",
      "5.0\n"
     ]
    }
   ],
   "source": [
    "#Max value > initial, returns max value.\n",
    "array1 = np.array([[10, 25, 17, 16, 14]])\n",
    "maxValue = np.max(array1, initial = 6)\n",
    "print(maxValue)\n",
    "\n",
    "#Max value < initial, returns initial.\n",
    "array2 = np.array([[10, 25, 17, 16, 14]])\n",
    "maxValue = np.max(array2, initial = 26)\n",
    "print(maxValue)\n",
    "\n",
    "#In case of an empty array, initial value is returned.\n",
    "array3 = np.array([])\n",
    "maxValue = np.max(array3, initial = 5)\n",
    "print(maxValue)"
   ]
  },
  {
   "cell_type": "code",
   "execution_count": 173,
   "id": "71276281-4cd6-47c8-be72-7feb05c213e7",
   "metadata": {},
   "outputs": [
    {
     "name": "stdout",
     "output_type": "stream",
     "text": [
      "10\n"
     ]
    }
   ],
   "source": [
    "rray1 = np.array([10, 12, 14, 11, 5])\n",
    "\n",
    "#Return the smallest element. \n",
    "minValue= np.min(array1)\n",
    "\n",
    "print(minValue)\n",
    "\n",
    "# Output: 5"
   ]
  },
  {
   "cell_type": "code",
   "execution_count": 175,
   "id": "100bf36d-97d7-4155-a280-e6f6ef289a2c",
   "metadata": {},
   "outputs": [
    {
     "name": "stdout",
     "output_type": "stream",
     "text": [
      "The smallest element in the flattened array:  10\n",
      "The smallest element in each column (axis 0):  [10 11 22]\n",
      "The smallest element in each row (axis 1):  [10 11]\n"
     ]
    }
   ],
   "source": [
    "array = np.array([[10, 17, 25], \n",
    "                  [15, 11, 22]])\n",
    "                  \n",
    "#Return the smallest element of the flattened array.\n",
    "minValue = np.min(array)\n",
    "\n",
    "print('The smallest element in the flattened array: ', minValue)\n",
    "\n",
    "#Return the smallest element in each column.\n",
    "minValue = np.min(array, axis = 0)\n",
    "\n",
    "print('The smallest element in each column (axis 0): ', minValue)\n",
    "\n",
    "#Return the smallest element in each row.\n",
    "minValue = np.min(array, axis = 1)\n",
    "\n",
    "print('The smallest element in each row (axis 1): ', minValue)"
   ]
  },
  {
   "cell_type": "code",
   "execution_count": 177,
   "id": "99d95fd4-e747-4bfe-93c0-a8946eedab37",
   "metadata": {},
   "outputs": [
    {
     "name": "stdout",
     "output_type": "stream",
     "text": [
      "[10 11 20]\n"
     ]
    }
   ],
   "source": [
    "array1 = np.array([[10, 17, 25], \n",
    "                   [15, 11, 22], \n",
    "                   [11, 19, 20]])\n",
    "\n",
    "#Create an empty array.\n",
    "array2= np.array([0, 0, 0])\n",
    "\n",
    "#Pass the 'out' argument to store the result in array2.\n",
    "np.min(array1, axis = 0, out = array2)\n",
    "\n",
    "print(array2)"
   ]
  },
  {
   "cell_type": "code",
   "execution_count": 179,
   "id": "54bffa91-b86f-4060-a7fb-841e72e3c4d3",
   "metadata": {},
   "outputs": [
    {
     "name": "stdout",
     "output_type": "stream",
     "text": [
      "Dimensions of original array:  2\n",
      "\n",
      " Without keepdims: \n",
      " [10 11]\n",
      "Dimensions of array:  1\n",
      "\n",
      " With keepdims: \n",
      " [[10]\n",
      " [11]]\n",
      "Dimensions of array:  2\n"
     ]
    }
   ],
   "source": [
    "array1 = np.array([[10, 17, 25], \n",
    "              \t    [15, 11, 22]])\n",
    "\n",
    "print('Dimensions of original array: ', array1.ndim)\n",
    "\n",
    "minValue = np.min(array1, axis = 1)\n",
    "\n",
    "print('\\n Without keepdims: \\n', minValue)\n",
    "print('Dimensions of array: ', minValue.ndim) \n",
    "\n",
    "#Set keepdims to True to retain the dimension of the input array.\n",
    "minValue = np.min(array1, axis = 1, keepdims = True)\n",
    "\n",
    "print('\\n With keepdims: \\n', minValue)\n",
    "print('Dimensions of array: ', minValue.ndim)"
   ]
  },
  {
   "cell_type": "code",
   "execution_count": 181,
   "id": "4181c284-8f4f-4b51-992a-f0ad1c176f0e",
   "metadata": {},
   "outputs": [
    {
     "name": "stdout",
     "output_type": "stream",
     "text": [
      "3.5\n"
     ]
    }
   ],
   "source": [
    "import numpy as np\n",
    "\n",
    "#Create an array.\n",
    "array1 = np.array([0, 1, 2, 3, 4, 5, 6, 7])\n",
    "\n",
    "#Calculate the mean of the array.\n",
    "avg = np.mean(array1)\n",
    "\n",
    "print(avg)\n",
    "\n",
    "# Output: 3.5"
   ]
  },
  {
   "cell_type": "code",
   "execution_count": 77,
   "id": "f45e04fc-0d9c-41a5-8c2d-a2a1a8fd46d2",
   "metadata": {},
   "outputs": [
    {
     "name": "stdout",
     "output_type": "stream",
     "text": [
      "\n",
      "Mean of the entire array: 4.5\n",
      "\n",
      "Mean across axis 0:\n",
      " [[3. 4.]\n",
      " [5. 6.]]\n",
      "\n",
      "Mean across axis 0 and 1 [4. 5.]\n"
     ]
    }
   ],
   "source": [
    "#Create a 3D array.\n",
    "array1 = np.array([[[1, 2], [3, 4]],                     \n",
    "                    [[5, 6], [7, 8]]])\n",
    "\n",
    "#Find the mean of entire array.\n",
    "mean1 = np.mean(array1)\n",
    "\n",
    "#Find the mean across axis 0.\n",
    "mean2 = np.mean(array1, 0)\n",
    "\n",
    "#Find the mean across axis 0 and 1.\n",
    "mean3 = np.mean(array1, (0, 1))\n",
    "\n",
    "print('\\nMean of the entire array:', mean1)\n",
    "print('\\nMean across axis 0:\\n', mean2)\n",
    "print('\\nMean across axis 0 and 1', mean3)"
   ]
  },
  {
   "cell_type": "code",
   "execution_count": 183,
   "id": "d1cdc939-04b4-49d0-b78d-2b2eb87cf7cf",
   "metadata": {},
   "outputs": [
    {
     "name": "stdout",
     "output_type": "stream",
     "text": [
      "Float mean: 3.5\n",
      "Integer mean: 3\n"
     ]
    }
   ],
   "source": [
    "arr = np.array([[1, 2, 3],\n",
    "                [4, 5, 6]])\n",
    "\n",
    "#By default int is converted to float.\n",
    "result1 = np.mean(arr)\n",
    "\n",
    "#Get integer mean.\n",
    "result2 = np.mean(arr, dtype = int)\n",
    "\n",
    "print('Float mean:', result1)\n",
    "print('Integer mean:', result2)"
   ]
  },
  {
   "cell_type": "code",
   "execution_count": 185,
   "id": "c6d7a0ce-c706-4dac-9b8e-1a4c1373b5c8",
   "metadata": {},
   "outputs": [
    {
     "name": "stdout",
     "output_type": "stream",
     "text": [
      "Original Array Dimension: 2\n",
      "Mean without keepdims: [2.5 3.5 4.5] Dimensions 1\n",
      "Mean with keepdims: [[2.5 3.5 4.5]] Dimensions 2\n"
     ]
    }
   ],
   "source": [
    "arr = np.array([[1, 2, 3],\n",
    "                [4, 5, 6]])\n",
    "\n",
    "#Keepdims defaults to False.\n",
    "result1 = np.mean(arr, axis = 0)\n",
    "\n",
    "#Set keepdims to True.\n",
    "result2 = np.mean(arr, axis = 0, keepdims = True)\n",
    "\n",
    "print('Original Array Dimension:', arr.ndim)\n",
    "print('Mean without keepdims:', result1, 'Dimensions', result1.ndim)\n",
    "print('Mean with keepdims:', result2, 'Dimensions', result2.ndim)"
   ]
  },
  {
   "cell_type": "code",
   "execution_count": 187,
   "id": "d7df647c-641c-484a-a3df-64fa27ab65ac",
   "metadata": {},
   "outputs": [
    {
     "name": "stdout",
     "output_type": "stream",
     "text": [
      "arr :  ['vdsdsttetteteAAAa', 'AAAAAAAaattttds', 'AAaaxxxxtt', 'AAaaXDSDdscz']\n",
      "Count of 'tt' [2 2 1 0]\n",
      "Count of 'tt' [2 2 1 0]\n",
      "Count of 'tt' [1 2 1 0]\n"
     ]
    }
   ],
   "source": [
    "#2D array.  \n",
    "arr = ['vdsdsttetteteAAAa', 'AAAAAAAaattttds', 'AAaaxxxxtt', 'AAaaXDSDdscz'] \n",
    "  \n",
    "print (\"arr : \", arr) \n",
    "  \n",
    "print (\"Count of 'tt'\", np.char.count(arr, 'tt')) \n",
    "print (\"Count of 'tt'\", np.char.count(arr, 'tt', start = 0)) \n",
    "print (\"Count of 'tt'\", np.char.count(arr, 'tt', start = 8)) "
   ]
  },
  {
   "cell_type": "code",
   "execution_count": 189,
   "id": "703d9aae-d432-427c-9f55-c2d5c944e3c7",
   "metadata": {},
   "outputs": [
    {
     "name": "stdout",
     "output_type": "stream",
     "text": [
      "arr :  ['vdsdsttetteteAAAa', 'AAAAAAAaattttds', 'AAaaxxxxtt', 'AAaaXDSDdscz']\n",
      "Count of 'Aa' [1 1 1 1]\n",
      "Count of 'Aa' [1 0 0 0]\n"
     ]
    }
   ],
   "source": [
    "#2D array.  \n",
    "arr = ['vdsdsttetteteAAAa', 'AAAAAAAaattttds', 'AAaaxxxxtt', 'AAaaXDSDdscz'] \n",
    "  \n",
    "print (\"arr : \", arr) \n",
    "  \n",
    "print (\"Count of 'Aa'\", np.char.count(arr, 'Aa')) \n",
    "print (\"Count of 'Aa'\", np.char.count(arr, 'Aa', start = 8)) "
   ]
  },
  {
   "cell_type": "code",
   "execution_count": 191,
   "id": "6aa52fac-f22e-482f-93a8-08fa7f309cbe",
   "metadata": {},
   "outputs": [
    {
     "data": {
      "text/plain": [
       "array([0, 1, 2, 3, 4])"
      ]
     },
     "execution_count": 191,
     "metadata": {},
     "output_type": "execute_result"
    }
   ],
   "source": [
    "np.unique([0,1,2,0,2,3,4,3,0,4])\n",
    "np.array([0, 1, 2, 3, 4])"
   ]
  },
  {
   "cell_type": "code",
   "execution_count": 193,
   "id": "7872c8ce-3fd5-46a1-85fa-88de3500b789",
   "metadata": {},
   "outputs": [
    {
     "data": {
      "text/plain": [
       "array([1, 2, 3, 4])"
      ]
     },
     "execution_count": 193,
     "metadata": {},
     "output_type": "execute_result"
    }
   ],
   "source": [
    "x = np.array([[1, 1], [2,3], [3,4]])\n",
    ">>> np.unique(x)\n",
    "np.array([1, 2, 3, 4])"
   ]
  },
  {
   "cell_type": "code",
   "execution_count": 195,
   "id": "0cf3e9d8-3367-4f65-8b68-d1a8495617cf",
   "metadata": {},
   "outputs": [
    {
     "data": {
      "text/plain": [
       "array(['h', 'o', 'p', 't', 'y'], dtype='<U1')"
      ]
     },
     "execution_count": 195,
     "metadata": {},
     "output_type": "execute_result"
    }
   ],
   "source": [
    "x = np.array(['o', 'p', 'y', 't', 'h', 'o', 'p'])\n",
    ">>> u, indices = np.unique(x, return_index=True)\n",
    ">>> u\n",
    "np.array(['h', 'o', 'p', 't', 'y'], \n",
    "      dtype='<U1')\n",
    ">>> indices\n",
    "np.array([4, 0, 1, 3, 2])\n",
    ">>> x[indices]\n",
    "np.array(['h', 'o', 'p', 't', 'y'], \n",
    "      dtype='<U1')"
   ]
  },
  {
   "cell_type": "code",
   "execution_count": 197,
   "id": "d7dc7b94-b67e-430c-b316-4ab5fecb97dc",
   "metadata": {},
   "outputs": [
    {
     "data": {
      "text/plain": [
       "array([0, 1, 2, 3, 5, 6])"
      ]
     },
     "execution_count": 197,
     "metadata": {},
     "output_type": "execute_result"
    }
   ],
   "source": [
    "x = np.array([0, 1, 2, 5, 2, 6, 5, 2, 3, 1])\n",
    ">>> u, indices = np.unique(x, return_inverse=True)\n",
    ">>> u\n",
    "np.array([0, 1, 2, 3, 5, 6])"
   ]
  },
  {
   "cell_type": "code",
   "execution_count": 199,
   "id": "980ead82-baff-41d3-8ef4-dad90506995e",
   "metadata": {},
   "outputs": [
    {
     "data": {
      "text/plain": [
       "array([1, 2, 3, 4, 5])"
      ]
     },
     "execution_count": 199,
     "metadata": {},
     "output_type": "execute_result"
    }
   ],
   "source": [
    "x = np.array([1,2,5,3,4,2,3,2,5,4])\n",
    ">>> u, indices = np.unique(x, return_inverse=True)\n",
    ">>> u\n",
    "np.array([1, 2, 3, 4, 5])"
   ]
  },
  {
   "cell_type": "markdown",
   "id": "513d6a40-61b6-4c1e-b62d-70ba97f7dcfd",
   "metadata": {},
   "source": [
    "# Assignments\n",
    "\n",
    "\n",
    "Not ready yet."
   ]
  },
  {
   "cell_type": "markdown",
   "id": "fbce45c7-abc9-4c57-a650-ac42cdf3adb6",
   "metadata": {},
   "source": [
    "## Exercise 1)"
   ]
  },
  {
   "cell_type": "code",
   "execution_count": null,
   "id": "364b7757-2d82-48fa-b9a7-c3aa97ea826e",
   "metadata": {},
   "outputs": [],
   "source": []
  },
  {
   "cell_type": "markdown",
   "id": "eaaf26ad-2153-4922-b641-279b1313daa5",
   "metadata": {},
   "source": [
    "## Exercise 2)"
   ]
  },
  {
   "cell_type": "code",
   "execution_count": null,
   "id": "baa1d938-e1ec-4ce8-9eb7-404657e1a70c",
   "metadata": {},
   "outputs": [],
   "source": []
  },
  {
   "cell_type": "markdown",
   "id": "ee477746-ed68-448e-bde4-c7ee44129a79",
   "metadata": {},
   "source": [
    "## Exercise 3)"
   ]
  },
  {
   "cell_type": "code",
   "execution_count": null,
   "id": "35b4ab30-754e-4230-a401-595f84b692ec",
   "metadata": {},
   "outputs": [],
   "source": []
  }
 ],
 "metadata": {
  "kernelspec": {
   "display_name": "Python 3 (ipykernel)",
   "language": "python",
   "name": "python3"
  },
  "language_info": {
   "codemirror_mode": {
    "name": "ipython",
    "version": 3
   },
   "file_extension": ".py",
   "mimetype": "text/x-python",
   "name": "python",
   "nbconvert_exporter": "python",
   "pygments_lexer": "ipython3",
   "version": "3.12.4"
  }
 },
 "nbformat": 4,
 "nbformat_minor": 5
}

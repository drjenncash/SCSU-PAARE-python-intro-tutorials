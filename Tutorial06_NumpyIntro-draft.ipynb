{
 "cells": [
  {
   "cell_type": "markdown",
   "id": "1b64be04-b60e-424d-b3c4-c49cd869ba54",
   "metadata": {},
   "source": [
    "<div class=\"alert alert-block alert-info\">\n",
    "<b>TBA:</b> jcash will improve text here\n",
    "\n",
    "    I need to finish up the arrangement of the sections and then set the section numbers\n",
    "\n",
    "    I need to create the assignments\n",
    "</div>"
   ]
  },
  {
   "cell_type": "markdown",
   "id": "89a693cb-529a-4548-8977-502faa0d6b7f",
   "metadata": {},
   "source": [
    "# Tutorial 6: Further Introduction to NumPy \n",
    "\n",
    "**Still a draft version**\n",
    "\n",
    "Sections of this notebook come from several other tutorial notebooks including but not limited to the Officialy Numpy Documentation at https://numpy.org/doc/stable/,  tutorials at the W3 school  (https://www.w3schools.com/python/numpy/default.asp), the Geeks for Geels website (https://www.geeksforgeeks.org/numpy/python-numpy/). the Krittika Tutorials, and additional sources.\n",
    "\n",
    "This tutorial was compiled for the PAARE project at South Carolina State University in partnership with Clemson University and the University of the Virgin Islands and funded by NSF. (NSF grant AST  2319415)\n",
    "\n",
    "* Originally posted\n",
    "  * JCash June 25, 2025\n",
    "* Last modified:\n",
    "  * JCash July 1, 2025"
   ]
  },
  {
   "cell_type": "markdown",
   "id": "e0a9d9cc-8b72-463f-b2e9-543b01bffb00",
   "metadata": {},
   "source": [
    "## Overview\n",
    "\n",
    "In this tutorial we will take a closer look at some of the powerful tools available within the NumPy (Numerical Python) module. We have already used numpy functions in several of the preceeding tutorials and will continue to use them in the future tutorials. \n",
    "\n",
    "From the NumPy website:\n",
    ">NumPy is the fundamental package for scientific computing in Python. It is a Python library that provides a multidimensional array object, various derived objects (such as masked arrays and matrices), and an assortment of routines for fast operations on arrays, including mathematical, logical, shape manipulation, sorting, selecting, I/O, discrete Fourier transforms, basic linear algebra, basic statistical operations, random simulation and much more.\n",
    "\n",
    "\n",
    "\n",
    "Specifically in this tutorial:\n",
    "* NumPy math operations\n",
    "* Num Array Creation\n",
    "* Array Manipulation\n",
    "* Useful functions and methods in NumPy\n",
    "\n",
    "> Note that NumPy and numpy are used interchangeably when describing the package. The official name is `NumPy`. For import statements, you must use the lower-case version `numpy`."
   ]
  },
  {
   "cell_type": "markdown",
   "id": "1b9a1aa4-54a5-450b-bfc9-9ba1482f2e45",
   "metadata": {},
   "source": [
    "### Imports needed\n",
    "\n",
    "Since NumPy is not built into Python, we need import the package to use the functions. NumPy is so commonly used that the shortened alias import statement of `import numpy as np` is standard. \n",
    "\n",
    "As a reminder, you only need to import the package once when you open a notebook, but it doesn't hurt to run that command multiple times in the notebook. If you save your notebook and come back to it later or interrupt the kernel, you will need to reimport the package. \n"
   ]
  },
  {
   "cell_type": "code",
   "execution_count": 1,
   "id": "21ef51de-1d6e-4f55-9b6d-4b67656e6b4b",
   "metadata": {},
   "outputs": [],
   "source": [
    "import numpy as np"
   ]
  },
  {
   "cell_type": "markdown",
   "id": "f5f7b102-0748-4802-8c95-4d105eb077a5",
   "metadata": {},
   "source": [
    "## 1.0) NumPy math operations\n",
    "\n",
    "In tutorial 2, used numpy functions for square roots, rounding, and trig functions. We also used the numpy constant `np.pi`. Another package called `math` has many similar functions which work well, but `numpy` is more powerful.\n",
    "\n",
    "A full listing of the available math functions can be found at:\n",
    "https://numpy.org/doc/stable/reference/routines.math.html\n",
    "\n",
    "The math functions in numpy can act on a single number (int or float) or a numpy array of numbers. This makes the numpy functions faster when applied to data science."
   ]
  },
  {
   "cell_type": "markdown",
   "id": "2becba1b-e911-42e5-aa25-15d3f38fcd66",
   "metadata": {},
   "source": [
    "### 1.1) Review of Some Math Operations\n",
    "\n",
    "Below are a few of the math operations introduced in previous tutorials. "
   ]
  },
  {
   "cell_type": "code",
   "execution_count": null,
   "id": "84dfd6ca-f4b4-4e16-ba2a-29c2281ac6d3",
   "metadata": {},
   "outputs": [],
   "source": [
    "print('The square root of 25 is',np.sqrt(25)) \n",
    "print('The number 2 to the 11 power can be found by numpy',np.power(2,11))\n",
    "print('We can round off a number using numpy: 4.6874 becomes',np.round(4.6874,2))\n",
    "print('The cosine of pi is', np.cos(np.pi))"
   ]
  },
  {
   "cell_type": "markdown",
   "id": "b957655b-6624-4b94-87b5-8342a81b0235",
   "metadata": {},
   "source": [
    "### 1.2) Trig and Angular Conversion Functions\n",
    "\n",
    "\n",
    "NumPy has the full range of Trigonometric, inverse trig, and Hyperbolic functions.\n",
    "\n",
    "In general, the functions assume angles in radians, but there are also functions to change between degrees and radians.\n",
    "\n",
    "See below for some examples."
   ]
  },
  {
   "cell_type": "code",
   "execution_count": null,
   "id": "937bed77-3151-4ee3-8ddb-0315b0e0b2a1",
   "metadata": {},
   "outputs": [],
   "source": [
    "# Example trig functions\n",
    "print('Sine of pi/2 = ', np.sin(np.pi/2))\n",
    "print('The inverse cosine of 0.5 =',np.arccos(0.5))\n",
    "print('The hyperbolic tangent of pi/2 =',np.tanh(np.pi/2))"
   ]
  },
  {
   "cell_type": "code",
   "execution_count": null,
   "id": "0bf6caa0-9d01-4fc5-bb9f-a7a8aa383f7c",
   "metadata": {},
   "outputs": [],
   "source": [
    "#This example shows the numpy function to change degrees to radians\n",
    "angle_deg = 60\n",
    "angle_rad = np.deg2rad(angle_deg)\n",
    "print(\"an angle of \", angle_deg,\" degrees is equal to \", angle_rad,\" radians\")"
   ]
  },
  {
   "cell_type": "code",
   "execution_count": null,
   "id": "3d7273c5-a36e-427e-96ed-ae1ecff0550a",
   "metadata": {},
   "outputs": [],
   "source": [
    "#This example uses several functions together to get the inverse tangent in degrees with the correct quadrant.\n",
    "x = 3\n",
    "y = 4\n",
    "print(np.degrees(np.arctan2(y,x)))\n",
    "print(np.degrees(np.arctan2(y,-x)))\n"
   ]
  },
  {
   "cell_type": "code",
   "execution_count": null,
   "id": "f96ef903-7f6a-4098-9f04-13de89c7135c",
   "metadata": {},
   "outputs": [],
   "source": [
    "angle_rad = 1.3\n",
    "angle_deg = np.rad2deg(angle_rad)\n",
    "print(\"an angle of \", angle_rad,\" radians is equal to \", angle_deg,\" degrees\")"
   ]
  },
  {
   "cell_type": "markdown",
   "id": "006dcd05-b57c-4a64-9327-bb196e1dcda3",
   "metadata": {},
   "source": [
    "### 1.3) Rounding functions\n",
    "\n",
    "There is a set of numpy functions for various rounding processes with more options than the built-in round function. \n",
    "\n",
    "* `np.round(x,d)` rounds off a float to the given decimals and returns it as a float value \n"
   ]
  },
  {
   "cell_type": "code",
   "execution_count": null,
   "id": "79b0f10c-6793-43fb-a53e-84e402752486",
   "metadata": {},
   "outputs": [],
   "source": [
    "#Various examples\n",
    "x = 450.598756\n",
    "print('This is the built-in round function',round(x),type(round(x)))\n",
    "print('This is the numpy round function',np.round(x,0),type(np.round(x,0)))\n",
    "print('This is the numpy round function with three digits',np.round(x,3),type(np.round(x,3)))\n",
    "print('The numpy fix function rounds down',np.fix(x),type(np.fix(x)))\n",
    "print('The numpy floor function rounds down',np.floor(x),type(np.floor(x)))\n",
    "print('The numpy ceiling function rounds up',np.ceil(x),type(np.ceil(x)))\n",
    "\n"
   ]
  },
  {
   "cell_type": "code",
   "execution_count": null,
   "id": "3e6e8271-7535-46b7-9961-f3fa26db6c39",
   "metadata": {},
   "outputs": [],
   "source": [
    "print(\"In this example, you can get the decimal part of a floating point number\")\n",
    "x = 450.598756\n",
    "print(x-np.floor(x))"
   ]
  },
  {
   "cell_type": "markdown",
   "id": "3de8b2f6-1143-4854-8708-907652c1eb62",
   "metadata": {},
   "source": [
    "### 1.4) Other functions in NumPy\n",
    "\n",
    "The full range of mathematical functions to operate on single values in numpy is beyond the scope of this tutorial, but I list some of the categories below.\n",
    "\n",
    "* exponents\n",
    "* logarithms\n",
    "* complex numbers\n",
    "* miscallaneous"
   ]
  },
  {
   "cell_type": "code",
   "execution_count": null,
   "id": "a11e0f94-d26f-4996-864a-b295de2baa11",
   "metadata": {},
   "outputs": [],
   "source": [
    "import numpy as np"
   ]
  },
  {
   "cell_type": "markdown",
   "id": "1ee3177d-e850-4a42-a6c0-441a0ea5b3e3",
   "metadata": {},
   "source": [
    "## 2.0) Creating NumPy arrays\n",
    "\n",
    "NumPy is particularly powerful due to its ability to deal with arrays of data instead of just single values. \n",
    "\n",
    "We have explored basic array creation in previous tutorials, but show some additional methods here. "
   ]
  },
  {
   "cell_type": "markdown",
   "id": "cce7cb5b-9ea4-4d3b-bcc9-7999ca157eec",
   "metadata": {},
   "source": [
    "### 2.1) Manual array creation\n",
    "\n",
    "As a reminder from previous tutorials, the basic `np.array()` function creates a numpy array.\n",
    "\n",
    "* 0 D arrays are single values.\n",
    "* 1 D arrays are a set of values in a row.\n",
    "    * it has a single index for the position in the row \n",
    "* 2 D arrays are a table of values (with rows and columns).\n",
    "    * it has two indexes the first for the row and the second for the column.\n",
    "* 3 D arrays are like a cube of data with a table at each layer.\n",
    "    * it has three indexes, the first for the layer, then the row, then the column.\n",
    "\n",
    "You can get the number of dimensions using the method `.ndim` on the array.\n",
    "You can get the shape with the `.shape` method.\n",
    "\n",
    "Examples of each are shown below."
   ]
  },
  {
   "cell_type": "code",
   "execution_count": null,
   "id": "fa9d012f-9a2a-44fc-85c9-7bfc7a882745",
   "metadata": {},
   "outputs": [],
   "source": [
    "# 0D arrays\n",
    "\n",
    "\n",
    "arr = np.array(42)\n",
    "\n",
    "print('The array is',arr)\n",
    "print('It has',arr.ndim,'dimensions.')\n",
    "print('The shape is', arr.shape)\n"
   ]
  },
  {
   "cell_type": "code",
   "execution_count": null,
   "id": "29c40e37-02b4-4cad-853c-008a13aa0a68",
   "metadata": {},
   "outputs": [],
   "source": [
    "# 1D array\n",
    "\n",
    "arr = np.array((1, 2, 3, 4, 5))\n",
    "print('The array is',arr)\n",
    "print('It has',arr.ndim,'dimensions.')\n",
    "print('The shape is', arr.shape)"
   ]
  },
  {
   "cell_type": "code",
   "execution_count": null,
   "id": "ac542ee0-9889-47af-be95-e77493a03497",
   "metadata": {},
   "outputs": [],
   "source": [
    "#2D arrays.\n",
    "\n",
    "arr = np.array([[1, 2, 3], [4, 5, 6]])\n",
    "print('The array is',arr)\n",
    "print('It has',arr.ndim,'dimensions.')\n",
    "print('The shape is', arr.shape)"
   ]
  },
  {
   "cell_type": "code",
   "execution_count": null,
   "id": "ac63c5dc-9719-40e7-8910-9dd23d2d903d",
   "metadata": {},
   "outputs": [],
   "source": [
    "#3D arrays.\n",
    "import numpy as np\n",
    "\n",
    "arr = np.array([[[1, 2, 3], [4, 5, 6] ,[4, 5, 6]], [[1, 2, 3], [4, 5, 6],[1, 2, 3]]])\n",
    "\n",
    "print('The array is')\n",
    "print(arr)\n",
    "print('It has',arr.ndim,'dimensions.')\n",
    "print('The shape is', arr.shape)"
   ]
  },
  {
   "cell_type": "code",
   "execution_count": null,
   "id": "365ee2a9-9276-4867-9995-e6729cfe430f",
   "metadata": {},
   "outputs": [],
   "source": [
    "#Higher dimensional arrays.\n",
    "import numpy as np\n",
    "\n",
    "arr = np.array([1, 2, 3, 4], ndmin=5)\n",
    "\n",
    "print(arr)\n",
    "print('number of dimensions :', arr.ndim)"
   ]
  },
  {
   "cell_type": "markdown",
   "id": "d2ee9c97-e53a-4a89-bd16-7a1a6081bf4b",
   "metadata": {},
   "source": [
    "### 2.2) Array creation from a list\n",
    "\n",
    "If you already have data in a list, you can convert the list to an array as long as all items in the list are the same DataType."
   ]
  },
  {
   "cell_type": "code",
   "execution_count": null,
   "id": "942559e9-3da1-44f5-b665-2ba8ac826973",
   "metadata": {},
   "outputs": [],
   "source": [
    "list = [3,7,2,6]\n",
    "print('List is',list,type(list))\n",
    "\n",
    "array = np.array(list)\n",
    "print('Array is',array,type(array))"
   ]
  },
  {
   "cell_type": "markdown",
   "id": "da5a9fa3-a232-4c82-b121-fbc618c7f424",
   "metadata": {},
   "source": [
    "If the list has multiple DataTypes you can still convert it to an array but all of the values will be converted to the string DataType."
   ]
  },
  {
   "cell_type": "code",
   "execution_count": null,
   "id": "914360d8-4bf3-4d6a-80e0-677487cb07f2",
   "metadata": {},
   "outputs": [],
   "source": [
    "list = [3.0,'7',2,6]\n",
    "print('List is',list,type(list))\n",
    "\n",
    "array = np.array(list)\n",
    "print('Array is',array,type(array))"
   ]
  },
  {
   "cell_type": "markdown",
   "id": "7a13ed4d-9039-4504-8b38-2d5bce2219e9",
   "metadata": {},
   "source": [
    "If you have multiple lists you can convert them to a 2D array with each list being a row of the 2D array. Note the arrays must have the same length to do this so that the rows have the same number of columns. \n"
   ]
  },
  {
   "cell_type": "code",
   "execution_count": null,
   "id": "92cad0c4-642e-4bdb-a337-19c0eddfcb7a",
   "metadata": {},
   "outputs": [],
   "source": [
    "list1 = [3,7,2,6]\n",
    "list2 = [4,2,8,7]\n",
    "\n",
    "array = np.array([list1,list2])\n",
    "print('Array is')\n",
    "print(array)\n",
    "print('Array shape is',array.shape)"
   ]
  },
  {
   "cell_type": "markdown",
   "id": "20dbca5a-ce52-4856-8159-fa7bdb471456",
   "metadata": {},
   "source": [
    "### 2.3) Special Array Creation\n",
    "\n",
    "Below are some special ways to create an array and fill the array with specific values or patterns"
   ]
  },
  {
   "cell_type": "markdown",
   "id": "d8a1a946-268f-4f46-ba68-ef6fb128b456",
   "metadata": {},
   "source": [
    "#### Zero arrays\n",
    "\n",
    "This creates an array of the specified size with zero values at each location."
   ]
  },
  {
   "cell_type": "code",
   "execution_count": null,
   "id": "67d9e29f-20d8-4a03-b931-5bc6751ac081",
   "metadata": {},
   "outputs": [],
   "source": [
    "# 1 D zeros array\n",
    "a = np.zeros(5)\n",
    "print(\"1D Zeros Array:\")\n",
    "print(a)"
   ]
  },
  {
   "cell_type": "code",
   "execution_count": null,
   "id": "15a7fa49-901c-4fe2-8c85-4ecefa83845f",
   "metadata": {},
   "outputs": [],
   "source": [
    "#Creating an 2D array of zeros.\n",
    "zeros_array = np.zeros((2, 3))  # 2 rows, 3 columns\n",
    "print(\"2D Zeros Array:\")\n",
    "print(zeros_array)"
   ]
  },
  {
   "cell_type": "markdown",
   "id": "56b84619-b328-4f8e-8c00-aa76d515517c",
   "metadata": {},
   "source": [
    "#### Ones arrays\n",
    "\n",
    "This creates an array with a value of 1 at each location. "
   ]
  },
  {
   "cell_type": "code",
   "execution_count": null,
   "id": "e0d17876-62ce-4605-9c9b-cfac74758976",
   "metadata": {},
   "outputs": [],
   "source": []
  },
  {
   "cell_type": "code",
   "execution_count": null,
   "id": "f6fb3081-ac0a-4c4a-906b-b429bd6afad8",
   "metadata": {},
   "outputs": [],
   "source": [
    "#Creating an array of ones.\n",
    "ones_array = np.ones((3, 2))  # 3 rows, 2 columns\n",
    "print(\"\\nOnes Array:\")\n",
    "print(ones_array)"
   ]
  },
  {
   "cell_type": "markdown",
   "id": "05969487-ed29-4d2d-aec9-f1ed779d95d5",
   "metadata": {},
   "source": [
    "#### Filled arrays\n",
    "\n",
    "This creates an array with a value you choose at each location. You put in the shape first (as a tuple) and then give the value. \n",
    "\n",
    "This fill value can be a number or the `np.nan` (not a number). \n"
   ]
  },
  {
   "cell_type": "code",
   "execution_count": null,
   "id": "447b0c2d-748a-4fc5-a906-4aafe1961c8a",
   "metadata": {},
   "outputs": [],
   "source": [
    "full_array = np.full((3,2),25.)\n",
    "print(full_array)"
   ]
  },
  {
   "cell_type": "code",
   "execution_count": null,
   "id": "67ec5fdf-2902-4e0d-85c9-0f51995049a3",
   "metadata": {},
   "outputs": [],
   "source": [
    "full_array = np.full((3,2),np.nan)\n",
    "print(full_array)"
   ]
  },
  {
   "cell_type": "markdown",
   "id": "b8920775-f077-45fb-8738-2ecd3d936765",
   "metadata": {},
   "source": [
    "#### Ranged arrays\n",
    "\n",
    "These functions create an array with evenly spaced values.\n",
    "\n",
    "* `arange` is used for integer values\n",
    "* `linspace` is used for decimal values"
   ]
  },
  {
   "cell_type": "code",
   "execution_count": null,
   "id": "7f6297c3-347a-460a-a527-b087cd710240",
   "metadata": {},
   "outputs": [],
   "source": [
    "#Ranged arrays\n",
    "range_array = np.arange(20)\n",
    "print(range_array)"
   ]
  },
  {
   "cell_type": "code",
   "execution_count": null,
   "id": "a4f1d2a8-4341-4fc8-a47c-d6b516df16d6",
   "metadata": {},
   "outputs": [],
   "source": [
    "lin_array = np.linspace(1,2,5) #start at 1, stop at 2, include 5 values\n",
    "print(lin_array)"
   ]
  },
  {
   "cell_type": "markdown",
   "id": "7762afc6-8583-4faa-b636-27588cd40931",
   "metadata": {},
   "source": [
    "#### Random arrays\n",
    "\n",
    "These functions create an array with evenly spaced values.\n",
    "\n",
    "* `np.random.randint` is used for integer values with a specified low, high, and size\n",
    "* `np.random.rand` is used for decimal values between zero and 1"
   ]
  },
  {
   "cell_type": "code",
   "execution_count": null,
   "id": "b865e24a-5d5e-460f-b8af-6e83b4883960",
   "metadata": {},
   "outputs": [],
   "source": [
    "#Creating an array with random values.\n",
    "random_array = np.random.randint(4,8,(2, 3))  # between 4 and 8 with a shape of 2 rows, 3 columns\n",
    "print(\"\\nRandom Array:\")\n",
    "print(random_array)"
   ]
  },
  {
   "cell_type": "code",
   "execution_count": null,
   "id": "f5be8d1f-a3f0-48de-90e6-222b694e0e35",
   "metadata": {},
   "outputs": [],
   "source": [
    "#Creating an array with random values.\n",
    "random_array = np.random.rand(2, 3)  # 2 rows, 3 columns\n",
    "print(\"\\nRandom Array:\")\n",
    "print(random_array)"
   ]
  },
  {
   "cell_type": "markdown",
   "id": "034db266-d424-4e32-950c-756810532af6",
   "metadata": {},
   "source": [
    "#### Identity matrix\n",
    "\n",
    "This is a 2D square array with values of 1 on the diagonal and 0 everywhere else (useful in some linear algebra operations)."
   ]
  },
  {
   "cell_type": "code",
   "execution_count": null,
   "id": "7c1597cf-4ce6-4b5c-91d4-88f0fd7e5548",
   "metadata": {},
   "outputs": [],
   "source": [
    "ident = np.identity(4)\n",
    "print(ident)"
   ]
  },
  {
   "cell_type": "markdown",
   "id": "d67fa48e-44b8-4cea-b15b-c3c97139e986",
   "metadata": {},
   "source": [
    "## 3.0) NumPy Array Math\n",
    "\n",
    "You should recall from the earlier tutorial on Collection DataTypes that numpy arrays are different than lists in that they must all contain the same DataType and that it is designed for numerical DataTypes. This is required since numpy has many functions that do math which would not work with strings or varying DataTypes.\n",
    "\n",
    "Vectorization concept: \n",
    "NumPy vectorization involves performing mathematical operations on entire arrays. This simplifies the code and speeds up the computations.\n",
    "\n",
    "There are **element-wise** operations, where the operation is applied to each element individually without the need to explicilty call a loop over the array. It makes the code simplier and more readable as well as running faster than using a loop. \n",
    "\n",
    "There are **statistical functions** which calculate a single value for an array of values.\n",
    "\n",
    "There are \n",
    "\n",
    "And things you can do with two arrays\n",
    "(caution on relative size and shapes allowed):\n",
    "- Add two arrays\n",
    "- Dot product\n",
    "- Cross product\n"
   ]
  },
  {
   "cell_type": "markdown",
   "id": "f0fa67ca-e8a3-4bde-8746-703972529e19",
   "metadata": {},
   "source": [
    "### 3.1) Element-wise operations\n",
    "\n",
    "You can use many numpy functions one array, where the operation is performed on each element.\n",
    " \n",
    "Examples of Element-wise operations:\n",
    "- Add the same constant to each value in the array.\n",
    "- Square each item in the array\n",
    "- Evaluation a calulcation using each value in the array individually.\n",
    "\n",
    "\n",
    "Here we start by creating a range array and then showing the results of different mathematical calculations on the array."
   ]
  },
  {
   "cell_type": "code",
   "execution_count": null,
   "id": "baeb91d5-5154-44cd-a816-005f1255612d",
   "metadata": {},
   "outputs": [],
   "source": [
    "#Setting up the array of numbers\n",
    "a = np.arange(10)\n",
    "print('Original array: ', a)"
   ]
  },
  {
   "cell_type": "code",
   "execution_count": null,
   "id": "9174acb9-3502-46f6-9a67-6917030be991",
   "metadata": {},
   "outputs": [],
   "source": [
    "print('Adding a constant',a+2)"
   ]
  },
  {
   "cell_type": "code",
   "execution_count": null,
   "id": "5c0b6690-f7ca-48e1-9f3f-2774e1826aea",
   "metadata": {},
   "outputs": [],
   "source": [
    "print('Multiplying by a constant',a*10)"
   ]
  },
  {
   "cell_type": "code",
   "execution_count": null,
   "id": "22123b9d-175d-43c0-b7a5-605dc9e99a13",
   "metadata": {},
   "outputs": [],
   "source": [
    "print('Square of each value:',a**2)"
   ]
  },
  {
   "cell_type": "code",
   "execution_count": null,
   "id": "5d6f6505-6d17-4a9a-a762-fec5cd4e05b0",
   "metadata": {},
   "outputs": [],
   "source": [
    "# Using a slope intercept equation for a line\n",
    "m = 4.5\n",
    "b = 3\n",
    "print('Using an equation for a line, here is the y values:',m*a+b)"
   ]
  },
  {
   "cell_type": "markdown",
   "id": "c170046f-3713-47c7-bd3c-ab223e3d636b",
   "metadata": {},
   "source": [
    "### 3.2) Boolean Operations\n",
    "\n",
    "When Boolean comparison operations are used on arrays, the results can be very useful. The initial discussion here is expanded later in this tutorial in section 5.2 so searching and filtering array. \n",
    "\n",
    "In out previous introduction to the Boolean DataTypes `True` and `False`, we saw that we can generate these values using comparison operators. \n",
    "\n",
    "For example `3>5` becomes `False` but `5>3` becomes `True`.\n",
    "These `True` and `False` conditions can be used to trigger conditional sections of code using if-else statements. \n",
    "\n",
    "When you apply a comparison operator to a numpy array, you get a new array populated with the `True` and `False` values at each index. \n",
    "\n",
    "Now we can use the result of that test comparison to do useful things such as select just the parts of the array that have the condition we want. Instead of having to access the array using a loop or with specific indices, we can grab just the values where our condition is `True`.\n",
    "\n",
    "See the example below. "
   ]
  },
  {
   "cell_type": "code",
   "execution_count": null,
   "id": "b4f90aba-52af-4149-88d9-3ecc2f9f99f2",
   "metadata": {},
   "outputs": [],
   "source": [
    "# Create a random integer array\n",
    "xarr = np.random.randint(0,30,10)  #10 random values between 0 and 30\n",
    "print('\\n The random array is')\n",
    "print(xarr)\n",
    "\n",
    "# create a new variable which is the result of the comparison to look at values greater than 15\n",
    "test_result = xarr > 15\n",
    "print('\\nThe result is')\n",
    "print(test_result)\n",
    "\n",
    "\n",
    "yarr = xarr[test_result]\n",
    "print('\\nThe new yarr with just the large values is')\n",
    "print(yarr)\n",
    "print()"
   ]
  },
  {
   "cell_type": "markdown",
   "id": "a8959677-8ae0-44fe-be34-c0bcf023c4f3",
   "metadata": {},
   "source": [
    "### 3.3) Statistical functions\n",
    "\n",
    "Numpy has many important numpy functions in data science and statistical analysis. These functions work on arrays instead of working element-wise. Obviously, these can only be used with arrays containing numbers (not strings). \n",
    "\n",
    "* `np.mean`   This gives the mean (or average) value from the whole array.\n",
    "* `np.median` This gives the median (or middle) value from the whole array.\n",
    "* `np.min`    This finds the smallest value in the array.\n",
    "* `np.max`    This finds the largest value in the array.\n",
    "* `np.sum`    This adds up all of the values in the array.\n",
    "* `np.sdv`    This gives the standard deviation of the array values.\n"
   ]
  },
  {
   "cell_type": "code",
   "execution_count": null,
   "id": "fcf8fde1-07a0-492b-bfe1-187a1020036b",
   "metadata": {},
   "outputs": [],
   "source": [
    "# First we create some arrays to use for our analysis\n",
    "a = np.arange(10)  #This array ranges from 0 to 9\n",
    "b = a *10+1        #This array ranges from 1 to 91\n",
    "c = np.random.rand(10)  #This create an array of random floats between 0 and 1\n",
    "\n",
    "print('a\\n',a)\n",
    "\n",
    "print('b\\n',b)\n",
    "\n",
    "print('c\\n',c)"
   ]
  },
  {
   "cell_type": "markdown",
   "id": "bb81dc37-0738-4071-8f11-a86e8b47054e",
   "metadata": {},
   "source": []
  },
  {
   "cell_type": "code",
   "execution_count": null,
   "id": "4c75e66e-82d3-40c5-a4be-51c20e773ed8",
   "metadata": {},
   "outputs": [],
   "source": [
    "#Getting mean of all numbers in 'a'.\n",
    "print(\"mean a:\",np.mean(a))\n",
    "print(\"mean b:\", np.mean(b))\n",
    "print(\"mean c:\", np.mean(c))\n"
   ]
  },
  {
   "cell_type": "code",
   "execution_count": null,
   "id": "345a5e43-19e3-48b0-9732-09bf0612910e",
   "metadata": {},
   "outputs": [],
   "source": [
    "#Getting Median of all numbers in 'a'.\n",
    "print(\"Median a:\",np.median(a))\n",
    "print(\"Median b:\", np.median(b))\n",
    "print(\"Median c:\", np.median(c))\n"
   ]
  },
  {
   "cell_type": "code",
   "execution_count": null,
   "id": "96771322-77cd-4777-87eb-de0646e2badc",
   "metadata": {},
   "outputs": [],
   "source": [
    "#Getting Minimum of all numbers in each array.\n",
    "print(\"Minimum a:\",np.min(a))\n",
    "print(\"Minimum b:\", np.min(b))\n",
    "print(\"Minimum c:\", np.min(c))\n"
   ]
  },
  {
   "cell_type": "code",
   "execution_count": null,
   "id": "894c4abf-0b17-43df-9116-27937882a738",
   "metadata": {},
   "outputs": [],
   "source": [
    "#Getting Maximum of all numbers in each array.\n",
    "print(\"Maximum a:\",np.max(a))\n",
    "print(\"Maximum b:\", np.max(b))\n",
    "print(\"Maximum c:\", np.max(c))\n"
   ]
  },
  {
   "cell_type": "code",
   "execution_count": null,
   "id": "49e7fe46-b6b2-4626-80ba-6a5d2b8bb28e",
   "metadata": {},
   "outputs": [],
   "source": [
    "#Getting sum of all numbers in in each array.\n",
    "print('Sum of values in a:',np.sum(a))\n",
    "print('Sum of values in b:',np.sum(b))\n",
    "print('Sum of values in c:',np.sum(c))\n"
   ]
  },
  {
   "cell_type": "code",
   "execution_count": null,
   "id": "1a563713-2a77-4493-8658-0228b54842b8",
   "metadata": {},
   "outputs": [],
   "source": [
    "#Getting Standard Deviation of all numbers in the arrays\n",
    "print('SD in a:',np.std(a))\n",
    "print('SD in b:',np.std(b))\n",
    "print('SD in c:',np.std(c))\n"
   ]
  },
  {
   "cell_type": "markdown",
   "id": "1767ee96-27e8-47ed-b674-05b550f0a745",
   "metadata": {},
   "source": [
    "---\n",
    "**Statistics on rows or columns of a 2D array**\n",
    "\n",
    "If you use any of the above statistics functions on a 2D array, it will consider all values in all rows and columns of the array. \n",
    "\n",
    "Sometimes you may want the statistics for each row or column separately. NumPy can do this by specifying the axis in the statistics function call. \n",
    "\n",
    "`axis = 0` represents a comparison for values in each column\n",
    "`axis = 1` represents a comparision for values in each row"
   ]
  },
  {
   "cell_type": "code",
   "execution_count": null,
   "id": "99f00275-7d75-4c22-8485-fc58feb79f25",
   "metadata": {},
   "outputs": [],
   "source": [
    "array = np.array([[10, 17, 25], \n",
    "                  [15, 11, 22]])\n",
    "\n",
    "print('The 2D array is: \\n',array,'\\n')\n",
    "#Return the largest element of the flattened array.\n",
    "maxValue = np.max(array)\n",
    "\n",
    "print('The largest element in the flattened array: ', maxValue)\n",
    "\n",
    "#Return the largest element in each column.\n",
    "maxValue = np.max(array, axis = 0)\n",
    "\n",
    "print('The largest element in each column (axis 0): ', maxValue)\n",
    "\n",
    "#Return the largest element in each row.\n",
    "maxValue = np.max(array, axis = 1)\n",
    "\n",
    "print('The largest element in each row (axis 1): ', maxValue)"
   ]
  },
  {
   "cell_type": "markdown",
   "id": "5223515e-60d7-4bef-bed4-8cc278101d0f",
   "metadata": {},
   "source": [
    "### 3.4) Math with multiple arrays\n",
    "\n",
    "You can also do **element-wise** math operations with numpy arrays. In most cases, the arrays must be the same size for these operations to work. \n",
    "\n",
    "In this case, the first value from the first array is matched with the first value from the second array, and then the math operation is done, returning a new value at that first position.\n",
    "\n",
    "The examples shown below include:\n",
    "* addition of arrays\n",
    "* subtraction of arrays\n",
    "* multiplication of arrays\n",
    "* Division of arrays\n",
    "\n",
    "You can even construct equations that use more complicated combinations of arrays as variables. \n",
    "\n"
   ]
  },
  {
   "cell_type": "code",
   "execution_count": null,
   "id": "a8932323-3201-4862-9222-00c4380dec04",
   "metadata": {},
   "outputs": [],
   "source": [
    "#Setting up the arrays\n",
    "\n",
    "a = np.arange(10)  #This array ranges from 0 to 9\n",
    "b = np.arange(20,40,2) #This array ranges from 20 to 40 in steps of 2\n",
    "print('array a', a)\n",
    "print('array b', b)"
   ]
  },
  {
   "cell_type": "code",
   "execution_count": null,
   "id": "fa4bc7b3-294b-4b46-bb79-6b829b4e351f",
   "metadata": {},
   "outputs": [],
   "source": [
    "print(\"Adding the arrays\", a+b)\n",
    "print(\"Subtracting the arrays\", a-b)"
   ]
  },
  {
   "cell_type": "code",
   "execution_count": null,
   "id": "a4d0ccb1-6bb4-4974-a229-981ed03c4964",
   "metadata": {},
   "outputs": [],
   "source": [
    "print(\"Multiplying the arrays\", a*b)"
   ]
  },
  {
   "cell_type": "code",
   "execution_count": null,
   "id": "fc9d490f-22c5-4eea-8fd5-aedb6e5e2dc9",
   "metadata": {},
   "outputs": [],
   "source": [
    "#Performing division using numpy functions.\n",
    "div_ans = np.divide(a, b)\n",
    "print(div_ans)"
   ]
  },
  {
   "cell_type": "code",
   "execution_count": null,
   "id": "ebfb5be0-5e72-430c-b601-fd02dfad7496",
   "metadata": {},
   "outputs": [],
   "source": [
    "#Performing division using numpy functions.\n",
    "div_ans = b/a\n",
    "print(div_ans)\n",
    "\n",
    "#Note this one will give a warning since you divided by zero for the first index. The value of inf is the result."
   ]
  },
  {
   "cell_type": "code",
   "execution_count": null,
   "id": "ed289587-50ff-4187-874b-00ff8e2f8449",
   "metadata": {},
   "outputs": [],
   "source": [
    "#Performing subtraction using arithmetic operator.\n",
    "temp = a*b\n",
    "result = (temp+10)/b -5\n",
    "print(\"A more complicated math equation\")\n",
    "print(result)"
   ]
  },
  {
   "cell_type": "code",
   "execution_count": null,
   "id": "bb21adaa-a618-446b-8cda-37bf96b1155e",
   "metadata": {},
   "outputs": [],
   "source": [
    "#Performing power of one array to itself ( a to the power of a)\n",
    "pow_ans = np.power(a, a)\n",
    "print(pow_ans)"
   ]
  },
  {
   "cell_type": "markdown",
   "id": "b7b5cb4a-d120-49d3-81b7-fee06e7f84e6",
   "metadata": {},
   "source": [
    "### 3.5) Matrix math\n",
    "\n",
    "2D arrays are similar to the mathematical concept of a matrix, and NumPy has several matrix functions built in.\n",
    "\n",
    "To illustrate matrix math, we need to have 2D arrays in several shapes. The next cell creates those arrays. \n",
    "Some of the code in that cell will be explained later in this tutorial for array manipulation.\n",
    "\n",
    "* `arr1` 1D array with 3 values\n",
    "* `arr2` 1D array with 3 values\n",
    "* `arr3` 1D array with 2 values\n",
    "* `arr4` 1D array with 2 values\n",
    "* `arr5` 1D array with 6 values\n",
    "* `arr6` 2D array with 2 rows and 3 columns\n",
    "* `arr7` 2D array with  3 rows and 2 columns"
   ]
  },
  {
   "cell_type": "code",
   "execution_count": null,
   "id": "a24cc826-e1ef-45ff-a20a-ad1f23802a99",
   "metadata": {},
   "outputs": [],
   "source": [
    "arr1 = np.arange(3) +3\n",
    "arr2 = np.arange(2) +4\n",
    "arr3 = np.arange(6) \n",
    "arr4 = np.reshape(arr3,(2,3))\n",
    "arr5 = np.reshape(arr3,(3,2))"
   ]
  },
  {
   "cell_type": "code",
   "execution_count": null,
   "id": "f7a82e83-1cfb-4281-8b0b-2ed3a8bdc8cd",
   "metadata": {},
   "outputs": [],
   "source": [
    "print('Matrix 1 \\n',arr1)\n",
    "print('Matrix 2 \\n',arr2)\n",
    "print('Matrix 3 \\n',arr3)\n",
    "print('Matrix 4\\n',arr4)\n",
    "print('Matrix 5\\n',arr5)\n"
   ]
  },
  {
   "cell_type": "markdown",
   "id": "a70b03ae-8e33-4d8c-9a1d-e75f93ba9681",
   "metadata": {},
   "source": [
    "#### Element wise multiplication\n",
    "---\n",
    "We already saw that you can do Element-wise multiplication of two arrays that are the same shape. \n",
    "\n",
    "If you multiply a 1D array by a 2D array with the same number of columns, then each row of the 2D array is multiplied by the elements of the 1D array. \n",
    "\n",
    "This is sometimes referred to as **broadcasting**. "
   ]
  },
  {
   "cell_type": "code",
   "execution_count": null,
   "id": "5ec7959e-bf7c-4216-b008-3352c8ec18bb",
   "metadata": {},
   "outputs": [],
   "source": [
    "# Arrays with 3 columns each\n",
    "print('Array 1 multiplied by Array 1')\n",
    "print(arr1*arr1,'\\n')\n",
    "\n",
    "print('Array 1 multiplied by Array 4')\n",
    "print(arr1*arr4,'\\n')"
   ]
  },
  {
   "cell_type": "code",
   "execution_count": null,
   "id": "ef774317-fa6f-44ad-87a7-3e965a2c870e",
   "metadata": {},
   "outputs": [],
   "source": [
    "#Arrays with 2 columns each\n",
    "print(arr2*arr5)"
   ]
  },
  {
   "cell_type": "markdown",
   "id": "c6107d27-07c8-4be2-98ed-110e18db99aa",
   "metadata": {},
   "source": [
    "---\n",
    "**Warning**\n",
    "If the arrays don't have the same number of columns, there will be a ValueError indicating the shape incompatibility.\n",
    "\n",
    "The example below with give an error of this type"
   ]
  },
  {
   "cell_type": "code",
   "execution_count": null,
   "id": "fbe685d6-1d6b-40dc-b326-048b0782602f",
   "metadata": {},
   "outputs": [],
   "source": [
    "print('Trying to multiply 3 columns by atwo column array')\n",
    "print(arr1*arr5)"
   ]
  },
  {
   "cell_type": "markdown",
   "id": "b5032fec-852c-4612-8a58-5eac0ed4cc9d",
   "metadata": {},
   "source": [
    "#### Matrix multiplication\n",
    "\n",
    "Matrix multiplication is **not** element-wise. Instead, each element in the result is the **dot product** of a row from the first matrix and a column from the second.\n",
    "\n",
    "NumPy has two ways to call this:\n",
    "* `np.matmul()`\n",
    "* `np.dot()`\n",
    "\n",
    "For most cases the two functions give the smae result, but `np.matmul` is more stable for higher order matrices.\n",
    "\n",
    "\n",
    "We'll walk through a clear example to show exactly what that means.\n",
    "\n",
    "We will multiply a 2×3 matrix `A` with a 3×2 matrix `B`.\n",
    "\n"
   ]
  },
  {
   "cell_type": "code",
   "execution_count": null,
   "id": "a96de8d8-ea99-42bc-9546-63407c4dec65",
   "metadata": {},
   "outputs": [],
   "source": [
    "# Matrix A (2x3)\n",
    "A = np.array([\n",
    "    [1, 2, 3],\n",
    "    [4, 5, 6]\n",
    "])\n",
    "\n",
    "# Matrix B (3x2)\n",
    "B = np.array([\n",
    "    [10, 11],\n",
    "    [20, 21],\n",
    "    [30, 31]\n",
    "])\n",
    "\n",
    "\n",
    "print('Matrix A: \\n')\n",
    "print(A,'\\n')\n",
    "print('Matrix B: \\n')\n",
    "print(B,'\\n')\n",
    "\n",
    "print('Matrix multiplicaton result: \\n')\n",
    "print(np.matmul(A,B))"
   ]
  },
  {
   "cell_type": "markdown",
   "id": "ce38720f-b8ed-4ebc-91e4-2e0587832243",
   "metadata": {},
   "source": [
    "**Step by step behind the scenes** \n",
    "\n",
    "Step 1: First row of A • First column of B\n",
    "\n",
    "[1 2 3] • [10 20 30] = (1×10 + 2×20 + 3×30) = 140\n",
    "\n",
    "Step 2: First row of A • Second column of B\n",
    "\n",
    "[1 2 3] • [11 21 31] = (1×11 + 2×21 + 3×31) = 146\n",
    "\n",
    "→ First row of result = [140 146]\n",
    "\n",
    "Step 3: Second row of A • First column of B\n",
    "\n",
    "[4 5 6] • [10 20 30] = (4×10 + 5×20 + 6×30) = 320\n",
    "\n",
    "Step 4: Second row of A • Second column of B\n",
    "\n",
    "[4 5 6] • [11 21 31] = (4×11 + 5×21 + 6×31) = 335\n",
    "\n",
    "→ Second row of result = [320 335]"
   ]
  },
  {
   "cell_type": "markdown",
   "id": "3d1e920e-afa6-4f78-b2c7-8891ea5f17e4",
   "metadata": {},
   "source": [
    "**Other Matrix math operations**\n",
    "\n",
    "Other Matrix operations are included in the NumPy package but not covered in this tutorial.\n",
    "\n",
    "Some examples are:\n",
    "* inverse\n",
    "* determinate\n",
    "* eigenvalues\n",
    "* eigenvectors\n",
    "* systems of linear equations\n",
    "\n"
   ]
  },
  {
   "cell_type": "markdown",
   "id": "303ffd24-af02-4c38-a156-7edbbd19bbbc",
   "metadata": {},
   "source": [
    "## 4.0) NumPy Array Manipulation"
   ]
  },
  {
   "cell_type": "markdown",
   "id": "cc7c181f-cdf9-4be8-af7b-8cb60eb0a116",
   "metadata": {},
   "source": [
    "### 4.1)  Reshaping arrays\n",
    "\n",
    "If you have an array with N items total, then you can reshape it into an form where the total items is still N.\n",
    "\n",
    "For example:\n",
    " * A 1D array with 8 items can be reshaped into\n",
    "     * A 2D array with 2 rows and 4 columns\n",
    "     * A 2D array with 4 rows and 2 columns\n",
    "     * A 2D array with 8 rows and 1 columns \n",
    " * A 2D array with a shape of (3,4) can be reshaped into\n",
    "     * A 2D array with a shape of (4,3)\n",
    "     * A 2D array with a shape of (6,2)\n",
    "     * A 2D array with a shape of (2,6)\n",
    "     * A 1D array with a length of 12 items"
   ]
  },
  {
   "cell_type": "code",
   "execution_count": null,
   "id": "c9ba205e-bf64-4b10-ac28-d2eedb76d4ce",
   "metadata": {},
   "outputs": [],
   "source": [
    "a = np.arange(8)\n",
    "print ('The original array with 8 items:')\n",
    "print(a)\n",
    "print ('\\n')\n",
    "\n",
    "b = a.reshape(4,2)\n",
    "print ('The modified to 4 rows and 2 columns:')\n",
    "print(b)\n",
    "print ('\\n')\n",
    "\n",
    "print ('The modified to 2 rows and 4 columns:')\n",
    "print(a.reshape(2,4))\n"
   ]
  },
  {
   "cell_type": "markdown",
   "id": "5bf6c194-379d-433a-a282-93e804952d76",
   "metadata": {},
   "source": [
    "### 4.2) Flattening arrays\n",
    "\n",
    "If you have a 2D array and want to turn it into a 1D array, you have several options.\n",
    "\n",
    "The standard way is the `.flatten method` which creates one long array that starts with the first row, goes through all of the columns, and then gets the next row. \n",
    "\n",
    "If you use the `.flatten(order='F')` syntax, it gets the first column, goes through all of the rows and then gets the next column. It is called the `F` order since this was the standard way in fortran. "
   ]
  },
  {
   "cell_type": "code",
   "execution_count": null,
   "id": "e0a6aeb5-e6e4-4a29-bb3b-84b68f7f022b",
   "metadata": {},
   "outputs": [],
   "source": [
    "import numpy as np \n",
    "a = np.arange(8).reshape(2,4) \n",
    "print ('The original array:' )\n",
    "print (a )\n",
    "print ('\\n') \n",
    "\n",
    "print ('After applying the flatten function:' ) \n",
    "print(\"The flattened array:\")\n",
    "b = a.flatten()\n",
    "print(b)"
   ]
  },
  {
   "cell_type": "code",
   "execution_count": null,
   "id": "a8d56ccb-6101-4162-b9e6-224020b91c04",
   "metadata": {},
   "outputs": [],
   "source": [
    "#Flattening.\n",
    "a = np.arange(8).reshape(2,4) \n",
    "\n",
    "print ('The original array is:') \n",
    "print (a )\n",
    "print ('\\n')  \n",
    "#Default is column-major. \n",
    "\n",
    "print ('The flattened array in F-style ordering:') \n",
    "a.flatten(order = 'F')"
   ]
  },
  {
   "cell_type": "code",
   "execution_count": null,
   "id": "003a3331-7017-4725-8694-da8979115b9b",
   "metadata": {},
   "outputs": [],
   "source": [
    "#Raval.\n",
    "a = np.arange(8).reshape(2,4) \n",
    "\n",
    "print ('The original array is:' )\n",
    "print(a)\n",
    "print ('\\n'  )\n",
    "\n",
    "print( 'After applying ravel function:' )\n",
    "print(a.ravel())  \n",
    "print ('\\n') \n",
    "\n",
    "print ('Applying ravel function in F-style ordering:') \n",
    "a.ravel(order = 'F')"
   ]
  },
  {
   "cell_type": "markdown",
   "id": "d2786cf7-eb5b-4d3e-87a3-cf2406e1ef98",
   "metadata": {},
   "source": [
    "### 4.3) Transpose and Other Axes Manipulation\n",
    "\n",
    "The numpy function `transpose` takes a 2D input array and flips the rows and columns. \n",
    "\n",
    "An array with a shape of 2 rows and 3 columns, will become an array with a shape of 3 rows and 2 columns.\n",
    "\n",
    "But unlike reshape, the values are moved. So the element that was originally in the row 0, column 2 position will now be in the row 2, column 0 position.\n"
   ]
  },
  {
   "cell_type": "code",
   "execution_count": null,
   "id": "5e0ffb11-d92e-47ac-894a-20b56c788817",
   "metadata": {},
   "outputs": [],
   "source": [
    "a = np.arange(6).reshape(2,3)\n",
    "print('Original Matrix \\n',a)\n",
    "print('Transposed Matrix \\n',np.transpose(a))"
   ]
  },
  {
   "cell_type": "markdown",
   "id": "7b7ec9d9-9927-4e7d-b212-e032ca3dbe48",
   "metadata": {},
   "source": [
    "The numpy function `squeeze` will reduce the dimensions of an ND array if one or more of the dimensions have a size of 1. \n",
    "\n",
    "In the example below, the x array is a 3D matrix, with one layer, 3 rows,and 1 column.\n",
    "After squeezing it, we get a 1D array with 3 items. \n",
    "\n",
    "This can be useful if you are extracting a subset of data from a larger dimensional data structure. "
   ]
  },
  {
   "cell_type": "code",
   "execution_count": null,
   "id": "e2a15948-de4b-411f-a012-c015deeb71cc",
   "metadata": {},
   "outputs": [],
   "source": [
    "x = np.array([[[0], [1], [2]]])\n",
    "print('Original array \\n',x)\n",
    "print('Original shape',x.shape)\n",
    "\n",
    "print('\\n after the squeeze')\n",
    "y = np.squeeze(x)\n",
    "print(y)\n",
    "print('Shape of new array', y.shape)"
   ]
  },
  {
   "cell_type": "markdown",
   "id": "4087f0e7-c887-49d7-b8f5-8f36e5fcc60f",
   "metadata": {},
   "source": [
    "When working with larger dimensional data sets, there are a variety of functions and methods that can transform the ND array by swapping or rolling axes that go beyond the scope of this tutorial."
   ]
  },
  {
   "cell_type": "markdown",
   "id": "22b3eacc-3f1c-4e2f-9e59-7d7cba6e1cc9",
   "metadata": {},
   "source": [
    "### 4.4) Joining arrays\n",
    "\n",
    "\n",
    "**Needs revision**\n",
    "\n",
    "Topics to include:\n",
    "- 1D join into longer 1D array\n",
    "- multiple 1D, join with each as a row\n",
    "- multiple 1D, join with each as a column\n",
    "- multiple 2D, join by adding extra columns\n",
    "- multiple 2D, join by adding new rows"
   ]
  },
  {
   "cell_type": "code",
   "execution_count": 18,
   "id": "501e734c-da0a-4b96-ae4c-be2bf3fc25e0",
   "metadata": {},
   "outputs": [
    {
     "name": "stdout",
     "output_type": "stream",
     "text": [
      "x array is: [0 1 2 3 4]\n",
      "y array is: [10 11 12 13 14]\n"
     ]
    }
   ],
   "source": [
    "x = np.arange(5)\n",
    "y = x+10\n",
    "print('x array is:', x)\n",
    "print('y array is:', y)"
   ]
  },
  {
   "cell_type": "code",
   "execution_count": 19,
   "id": "f62bcd5e-c739-4d8e-bff5-60bd9fa627b2",
   "metadata": {},
   "outputs": [
    {
     "data": {
      "text/plain": [
       "array([[ 0,  1,  2,  3,  4],\n",
       "       [10, 11, 12, 13, 14]])"
      ]
     },
     "execution_count": 19,
     "metadata": {},
     "output_type": "execute_result"
    }
   ],
   "source": [
    "b = np.array([x,y])\n",
    "b"
   ]
  },
  {
   "cell_type": "code",
   "execution_count": 20,
   "id": "50e33e13-3397-42ac-bd6b-752a6116e275",
   "metadata": {},
   "outputs": [
    {
     "data": {
      "text/plain": [
       "array([[ 0, 10],\n",
       "       [ 1, 11],\n",
       "       [ 2, 12],\n",
       "       [ 3, 13],\n",
       "       [ 4, 14]])"
      ]
     },
     "execution_count": 20,
     "metadata": {},
     "output_type": "execute_result"
    }
   ],
   "source": [
    "c = b.transpose()\n",
    "c"
   ]
  },
  {
   "cell_type": "code",
   "execution_count": 21,
   "id": "224b6d2e-2fc1-4f51-9ff5-f83ff963a818",
   "metadata": {},
   "outputs": [
    {
     "data": {
      "text/plain": [
       "array([[ 0,  1,  2,  3,  4],\n",
       "       [10, 11, 12, 13, 14]])"
      ]
     },
     "execution_count": 21,
     "metadata": {},
     "output_type": "execute_result"
    }
   ],
   "source": [
    "rowarray = np.stack([x,y],axis=0)\n",
    "rowarray"
   ]
  },
  {
   "cell_type": "code",
   "execution_count": 22,
   "id": "d8bf7543-e5d0-44bb-bae2-25224b1e963c",
   "metadata": {},
   "outputs": [
    {
     "data": {
      "text/plain": [
       "array([[ 0, 10],\n",
       "       [ 1, 11],\n",
       "       [ 2, 12],\n",
       "       [ 3, 13],\n",
       "       [ 4, 14]])"
      ]
     },
     "execution_count": 22,
     "metadata": {},
     "output_type": "execute_result"
    }
   ],
   "source": [
    "colarray = np.stack([x,y],axis=1)\n",
    "colarray"
   ]
  },
  {
   "cell_type": "code",
   "execution_count": 23,
   "id": "b96294ee-1e70-497d-a477-9926d3b9c59d",
   "metadata": {},
   "outputs": [
    {
     "data": {
      "text/plain": [
       "array([[ 0,  1,  2,  3,  4,  0,  1,  2,  3,  4],\n",
       "       [10, 11, 12, 13, 14, 10, 11, 12, 13, 14]])"
      ]
     },
     "execution_count": 23,
     "metadata": {},
     "output_type": "execute_result"
    }
   ],
   "source": [
    "np.hstack([b,b])"
   ]
  },
  {
   "cell_type": "code",
   "execution_count": 25,
   "id": "25cf5128-6b64-4d87-a865-1382bb1565f0",
   "metadata": {},
   "outputs": [
    {
     "data": {
      "text/plain": [
       "array([[ 0, 10,  0, 10],\n",
       "       [ 1, 11,  1, 11],\n",
       "       [ 2, 12,  2, 12],\n",
       "       [ 3, 13,  3, 13],\n",
       "       [ 4, 14,  4, 14]])"
      ]
     },
     "execution_count": 25,
     "metadata": {},
     "output_type": "execute_result"
    }
   ],
   "source": [
    "np.hstack([c,c])"
   ]
  },
  {
   "cell_type": "code",
   "execution_count": 24,
   "id": "fdca00bf-4e7f-4235-8a07-6e69c6901ba0",
   "metadata": {},
   "outputs": [
    {
     "data": {
      "text/plain": [
       "array([[ 0,  1,  2,  3,  4],\n",
       "       [10, 11, 12, 13, 14],\n",
       "       [ 0,  1,  2,  3,  4],\n",
       "       [10, 11, 12, 13, 14]])"
      ]
     },
     "execution_count": 24,
     "metadata": {},
     "output_type": "execute_result"
    }
   ],
   "source": [
    "np.vstack([b,b])"
   ]
  },
  {
   "cell_type": "code",
   "execution_count": 26,
   "id": "82dcbdce-2858-4c5d-8c51-32c6d3e15727",
   "metadata": {},
   "outputs": [
    {
     "data": {
      "text/plain": [
       "array([[ 0, 10],\n",
       "       [ 1, 11],\n",
       "       [ 2, 12],\n",
       "       [ 3, 13],\n",
       "       [ 4, 14],\n",
       "       [ 0, 10],\n",
       "       [ 1, 11],\n",
       "       [ 2, 12],\n",
       "       [ 3, 13],\n",
       "       [ 4, 14]])"
      ]
     },
     "execution_count": 26,
     "metadata": {},
     "output_type": "execute_result"
    }
   ],
   "source": [
    "np.vstack([c,c])"
   ]
  },
  {
   "cell_type": "code",
   "execution_count": null,
   "id": "d9ebbf59-f1d0-4e26-a824-75facca964a2",
   "metadata": {},
   "outputs": [],
   "source": []
  },
  {
   "cell_type": "code",
   "execution_count": 2,
   "id": "fdb952b8-aacb-4d16-83e2-3754758aded7",
   "metadata": {},
   "outputs": [
    {
     "name": "stdout",
     "output_type": "stream",
     "text": [
      "First array:\n",
      "[[1 2]\n",
      " [3 4]]\n",
      "\n",
      "\n",
      "Second array:\n",
      "[[5 6]\n",
      " [7 8]]\n",
      "\n",
      "\n",
      "Joining the two arrays along axis 0:\n",
      "[[1 2]\n",
      " [3 4]\n",
      " [5 6]\n",
      " [7 8]]\n",
      "\n",
      "\n",
      "Joining the two arrays along axis 1:\n",
      "[[1 2 5 6]\n",
      " [3 4 7 8]]\n"
     ]
    }
   ],
   "source": [
    "#Concatenation.\n",
    "a = np.array([[1,2],[3,4]]) \n",
    "\n",
    "print ('First array:') \n",
    "print (a) \n",
    "print ('\\n')  \n",
    "b = np.array([[5,6],[7,8]]) \n",
    "\n",
    "print ('Second array:') \n",
    "print (b) \n",
    "print ('\\n')  \n",
    "#Both the arrays are of same dimensions. \n",
    "\n",
    "print ('Joining the two arrays along axis 0:' )\n",
    "print (np.concatenate((a,b)) )\n",
    "print ('\\n')  \n",
    "\n",
    "print ('Joining the two arrays along axis 1:') \n",
    "print( np.concatenate((a,b),axis = 1))"
   ]
  },
  {
   "cell_type": "code",
   "execution_count": null,
   "id": "6d10ed18-85d0-43af-a407-5ad8636a54e8",
   "metadata": {},
   "outputs": [],
   "source": [
    "#Stacking.\n",
    "a = np.array([[1,2],[3,4]]) \n",
    "\n",
    "print ('First Array:') \n",
    "print (a )\n",
    "print ('\\n')\n",
    "b = np.array([[5,6],[7,8]]) \n",
    "\n",
    "print ('Second Array:') \n",
    "print (b) \n",
    "print ('\\n')  \n",
    "\n",
    "print ('Stack the two arrays along axis 0:' )\n",
    "print (np.stack((a,b),0) )\n",
    "print ('\\n')  \n",
    "\n",
    "print ('Stack the two arrays along axis 1:') \n",
    "print (np.stack((a,b),1))"
   ]
  },
  {
   "cell_type": "code",
   "execution_count": null,
   "id": "1b785a74-95e0-471b-8646-e8191f4a1877",
   "metadata": {},
   "outputs": [],
   "source": [
    "#Splitting arrays.\n",
    "a = np.arange(9) \n",
    "\n",
    "print ('First array:' )\n",
    "print (a )\n",
    "print ('\\n')  \n",
    "\n",
    "print ('Split the array in 3 equal-sized subarrays:' )\n",
    "b = np.split(a,3) \n",
    "print( b )\n",
    "print( '\\n'  )\n",
    "\n",
    "print ('Split the array at positions indicated in 1-D array:') \n",
    "b = np.split(a,[4,7])\n",
    "print( b )"
   ]
  },
  {
   "cell_type": "code",
   "execution_count": null,
   "id": "d530971a-f138-4888-8e51-008000d05541",
   "metadata": {},
   "outputs": [],
   "source": [
    "#Resize array.\n",
    "a = np.array([[1,2,3],[4,5,6]]) \n",
    "\n",
    "print ('First array:') \n",
    "print (a) \n",
    "print ('\\n')\n",
    "\n",
    "print( 'The shape of first array:' )\n",
    "print (a.shape )\n",
    "print ('\\n' ) \n",
    "b = np.resize(a, (3,2)) \n",
    "\n",
    "print ('Second array:' )\n",
    "print (b) \n",
    "print ('\\n')  \n",
    "\n",
    "print ('The shape of second array:') \n",
    "print (b.shape )\n",
    "print ('\\n')  \n",
    "# Observe that first row of a is repeated in b since size is bigger. \n",
    "\n",
    "print ('Resize the second array:' )\n",
    "b = np.resize(a,(3,3)) \n",
    "print (b)"
   ]
  },
  {
   "cell_type": "code",
   "execution_count": 3,
   "id": "7ebc335d-8051-4d70-b3b1-485c141d5c07",
   "metadata": {},
   "outputs": [
    {
     "name": "stdout",
     "output_type": "stream",
     "text": [
      "First array:\n",
      "[[1 2]\n",
      " [3 4]\n",
      " [5 6]]\n",
      "\n",
      "\n",
      "Axis parameter not passed. The input array is flattened before insertion.\n",
      "[ 1  2  3 11 12  4  5  6]\n",
      "\n",
      "\n",
      "Axis parameter passed. The values array is broadcast to match input array.\n",
      "Broadcast along axis 0:\n",
      "[[ 1  2]\n",
      " [11 11]\n",
      " [ 3  4]\n",
      " [ 5  6]]\n",
      "\n",
      "\n",
      "Broadcast along axis 1:\n"
     ]
    },
    {
     "data": {
      "text/plain": [
       "array([[ 1, 11,  2],\n",
       "       [ 3, 11,  4],\n",
       "       [ 5, 11,  6]])"
      ]
     },
     "execution_count": 3,
     "metadata": {},
     "output_type": "execute_result"
    }
   ],
   "source": [
    "#Insert.\n",
    "a = np.array([[1,2],[3,4],[5,6]]) \n",
    "\n",
    "print( 'First array:' )\n",
    "print(a) \n",
    "print ('\\n')  \n",
    "\n",
    "print ('Axis parameter not passed. The input array is flattened before insertion.')\n",
    "print(np.insert(a,3,[11,12]) )\n",
    "print ('\\n')  \n",
    "print ('Axis parameter passed. The values array is broadcast to match input array.')\n",
    "\n",
    "print ('Broadcast along axis 0:') \n",
    "print(np.insert(a,1,[11],axis = 0) )\n",
    "print ('\\n'  )\n",
    "\n",
    "print ('Broadcast along axis 1:' )\n",
    "np.insert(a,1,11,axis = 1)"
   ]
  },
  {
   "cell_type": "markdown",
   "id": "0eee187d-0600-4125-a651-2ab3780805cb",
   "metadata": {},
   "source": [
    "### 4.5) deleting rows or columns from a 2D array\n",
    "\n",
    "`np.delete(arrname,irow,axis=0)`\n",
    "\n",
    "`np.delete(arrname,icol,axis=1)`\n"
   ]
  },
  {
   "cell_type": "code",
   "execution_count": null,
   "id": "1aa6608c-e085-41c7-8bba-01e8093598be",
   "metadata": {},
   "outputs": [],
   "source": [
    "#Add code here"
   ]
  },
  {
   "cell_type": "markdown",
   "id": "22f9e1f0-6e60-421f-93e5-ee0544c8eafd",
   "metadata": {},
   "source": [
    "## 5.0) Very useful NumPy functions and methods\n",
    "\n",
    "Ones that look at whole array:\n",
    "\n",
    "- sort()\n",
    "- count()\n",
    "- unique()\n",
    "- where()\n",
    "\n",
    "\n"
   ]
  },
  {
   "cell_type": "markdown",
   "id": "78b3ef93-b4af-474f-93ef-0fbac8a54d0f",
   "metadata": {},
   "source": [
    "### 5.1) Sorting arrays\n",
    "\n",
    "Sorting a 1D array of numerical values is very easy with the `np.sort()` function.\n",
    "\n",
    "The default way to use this call is `newarr = no.sort(oldarr)`\n",
    "Where the oldarr is the one you want to sort, and newarr is the new array with the values from oldarr in numerical order. \n",
    "\n",
    "The array is automatically sorted in ascending order, but you can use the array manipulation `np.flip()` to reverse the order after sorting."
   ]
  },
  {
   "cell_type": "code",
   "execution_count": null,
   "id": "1732c8dd-54d0-43cb-8311-f271439a0b0d",
   "metadata": {},
   "outputs": [],
   "source": [
    "arr_rand = np.random.randint(0,100,20)  #make a random array of 20 integers between 0 and 100\n",
    "print('Random array: \\n',arr_rand)\n",
    "\n",
    "arr_sort = np.sort(arr_rand)\n",
    "print('Sorted array: \\n',arr_sort)\n",
    "\n",
    "print('Flipped sorted array: \\n',np.flip(arr_sort))"
   ]
  },
  {
   "cell_type": "markdown",
   "id": "c30cecd3-60f4-428e-83cf-f04b5391b6d5",
   "metadata": {},
   "source": [
    "---\n",
    "When sorting a 2D array, you can sort the order of the rows while keeping the row values together.\n",
    "\n",
    "This is a two step process, where you first use the `.argsort` method to get a list of the indicies for the sorted order and then rearrange the rows in that order.\n",
    "\n",
    "The example below shows how to sort the rows of a 2D table by the values in the 0 index column. \n",
    "\n",
    "Since the values in the 0 index column are (9,4,7) you would want the row with the value 4 first, then the row with the value 7 and finally the row with the value 9. "
   ]
  },
  {
   "cell_type": "code",
   "execution_count": null,
   "id": "1fed637c-8416-4eb6-b303-d6b3d5c0acff",
   "metadata": {},
   "outputs": [],
   "source": [
    "#First assign a 2D array\n",
    "\n",
    "arr = np.array([[9, 2, 3],\n",
    "                [4, 5, 6],\n",
    "                [7, 0, 5]])\n",
    "print('Random table: \\n',arr,'\\n')\n",
    "\n",
    "#Extract the index 0 column and pass that to the argsort method\n",
    "sorted_indices = arr[:, 0].argsort()\n",
    "print('The rows should be rearranged in the following index order:,\\n',sorted_indices,'\\n')\n",
    "\n",
    "#Then sort the table with the rows in that order\n",
    "sorted_arr = arr[sorted_indices]\n",
    "print('Sorted table: \\n',sorted_arr,'\\n')"
   ]
  },
  {
   "cell_type": "markdown",
   "id": "d5533be0-2e74-4eb7-8bc1-a77aa2913e55",
   "metadata": {},
   "source": [
    "How would you sort the table using the values in the index 1 column?\n",
    "\n",
    "Use the space below to test the coding yourself."
   ]
  },
  {
   "cell_type": "code",
   "execution_count": null,
   "id": "3a6f23c9-3337-442b-a8d5-10ba8d59472c",
   "metadata": {},
   "outputs": [],
   "source": [
    "#Try sorting by the second column here\n"
   ]
  },
  {
   "cell_type": "markdown",
   "id": "c569a268-c19a-4976-95f0-8e5fc1f0fbed",
   "metadata": {},
   "source": [
    "### 5.2) Searching and Filtering\n",
    "\n",
    "We saw in Section 3.2 of this tutorial, that we can do a comparison operator on a NumPy array to create an array of Boolean `True False` values. \n",
    "\n",
    "The boolean array can be used for selection of specific parts of an array, for choosing between options for analysis, or other related searching and filtering options. \n",
    "\n",
    "The array of boolean values can be saved into a variable name to use multiple times, or the condition code can be placed into another function. \n",
    "\n",
    "\n",
    "**Note** I have seen some documentation that refers to these conditional boolean arrays as \"masks\" but in the opposite sense of the official numpy masks (where `True` represents a value you want to ignore). \n",
    "\n",
    "For the following sections, we will assume that `True` represents a value we want. "
   ]
  },
  {
   "cell_type": "markdown",
   "id": "74624cee-1d93-4c77-bc5a-4a2a8056bc18",
   "metadata": {},
   "source": [
    "---\n",
    "**extract**\n",
    "\n",
    "A numpy function to extract elements from an array where is specific condition holds True is `np.extract()`.\n",
    "\n",
    "The syntax is `np.extract(condition,arr)` where the condition is the boolean expression and arr is the array. \n",
    "\n",
    "In the example below, only the values >= 0 are included in the output "
   ]
  },
  {
   "cell_type": "code",
   "execution_count": null,
   "id": "3de98624-0cb1-4244-96af-94f7a2a5990a",
   "metadata": {},
   "outputs": [],
   "source": [
    "# a is the full array\n",
    "a = np.array([9, 3, -1, 2, -7, 8, 0])\n",
    "print('Array a is:',a,\"with the length of\", len(a))\n",
    "\n",
    "# b is the shortened array choosen from a\n",
    "b= np.extract(a >=0,a)\n",
    "print('Array b is:',b,\"with a legnth of\",len(b))\n",
    "print()"
   ]
  },
  {
   "cell_type": "markdown",
   "id": "410a2a50-c7b8-4a3b-aa2b-f0091f04d29e",
   "metadata": {},
   "source": [
    "\n",
    "When creating the conditions, you can use a mixture of arrays. For example you can use the values in one array to determine which elements to select from another array. \n",
    "\n",
    "For example, you may have one array with a set of times, and another array with fluxes. You could use the values in the time array to determine the condition but then extract those same elements from the flux array. \n",
    "\n",
    "The example below is a simplified example. In this case we consider a hypothetical situation where you have data for a whole range of times but you only trust the middle times. You may not know the indicies to select by slicing, but you know the time values that are okay. \n",
    "\n"
   ]
  },
  {
   "cell_type": "code",
   "execution_count": null,
   "id": "d3d5e308-50f2-4166-ab14-7680673f7c22",
   "metadata": {},
   "outputs": [],
   "source": [
    "#Set up an array of times \n",
    "time = np.round(np.linspace(0,10,20),2)\n",
    "print('times',time)\n",
    "flux = np.array([189.0, 186.0, 6.211, 8.316, 10.421, 12.526, 14.632, 16.737, \n",
    "              18.842, 20.947, 23.053, 25.158, 27.263, 29.368, 31.474, \n",
    "              33.579, 35.684, 37.789, 112.0, 113.0])\n",
    "print('fluxes',flux)\n",
    "\n",
    "#define a condition where the middle times are considered valid, but you want to neglect the start and end\n",
    "midrange = (t > 2) & (t < 8)\n",
    "print('midrange condition')\n",
    "print(midrange)\n",
    "\n",
    "#select out the midrange values\n",
    "tok = np.extract(midrange,time)\n",
    "fok = np.extract(midrange,flux)\n",
    "\n",
    "print(tok,fok)"
   ]
  },
  {
   "cell_type": "markdown",
   "id": "bdfcef08-50a8-4ac4-80ca-15c6841f81ef",
   "metadata": {},
   "source": [
    "---\n",
    "\n",
    "The `np.where()` function is a powerful tool used for conditional selection and manipulation of arrays. The function allows you to search, filter, and apply conditions to elements of an array, returning specific elements based on the condition provided.  \n",
    "\n",
    "In its simplest form `np.where(condition)`, the function returns a tuple where the first item is a list of indices where the expression is true. \n",
    "\n",
    "The `condition` is typically a comparison operator on the array of the form `arr > 3` or `arr == 0`\n",
    "\n",
    "If you need the list of indices, you can select the 0th index from the tuple. This is shown in the examples below.\n",
    "\n"
   ]
  },
  {
   "cell_type": "code",
   "execution_count": null,
   "id": "bfc0384a-9742-4c71-bbd5-cb46acf68f15",
   "metadata": {},
   "outputs": [],
   "source": [
    "a = np.arange(10) +3\n",
    "print('a array is:\\n', a,'\\n')\n",
    "\n",
    "ind = np.where(a > 6)\n",
    "print('The indices where the array value is greater than 6 are: ')\n",
    "print(ind[0],'\\n')\n",
    "\n",
    "print('Selecting just the ones where the condition is true: \\n', a[ind])"
   ]
  },
  {
   "cell_type": "markdown",
   "id": "746007d3-f749-4884-a797-757d2f6f9dfa",
   "metadata": {},
   "source": [
    "---\n",
    "**Empty search results**\n",
    "If the condition you are searching for is not found in an array, then you will get an empty list.\n",
    "\n"
   ]
  },
  {
   "cell_type": "code",
   "execution_count": null,
   "id": "e90fd084-8a4a-4300-a191-ef55bd273f47",
   "metadata": {},
   "outputs": [],
   "source": [
    "a = np.arange(10)\n",
    "print('a array is:\\n', a,'\\n')\n",
    "\n",
    "ind = np.where(a < -1)\n",
    "print('The indexes where the array value is less than 5 are: \\n')\n",
    "print(ind,'\\n')\n",
    "\n",
    "print('Flattening the output gives: \\n', ind[0])"
   ]
  },
  {
   "cell_type": "markdown",
   "id": "4f9f9f17-8ac2-4401-bdf7-16b4c425a6ea",
   "metadata": {},
   "source": [
    "--- \n",
    "Where can also be used to replace values where a particular condition is met. \n",
    "\n",
    "In this form, the general format is `np.where(expression, x, y)`\n",
    "Where the expression is True, it returns the corresponding values from x and when the expression is False, it returns the corresponding values from y.\n",
    "\n",
    "In the example below, there is an array with negative and positive values. The `np.where` function is used to keep the values greater than or equal to zero with the original array values and replace the negative values with `np.nan`.\n",
    "\n",
    "The second example compares two arrays. Where the array 1 value is larger it uses that value, but where the array 2 value is larger it uses that value"
   ]
  },
  {
   "cell_type": "code",
   "execution_count": null,
   "id": "7d92c990-a45c-4415-a67c-3f15d1f95861",
   "metadata": {},
   "outputs": [],
   "source": [
    "x = np.array([9, 3, -1, 2, -7, 8, 0])\n",
    "\n",
    "xnan = np.where(x >= 0, x , np.nan)\n",
    "\n",
    "print(xnan)"
   ]
  },
  {
   "cell_type": "code",
   "execution_count": null,
   "id": "6a7a3fae-77e7-41a3-8df5-b4a843f467f6",
   "metadata": {},
   "outputs": [],
   "source": [
    "# Create two arrays of integers\n",
    "array1 = np.array([3, 10, 7, 4, 12])\n",
    "array2 = np.array([5, 6, 9, 8, 2])\n",
    "\n",
    "# Use numpy.where to select the highest value at each index\n",
    "max_values = np.where(array1 > array2, array1, array2)\n",
    "\n",
    "# Print the results\n",
    "print(\"Array 1:\", array1)\n",
    "print(\"Array 2:\", array2)\n",
    "print(\"Max at each index:\", max_values)"
   ]
  },
  {
   "cell_type": "code",
   "execution_count": null,
   "id": "db4989c4-8d86-4260-ab2a-2b5699e6a1a4",
   "metadata": {},
   "outputs": [],
   "source": [
    "# Create two arrays\n",
    "arr1 = np.array([10, 15, 20, 25, 30])\n",
    "arr2 = np.array([100, 150, 200, 250, 300])\n",
    "\n",
    "# Use np.where() to select elements from arr1 where the condition is true, and arr2 otherwise\n",
    "result = np.where(arr1 > 20, arr1, arr2)\n",
    "print(result)"
   ]
  },
  {
   "cell_type": "markdown",
   "id": "1c20f051-1214-4aaf-b9f0-4562d03cd541",
   "metadata": {},
   "source": [
    "As another example, I used the np.where() function to create the flu arrays where the initial values were not trustworthy using the code below. See if you can follow what it is doing."
   ]
  },
  {
   "cell_type": "code",
   "execution_count": null,
   "id": "c45a2db6-3f3c-47af-8a6d-5c076a170475",
   "metadata": {},
   "outputs": [],
   "source": [
    "#Set up an array of times \n",
    "t = np.linspace(0,10,20)\n",
    "print('times',t)\n",
    "\n",
    "# Create some reasonable linear flux values\n",
    "f = t*4+2\n",
    "print('fluxes',f)\n",
    "\n",
    "# Create some high random values\n",
    "ran = np.random.randint(100,200,20)\n",
    "print('random',ran)\n",
    "\n",
    "\n",
    "#define a condition where the middle times are considered valid, but you want to neglect the start and end\n",
    "midrange = (t > 1) & (t < 9)\n",
    "print('midrange condition')\n",
    "print(midrange)\n",
    "\n",
    "# Select okay values from the f array and the edge values from the random array\n",
    "flux = np.where(midrange,f,ran)\n",
    "\n",
    "#Create output that is easier to cut and paste into a cell to define the flu array.\n",
    "flux_short = np.round(flux,3)\n",
    "print(flux_short.tolist())"
   ]
  },
  {
   "cell_type": "markdown",
   "id": "d6d2a38e-de1d-4057-bd85-39ef28896002",
   "metadata": {},
   "source": [
    "---\n",
    "**Masked Arrays**\n",
    "\n",
    "When you have specific data values in an array or table that are missing or invalid. There may be times when you want to keep all of the data values but you only want to consider the valid data points in your analysis. In this case, you can create a mask.  When an element of the mask is False, the corresponding element of the associated array is valid and is said to be unmasked. When an element of the mask is True, the corresponding element of the associated array is said to be masked (invalid).\n",
    "\n",
    "Numpy has additional functions within the `numpy.ma` package that allow you to create a masked array (the array and mask are packaged together). \n",
    "\n",
    "Additional information is available at:\n",
    "https://numpy.org/doc/stable/reference/maskedarray.generic.html"
   ]
  },
  {
   "cell_type": "markdown",
   "id": "2fb39c77-64ca-469f-98ae-300c856430cc",
   "metadata": {},
   "source": [
    "### 5.3) Unique\n",
    "\n",
    "If you have a list of items and want to know what unique values are in there, you can use the `np.unique()` function.\n",
    "\n",
    "The input is an array and the output is the sorted unique elements (those at appear at least once in the array).\n",
    "\n",
    "A simple example is shown below with an array of integers.\n"
   ]
  },
  {
   "cell_type": "code",
   "execution_count": null,
   "id": "2c07094a-3b92-41f4-a87c-745189974d07",
   "metadata": {},
   "outputs": [],
   "source": [
    "arr = np.array([1, 2, 3, 2, 1, 5, 5, 4])\n",
    "unique_elements = np.unique(arr)\n",
    "print(f\"Unique elements: {unique_elements}\")\n"
   ]
  },
  {
   "cell_type": "markdown",
   "id": "d8f9c6c8-ad90-4f3d-ac6d-6818e627652c",
   "metadata": {},
   "source": [
    "Below is another example where the array is a list of astronomical filter bands designated by a single letter. \n",
    "In this example, we are extracting out the filters and excluding the repeats."
   ]
  },
  {
   "cell_type": "code",
   "execution_count": null,
   "id": "d347a054-bca3-422b-82ba-9767d83aa396",
   "metadata": {},
   "outputs": [],
   "source": [
    "# Create a string array of filter band names (with repeats)\n",
    "filters = np.array(['g', 'r', 'i', 'g', 'z', 'u', 'y', 'r', 'i', 'i'])\n",
    "\n",
    "# Find the unique filter names\n",
    "unique_filters = np.unique(filters)\n",
    "\n",
    "# Print the results\n",
    "print(\"Original filter array:\", filters)\n",
    "print(\"Unique filter bands:\", unique_filters)\n"
   ]
  },
  {
   "cell_type": "code",
   "execution_count": null,
   "id": "66dc1386-008d-4dfb-b17e-90c6dc4803d6",
   "metadata": {},
   "outputs": [],
   "source": [
    "# Create a string array of filter band names (with repeats)\n",
    "filters = np.array(['g', 'r', 'i', 'g', 'z', 'u', 'y', 'r', 'i', 'i'])\n",
    "\n",
    "# Find the unique filter names\n",
    "unique_filters, counts = np.unique(filters,return_counts=True)\n",
    "\n",
    "# Print the results\n",
    "print(\"Original filter array:\", filters)\n",
    "print(\"Unique filter bands:\", unique_filters)\n",
    "print(\"Counts:\",counts)\n"
   ]
  },
  {
   "cell_type": "markdown",
   "id": "fc14ceb4-52a2-4cf6-bd18-86b7071eab11",
   "metadata": {},
   "source": [
    "---\n",
    "**counts**\n",
    "\n",
    "As an optional argument to `np.unique` you can have it count the number of times each filter band is listed. \n"
   ]
  },
  {
   "cell_type": "code",
   "execution_count": null,
   "id": "e71df5dc-ac9d-407c-b672-80a7f692cf4a",
   "metadata": {},
   "outputs": [],
   "source": [
    "arr = np.array([1, 2, 3, 2, 1, 4, 5, 4])\n",
    "unique_elements = np.unique(arr)\n",
    "print(f\"Unique elements: {unique_elements}\")\n",
    "\n",
    "unique_elements, counts = np.unique(arr, return_counts=True)\n",
    "print(f\"Unique elements and their counts: {unique_elements}, {counts}\")"
   ]
  },
  {
   "cell_type": "markdown",
   "id": "c579cfb3-b248-427f-aaf0-47725be9076e",
   "metadata": {},
   "source": [
    "### 5.4) Dealing with np.nan values\n",
    "\n",
    "When a value of `np.nan` (Not A Number) appears in an array, it often requires special handling. Some of the functions below are used for these cases\n",
    "\n",
    "* `np.isnan()`: Returns a boolean array indicating where NaN values are present.\n",
    "* `np.nanmean()`, `np.nanmedian()`, `np.nansum()`, etc.: Functions that perform calculations while ignoring NaN values.\n",
    "* `np.nan_to_num()`: Replaces NaN (and infinity) values with a specified number (often zero).\n",
    "\n",
    "To show examples of these, we first create an array with some np.nan values. I use the example we created in the earlier section. "
   ]
  },
  {
   "cell_type": "code",
   "execution_count": null,
   "id": "6475763b-d169-4bb4-8410-d097599662e3",
   "metadata": {},
   "outputs": [],
   "source": [
    "x = np.array([9, 3, -1, 2, -7, 8, 0])\n",
    "xnan = np.where(x >= 0, x , np.nan)\n",
    "print(xnan)\n"
   ]
  },
  {
   "cell_type": "code",
   "execution_count": null,
   "id": "5b8d1cc3-739d-4002-b922-0658ef607c55",
   "metadata": {},
   "outputs": [],
   "source": [
    "#returns False if the element is a number, and True if the element is not a number\n",
    "inan = np.isnan(xnan)\n",
    "print(inan)"
   ]
  },
  {
   "cell_type": "code",
   "execution_count": null,
   "id": "29876adf-1805-4889-a71a-99559df27489",
   "metadata": {},
   "outputs": [],
   "source": [
    "# Find the sum the normal way\n",
    "print('The normal np.sum gives:', np.sum(xnan))\n",
    "print('The np.nansum gives:',np.nansum(xnan))"
   ]
  },
  {
   "cell_type": "code",
   "execution_count": null,
   "id": "ed3df10a-2fa6-42c5-91c7-5da007fdc15c",
   "metadata": {},
   "outputs": [],
   "source": [
    "# Find the sum the normal way\n",
    "print('The normal np.mean gives:', np.mean(xnan))\n",
    "print('The np.nanmean gives:',np.nanmean(xnan))"
   ]
  },
  {
   "cell_type": "code",
   "execution_count": null,
   "id": "de404b75-0aad-4d35-bd11-bd84292e526f",
   "metadata": {},
   "outputs": [],
   "source": [
    "#Replace the np.nan values with a zero\n",
    "znan = np.nan_to_num(xnan,copy=True,nan=0)\n",
    "print(znan)"
   ]
  },
  {
   "cell_type": "code",
   "execution_count": null,
   "id": "b24c3770-42af-41e1-81da-124f3afa6cf8",
   "metadata": {},
   "outputs": [],
   "source": [
    "#Replace the np.nan values with a value of 100\n",
    "ynan = np.nan_to_num(xnan,copy=True,nan=100)\n",
    "print(ynan)"
   ]
  },
  {
   "cell_type": "markdown",
   "id": "513d6a40-61b6-4c1e-b62d-70ba97f7dcfd",
   "metadata": {},
   "source": [
    "# Assignments\n",
    "\n",
    "\n",
    "Not ready yet."
   ]
  },
  {
   "cell_type": "markdown",
   "id": "fbce45c7-abc9-4c57-a650-ac42cdf3adb6",
   "metadata": {},
   "source": [
    "## Exercise 1)"
   ]
  },
  {
   "cell_type": "code",
   "execution_count": null,
   "id": "364b7757-2d82-48fa-b9a7-c3aa97ea826e",
   "metadata": {},
   "outputs": [],
   "source": []
  },
  {
   "cell_type": "markdown",
   "id": "eaaf26ad-2153-4922-b641-279b1313daa5",
   "metadata": {},
   "source": [
    "## Exercise 2)"
   ]
  },
  {
   "cell_type": "code",
   "execution_count": null,
   "id": "baa1d938-e1ec-4ce8-9eb7-404657e1a70c",
   "metadata": {},
   "outputs": [],
   "source": []
  },
  {
   "cell_type": "markdown",
   "id": "ee477746-ed68-448e-bde4-c7ee44129a79",
   "metadata": {},
   "source": [
    "## Exercise 3)"
   ]
  },
  {
   "cell_type": "code",
   "execution_count": null,
   "id": "35b4ab30-754e-4230-a401-595f84b692ec",
   "metadata": {},
   "outputs": [],
   "source": []
  }
 ],
 "metadata": {
  "kernelspec": {
   "display_name": "Python 3 (ipykernel)",
   "language": "python",
   "name": "python3"
  },
  "language_info": {
   "codemirror_mode": {
    "name": "ipython",
    "version": 3
   },
   "file_extension": ".py",
   "mimetype": "text/x-python",
   "name": "python",
   "nbconvert_exporter": "python",
   "pygments_lexer": "ipython3",
   "version": "3.12.4"
  }
 },
 "nbformat": 4,
 "nbformat_minor": 5
}

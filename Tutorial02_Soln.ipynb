{
 "cells": [
  {
   "cell_type": "markdown",
   "id": "65af24f2-ba6a-424a-9235-83015085d599",
   "metadata": {},
   "source": [
    "# Solutions for Tutorial 2: Basic Data Types in Python\n",
    "\n",
    "This notebook accompanies our Tutorial 2 notebook and shows several possible way to solve the assignments.\n",
    "\n",
    "This tutorial was compiled for the PAARE project at South Carolina State University in partnership with Clemson University and the University of the Virgin Islands and funded by NSF. (NSF grant AST  2319415)\n",
    "\n",
    "* Originally posted\n",
    "  * JCash June 13, 2025\n",
    "* Last modified:\n",
    "  * JCash June 13, 2025"
   ]
  },
  {
   "cell_type": "markdown",
   "id": "266ecfd0-2a66-4cb6-81ad-9ca6dac623e4",
   "metadata": {},
   "source": [
    "### 1.1) Imports needed\n",
    "\n",
    "It is always best practice to import the needed packages at the very top of the Notebook. As a Notebook is developed, you can always add to or take away from that cell. \n",
    "\n",
    "The cell should always be run before any other cells in the notebook and right after any changes to the import lists are given. "
   ]
  },
  {
   "cell_type": "code",
   "execution_count": 1,
   "id": "c96e37f1-3209-43fa-8940-8f51f866cbe0",
   "metadata": {},
   "outputs": [],
   "source": [
    "import numpy as np"
   ]
  },
  {
   "cell_type": "markdown",
   "id": "33bc44ce-3ec6-4beb-82aa-dc4a80519af7",
   "metadata": {},
   "source": [
    "## Excercise 1)\n",
    "\n",
    "* Assign 1 number each to the variables \"a\" and \"b\"\n",
    "* Predict the result of the following operations\n",
    "  * Add a and b\n",
    "  * Subtract a from b\n",
    "  * Calculate (a+b)/b\n",
    "  * Find the floor and remainder of that division\n",
    "* Write the code lines to do these calculations\n",
    "* Create a print statement for one of these calculations that includes text describing the calculation along with the result"
   ]
  },
  {
   "cell_type": "code",
   "execution_count": 11,
   "id": "2f97cd29-2c0d-4909-b01f-e15f640ffd29",
   "metadata": {},
   "outputs": [],
   "source": [
    "#Possible solution 1\n",
    "#step 1, Assign 1 number each to the variables \"a\" and \"b\"\n",
    "# the exact values chosen doesn't matter\n",
    "a = 5\n",
    "b = 4\n"
   ]
  },
  {
   "cell_type": "markdown",
   "id": "4835e64e-9be5-4e37-b62d-38d75a2505d2",
   "metadata": {},
   "source": [
    "#### We can predict what we would get for the calculations so that we know if we get the right answers from the code.\n",
    "\n",
    "If I use `a=5` and `b=4`\n",
    "\n",
    "then adding them should give me 9\n",
    "\n",
    "subtracting a from b would me -1\n",
    "\n",
    "The calculation of  (a+b)/b would be (5+4)/4 which would be 2.25\n",
    "\n",
    "The floor of that calculation would be 2\n",
    "\n",
    "The remainder of that calculation would be 1"
   ]
  },
  {
   "cell_type": "code",
   "execution_count": 12,
   "id": "6bdf48c5-a3ef-447e-ae7b-f54fd55869c9",
   "metadata": {},
   "outputs": [
    {
     "name": "stdout",
     "output_type": "stream",
     "text": [
      "a+b = 9\n"
     ]
    }
   ],
   "source": [
    "#The code to do this in python is \n",
    "a+b\n",
    "#To print that result use\n",
    "print('a+b =',a+b)"
   ]
  },
  {
   "cell_type": "code",
   "execution_count": 13,
   "id": "0a2e8d76-3947-450d-8de2-ea8aa0ad69ea",
   "metadata": {},
   "outputs": [
    {
     "name": "stdout",
     "output_type": "stream",
     "text": [
      "-1\n"
     ]
    }
   ],
   "source": [
    "print(b-a)"
   ]
  },
  {
   "cell_type": "code",
   "execution_count": 19,
   "id": "7ee5a443-41ef-4096-b881-9988c51952a0",
   "metadata": {},
   "outputs": [
    {
     "name": "stdout",
     "output_type": "stream",
     "text": [
      "2.25\n"
     ]
    }
   ],
   "source": [
    "c = (a+b)/b\n",
    "print(c)"
   ]
  },
  {
   "cell_type": "code",
   "execution_count": 15,
   "id": "5b0130b6-0be8-41c1-9b4f-ffdb95dda5a5",
   "metadata": {},
   "outputs": [
    {
     "name": "stdout",
     "output_type": "stream",
     "text": [
      "2\n"
     ]
    }
   ],
   "source": [
    "#The python code to find the floor would be \n",
    "floor_result = (a+b)//b\n",
    "print(floor_result)"
   ]
  },
  {
   "cell_type": "code",
   "execution_count": 23,
   "id": "43bd569c-817d-4e28-8cd4-ff215014508c",
   "metadata": {},
   "outputs": [
    {
     "name": "stdout",
     "output_type": "stream",
     "text": [
      "The remainder is  1\n"
     ]
    }
   ],
   "source": [
    "#The python code to find the remainder would be \n",
    "remainder_result = (a+b)%b\n",
    "print('The remainder is ',remainder_result)"
   ]
  },
  {
   "cell_type": "code",
   "execution_count": 25,
   "id": "40890427-9e31-4d50-a1fb-b04d344f91a2",
   "metadata": {},
   "outputs": [
    {
     "name": "stdout",
     "output_type": "stream",
     "text": [
      "a was set to  5\n",
      "b was set to  3\n",
      "adding them gives us  8\n"
     ]
    }
   ],
   "source": [
    "#Possible solution number 2\n",
    "#note that the variable names are short and not clear\n",
    "\n",
    "a=5\n",
    "b=3\n",
    "\n",
    "c=a+b\n",
    "d = b-a\n",
    "e=(a+b)/b\n",
    "f = (a+b)//b\n",
    "g= (a+b)%b\n",
    "\n",
    "print('a was set to ',a)\n",
    "print('b was set to ',b)\n",
    "print('adding them gives us ',c)"
   ]
  },
  {
   "cell_type": "code",
   "execution_count": null,
   "id": "95e52b8c-bbea-4614-bbe9-fcc002f93691",
   "metadata": {},
   "outputs": [],
   "source": []
  }
 ],
 "metadata": {
  "kernelspec": {
   "display_name": "Python 3 (ipykernel)",
   "language": "python",
   "name": "python3"
  },
  "language_info": {
   "codemirror_mode": {
    "name": "ipython",
    "version": 3
   },
   "file_extension": ".py",
   "mimetype": "text/x-python",
   "name": "python",
   "nbconvert_exporter": "python",
   "pygments_lexer": "ipython3",
   "version": "3.12.4"
  }
 },
 "nbformat": 4,
 "nbformat_minor": 5
}

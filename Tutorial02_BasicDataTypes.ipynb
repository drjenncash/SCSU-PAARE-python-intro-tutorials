{
 "cells": [
  {
   "cell_type": "markdown",
   "id": "e58d02f5",
   "metadata": {},
   "source": [
    "# Tutorial 2: Basic Data Types in Python\n",
    "\n",
    "Sections of this notebook come from several other tutorial notebooks including but not limited to the Python Documents at (https://docs.python.org/3/library/collections.html), the Geeks for Geels website (https://www.geeksforgeeks.org/python-data-types/). the Krittika Tutorials, and additional sources.\n",
    "\n",
    "This tutorial was compiled for the PAARE project at South Carolina State University in partnership with Clemson University and the University of the Virgin Islands and funded by NSF. (NSF grant AST  2319415)\n",
    "\n",
    "* Originally posted\n",
    "  * JCash Dec 29, 2024\n",
    "* Last modified:\n",
    "  * JCash June 9, 2025"
   ]
  },
  {
   "cell_type": "markdown",
   "id": "eca10907",
   "metadata": {},
   "source": [
    "# 1.0) Overview\n",
    "\n",
    "In any programming language, you will be working with data that the computer is using as it processes your command. The data might be numbers, characters, words, true/false values, or collections of data. As a first step in programming, you need to learn the difference between these types and how your programming language deals with each type. You also need to learn the specific syntax and assumptions the program will make when it deals with different data types.\n",
    "\n",
    "In this tutorial, you will work through some simple examples of each data type. Read the text that goes with each section. In general, assume that you should work through the tutorial in the order presented to make sure everything is defined before it is used.\n",
    "\n",
    "** Note: if you have no experience programming, and have not completed the first tutorial on Jupyter Notebooks, please go back and complete that before beginning this Notebook tutorial.\n"
   ]
  },
  {
   "cell_type": "markdown",
   "id": "a38285b6",
   "metadata": {},
   "source": [
    "### 1.1) Imports needed\n",
    "\n",
    "It is always best practice to import the needed packages at the very top of the Notebook. As a Notebook is developed, you can always add to or take away from that cell. \n",
    "\n",
    "The cell should always be run before any other cells in the notebook and right after any changes to the import lists are given. "
   ]
  },
  {
   "cell_type": "code",
   "execution_count": null,
   "id": "371a9388",
   "metadata": {},
   "outputs": [],
   "source": [
    "import numpy as np"
   ]
  },
  {
   "cell_type": "markdown",
   "id": "dd398774",
   "metadata": {},
   "source": [
    "### 1.2) Two useful functions\n",
    "\n",
    "To get information on data, we can use two built-in functions that will work on a wide variety of data types. \n",
    "\n",
    "- `print()` returns the contents of the () to the standard output\n",
    "\n",
    "- `type()` is used to let us know what the data type is for the quantity in the ()\n",
    "\n",
    "Try these out for yourself on a few very basic items:\n",
    "\n",
    "*Remember:* Lines that start with the `#` character are comments and are not executed with the code.\n",
    "Using comments helps to explain what is happening in the code."
   ]
  },
  {
   "cell_type": "code",
   "execution_count": null,
   "id": "14fe5b0a",
   "metadata": {},
   "outputs": [],
   "source": [
    "type(1)"
   ]
  },
  {
   "cell_type": "code",
   "execution_count": null,
   "id": "1926275e",
   "metadata": {},
   "outputs": [],
   "source": [
    "print(1)"
   ]
  },
  {
   "cell_type": "code",
   "execution_count": null,
   "id": "68da7f14-6aa7-4abb-ba17-d0bb3b0186d3",
   "metadata": {},
   "outputs": [],
   "source": [
    "type(1.0)"
   ]
  },
  {
   "cell_type": "code",
   "execution_count": null,
   "id": "5319fc87",
   "metadata": {},
   "outputs": [],
   "source": [
    "#We will learn more about strings in section 2.2 below.\n",
    "type('hello')"
   ]
  },
  {
   "cell_type": "code",
   "execution_count": null,
   "id": "ab228541",
   "metadata": {},
   "outputs": [],
   "source": [
    "print('hello')"
   ]
  },
  {
   "cell_type": "code",
   "execution_count": null,
   "id": "c4152e2c",
   "metadata": {},
   "outputs": [],
   "source": [
    "#type() can also tell you the result of a mathematical calculation{\".\"} \n",
    "type(1+2)"
   ]
  },
  {
   "cell_type": "code",
   "execution_count": null,
   "id": "2454e16a",
   "metadata": {},
   "outputs": [],
   "source": [
    "#print() can do a calculation and tell you what the result is{\".\"} \n",
    "print(1+2)"
   ]
  },
  {
   "cell_type": "markdown",
   "id": "98046a89",
   "metadata": {},
   "source": [
    "**Combining the Commands**\n",
    "\n",
    "You can combine the print and type commands together. \n",
    "\n",
    "When you print the type() of a value, notice that the output looks a little different. Instead of just telling you the type, it is a longer output with the data type enclosed in parenthesis with the class designation <class 'int'>. "
   ]
  },
  {
   "cell_type": "code",
   "execution_count": null,
   "id": "3f35e2c6",
   "metadata": {},
   "outputs": [],
   "source": [
    "print(type(1))"
   ]
  },
  {
   "cell_type": "markdown",
   "id": "cfd8a21b",
   "metadata": {},
   "source": [
    "If you have multiple print commands in the same cell, you will get outputs for each print statement in the order they were placed.\n"
   ]
  },
  {
   "cell_type": "code",
   "execution_count": null,
   "id": "20a28987",
   "metadata": {},
   "outputs": [],
   "source": [
    "print(1)\n",
    "print('hello')"
   ]
  },
  {
   "cell_type": "markdown",
   "id": "c6cf1043-2e0d-40c2-b30b-66bdfe9a738a",
   "metadata": {},
   "source": [
    "If you have multiple type commands in the same cell, only the final command will show up in the output. "
   ]
  },
  {
   "cell_type": "code",
   "execution_count": null,
   "id": "88fd8e6f",
   "metadata": {},
   "outputs": [],
   "source": [
    "type(1)\n",
    "type('hello')"
   ]
  },
  {
   "cell_type": "markdown",
   "id": "7622cd97-e2a7-4f4e-adbd-8c1636b91ab4",
   "metadata": {},
   "source": [
    "This is where the combined print and type can really help. "
   ]
  },
  {
   "cell_type": "code",
   "execution_count": null,
   "id": "17b863ab",
   "metadata": {},
   "outputs": [],
   "source": [
    "print(1)\n",
    "print(type(1))\n",
    "print('hello')\n",
    "print(type('hello'))"
   ]
  },
  {
   "cell_type": "markdown",
   "id": "bbb79f08-1a1c-41fb-a72e-621b8aec1d7f",
   "metadata": {},
   "source": [
    "**Multiple Prints and types**\n",
    "\n",
    "In a print statement, you can include more than one thing to be printed by separating them with commas. \n",
    "You cannot find the type of more than one thing in the same command. \n",
    "\n",
    "But you can create a single print statement that checks more than one type."
   ]
  },
  {
   "cell_type": "code",
   "execution_count": null,
   "id": "e9d523ff-7410-4f39-a6ba-32dc6e1a6824",
   "metadata": {},
   "outputs": [],
   "source": [
    "#This command works{\".\"}\n",
    "print(\"hello\", 1)"
   ]
  },
  {
   "cell_type": "code",
   "execution_count": null,
   "id": "c359fe06-011f-4faa-92b7-f6566397a89b",
   "metadata": {},
   "outputs": [],
   "source": [
    "#This command will give you a TypeError{\".\"}\n",
    "type(\"hello\",1)"
   ]
  },
  {
   "cell_type": "code",
   "execution_count": null,
   "id": "bcc804f2-f38e-44f2-9054-56f3c5560a78",
   "metadata": {},
   "outputs": [],
   "source": [
    "#This one works and makes the output make more sense{\".\"}\n",
    "print(\"My number is:\",1, \"with a type of:\", type(1))"
   ]
  },
  {
   "cell_type": "markdown",
   "id": "9b23b65d",
   "metadata": {},
   "source": [
    "# 2.0) Basic Data Types"
   ]
  },
  {
   "cell_type": "markdown",
   "id": "81498c28",
   "metadata": {},
   "source": [
    "## 2.1) Numbers"
   ]
  },
  {
   "cell_type": "markdown",
   "id": "d9d573f5",
   "metadata": {},
   "source": [
    "**Integers**\n",
    "\n",
    "Integers are the same as mathematical integers (numbers with no decimal places). So values like 1, 2, 4, 9, 16, 25, etc are considered integers. \n",
    "\n",
    "**Float**\n",
    "\n",
    "Numbers like 10.4, 2.39, .81, 1.96, etc. are all considered floats. \n",
    "\n",
    "Try out some of the examples below, and create your own cells to see for yourself. "
   ]
  },
  {
   "cell_type": "code",
   "execution_count": null,
   "id": "382f8a29",
   "metadata": {},
   "outputs": [],
   "source": [
    "type(1)"
   ]
  },
  {
   "cell_type": "code",
   "execution_count": null,
   "id": "d87d19db",
   "metadata": {},
   "outputs": [],
   "source": [
    "type(1.0) "
   ]
  },
  {
   "cell_type": "code",
   "execution_count": null,
   "id": "e9cb420d-f20d-4530-952e-6b5b63a495e8",
   "metadata": {},
   "outputs": [],
   "source": [
    "type(.5)"
   ]
  },
  {
   "cell_type": "code",
   "execution_count": null,
   "id": "12e9bc21-ffe8-418e-82a0-b36976b8f824",
   "metadata": {},
   "outputs": [],
   "source": [
    "type(1.)"
   ]
  },
  {
   "cell_type": "code",
   "execution_count": null,
   "id": "978503ac-2b5c-4086-9bd1-44ed9298c20d",
   "metadata": {},
   "outputs": [],
   "source": [
    "type(1+5)"
   ]
  },
  {
   "cell_type": "code",
   "execution_count": null,
   "id": "0b5b065f-711c-47a0-8d78-f086376b9955",
   "metadata": {},
   "outputs": [],
   "source": [
    "type(1.0+3.0)"
   ]
  },
  {
   "cell_type": "markdown",
   "id": "43a2761d-646c-48ae-8517-852041e2b11e",
   "metadata": {},
   "source": [
    "If you have large or small values, they are expressed in python as floats by using an exponent notation as shown below."
   ]
  },
  {
   "cell_type": "code",
   "execution_count": 2,
   "id": "94f7d062-32d2-456a-9972-f22a45b7dda0",
   "metadata": {},
   "outputs": [
    {
     "name": "stdout",
     "output_type": "stream",
     "text": [
      "12300.0\n",
      "0.000123\n"
     ]
    }
   ],
   "source": [
    "print(1.23e4)\n",
    "print(1.23e-4)"
   ]
  },
  {
   "cell_type": "markdown",
   "id": "e6ab9b85-a551-4db0-bdf8-ec28c06b195d",
   "metadata": {},
   "source": [
    "Below this cell, try some values on your own and see what types are. \n",
    "\n",
    "Maybe try combining int + float, and then float + int. "
   ]
  },
  {
   "cell_type": "code",
   "execution_count": null,
   "id": "f6b03e81-853e-4af0-a957-1a544adafb1b",
   "metadata": {},
   "outputs": [],
   "source": [
    "# What happens if you add an integer and a float, what type do you get? \n",
    "# Add your code below to test it out{\".\"}\n"
   ]
  },
  {
   "cell_type": "markdown",
   "id": "8be47645",
   "metadata": {},
   "source": [
    "## 2.2) Strings"
   ]
  },
  {
   "cell_type": "markdown",
   "id": "4c142cba",
   "metadata": {},
   "source": [
    "Strings are another form of data types. A String (str) is a set of characters pieced together to hold data. The len() function tells you how many characters are within a string. For example, the phrase \"Hello World\" is a string of 11 characters.  Even though the words \"Hello\" and \"World\" are both 5 characters each, strings count spaces as characters as well, thus \"Hello World\" has a length of 11 characters. "
   ]
  },
  {
   "cell_type": "code",
   "execution_count": null,
   "id": "a3a47057",
   "metadata": {},
   "outputs": [],
   "source": [
    "print(\"Hello World\")"
   ]
  },
  {
   "cell_type": "code",
   "execution_count": null,
   "id": "0bab90bf-b2f3-463f-9618-a706817fe8b2",
   "metadata": {},
   "outputs": [],
   "source": [
    "type(\"Hello World\")"
   ]
  },
  {
   "cell_type": "code",
   "execution_count": null,
   "id": "c0b60acd",
   "metadata": {},
   "outputs": [],
   "source": [
    "len(\"Hello World\")"
   ]
  },
  {
   "cell_type": "code",
   "execution_count": null,
   "id": "00a63309",
   "metadata": {},
   "outputs": [],
   "source": [
    "len(\"hello\")"
   ]
  },
  {
   "cell_type": "code",
   "execution_count": null,
   "id": "46f88dc0-6970-4229-a8ef-fa26699cf7f3",
   "metadata": {},
   "outputs": [],
   "source": [
    "len(\"My name is ...\")"
   ]
  },
  {
   "cell_type": "markdown",
   "id": "22e24574-e310-4195-ba7d-f78dc3188911",
   "metadata": {},
   "source": [
    "In the cell below, try out the `len()` and `type()` functions on your full name."
   ]
  },
  {
   "cell_type": "code",
   "execution_count": null,
   "id": "47ad84bc-927e-4376-be7b-e6a53cc178c1",
   "metadata": {},
   "outputs": [],
   "source": [
    "#type your name and use the length and type functions \n"
   ]
  },
  {
   "cell_type": "markdown",
   "id": "1d1f0dfe-5818-4a41-b6ff-f449700ad692",
   "metadata": {},
   "source": [
    "**Important** \n",
    "\n",
    "Precise syntax is very important when programming Strings. There is a distinct difference between double quotes `\"  \"` and single quotes`'  '`. Both can be used to create strings, but sometimes one is a bit easier than the other. \n",
    "\n",
    "Note(s) \n",
    "\n",
    "- The single quote character `'` is also called an apostrophe (found under the double quote mark on most keyboards).\n",
    "- There is another similar character called the backtick ` which is not used in defining a string (found under the ~ on most keyboards).\n",
    "- Be consistent when using `\"  \"` and `'  '`\n",
    "  - A common mistake that can be made is coding strings starting with `\"` and ending with `'` and vice versa.\n",
    "  - Whichever quote mark you use to start a string should be used to end that string.\n",
    "  - Some people prefer using `\"  \"` because they think of a String as a literal quote being said out loud.\n",
    "  - Some people prefer using `' '` because they don't have to hit the shift key when typing.\n",
    "\n",
    "\n",
    "Look at some examples below. "
   ]
  },
  {
   "cell_type": "code",
   "execution_count": null,
   "id": "85337e84-8dba-4f77-9128-2b0e71109b46",
   "metadata": {},
   "outputs": [],
   "source": [
    "print('this works') \n",
    "print(\"this works too\")"
   ]
  },
  {
   "cell_type": "markdown",
   "id": "ce60cb54-ddbc-48a9-b558-d2b27c5419da",
   "metadata": {},
   "source": [
    "\n",
    "Continued notes:\n",
    "- If a string contains a single or double quote, use the other to enclose the string\n",
    "  - A string that includes a contraction `'` would need to use double quotes `\" \"` on the outside\n",
    "  - A string that includes a quote from other people would need to use single quotes `' '` on the outside\n",
    "\n",
    "Look at some examples below. "
   ]
  },
  {
   "cell_type": "code",
   "execution_count": null,
   "id": "ef548e98-66b2-4da1-a4af-0b55c94a0a29",
   "metadata": {},
   "outputs": [],
   "source": [
    "# Here you are including a contraction in the string{\".\"}\n",
    "print(\"It's a great day\")"
   ]
  },
  {
   "cell_type": "code",
   "execution_count": null,
   "id": "0d8bc4ca-b0d4-4d79-94f1-fddab56d15f1",
   "metadata": {},
   "outputs": [],
   "source": [
    "# Here you are including a quotation in the string{\".\"}\n",
    "print('She said \"Hello\"')"
   ]
  },
  {
   "cell_type": "markdown",
   "id": "b58f1334-6900-47a0-b787-ced5cb02f33c",
   "metadata": {},
   "source": [
    "The examples below will **not work** because the quotation marks inside the string match the outside marks, causing the string to be broken. \n"
   ]
  },
  {
   "cell_type": "code",
   "execution_count": null,
   "id": "72cc6d7c-e33f-46a8-8c55-594fb86f15e7",
   "metadata": {},
   "outputs": [],
   "source": [
    "#This one will give a SyntaxError{\".\"}\n",
    "print('It's a great day')"
   ]
  },
  {
   "cell_type": "code",
   "execution_count": null,
   "id": "9888840a-c317-4c54-b65e-372d888fe9d8",
   "metadata": {},
   "outputs": [],
   "source": [
    "#This one also gives a SyntaxError{\".\"}\n",
    "print(\"She said \"Hello\"\")"
   ]
  },
  {
   "cell_type": "markdown",
   "id": "1b22a920-2da1-46a6-862c-fe2688d32dfa",
   "metadata": {},
   "source": [
    "**Complicated Strings**\n",
    "\n",
    "If you have a complicated string that has both single and double quotes in the string, then you can use a backslash `\\` to indicate the characters to use inside the string. \n",
    "\n",
    "In a python string the `\\` character is used as an *escape* character to indicate that the character immediately after the `\\` should be treated in a special way. \n",
    "\n",
    "- When using escape characters, it is typical to use the single quote marks on the outside\n",
    "  - an apostrophe inside the string is then indicated with `\\'`\n",
    "  - a quotation within a quotation can be indicated with `\\\"`\n",
    "  - the backslash itself can be included in a string using `\\\\`\n",
    "  - the newline can be added to a string using `\\n`\n",
    "\n",
    "Look at some examples below. "
   ]
  },
  {
   "cell_type": "code",
   "execution_count": null,
   "id": "f1a0c201-0483-41ea-a43d-7b7f74d453d9",
   "metadata": {},
   "outputs": [],
   "source": [
    "print('This string has both types of quotes \\\" It\\'s fun to quote people\\\" ') \n",
    "print('This way, it\\'s possible to print out \\\"quotes from other people\\\"')"
   ]
  },
  {
   "cell_type": "code",
   "execution_count": null,
   "id": "90932b72-cb6d-4ed3-9536-8131bb30c620",
   "metadata": {},
   "outputs": [],
   "source": [
    "# Use this format to actually get a backslash in the string\n",
    "print(\"This will insert one \\\\ (backslash).\") "
   ]
  },
  {
   "cell_type": "code",
   "execution_count": null,
   "id": "72f92a29-16a5-4f69-8f7a-4589b569e851",
   "metadata": {},
   "outputs": [],
   "source": [
    "# Here we use the special escape character for a newlline{remove 2nd \"l\"}\n",
    "print('Hello World!\\n It is a great day!')"
   ]
  },
  {
   "cell_type": "markdown",
   "id": "41b762fd-0d3e-48ee-8266-47d934f6786d",
   "metadata": {},
   "source": [
    "**Data Science**\n",
    "\n",
    "In data science, the ability to create strings with backslash `\\` may be necessary for filepaths on some operating systems. In addition you may have a reason to use the `\\n` when formatting documentation lines, creating a log string, or writing out results to a file. "
   ]
  },
  {
   "cell_type": "markdown",
   "id": "59977e71",
   "metadata": {},
   "source": [
    "## 2.3) Booleans"
   ]
  },
  {
   "cell_type": "markdown",
   "id": "b42e5a65",
   "metadata": {},
   "source": [
    "Boolean is a data type that has two possible outcomes: True or False. When establishing if something is True or False, case sensitivity matters. True and False must always be capitalized when coding. \n",
    "\n",
    "Look at the examples below. "
   ]
  },
  {
   "cell_type": "code",
   "execution_count": null,
   "id": "9a7d2c18",
   "metadata": {},
   "outputs": [],
   "source": [
    "type(True)"
   ]
  },
  {
   "cell_type": "code",
   "execution_count": null,
   "id": "9a702a5a-c7f8-4baf-8e0f-11ce23694704",
   "metadata": {},
   "outputs": [],
   "source": [
    "type(False)"
   ]
  },
  {
   "cell_type": "code",
   "execution_count": null,
   "id": "6eb12ac8-2c2e-4180-8fcf-9bea359b04a7",
   "metadata": {},
   "outputs": [],
   "source": [
    "print(True) \n",
    "print(False)"
   ]
  },
  {
   "cell_type": "markdown",
   "id": "518a3e04-8352-4956-9a0a-2ab0826b24df",
   "metadata": {},
   "source": [
    "**Be careful**\n",
    "\n",
    "Capitalization matters with booleans. \n",
    "\n",
    "You must use True, not true, and False, not false.\n",
    "\n",
    "The cell below shows an example of the error you would get with no capitalization."
   ]
  },
  {
   "cell_type": "code",
   "execution_count": null,
   "id": "07eb80f5-9912-45ba-b4d6-11d09eead99f",
   "metadata": {},
   "outputs": [],
   "source": [
    "type(true)"
   ]
  },
  {
   "cell_type": "markdown",
   "id": "dc8482fb-fd69-45a5-b744-7f1d0da005ea",
   "metadata": {},
   "source": [
    "## 2.4) NoneType\n",
    "\n",
    "`NoneType` is a special data type in Python that only has one value: `None`. \n",
    "\n",
    "The None keyword is used to define a null value, or no value at all.\n",
    "\n",
    "None is not the same as 0, False, or an empty string. Only `None` can be `NoneType`.\n",
    "\n"
   ]
  },
  {
   "cell_type": "code",
   "execution_count": null,
   "id": "400dc819-504c-4ce4-a00a-7ef9ffc92cd1",
   "metadata": {},
   "outputs": [],
   "source": [
    "type(None)"
   ]
  },
  {
   "cell_type": "markdown",
   "id": "2fa5ce9d-641a-425b-b651-80a9be1b0fdf",
   "metadata": {},
   "source": [
    "In future tutorials, you may see None if a function doesn't return a value or if a search comes up empty."
   ]
  },
  {
   "cell_type": "markdown",
   "id": "b884238e",
   "metadata": {},
   "source": [
    "# 3.0) Operations\n",
    "\n",
    "With operations in Python we are able to complete math operations on all kinds of data types (including Strings). "
   ]
  },
  {
   "cell_type": "markdown",
   "id": "b77be492",
   "metadata": {},
   "source": [
    "## 3.1) Basic operations with Numbers \n",
    "\n",
    "The simplest operations are addition, subtraction, multiplication, and division as shown in the cells below."
   ]
  },
  {
   "cell_type": "code",
   "execution_count": null,
   "id": "513a42e3",
   "metadata": {},
   "outputs": [],
   "source": [
    "#This is addition.\n",
    "5+3"
   ]
  },
  {
   "cell_type": "code",
   "execution_count": null,
   "id": "5f9fe5bb-aa88-453d-965d-a07bc21413c7",
   "metadata": {},
   "outputs": [],
   "source": [
    "#This is subtraction.\n",
    "7-6"
   ]
  },
  {
   "cell_type": "code",
   "execution_count": null,
   "id": "903ea8b0-b967-479a-a832-1c360bee8bad",
   "metadata": {},
   "outputs": [],
   "source": [
    "#This is multiplication.\n",
    "#Note: use an asterisk as the operation symbol, do not use an x for multiplication\n",
    "9*2 "
   ]
  },
  {
   "cell_type": "code",
   "execution_count": null,
   "id": "3989a975-67ae-4ca1-b58f-7f2e3febe5a0",
   "metadata": {},
   "outputs": [],
   "source": [
    "#This is division.\n",
    "8/4"
   ]
  },
  {
   "cell_type": "markdown",
   "id": "451463d3-2e8b-482f-802f-c49cec94dac0",
   "metadata": {},
   "source": [
    "Here we will look at some additional operations such as exponential, remainders, and division rounds. "
   ]
  },
  {
   "cell_type": "code",
   "execution_count": null,
   "id": "51643fb1-7101-41c0-a9a8-bf89393921da",
   "metadata": {},
   "outputs": [],
   "source": [
    "# exponential operation: ** \n",
    "# The first number input is the base number, and the second number after the double asterisk is the exponential number{\".\"} \n",
    "# For example: 2 to the 3rd power is 8; see below.\n",
    "2**3"
   ]
  },
  {
   "cell_type": "code",
   "execution_count": null,
   "id": "350b56cd-3aaa-48f3-8d0b-8deddd99f5e6",
   "metadata": {},
   "outputs": [],
   "source": [
    "#Division floor: //\n",
    "#This operation outputs how many times one number goes into another (with no remainder).\n",
    "#For example: if you divide 18 into groups of 7, you can get two full groups.\n",
    "18//7"
   ]
  },
  {
   "cell_type": "code",
   "execution_count": null,
   "id": "7b71401a-44fd-4739-92c9-f4d94fe58459",
   "metadata": {},
   "outputs": [],
   "source": [
    "# Remainder operation: %\n",
    "# This function outputs the remainder of an equation.\n",
    "# For example: divide 18 by 7 has a remainder of 4.\n",
    "18%7"
   ]
  },
  {
   "cell_type": "markdown",
   "id": "dc8166fb-aa0b-4cd3-b484-c7fd9da9ca47",
   "metadata": {},
   "source": [
    "## 3.2) Assignment operators "
   ]
  },
  {
   "cell_type": "markdown",
   "id": "36e1a8c9-1862-47ee-b089-3b70b27baae6",
   "metadata": {},
   "source": [
    "Python provides powerful tools for performing mathematical operations. In this section, we will explore basic arithmetic and more. Basic number operations work the same way as if you were to write them down or use them in math class, the only exception to this rule is the multiplication operation which is coded using an asterisk (*). \n",
    "\n",
    "See for more info:\n",
    "https://www.w3schools.com/python/python_operators.asp"
   ]
  },
  {
   "cell_type": "markdown",
   "id": "d6068ecc-918e-4ba2-b202-a39316557d11",
   "metadata": {},
   "source": [
    "Naming variables is really easy. \n",
    "\n",
    "variable_name = variable value\n",
    "\n",
    "Look at some examples below. "
   ]
  },
  {
   "cell_type": "markdown",
   "id": "65e69fc5-67a7-4af0-a3df-96f1fab13f3f",
   "metadata": {},
   "source": [
    "<font color=\"red\" >**EXTREMELY IMPORTANT NOTE ** </font>\n",
    "\n",
    "When declaring variables, make sure to not name your variable a predefined function name. The computer replace the predefined function with the variable. \n",
    "\n",
    "<font color=\"red\" >** So do not use a statement such as**</font> <font color=\"green\" > print = 3  </font>\n",
    "\n",
    "If you do, print will no longer work as a function!!!!\n",
    "\n",
    "A list of built-in functions for Python is available at:\n",
    "https://docs.python.org/3/library/functions.html"
   ]
  },
  {
   "cell_type": "code",
   "execution_count": null,
   "id": "112de901-9826-4546-9097-52554fcddbe7",
   "metadata": {},
   "outputs": [],
   "source": [
    "# Here you define the variable name x to be the value 3\n",
    "x = 3\n",
    "x"
   ]
  },
  {
   "cell_type": "code",
   "execution_count": null,
   "id": "2ad1e0e8-3a60-4228-9d84-3617e69534c4",
   "metadata": {},
   "outputs": [],
   "source": [
    "# Here you define the variable name y to be the value 4\n",
    "# It is generally considered easier to read if you leave a space on each side of the equal sign, but it is not required\n",
    "y=4\n",
    "y"
   ]
  },
  {
   "cell_type": "markdown",
   "id": "4b9dec25-14fb-48f9-a09d-f73af0e46d72",
   "metadata": {},
   "source": [
    "You can then use the variable_name with the print functions and with operations."
   ]
  },
  {
   "cell_type": "code",
   "execution_count": null,
   "id": "df6bbccd-dda3-48d9-881d-10d563b0ceb4",
   "metadata": {},
   "outputs": [],
   "source": [
    "print(x)\n",
    "print(y)"
   ]
  },
  {
   "cell_type": "code",
   "execution_count": null,
   "id": "2b3e3f65-7e90-4c0b-aa86-6561bb62d61a",
   "metadata": {},
   "outputs": [],
   "source": [
    "k = x + y\n",
    "k"
   ]
  },
  {
   "cell_type": "markdown",
   "id": "48af0b24-abc8-4a63-bbaf-9a660da775ad",
   "metadata": {},
   "source": [
    "Using print statements with assigned variables is a convenient way to create a very readable output. "
   ]
  },
  {
   "cell_type": "code",
   "execution_count": null,
   "id": "678e9ead-69e7-4fe6-aa1e-3d64f1145440",
   "metadata": {},
   "outputs": [],
   "source": [
    "#Here we assign some variables and then use a print statement to show the results\n",
    "year = 25\n",
    "month = year*12\n",
    "print(year,\" years is equal to \",month,\" months\")"
   ]
  },
  {
   "cell_type": "markdown",
   "id": "84adba94-ed30-4203-b643-c005b7eefaec",
   "metadata": {},
   "source": [
    "**Caution**\n",
    "\n",
    "The order of assignment matters. In the example below, the variable `a` is assigned first and then the variable `b` is assigned using a calculation that references `a`.\n",
    "\n",
    "If we then change the value assigned to `a`, it does not change the value in `b` automatically but keeps the value from when `b` was assigned."
   ]
  },
  {
   "cell_type": "code",
   "execution_count": null,
   "id": "f82ac942",
   "metadata": {},
   "outputs": [],
   "source": [
    "a = 1\n",
    "print('a = ',a)\n",
    "b = 3 + a\n",
    "print('b = ',b)\n",
    "a = 7\n",
    "print('a = ',a)\n",
    "print('b = ',b)"
   ]
  },
  {
   "cell_type": "markdown",
   "id": "18fb8393-2933-4d03-aa7b-40a12cab7e14",
   "metadata": {},
   "source": [
    "## 3.3) Comparison operators (Boolean)"
   ]
  },
  {
   "cell_type": "markdown",
   "id": "c4bb10f6-565f-4eb7-9de6-e3a33e16497a",
   "metadata": {},
   "source": [
    "Here we will talk about comparison operators. \n",
    "Comparison operators include equal to, less and less than or equal to, greater and greater than or equal to. \n",
    "The output for these functions is a True or False (boolean data type). "
   ]
  },
  {
   "cell_type": "markdown",
   "id": "6f1169ac-50e1-47e5-adbc-6b3fa6b774da",
   "metadata": {},
   "source": [
    "When using the equal to function, it needs to be two equal signs and not just one.\n",
    "\n",
    "Remember; one equal sign is used to define a variable; two are used to determine whether or not one value is equal to another. "
   ]
  },
  {
   "cell_type": "code",
   "execution_count": null,
   "id": "77ba9d3c-6960-437d-ab9e-ff8f8e38f591",
   "metadata": {},
   "outputs": [],
   "source": [
    "5 == 6"
   ]
  },
  {
   "cell_type": "code",
   "execution_count": null,
   "id": "07dbbf40-1204-4e9d-a2cf-29e725142ebe",
   "metadata": {},
   "outputs": [],
   "source": [
    "5 == 5"
   ]
  },
  {
   "cell_type": "markdown",
   "id": "8f8ffa79-a769-4d12-83f4-72d1a1dd466c",
   "metadata": {},
   "source": [
    "When using the inequality function, remember to put the function in the order that you would say it. \n",
    "For example, greater than or equal to: >=\n",
    "See some examples below. "
   ]
  },
  {
   "cell_type": "code",
   "execution_count": null,
   "id": "c34c27e0-4e3b-4e80-b76a-77c1beb62599",
   "metadata": {},
   "outputs": [],
   "source": [
    "6 > 7"
   ]
  },
  {
   "cell_type": "code",
   "execution_count": null,
   "id": "cf75b092-c46e-4a4e-be20-7bb703ac841c",
   "metadata": {},
   "outputs": [],
   "source": [
    "9 > 3"
   ]
  },
  {
   "cell_type": "code",
   "execution_count": null,
   "id": "a69a3de6-0692-4c25-850a-d6c02cc5c44b",
   "metadata": {},
   "outputs": [],
   "source": [
    "6 >= 6"
   ]
  },
  {
   "cell_type": "code",
   "execution_count": null,
   "id": "5667b35f-f60e-4200-815e-e7b148bccc86",
   "metadata": {},
   "outputs": [],
   "source": [
    "6 >= 8"
   ]
  },
  {
   "cell_type": "code",
   "execution_count": null,
   "id": "7035585f-9855-4db7-ac90-bb2c2e3998b9",
   "metadata": {},
   "outputs": [],
   "source": [
    "3 <= 2"
   ]
  },
  {
   "cell_type": "code",
   "execution_count": null,
   "id": "eeafd4af-48a3-455f-9b23-fc9bd693b50c",
   "metadata": {},
   "outputs": [],
   "source": [
    "3 >= 2"
   ]
  },
  {
   "cell_type": "markdown",
   "id": "ae813012",
   "metadata": {},
   "source": [
    "## 3.4) Operations on strings"
   ]
  },
  {
   "cell_type": "markdown",
   "id": "dd7ddf18-d3a4-4aa7-b9bc-f5a559fb7e7f",
   "metadata": {},
   "source": [
    "Many different operations can be done outside of just numbers; operations can be done on strings as well (but not in the same capacity). "
   ]
  },
  {
   "cell_type": "markdown",
   "id": "be657498-3ff1-470b-9730-d1b5e50bcb7b",
   "metadata": {},
   "source": [
    "**Concatenation** is the function that allows you to combine two strings together using the '+' operator. "
   ]
  },
  {
   "cell_type": "code",
   "execution_count": null,
   "id": "8289d74d",
   "metadata": {},
   "outputs": [],
   "source": [
    "str1 = \"Hello\" \n",
    "str2 = 'World' \n",
    "#had to define both strings into different variables \n",
    "result = str1 + \" \" + str2\n",
    "result"
   ]
  },
  {
   "cell_type": "markdown",
   "id": "95c1c520-8012-43d0-9677-038cb6cfe681",
   "metadata": {},
   "source": [
    "Notice the space \" \" in the middle of the result code. \n",
    "This space is not always needed when adding two strings together to piece a sentence together. \n",
    "Look and see what happens when I add the two strings together without a space. "
   ]
  },
  {
   "cell_type": "code",
   "execution_count": null,
   "id": "ddba0b6c-dfa5-4782-882b-cf5c1bf0a0fb",
   "metadata": {},
   "outputs": [],
   "source": [
    "result = str1 + str2\n",
    "result"
   ]
  },
  {
   "cell_type": "markdown",
   "id": "2fff4414-8cf0-4694-b1b3-16a6278ee69c",
   "metadata": {},
   "source": [
    "Repetition is another way that strings can be added to one another. \n",
    "You can use the * operator to repeat specific strings, but be careful when doing so. \n",
    "Look at some of the different ways below that strings can be repeated."
   ]
  },
  {
   "cell_type": "code",
   "execution_count": null,
   "id": "8b7909aa",
   "metadata": {},
   "outputs": [],
   "source": [
    "#this{capitalize} method repeats the strings with no spaces. \n",
    "print(\"hello\"*3)\n",
    "\n",
    "#you{capitalize} can also use variables for the string and/or the number.\n",
    "str3 = \"hello\"\n",
    "number = 4\n",
    "str4 = str3*number\n",
    "print(str4)"
   ]
  },
  {
   "cell_type": "markdown",
   "id": "2db53d33-b23e-4ab7-989a-3199c6fbef5a",
   "metadata": {},
   "source": [
    "**Disallowed operations**\n",
    "\n",
    "There are some String operations that are not allowed in python like division and subtraction. See below what happens if I try to subract or divide a string using the operations. "
   ]
  },
  {
   "cell_type": "code",
   "execution_count": null,
   "id": "62d0c677-2b93-4d71-aab1-44c5b806cdc0",
   "metadata": {},
   "outputs": [],
   "source": [
    "# This one will give a Type Error.\n",
    "print(str1 - str2)"
   ]
  },
  {
   "cell_type": "code",
   "execution_count": null,
   "id": "f6590798-d153-4456-8de6-e187ae5b0b4c",
   "metadata": {},
   "outputs": [],
   "source": [
    "# You still get a Type Error even if the second string is a part of the first string.\n",
    "print(str4-str3)"
   ]
  },
  {
   "cell_type": "code",
   "execution_count": null,
   "id": "addb3b1c-057c-4136-bf73-040845cc6468",
   "metadata": {},
   "outputs": [],
   "source": [
    "# This one will give a Type Error.\n",
    "print(str4/number)"
   ]
  },
  {
   "cell_type": "markdown",
   "id": "ddc24881-8a8e-4425-917a-0ba73bb7b6c7",
   "metadata": {},
   "source": [
    "## 3.5) Operations between types"
   ]
  },
  {
   "cell_type": "markdown",
   "id": "243d0620-903c-43ea-9731-690dc7179ba2",
   "metadata": {},
   "source": [
    "We have already seen that you can combine integers and floats in a single calculation and that you can use an integer to repeat a string.\n",
    "\n",
    "But, understand that combining all data types will not always work. Uncomment some of the cells below and see what happens when you combine some data types and see what the type() function does. "
   ]
  },
  {
   "cell_type": "code",
   "execution_count": null,
   "id": "68ff1180-0dfc-4412-b8df-d7899ea5488b",
   "metadata": {},
   "outputs": [],
   "source": [
    "#This will give you a Type Error.\n",
    "a = 1+'hello world'\n",
    "print(a,type(a))"
   ]
  },
  {
   "cell_type": "markdown",
   "id": "3c9f56bd-cf70-4408-96be-5d1faa49116f",
   "metadata": {},
   "source": [
    "The above cell does not work because Python does not know how to convert string types to a numerical value. Thus, the combination of an integer and a string does not work, unless you convert the integer to a string. "
   ]
  },
  {
   "cell_type": "code",
   "execution_count": null,
   "id": "76fb3a7a-c631-40f4-bdce-33b65de53d34",
   "metadata": {},
   "outputs": [],
   "source": [
    "#this{capitalize} one works and gives an integer result.\n",
    "a = True + 1\n",
    "print(a,type(a))"
   ]
  },
  {
   "cell_type": "markdown",
   "id": "5d84dace-721d-48fb-993a-6f766371a3e4",
   "metadata": {},
   "source": [
    "The above cell does work because Booleans have a value of either 0 or 1. Therefore, we are able to combine integers with a boolean expression. "
   ]
  },
  {
   "cell_type": "code",
   "execution_count": null,
   "id": "fb8fc642-dd7f-4bf5-8367-8e737c83da4b",
   "metadata": {},
   "outputs": [],
   "source": [
    "#this{capitalize} one doesn't work and gives a TypeError.\n",
    "a = True + 'Hello World'\n",
    "print(a,type(a))"
   ]
  },
  {
   "cell_type": "markdown",
   "id": "43b18947-13bf-43ec-87c2-ba06a82c2005",
   "metadata": {},
   "source": [
    "The above cell does not work because it is the same case as the first cell. Booleans have a value of 0 or 1, and strings have no numerical value assigned to it, so we are unable to combine a boolean expression with a string using addition. \n",
    "\n",
    "But the one below does work since a string can be multiplied by an integer."
   ]
  },
  {
   "cell_type": "code",
   "execution_count": null,
   "id": "6263a3eb",
   "metadata": {},
   "outputs": [],
   "source": [
    "#This one does work and gives a string repeated once (since True has a value of 1).\n",
    "a = 'Hello World'*True\n",
    "print(a,type(a))"
   ]
  },
  {
   "cell_type": "code",
   "execution_count": null,
   "id": "730af67a-50a8-4e0d-9c8a-6d5ed4bbf41f",
   "metadata": {},
   "outputs": [],
   "source": [
    "#Here we see a boolean and a float.\n",
    "a = False * 1.22222222222\n",
    "print(a,type(a))"
   ]
  },
  {
   "cell_type": "markdown",
   "id": "0606e431-c551-4b6c-be4c-1181e0d72ddd",
   "metadata": {
    "jp-MarkdownHeadingCollapsed": true
   },
   "source": [
    "The above cell does work because Booleans have an assigned numerical value to them, and floats are numbers. So combining a Boolean with a float produces a float type piece of data. "
   ]
  },
  {
   "cell_type": "markdown",
   "id": "84605dbf",
   "metadata": {},
   "source": [
    "# 4.0) Type Conversions"
   ]
  },
  {
   "cell_type": "markdown",
   "id": "f549ed07-5fce-4c75-883d-386dfdb0bafa",
   "metadata": {},
   "source": [
    "Type conversions are actually really easy once you get started. Follow along as we take you through int, flt, and str conversions. These can be done with values or with assigned variable names."
   ]
  },
  {
   "cell_type": "markdown",
   "id": "e8aa8bcd-1818-4e51-bd1e-1811597c1db5",
   "metadata": {},
   "source": [
    "## 4.1) to String \n",
    "\n",
    "All of the types we have talked about so far can be converted to strings."
   ]
  },
  {
   "cell_type": "code",
   "execution_count": null,
   "id": "668760fb-16df-4daa-a325-5af016cca8cf",
   "metadata": {},
   "outputs": [],
   "source": [
    "# int to str \n",
    "str(5)"
   ]
  },
  {
   "cell_type": "code",
   "execution_count": null,
   "id": "abe73f71-734b-413d-a20b-772413fdfaba",
   "metadata": {},
   "outputs": [],
   "source": [
    "# flt to str \n",
    "num = 42.0 \n",
    "str(num)"
   ]
  },
  {
   "cell_type": "code",
   "execution_count": null,
   "id": "d30fbe57-a29a-4ec3-b979-ea7f1ed4308a",
   "metadata": {},
   "outputs": [],
   "source": [
    "# bool to str \n",
    "str(True)"
   ]
  },
  {
   "cell_type": "code",
   "execution_count": null,
   "id": "650244e5-b48b-40bd-9acb-257b6d1ce2cb",
   "metadata": {},
   "outputs": [],
   "source": [
    "a = 1\n",
    "b = str(a)\n",
    "print(\"variable a is of type: \",type(a))\n",
    "print(\"variable b is of type: \",type(b))"
   ]
  },
  {
   "cell_type": "markdown",
   "id": "4f93ab45-a6a6-4d2a-9e36-66ca9197e789",
   "metadata": {},
   "source": [
    "## 4.2) to float\n",
    "\n",
    "Integers and booleans can always be converted to floats.\n",
    "\n",
    "Some strings can be converted to floats but only if the values in the string are all numbers."
   ]
  },
  {
   "cell_type": "code",
   "execution_count": null,
   "id": "0eebc464-393d-4f03-88bd-a4dc87fded0a",
   "metadata": {},
   "outputs": [],
   "source": [
    "#int to flt\n",
    "a = 36\n",
    "b = float(a)\n",
    "print(\"variable a is \",a,\" of type: \",type(a))\n",
    "print(\"variable b is \",b,\" of type: \",type(b))\n"
   ]
  },
  {
   "cell_type": "code",
   "execution_count": null,
   "id": "7e7bd26b-2921-4edc-901c-0016f67d07a2",
   "metadata": {},
   "outputs": [],
   "source": [
    "#bool to flt\n",
    "float(True)"
   ]
  },
  {
   "cell_type": "code",
   "execution_count": null,
   "id": "363ed4ae-88a1-4ffe-a479-0a0a0229fcfe",
   "metadata": {},
   "outputs": [],
   "source": [
    "#bool to flt \n",
    "float(False)"
   ]
  },
  {
   "cell_type": "code",
   "execution_count": null,
   "id": "0a1c301e-8a52-48b2-8e22-fcb1d4448fd3",
   "metadata": {},
   "outputs": [],
   "source": [
    "#str to flt\n",
    "num = '36'\n",
    "float(num)"
   ]
  },
  {
   "cell_type": "code",
   "execution_count": null,
   "id": "9bf4fb01-29b4-4653-a62e-361f59cea939",
   "metadata": {},
   "outputs": [],
   "source": [
    "#str to flt\n",
    "float('36.2')"
   ]
  },
  {
   "cell_type": "code",
   "execution_count": null,
   "id": "4b00677d-34f0-41c9-a3ce-95d3a499d972",
   "metadata": {},
   "outputs": [],
   "source": [
    "#str to float \n",
    "#This will give you a ValueError\n",
    "float(\"hello\")"
   ]
  },
  {
   "cell_type": "markdown",
   "id": "d1bcf016-7564-40e1-94f0-0da2e928a9e5",
   "metadata": {},
   "source": [
    "The above cell does not work because strings that contain characters do not have an inherient numerical value. "
   ]
  },
  {
   "cell_type": "markdown",
   "id": "070f10b9-ebe2-4dcc-856c-539ef41b87d7",
   "metadata": {},
   "source": [
    "## 4.3) to int \n",
    "\n",
    "Booleans easily go into integers. Floats that are converted to integers will lose the decimal information. \n",
    "\n",
    "Again, some strings can go into integers, but great care is needed."
   ]
  },
  {
   "cell_type": "code",
   "execution_count": null,
   "id": "1ecf1e2a-9e5e-4519-976a-cf0be84b1f06",
   "metadata": {},
   "outputs": [],
   "source": [
    "#flt to int\n",
    "my_flt = 20.0\n",
    "my_int = int(my_flt)\n",
    "print(\"my float variable is \",my_flt,\" of type: \",type(my_flt))\n",
    "print(\"my integer variable is \",my_int,\" of type: \",type(my_int))"
   ]
  },
  {
   "cell_type": "code",
   "execution_count": null,
   "id": "a4d54ac4-a20b-45f5-bfe0-e3ff09fc63b6",
   "metadata": {},
   "outputs": [],
   "source": [
    "#flt to int\n",
    "my_flt = 20.7\n",
    "my_int = int(my_flt)\n",
    "print(\"my float variable is \",my_flt,\" of type: \",type(my_flt))\n",
    "print(\"my integer variable is \",my_int,\" of type: \",type(my_int))"
   ]
  },
  {
   "cell_type": "code",
   "execution_count": null,
   "id": "c565ee9a-244a-45db-9809-8b6173981aa5",
   "metadata": {},
   "outputs": [],
   "source": [
    "#bool to int \n",
    "my_bool = True\n",
    "my_int = int(my_bool)\n",
    "print('The boolean ',my_bool,' becomes ',my_int, 'with a type of ',type(my_int))"
   ]
  },
  {
   "cell_type": "markdown",
   "id": "ff68b04d-b871-47a2-a82a-89aad394bce4",
   "metadata": {},
   "source": [
    "For strings, you can only directly convert strings which represent integers into integers. \n",
    "\n",
    "If you have a string which contains a decimal value, the conversion needs to have two steps. First convert the string into a float and then convert that float into an integer. This can be done in one line of code, but really has two steps."
   ]
  },
  {
   "cell_type": "code",
   "execution_count": null,
   "id": "f8f03d8c-348b-478f-ad00-8296610cfa5d",
   "metadata": {},
   "outputs": [],
   "source": [
    "#str to int\n",
    "int(\"42\")"
   ]
  },
  {
   "cell_type": "code",
   "execution_count": null,
   "id": "33436402-b9ff-4f96-a7c1-1043d881f020",
   "metadata": {},
   "outputs": [],
   "source": [
    "#str to int\n",
    "#This gives a ValueError\n",
    "int(\"42.3\")"
   ]
  },
  {
   "cell_type": "code",
   "execution_count": null,
   "id": "6c02e5ba-a5a1-4db2-a294-390d074ffe8c",
   "metadata": {},
   "outputs": [],
   "source": [
    "#str to int using float as a intermediate\n",
    "int(float(\"42.3\"))"
   ]
  },
  {
   "cell_type": "markdown",
   "id": "b6fa0748-c894-4825-b86a-7e644518e6b1",
   "metadata": {},
   "source": [
    "## 4.4) to Bool\n",
    "\n",
    "Numbers can also be converted into Booleans. \n",
    "\n",
    "The number zero will convert to a False value. This will happen if the zero value is an integer(0) or a float (0.0).\n",
    "\n",
    "Any other number will convert to a True value. "
   ]
  },
  {
   "cell_type": "code",
   "execution_count": null,
   "id": "0c83d3d9-af5a-4aba-a40f-de65514653cc",
   "metadata": {},
   "outputs": [],
   "source": [
    "#int to bool\n",
    "bool(0)"
   ]
  },
  {
   "cell_type": "code",
   "execution_count": null,
   "id": "98a60d62-27d3-434e-b5c6-45f6ca7d30cc",
   "metadata": {},
   "outputs": [],
   "source": [
    "bool(0.0)"
   ]
  },
  {
   "cell_type": "code",
   "execution_count": null,
   "id": "843a1cf8-2ddf-443f-90c6-e13f2366632a",
   "metadata": {},
   "outputs": [],
   "source": [
    "#int to bool\n",
    "bool(1)"
   ]
  },
  {
   "cell_type": "code",
   "execution_count": null,
   "id": "4eedbe99-bb04-48c6-9834-5051f415fbd7",
   "metadata": {},
   "outputs": [],
   "source": [
    "# int to bool\n",
    "bool(36)"
   ]
  },
  {
   "cell_type": "code",
   "execution_count": null,
   "id": "5f9acf2c-8285-4048-a151-b4f0677e50cc",
   "metadata": {},
   "outputs": [],
   "source": [
    "#float to bool \n",
    "bool(36.0)"
   ]
  },
  {
   "cell_type": "code",
   "execution_count": null,
   "id": "36cecda9-69d1-43f9-a9d1-9feee3adf1b5",
   "metadata": {},
   "outputs": [],
   "source": [
    "bool(-1)"
   ]
  },
  {
   "cell_type": "code",
   "execution_count": null,
   "id": "3751bcc6-cf3b-47dd-995c-0221242f9270",
   "metadata": {},
   "outputs": [],
   "source": [
    "bool(0.0000000001)"
   ]
  },
  {
   "cell_type": "markdown",
   "id": "89385a59-ef19-491b-94f2-2033c2fee716",
   "metadata": {},
   "source": [
    "Strings can also be converted to Boolean values, but not with the results you might expect. Try the examples below to see what happens."
   ]
  },
  {
   "cell_type": "code",
   "execution_count": null,
   "id": "e5de6b7a-a57a-408f-a2d1-77c234f4535a",
   "metadata": {},
   "outputs": [],
   "source": [
    "bool(\"True\")"
   ]
  },
  {
   "cell_type": "code",
   "execution_count": null,
   "id": "61d85016-ada0-4e24-8d5c-bc961ca03665",
   "metadata": {},
   "outputs": [],
   "source": [
    "bool(\"False\")"
   ]
  },
  {
   "cell_type": "code",
   "execution_count": null,
   "id": "6ffa2eb0-b665-422c-9a41-cdd22da14f4c",
   "metadata": {},
   "outputs": [],
   "source": [
    "bool(\"Hello\")"
   ]
  },
  {
   "cell_type": "code",
   "execution_count": null,
   "id": "6158e9bb-a984-414b-aec7-45347761bcab",
   "metadata": {},
   "outputs": [],
   "source": [
    "bool(\"5\")"
   ]
  },
  {
   "cell_type": "code",
   "execution_count": null,
   "id": "5383a00e-36e9-413e-a318-52f3925b39b8",
   "metadata": {},
   "outputs": [],
   "source": [
    "bool(\"0\")"
   ]
  },
  {
   "cell_type": "code",
   "execution_count": null,
   "id": "4fa09eb9-ab4e-416b-9508-3e323f007a01",
   "metadata": {},
   "outputs": [],
   "source": [
    "bool(\"\")"
   ]
  },
  {
   "cell_type": "markdown",
   "id": "5d8d5f32-7577-4bcd-a6f5-30352fd479b5",
   "metadata": {},
   "source": [
    "For strings, any non-empty string will convert to a True value.\n",
    "\n",
    "Only empty strings given by \"\" will convert as False. \n",
    "\n",
    "\n",
    "While this may seems confusing, the conversion here is checking to see if the string contains anything (yes, then it is True) or (no, then it is False). "
   ]
  },
  {
   "cell_type": "markdown",
   "id": "abb8146a",
   "metadata": {},
   "source": [
    "# 5.0) Numpy data types and functions\n",
    "\n",
    "\n",
    "\n",
    "`numpy` the package we imported at the beginning of this tutorial has many different math functions. The name `numpy` is short for NumericalPython and is sometimes written as NumPy in documentation. Look at some examples below to see the power of NumPy. \n",
    "\n",
    "We start by showing you just a few functions so that we can explore the DataTypes associated with the results."
   ]
  },
  {
   "cell_type": "markdown",
   "id": "64008daa-b521-4dfb-93f1-41758504744b",
   "metadata": {},
   "source": [
    "## 5.1) Common functions\n",
    "\n",
    "Below are examples of a few commonly used numpy math functions that we will look at. \n",
    "\n",
    "- np.sqrt(num)  finds the square root of a number\n",
    "- np.log10(num) find the base 10 logarithm of a number\n",
    "- np.round(num) rounds a number off to the desired decimal point\n",
    "- np.pi         represents the constant pi\n",
    "- np.sin(angle) finds the trigonometric sine assuming the angle is in radians\n",
    "\n",
    "\n",
    "A full list of the available functions can be found at:\n",
    "https://numpy.org/doc/stable/reference/routines.math.html\n"
   ]
  },
  {
   "cell_type": "code",
   "execution_count": null,
   "id": "86933e7e",
   "metadata": {},
   "outputs": [],
   "source": [
    "#This one gives the square root.\n",
    "np.sqrt(25)"
   ]
  },
  {
   "cell_type": "code",
   "execution_count": null,
   "id": "e2ae2e6b-39c6-4fd2-b52a-200845f60bdb",
   "metadata": {},
   "outputs": [],
   "source": [
    "#Here we use a variable and print statement. \n",
    "num=3\n",
    "print(\"The square root of \",num, \" is \", np.sqrt(num))"
   ]
  },
  {
   "cell_type": "code",
   "execution_count": null,
   "id": "d6170c8b-ce4c-470b-ad2a-285f4e6af7e2",
   "metadata": {},
   "outputs": [],
   "source": [
    "#This is log base 10.\n",
    "np.log10(1000)"
   ]
  },
  {
   "cell_type": "code",
   "execution_count": null,
   "id": "f5f06f3c-790c-4e99-a673-e762eb11e1e6",
   "metadata": {},
   "outputs": [],
   "source": [
    "#this{capitalize} gives the constant pi.\n",
    "print(np.pi)"
   ]
  },
  {
   "cell_type": "code",
   "execution_count": null,
   "id": "45e091ac-41f3-4508-9b77-19b8252f21b6",
   "metadata": {},
   "outputs": [],
   "source": [
    "#Here we round some numbers, if a second number is given then it is the number of decimal places.\n",
    "a = 2.4565\n",
    "b = 2.5012\n",
    "print(a,' rounds to ', np.round(a))\n",
    "print(a,' rounds to ', np.round(a,2))\n",
    "print(b,'rounds to ', np.round(b))\n",
    "print(b,' rounds to ', np.round(b,2))"
   ]
  },
  {
   "cell_type": "code",
   "execution_count": null,
   "id": "c355d323-92a6-4d8d-b54f-f1c73a83c40e",
   "metadata": {},
   "outputs": [],
   "source": [
    "#Here we use pi and the trig functions.\n",
    "angle = np.pi / 6\n",
    "print(\"angle: \", angle)\n",
    "print(\"Sine: \", np.sin(angle)) \n",
    "print(\"Cosine: \", np.cos(angle))\n",
    "print(\"Tangent: \", np.tan(angle))"
   ]
  },
  {
   "cell_type": "markdown",
   "id": "fb9f97ea-dc4f-4db7-a666-c97ea5390125",
   "metadata": {},
   "source": [
    "## 5.2) NumPy data types\n",
    "\n",
    "Using some of the math functions we saw above, we can now examine the DataTypes that result from some of these.\n"
   ]
  },
  {
   "cell_type": "markdown",
   "id": "3a8cb108-a20d-4a59-8e15-02294dd4c245",
   "metadata": {},
   "source": [
    "\n",
    "\n",
    "**numpy.float64**\n",
    "\n",
    "In general, numpy will return a float data type. The data type may be listed as \"numpy.float64\" which is a float with higher decimal precision. \n",
    "\n",
    "**float**\n",
    "\n",
    "Some things like the constant pi are stored as regular float values.\n",
    "\n"
   ]
  },
  {
   "cell_type": "code",
   "execution_count": null,
   "id": "99da54b7",
   "metadata": {},
   "outputs": [],
   "source": [
    "#For the square root,\n",
    "num=3\n",
    "print(\"The square root of \",num, \" is \", np.sqrt(num), \"which has a type of \",type(np.sqrt(num)))"
   ]
  },
  {
   "cell_type": "code",
   "execution_count": null,
   "id": "7a87b4cf",
   "metadata": {},
   "outputs": [],
   "source": [
    "#For the log base 10,\n",
    "num = 3000\n",
    "print(\"The log10 \",num, \" is \", np.log10(num), \"which has a type of \",type(np.log10(num)))"
   ]
  },
  {
   "cell_type": "code",
   "execution_count": null,
   "id": "cb676690-251c-4236-bc99-61d657044ae9",
   "metadata": {},
   "outputs": [],
   "source": [
    "# For rounding,\n",
    "a = 2.4565\n",
    "print(a,' rounds to ', np.round(a),'and has a type ',type(np.round(a,0)))"
   ]
  },
  {
   "cell_type": "code",
   "execution_count": null,
   "id": "b2a76cd3-4654-4ebd-b4b8-c83322ddfbd4",
   "metadata": {},
   "outputs": [],
   "source": [
    "#For pi,\n",
    "print(np.pi, 'has a DataType of ',type(np.pi))"
   ]
  },
  {
   "cell_type": "markdown",
   "id": "1c7dab82-cd50-4a49-9ff0-f51980ee1596",
   "metadata": {},
   "source": [
    "**np.nan** \n",
    "\n",
    "If a calculation encounters an invalid number (such as the sqrt or log base 10 of a negative number), numpy will give a warning instead of an error. \n",
    "\n",
    "The result will be set to a specific value called `np.nan` which stands for \"Not a Number\".\n",
    "\n",
    "`np.nan` is considered to have a dataType of `numpy.float64` but the numpy functions treat it as a special case.\n",
    "\n",
    "The advantage here is the remaining code is allowed to run but at the end, you see that your result was not a number. \n"
   ]
  },
  {
   "cell_type": "code",
   "execution_count": null,
   "id": "7fe4affa-7877-4390-b78c-9e891779516d",
   "metadata": {},
   "outputs": [],
   "source": [
    "# For the square root of a negative number{\".\"}\n",
    "num = -3\n",
    "result = np.sqrt(num)\n",
    "print(\"The square root of \",num, \" is \", result)\n",
    "print(result,' has a type ', type(result))\n",
    "\n",
    "print(result+2)\n",
    "print('done now')"
   ]
  },
  {
   "cell_type": "markdown",
   "id": "cbeef6c5-d556-46e8-b035-4a4497241da3",
   "metadata": {},
   "source": [
    "**np.inf**\n",
    "\n",
    "Similarly, there is a numpy representation of infinity and minus infinity if a calculation divides by zero. \n",
    "\n",
    "In the first cell below, you see how regular Python handles it and then how it is handled if you have numpy floats in the calculation."
   ]
  },
  {
   "cell_type": "code",
   "execution_count": null,
   "id": "d1d33542-e7eb-4b62-a0f4-9dfc8e7cd4ed",
   "metadata": {},
   "outputs": [],
   "source": [
    "a = 4.0\n",
    "b = a/0.0\n",
    "print('result is ', b)"
   ]
  },
  {
   "cell_type": "code",
   "execution_count": null,
   "id": "13315b60",
   "metadata": {},
   "outputs": [],
   "source": [
    "a = np.sqrt(25)\n",
    "b = a/0.0\n",
    "print('result is ', b)\n",
    "print(b,'has a DataType of ',type(b))"
   ]
  },
  {
   "cell_type": "markdown",
   "id": "8b0034c0-6231-4348-9fea-00e9a0a42e65",
   "metadata": {},
   "source": [
    "\n",
    "Ways to specify the data type for numpy operations, and how to convert between numpy data types, will be covered in future tutorials. \n",
    "\n",
    "A full description of NumPy data types is given at the documentation website:\n",
    "https://numpy.org/doc/stable/user/basics.types.html"
   ]
  },
  {
   "cell_type": "markdown",
   "id": "f57883b3-b744-4500-8abf-535f2a037672",
   "metadata": {},
   "source": [
    "## 5.3)Documentation for numpy\n",
    "\n",
    "You can use the python help() function to get more information on a particular numpy function (as demonstrated below). \n",
    "\n",
    "You can also find complete documentation of all numpy functions at:\n",
    "<a href=\"https://numpy.org/doc/stable/reference/routines.math.html\"> https://numpy.org/doc/stable/reference/routines.math.html </a>"
   ]
  },
  {
   "cell_type": "code",
   "execution_count": null,
   "id": "e073e1cd-0da9-4a2e-bab7-abbeff6abf85",
   "metadata": {},
   "outputs": [],
   "source": [
    "#Uncomment the line below by removing the # symbol in front and then executing the cell.\n",
    "\n",
    "#help(np.sqrt)"
   ]
  },
  {
   "cell_type": "markdown",
   "id": "4705a873",
   "metadata": {},
   "source": [
    "# Assignment\n",
    "\n",
    "\n",
    "To practice the concepts you learned in this tutorial, try the following exercises. Feel free to look back at the tutorial as you go. "
   ]
  },
  {
   "cell_type": "markdown",
   "id": "1bb3fa10-8b56-4eb6-80c0-cd310c1c40fa",
   "metadata": {},
   "source": [
    "## Excercise 1)\n",
    "\n",
    "* Assign 1 number each to the variables \"a\" and \"b\"\n",
    "* Predict the result of the following operations\n",
    "  * Add a and b\n",
    "  * Subtract a from b\n",
    "  * Calculate (a+b)/b\n",
    "  * Find the floor and remainder of that division\n",
    "* Write the code lines to do these calculations\n",
    "* Create a print statement for one of these calculations that includes text describing the calculation along with the result"
   ]
  },
  {
   "cell_type": "code",
   "execution_count": null,
   "id": "d04967a4",
   "metadata": {},
   "outputs": [],
   "source": [
    "# Enter your code below\n"
   ]
  },
  {
   "cell_type": "markdown",
   "id": "30f5408f-37e5-466b-8444-12a99bacf848",
   "metadata": {},
   "source": [
    "## Exercise 2) \n",
    "\n",
    "* Create a string variable with your name\n",
    "* Create an integer variable with any value you want\n",
    "* Convert the integer to a string\n",
    "* Create a new string variable that concatenates the name and number into a single string"
   ]
  },
  {
   "cell_type": "code",
   "execution_count": null,
   "id": "36071f2c-bdcd-408e-8c14-ef83dc282173",
   "metadata": {},
   "outputs": [],
   "source": [
    "# Enter your code below\n"
   ]
  },
  {
   "cell_type": "markdown",
   "id": "f41751eb-3f6f-4696-b106-13ca8df24913",
   "metadata": {},
   "source": [
    "## Exercise 3)\n",
    "\n",
    "In Astronomy, we often work with spheres. Find the surface area of a sphere for a particular radius.\n",
    "* Define a variable for the radius using a value of your choice\n",
    "* Calculate the surface area of the star using the numpy pi constant and the numpy square function\n",
    "* Create a nice print statement to output your radius and area"
   ]
  },
  {
   "cell_type": "code",
   "execution_count": null,
   "id": "a58d8bcd-1f89-4baa-bcf7-140d67d0e86e",
   "metadata": {},
   "outputs": [],
   "source": [
    "#Enter your code below\n"
   ]
  },
  {
   "cell_type": "code",
   "execution_count": null,
   "id": "9869c264-75bc-4215-abcd-054bdb4dd14a",
   "metadata": {},
   "outputs": [],
   "source": []
  }
 ],
 "metadata": {
  "kernelspec": {
   "display_name": "Python 3 (ipykernel)",
   "language": "python",
   "name": "python3"
  },
  "language_info": {
   "codemirror_mode": {
    "name": "ipython",
    "version": 3
   },
   "file_extension": ".py",
   "mimetype": "text/x-python",
   "name": "python",
   "nbconvert_exporter": "python",
   "pygments_lexer": "ipython3",
   "version": "3.12.4"
  }
 },
 "nbformat": 4,
 "nbformat_minor": 5
}

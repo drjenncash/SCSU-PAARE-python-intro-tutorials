{
 "cells": [
  {
   "cell_type": "markdown",
   "id": "16485e90",
   "metadata": {},
   "source": [
    "# Tutorial 4: Conditionals and Control Flow in Python\n",
    "\n",
    "Sections of this notebook come from several other tutorial notebooks including but not limited to the Python Documents at https://docs.python.org/3/tutorial/controlflow.html, \n",
    "the Geeks for Geeks website (https://www.geeksforgeeks.org/conditional-statements-in-python/), \n",
    "the W3 tutorials (https://www.w3schools.com/python/python_conditions.asp),\n",
    "the Krittika Tutorials, and additional sources.\n",
    "\n",
    "\n",
    "\n",
    "This tutorial was compiled for the PAARE project at South Carolina State University in partnership with Clemson University and the University of the Virgin Islands and funded by NSF.  (NSF grant AST  2319415)\n",
    "\n",
    "* Original posting:\n",
    "  * JCash 06-09-2025\n",
    "* Last modification:\n",
    "  * JCash 06-20-2025"
   ]
  },
  {
   "cell_type": "markdown",
   "id": "1dda7716",
   "metadata": {},
   "source": [
    "## Overview \n",
    "\n",
    "In this tutorial, we will explore programming concepts of: \n",
    "\n",
    "* Conditional Expressions\n",
    "  - comparison operators\n",
    "  - Boolean math\n",
    "  - truth expressions \n",
    "* Control Flow\n",
    "  - if statements\n",
    "  - for loops\n",
    "  - while loops \n",
    "\n",
    "If you have no prior programming experience, you may want to do an introduction to algorithms and decision trees before starting this tutorial. I will add a few suggestions here soon. "
   ]
  },
  {
   "cell_type": "markdown",
   "id": "c19ecdb5-9450-4997-ae72-deba65cc099c",
   "metadata": {},
   "source": [
    "### Imports Needed"
   ]
  },
  {
   "cell_type": "code",
   "execution_count": null,
   "id": "6e70832e-9d27-499e-94b9-fa4210f4a258",
   "metadata": {},
   "outputs": [],
   "source": [
    "import numpy as np"
   ]
  },
  {
   "cell_type": "markdown",
   "id": "1f737bcd-1d4b-4551-b170-533d9703fa4b",
   "metadata": {},
   "source": [
    "## 1.0) Conditional Expressions\n",
    "\n",
    "Conditional expressions are code sections that check if a statement is `True` or `False`.\n",
    "\n",
    "We have seen some these already when we looked at Boolean operators in a previous tutorial. There are additional forms that can also be used as conditional expressions which are also explored here."
   ]
  },
  {
   "cell_type": "markdown",
   "id": "4937130e-4921-4764-916c-54c04fcf5334",
   "metadata": {},
   "source": [
    "### 1.1) Boolean Comparison Operators Review"
   ]
  },
  {
   "cell_type": "markdown",
   "id": "c9b49814-03f2-4b9a-a62a-198ce1ac8ba9",
   "metadata": {},
   "source": [
    "As a basic review. here are the boolean operators that you should have already seen:\n",
    "* Equals: a == b\n",
    "* Not Equals: a != b\n",
    "* Less than: a < b\n",
    "* Less than or equal to: a <= b\n",
    "* Greater than: a > b\n",
    "* Greater than or equal to: a >= b"
   ]
  },
  {
   "cell_type": "code",
   "execution_count": null,
   "id": "4597c1fc-8121-4635-bae7-bf0397506cec",
   "metadata": {},
   "outputs": [],
   "source": [
    "print('1 == 2', 1 == 2)\n",
    "print('1 != 2',1 != 2)\n",
    "print('1 < 2',1 < 2)\n",
    "print('1 > 2',1 > 2)"
   ]
  },
  {
   "cell_type": "markdown",
   "id": "067c55b7-2042-4513-82fd-7a3180d95e94",
   "metadata": {},
   "source": [
    "### 1.2) Boolean Math\n",
    "\n",
    "We can combine boolean values using the `and` `or` operators.\n",
    "\n",
    "These operators can only be used for boolean values (not strings or numbers)."
   ]
  },
  {
   "cell_type": "code",
   "execution_count": null,
   "id": "69a7efff-c680-4aeb-9b03-ad6e377035fe",
   "metadata": {},
   "outputs": [],
   "source": [
    "# These examples show how the and operator behaves.\n",
    "print(\"True and True gives\", True and True)\n",
    "print(\"True and False gives\", True and False)\n",
    "#expand with other cases"
   ]
  },
  {
   "cell_type": "code",
   "execution_count": null,
   "id": "76ed9338-7190-4826-9a94-7b3646cfd7ca",
   "metadata": {},
   "outputs": [],
   "source": [
    "# These examples show how the or operator behaves.\n",
    "print(\"True or True gives\", True or True)\n",
    "print(\"True or False gives\", True or False)\n",
    "print(\"False or False gives\", False or False)\n",
    "#expand with other cases"
   ]
  },
  {
   "cell_type": "markdown",
   "id": "8c166f50-1f18-4e3e-b1a8-bb4d29fe6bfb",
   "metadata": {},
   "source": [
    "### 1.3) Expressions to check truth\n",
    "\n",
    "For the various DataTypes we have seen, there are special ways to check if the value meets specific criteria. \n",
    "\n",
    "For `is` checks:\n",
    "- With strings, you can check to see if the full string contains only digits (0-9) or just letters.\n",
    "- For numeric values, you can check to see if the value is an integer.\n",
    "\n",
    "\n",
    "For `in` checks:\n",
    "- For strings, you can see if a substring is included in a larger string.\n",
    "- For list and dictionaries, you can see if a particular value is included in the values.\n",
    "\n",
    "The examples covered here are a subset of the available expressions. "
   ]
  },
  {
   "cell_type": "markdown",
   "id": "e22b2dbe-c9d7-4e2d-81d7-476edbddeb7f",
   "metadata": {},
   "source": [
    "#### 1.3.1) is checks\n",
    "\n",
    "The following methods act on a string represented by `txt` and return a Boolean value.\n",
    "\n",
    "`txt.isdigit()`   Check{s} if all the characters in the text are digits.\n",
    "\n",
    "`txt.isalpha()`   Check{s} if all the characters in the text are letters.\n",
    "\n",
    "You can also check if a value is a np.nan type, but this will be explored in more detail in the numpy tutorial."
   ]
  },
  {
   "cell_type": "code",
   "execution_count": null,
   "id": "fed24832-da59-4135-9ad7-077284a4c054",
   "metadata": {},
   "outputs": [],
   "source": [
    "# define three strings with different properties\n",
    "txt1 = '89734'\n",
    "txt2 = 'Hello'\n",
    "txt3 = 'Hello123'"
   ]
  },
  {
   "cell_type": "code",
   "execution_count": null,
   "id": "ec0d3949-5963-4fb4-983c-dd9626082509",
   "metadata": {},
   "outputs": [],
   "source": [
    "#Check a string to see if it has all digits{\".\"}\n",
    "print('checking txt1 for all digits',txt1.isdigit())\n",
    "print('checking txt2 for all digits',txt2.isdigit())\n",
    "print('checking txt3 for all digits',txt3.isdigit())"
   ]
  },
  {
   "cell_type": "code",
   "execution_count": null,
   "id": "e7a2df52-2e5a-480b-adec-fd94fb3df21a",
   "metadata": {},
   "outputs": [],
   "source": [
    "#Check a string to see if it has all letters{\".\"}\n",
    "print('checking txt1 for all alphabet letters',txt1.isalpha())\n",
    "print('checking txt2 for all alphabet letters',txt2.isalpha())\n",
    "print('checking txt3 for all alphabet letters',txt3.isalpha())\n",
    "\n"
   ]
  },
  {
   "cell_type": "code",
   "execution_count": null,
   "id": "ceeae123-0444-4a2f-9da1-5965730493b1",
   "metadata": {},
   "outputs": [],
   "source": [
    "#Check a numerical value to see if it is an integer{\".\"}\n",
    "val1 = 3.06\n",
    "val2 = 3.00\n",
    "print(val1, val1.is_integer())\n",
    "print(val2, val2.is_integer())"
   ]
  },
  {
   "cell_type": "markdown",
   "id": "63cb39c4-ae6e-46a3-8b7f-c89e098083a8",
   "metadata": {},
   "source": [
    "#### 1.3.2) in checks for strings\n",
    "\n",
    "You can check to see if a character or substring is inside a larger string. Be aware that lower and uppercase letters are different.\n"
   ]
  },
  {
   "cell_type": "code",
   "execution_count": null,
   "id": "b3f0de6d-5917-40a6-be05-9ed2899cb989",
   "metadata": {},
   "outputs": [],
   "source": [
    "print('a' in 'Hello')\n",
    "print('o' in 'Hello')"
   ]
  },
  {
   "cell_type": "code",
   "execution_count": null,
   "id": "25b44492-4d77-4c63-8c29-4209df4b7a26",
   "metadata": {},
   "outputs": [],
   "source": [
    "print('A' in 'ABC123')\n",
    "print('a' in 'ABC123')"
   ]
  },
  {
   "cell_type": "code",
   "execution_count": null,
   "id": "14dbfa54-85ae-41d4-96b8-aa53b524c86a",
   "metadata": {},
   "outputs": [],
   "source": [
    "print(':' in 'New file:')\n",
    "print(' ' in 'New file:')"
   ]
  },
  {
   "cell_type": "code",
   "execution_count": null,
   "id": "45cfda7d-4e5f-4b39-bb02-d379ed25e4a5",
   "metadata": {},
   "outputs": [],
   "source": [
    "print('123' in 'ABC123')\n",
    "print('123' in 'AB12C3')"
   ]
  },
  {
   "cell_type": "markdown",
   "id": "9ba3ce33-7691-4bd7-b084-183886d499e4",
   "metadata": {},
   "source": [
    "#### 1.3.3) in checks for collections\n",
    "\n",
    "\n",
    "You can also see if an item is in a list or dictionary."
   ]
  },
  {
   "cell_type": "code",
   "execution_count": null,
   "id": "00da4c21-7ae7-4de9-a784-099ad0ea047d",
   "metadata": {},
   "outputs": [],
   "source": [
    "list1 = [1,2,3.4,4,5,6]\n",
    "list2 = ['a',0,'3.4',7.5]\n",
    "\n",
    "print(1 in list1)\n",
    "print(1 in list2)"
   ]
  },
  {
   "cell_type": "code",
   "execution_count": null,
   "id": "a477a7b9-2244-47d1-98a5-cf014d10ddd3",
   "metadata": {},
   "outputs": [],
   "source": [
    "print(0 in list1)\n",
    "print(0 in list2)"
   ]
  },
  {
   "cell_type": "code",
   "execution_count": null,
   "id": "872c94dc-a435-452c-96c2-1e1723feff21",
   "metadata": {},
   "outputs": [],
   "source": [
    "print('a' in list1)\n",
    "print('a' in list2)"
   ]
  },
  {
   "cell_type": "code",
   "execution_count": null,
   "id": "cfdb4545-bda5-4cbc-bbd2-5d4ce0f35beb",
   "metadata": {},
   "outputs": [],
   "source": [
    "print(3.4 in list1)\n",
    "print(3.4 in list2)"
   ]
  },
  {
   "cell_type": "markdown",
   "id": "e3b360f2-c57e-428a-a739-3a6a3462b7a4",
   "metadata": {},
   "source": [
    "For additional documentatio and examples, check out the following:\n",
    "\n",
    "- https://docs.python.org/3/library/stdtypes.html#comparisons\n",
    "- https://docs.python.org/3/library/stdtypes.html#boolean-operations-and-or-not\n",
    "\n"
   ]
  },
  {
   "cell_type": "markdown",
   "id": "0126fd85-0ce2-4386-b167-e9b9b07d3025",
   "metadata": {},
   "source": [
    "## 2.0) Control Flow (If statements)\n",
    "\n",
    "In Data Analysis, it is a common situation that what you need to do depends on the values you find in the data and you don't necessarily know what values you will get ahead of time. This is where Control Flow becomes important. \n",
    "\n",
    "In this section of the tutorial, we will look using `if` statements and the related commands to control the flow of the program. \n"
   ]
  },
  {
   "cell_type": "markdown",
   "id": "573fb04a-3209-428b-9406-c7cc9ec61d11",
   "metadata": {},
   "source": [
    "### 2.1) Indentation in Python"
   ]
  },
  {
   "cell_type": "markdown",
   "id": "7b7ab663-2eec-4a73-9a0d-722225afb79e",
   "metadata": {},
   "source": [
    "**Blocks of code:**\n",
    "\n",
    "Indentation is Python’s way of grouping statements. Python indentation refers to adding white space before a statement to a particular block of code. \n",
    "\n",
    "Note that each line within a basic block must be indented by the same amount. In other words, all the statements with the same space to the left, belong to the same code block.\n",
    "\n",
    "If a block of code contains subsections of other blocks, the subsections must be indented more than the original block. \n",
    "\n",
    "This will become clearer as we proceed through the examples below. \n",
    "\n",
    "> If you see `IndentationError`, it means that a line was not indented the expected amount or indented too far."
   ]
  },
  {
   "cell_type": "markdown",
   "id": "3110c418-9660-4e06-951b-3cdf4d934a61",
   "metadata": {},
   "source": [
    "### 2.2) If Statements\n",
    "\n",
    "An `if` statement will evaluate a condition. If the condition is true it will execute the indented block of code.\n",
    "\n",
    "The `if` statement in python has the general structure of `if (condition):` followed by the block of code to execute if the condition is `True`.\n",
    "\n",
    "The code below uses print statements to show what code is executed and which is not. Run these cells to see what happens:"
   ]
  },
  {
   "cell_type": "code",
   "execution_count": null,
   "id": "4ee9bc51-138e-4c47-955f-bfb973e5181a",
   "metadata": {},
   "outputs": [],
   "source": [
    "print(\"this line runs no matter what\")\n",
    "\n",
    "if True:\n",
    "    print(\"this line only runs if the statement was true\")\n",
    "    print('This line has the same indentation and is part of the same block')\n",
    "\n",
    "print(\"This line is not indented, so it is outside of the if block\")"
   ]
  },
  {
   "cell_type": "code",
   "execution_count": null,
   "id": "eb3a4f41-c222-4071-86f9-aeeb4320507d",
   "metadata": {},
   "outputs": [],
   "source": [
    "print(\"this line runs no matter what\")\n",
    "\n",
    "if False:\n",
    "    print(\"this line only runs if the statement was true\")\n",
    "    print('This line has the same indentation and is part of the same block')\n",
    "\n",
    "print(\"This line is not indented, so it is outside of the if block\")"
   ]
  },
  {
   "cell_type": "markdown",
   "id": "2b4ab143-99da-481a-82f9-9f739870a569",
   "metadata": {},
   "source": [
    "Now that you have seen which lines are executed with a true `if` statement and a false `if` statement, we can explore additional ways to set up the conditions and blocks of code. \n",
    "\n",
    "In practice, the True or False would never be hardcoded into a program. Instead the condition will be an expression that returns Boolean value. This may be a numerical comparison or checking a value. \n",
    "\n",
    "See the examples below:"
   ]
  },
  {
   "cell_type": "code",
   "execution_count": null,
   "id": "08542bce",
   "metadata": {},
   "outputs": [],
   "source": [
    "#Introduction to if statements (From W3Schools).\n",
    "a = 33\n",
    "b = 200\n",
    "print('Before the if')\n",
    "if b > a:\n",
    "    print(\"b is greater than a\")\n",
    "    print(\"the difference is \",b-a)\n",
    "\n",
    "print('After the if')"
   ]
  },
  {
   "cell_type": "code",
   "execution_count": null,
   "id": "4b2d80c8-e399-4cca-89dd-bdce06f1aaf1",
   "metadata": {},
   "outputs": [],
   "source": [
    "# This is a similar code cell but now the if condition is False\n",
    "a = 330\n",
    "b = 200\n",
    "print('Before the if')\n",
    "if b > a:\n",
    "    print(\"b is greater than a\")\n",
    "    print(\"the difference is \",b-a)\n",
    "\n",
    "print('After the if')"
   ]
  },
  {
   "cell_type": "code",
   "execution_count": null,
   "id": "68a44fb7-2461-4621-a205-a71b77643b9c",
   "metadata": {},
   "outputs": [],
   "source": [
    "#This one checks to see a string is just digits before trying to convert it to an int{\".\"}\n",
    "num1 = '9867'\n",
    "num2 = 'ab17'\n",
    "\n",
    "print('checking num1')\n",
    "if num1.isdigit():\n",
    "    print('it is just digits')\n",
    "    num1 = int(num1)\n",
    "    print(num1, type(num1))\n",
    "\n",
    "print()\n",
    "\n",
    "print('checking num2')\n",
    "if num2.isdigit():\n",
    "    print('it is just digits')\n",
    "    num2 = int(num2)\n",
    "    print(num2, type(num2))\n",
    "\n",
    "print('done')"
   ]
  },
  {
   "cell_type": "markdown",
   "id": "c66ed46b-eba6-439e-9cd2-000afb07c244",
   "metadata": {},
   "source": [
    "**Single line code block**\n",
    "\n",
    "When the code to be run if a statement is true is short enough. You can put the block of code immediately after the `:` symbol."
   ]
  },
  {
   "cell_type": "code",
   "execution_count": null,
   "id": "29b17f86",
   "metadata": {},
   "outputs": [],
   "source": [
    "#Short hand way to do an if command on one line.\n",
    "a = 4\n",
    "b = 3\n",
    "if a > b: print(\"a is greater than b\")\n",
    "\n",
    "print('stuff after that')"
   ]
  },
  {
   "cell_type": "markdown",
   "id": "c6a1c675-64e3-43f4-a03b-6d55d44a8985",
   "metadata": {},
   "source": [
    "### 2.3) If ... Elif... Else ...\n",
    "\n",
    "An `if` statement can be paired with zero or more `elif` statements. \n",
    "\n",
    "- When the `if` statement is `True`, only the `if` block of code is executed.\n",
    "- When the `if` statement is `False`, the next `elif` statement is checked if there is one.\n",
    "  - Like a normal `if` statement, it will execute the code if the conditions are True.\n",
    "  - When that `elif` statement is `True`, the block of code for that `elif` statement is executed, and the others are ignored.\n",
    "  - When that `elif` statement is `False`, the next `elif` statement is checked\n",
    "- When none of the `if` or `elif` statements are True, an `else` block can be executed.\n",
    "  - So the `else` statement only executes if all the conditions are False. \n",
    "\n"
   ]
  },
  {
   "cell_type": "markdown",
   "id": "1a51da34-43e3-4b93-9868-bc51c48ca758",
   "metadata": {},
   "source": [
    "#### 2.3.1) if else examples:"
   ]
  },
  {
   "cell_type": "code",
   "execution_count": null,
   "id": "741b9831",
   "metadata": {},
   "outputs": [],
   "source": [
    "a = 33\n",
    "b = 200\n",
    "if b > a:\n",
    "  print(\"b is greater than a\")\n",
    "else:\n",
    "  print(\"b is not greater than a\")"
   ]
  },
  {
   "cell_type": "code",
   "execution_count": null,
   "id": "b481947f-d95d-497c-bf4a-34682b4b843e",
   "metadata": {},
   "outputs": [],
   "source": [
    "a = 330\n",
    "b = 200\n",
    "if b > a:\n",
    "  print(\"b is greater than a\")\n",
    "else:\n",
    "  print(\"b is not greater than a\")"
   ]
  },
  {
   "cell_type": "markdown",
   "id": "b67c821e-c47c-4723-9430-5b904e0287bb",
   "metadata": {},
   "source": [
    "#### 2.3.2) if elif examples:\n"
   ]
  },
  {
   "cell_type": "code",
   "execution_count": null,
   "id": "04f55f9d",
   "metadata": {},
   "outputs": [],
   "source": [
    "a = 32\n",
    "b = 33\n",
    "if b > a:\n",
    "  print(\"b is greater than a\")\n",
    "elif a == b:\n",
    "  print(\"a and b are equal\")\n",
    "\n",
    "print('stuff after that')"
   ]
  },
  {
   "cell_type": "code",
   "execution_count": null,
   "id": "34b59bb3-bd0a-4922-bfa8-39bd65e5aa01",
   "metadata": {},
   "outputs": [],
   "source": [
    "a = 33\n",
    "b = 33\n",
    "if b > a:\n",
    "  print(\"b is greater than a\")\n",
    "elif a == b:\n",
    "  print(\"a and b are equal\")\n",
    "\n",
    "\n",
    "print('stuff after that')"
   ]
  },
  {
   "cell_type": "code",
   "execution_count": null,
   "id": "af810741-bb95-4b13-825e-25e7acf3d582",
   "metadata": {},
   "outputs": [],
   "source": [
    "a = 34\n",
    "b = 33\n",
    "if b > a:\n",
    "  print(\"b is greater than a\")\n",
    "elif a == b:\n",
    "  print(\"a and b are equal\")\n",
    "\n",
    "\n",
    "print('stuff after that')"
   ]
  },
  {
   "cell_type": "markdown",
   "id": "6cfc94ea-b706-48a0-b2f7-a5c5c61a2133",
   "metadata": {},
   "source": [
    "#### 2.3.3) if elif else  examples:\n",
    "\n"
   ]
  },
  {
   "cell_type": "code",
   "execution_count": null,
   "id": "5a70f1ed",
   "metadata": {},
   "outputs": [],
   "source": [
    "a = 200\n",
    "b = 33\n",
    "if b > a:\n",
    "  print(\"b is greater than a\")\n",
    "elif a == b:\n",
    "  print(\"a and b are equal\")\n",
    "else:\n",
    "  print(\"a is greater than b\")\n",
    "\n",
    "print('stuff after that')"
   ]
  },
  {
   "cell_type": "code",
   "execution_count": null,
   "id": "a9a5fe69-fe19-40b3-b5ac-5415450d0718",
   "metadata": {},
   "outputs": [],
   "source": [
    "#Try changing the value for grade in the example below and re-running it.\n",
    "grade = 27\n",
    "if grade == 0:\n",
    "    print(\"grade is zero\")\n",
    "elif grade < 50:\n",
    "    print(\"grade is less than 50\")\n",
    "elif grade < 70:\n",
    "    print(\"grade is less than 70\")\n",
    "elif grade < 90:\n",
    "    print(\"grade is less than 90\")\n",
    "else:\n",
    "    print(\"grade is greater than 90\")\n",
    "\n",
    "\n",
    "print('stuff after that')"
   ]
  },
  {
   "cell_type": "markdown",
   "id": "d9d3ffbc-6c11-4a14-ad5f-a7dc75330c6b",
   "metadata": {},
   "source": [
    "### 2.4)  Multiple conditions\n",
    "\n",
    "In order for a condition with an `and` statement to be True, both statements must be true. If either statement is false, it will not execute."
   ]
  },
  {
   "cell_type": "code",
   "execution_count": null,
   "id": "16992e01",
   "metadata": {},
   "outputs": [],
   "source": [
    "#And statements.\n",
    "a = 200\n",
    "b = 33\n",
    "c = 500\n",
    "if a > b and c > a:\n",
    "  print(\"Both conditions are True\")"
   ]
  },
  {
   "cell_type": "markdown",
   "id": "1717a6f5-b124-43fd-9e0f-620875725cf8",
   "metadata": {},
   "source": [
    "In order for a condition with an `or` statement to be True, only one of the statements has to be True. In order for it to be False, all statements must be False."
   ]
  },
  {
   "cell_type": "code",
   "execution_count": null,
   "id": "33424313",
   "metadata": {},
   "outputs": [],
   "source": [
    "#Or statements{\".\"}\n",
    "a = 200\n",
    "b = 33\n",
    "c = 500\n",
    "if a > b or a > c:\n",
    "  print(\"At least one of the conditions is True\")"
   ]
  },
  {
   "cell_type": "markdown",
   "id": "1fc686d2-81e8-4314-9510-67ab35d82941",
   "metadata": {},
   "source": [
    "The `not` statement is essentially the opposite of the `if` statement.\n",
    "\n",
    "In order for the condition to be executed, the statement must be false. If the condition is True, it does not execute the statement and continues on to the code below."
   ]
  },
  {
   "cell_type": "code",
   "execution_count": null,
   "id": "22e87b9b",
   "metadata": {},
   "outputs": [],
   "source": [
    "#Not statements.\n",
    "a = 33\n",
    "b = 200\n",
    "if not a > b:\n",
    "  print(\"a is NOT greater than b\")\n",
    "\n",
    "print('stuff after that')"
   ]
  },
  {
   "cell_type": "markdown",
   "id": "e80cfce9-e1df-4aed-b965-be6e63e0df54",
   "metadata": {},
   "source": [
    "### 2.5) Nested If statements\n",
    "\n",
    "A nested `if` statement is an `if` statement within an `if` statement.\n",
    "\n",
    "The second `if` statement will only be evaluated if the first one is True.\n",
    "\n",
    "This can be done many times, but nesting `if` statements can make your code messy if done too often."
   ]
  },
  {
   "cell_type": "code",
   "execution_count": null,
   "id": "e51e7aab",
   "metadata": {},
   "outputs": [],
   "source": [
    "#Nested if.\n",
    "x = 13\n",
    "\n",
    "if x > 10:\n",
    "  print(\"Above ten,\")\n",
    "  if x > 20:\n",
    "    print(\"and also above 20!\")\n",
    "  else:\n",
    "    print(\"but not above 20.\")"
   ]
  },
  {
   "cell_type": "markdown",
   "id": "c7c5f2a6-a134-4aeb-a349-cfde1f062053",
   "metadata": {},
   "source": [
    "### 2.6) Pass statements"
   ]
  },
  {
   "cell_type": "markdown",
   "id": "1810d410-eccc-43a6-8b05-5a37d36115c5",
   "metadata": {},
   "source": [
    "\n",
    "Empty code is not allowed in loops, function definitions, class definitions, or in `if` `elif` and `else` statements.\n",
    "\n",
    "During the development stage, you might start to setup a `if` `elif` `else` block but not have worked out all of the code needed. \n",
    "\n",
    "The `pass` statement is used as a placeholder for future code in these situations.\n",
    "\n",
    "When the `pass` statement is executed, nothing happens, but you avoid getting an error when empty code is not allowed.\n",
    "\n"
   ]
  },
  {
   "cell_type": "code",
   "execution_count": null,
   "id": "183d3d2e",
   "metadata": {},
   "outputs": [],
   "source": [
    "#Pass statement.\n",
    "a = 33\n",
    "b = 200\n",
    "\n",
    "if b > a:\n",
    "  pass\n",
    "\n",
    "print('stuff after that')"
   ]
  },
  {
   "cell_type": "markdown",
   "id": "cbc28866-3638-4d4f-b359-8b2dbbe71b10",
   "metadata": {},
   "source": [
    "## 3.0) For Loops\n",
    "\n",
    "`For` loops take a given list of items and execute the same code block once for each item in the list. \n",
    "\n",
    "It provides a way to iterate over a list, an array, and a series of numbers. "
   ]
  },
  {
   "cell_type": "markdown",
   "id": "2d11d6d2-8b6c-4e97-a3f0-3df652c6b527",
   "metadata": {},
   "source": [
    "### 3.1) Iteration over a range"
   ]
  },
  {
   "cell_type": "markdown",
   "id": "55d3eb14-c97b-4100-bc88-9d613702883f",
   "metadata": {},
   "source": [
    "Sometimes you want to repeat a loop a specific number of times. The `range` function creates a special data type which is similar to a list containing integers representing the values you want to use.\n",
    "\n",
    "The examples below show the range function on its own and then inside a for loop. \n",
    "\n",
    "\n",
    "Additional information and examples can be found at:\n",
    "https://docs.python.org/3/library/stdtypes.html#ranges\n",
    "\n"
   ]
  },
  {
   "cell_type": "code",
   "execution_count": null,
   "id": "aa159862",
   "metadata": {},
   "outputs": [],
   "source": [
    "#The range function by itself.\n",
    "print(range(6))\n",
    "type(range(6))\n"
   ]
  },
  {
   "cell_type": "code",
   "execution_count": null,
   "id": "6db9f63e-ebbc-47b7-b892-c7ccc5a7d502",
   "metadata": {},
   "outputs": [],
   "source": [
    "#Using range with a for loop.\n",
    "for i in range(6):\n",
    "  print(i)"
   ]
  },
  {
   "cell_type": "markdown",
   "id": "6e31d00e-8e60-416c-ae19-74d5f37f618a",
   "metadata": {},
   "source": [
    "In the range function, you can set limits by entering the starting and ending index. SImilar to list slices, the starting index is included but not the ending index.\n",
    "\n",
    "See the example in the cell below which starts with 2 and goes up to but not including 6. "
   ]
  },
  {
   "cell_type": "code",
   "execution_count": null,
   "id": "0285084a",
   "metadata": {},
   "outputs": [],
   "source": [
    "for x in range(2, 6):\n",
    "  print(x)"
   ]
  },
  {
   "cell_type": "markdown",
   "id": "f34a2590-fef2-40c4-aa36-c391e88121e8",
   "metadata": {},
   "source": [
    "`Range` also has a third parameter which defines the \"step\" size.\n",
    "\n",
    "In the example below starts at 2 and ends before 30, only printing every third number."
   ]
  },
  {
   "cell_type": "code",
   "execution_count": null,
   "id": "c5f563b0",
   "metadata": {},
   "outputs": [],
   "source": [
    "for x in range(2, 30, 3):\n",
    "  print(x)\n"
   ]
  },
  {
   "cell_type": "code",
   "execution_count": null,
   "id": "52d2cc6c-43bd-4557-a171-cdb7fea81fae",
   "metadata": {},
   "outputs": [],
   "source": [
    "# This example uses a range to print selected numbers and their squares.\n",
    "\n",
    "for n in range(1,10,2):\n",
    "    print(\"For the number \", n, \" the square is \", n**2)\n",
    "\n"
   ]
  },
  {
   "cell_type": "markdown",
   "id": "dd210a1b-d6a8-4c15-8a10-775384a03a07",
   "metadata": {},
   "source": [
    "### 3.2) Iteration over lists"
   ]
  },
  {
   "cell_type": "markdown",
   "id": "3511feeb",
   "metadata": {},
   "source": [
    "If you have a list you can use a `for` loop to do the same thing to each item in the list. \n",
    "\n",
    "Below is a simple example of a list of words where you print each word in the list. \n",
    "You need to use the name of the list, but the interation variable can be anything as long as you are consistent. The three examples below each give the same result. "
   ]
  },
  {
   "cell_type": "code",
   "execution_count": null,
   "id": "b7b2f778",
   "metadata": {},
   "outputs": [],
   "source": [
    "#For loops with a list of strings\n",
    "fruits = [\"apple\", \"banana\", \"cherry\"]\n",
    "for x in fruits:\n",
    "  print(x)\n",
    "\n",
    "for i in fruits:\n",
    "    print(i)\n",
    "\n",
    "for food in fruits:\n",
    "    print(food)"
   ]
  },
  {
   "cell_type": "markdown",
   "id": "a170d7a4-62cf-4c13-acf6-066bfc0c1a97",
   "metadata": {},
   "source": [
    "The example below is a list of integers and a `for` loop that does a mathematical calculation inside the loop. "
   ]
  },
  {
   "cell_type": "code",
   "execution_count": null,
   "id": "78896320-2385-460c-9e43-4f6cbdd4299a",
   "metadata": {},
   "outputs": [],
   "source": [
    "#For loop over a list of integers, printing the integer and the square\n",
    "mylist = [4,8,2,9]\n",
    "for item in mylist:\n",
    "    print(item,item**2)"
   ]
  },
  {
   "cell_type": "markdown",
   "id": "f3a9899b-6e32-4b9b-962c-38783c733443",
   "metadata": {},
   "source": [
    "With a string, the `for` loop considers the individual characters."
   ]
  },
  {
   "cell_type": "code",
   "execution_count": null,
   "id": "6477bce9",
   "metadata": {},
   "outputs": [],
   "source": [
    "for x in \"banana\":\n",
    "  print(x)"
   ]
  },
  {
   "cell_type": "markdown",
   "id": "f7159906-76f0-4ced-9e67-3c0f4236af98",
   "metadata": {},
   "source": [
    "### 3.3) Nested Loops\n",
    "\n",
    "A `for` loop can be nested within another `for` loop.\n",
    "\n",
    "This allows you to iterate over two parameters. On common use of this would be `i` and `j` values for a coordinate system or a multi-parameter function. It can also be used for a list of lists. "
   ]
  },
  {
   "cell_type": "code",
   "execution_count": null,
   "id": "264e1c3d-958a-467c-874e-73f4743ffa58",
   "metadata": {},
   "outputs": [],
   "source": [
    "#This set of for loops creates multiplication examples\n",
    "for i in range(6):\n",
    "    for j in range(6):\n",
    "        print(i,\" x \",j,\" = \",i*j)"
   ]
  },
  {
   "cell_type": "markdown",
   "id": "82d48ee9-d7d6-4434-b8f5-bff7dfa86815",
   "metadata": {},
   "source": [
    "### 3.4) If statements in for loops\n",
    "\n",
    "`If` statements can be nested within `for` loops.\n",
    "\n",
    "This can allow a code to execute with only some values within a list.\n"
   ]
  },
  {
   "cell_type": "code",
   "execution_count": null,
   "id": "506cc729-e250-4a75-936f-60902abcf4cc",
   "metadata": {},
   "outputs": [],
   "source": [
    "#An example for and if loop with strings\n",
    "fruits = [\"apple\", \"banana\", \"cherry\"]\n",
    "\n",
    "for x in fruits:\n",
    "  print('this item in the list is',x)\n",
    "  if x == \"banana\":\n",
    "    print(\"I don't like bananas!\")\n",
    "\n"
   ]
  },
  {
   "cell_type": "code",
   "execution_count": null,
   "id": "6797206a-0ada-4779-947a-755aca5c128e",
   "metadata": {},
   "outputs": [],
   "source": [
    "#An example for and if statement with numbers\n",
    "numbers = [0,6,2,3.5,7,\"m\"]\n",
    "\n",
    "for x in numbers:\n",
    "    if type(x) == int:\n",
    "        print(x, \" is an integer \")\n",
    "    elif type(x) == float:\n",
    "        print(x, \"is a float that converts to \",int(x))\n",
    "    else: print(x, \" is not a number\")\n"
   ]
  },
  {
   "cell_type": "markdown",
   "id": "d0f618fd-9a96-47e3-b9b8-1b2aa16fd565",
   "metadata": {},
   "source": [
    "Using an if statement can prevent code from crashing if an unexpected value is detected."
   ]
  },
  {
   "cell_type": "markdown",
   "id": "ae5821bd-83ca-4422-846e-251bcf340e92",
   "metadata": {},
   "source": [
    "### 3.5) Breaking a loop\n",
    "\n",
    "Sometimes you may want to stop a loop before it has iterated over all of the list items. \n",
    "\n",
    "The command `break` serves this function and allows you to end the loop immediately without finishing the code.\n",
    "\n",
    "Typically, `break` if connected to an if statement. Then the loop will stop when you satisfy a condition."
   ]
  },
  {
   "cell_type": "markdown",
   "id": "b54e0416-ee04-4bf8-a03b-bb67ae895d67",
   "metadata": {},
   "source": [
    "In the example below, the `for` loop looks through a list of numbers and stops if it finds a negative number. \n",
    "To better show the process, I included print statements as it works through the loop. \n"
   ]
  },
  {
   "cell_type": "code",
   "execution_count": null,
   "id": "78a28ec8-38d1-4c72-83ae-a6601c63970d",
   "metadata": {},
   "outputs": [],
   "source": [
    "#Example of using a break in a for loop\n",
    "\n",
    "test_list = [3.5,1.2,8.3,0,-1.1, 5.2, 4.8, 6]\n",
    "\n",
    "for item in test_list:\n",
    "    print(item)\n",
    "    if item < 0:\n",
    "        print('found a negative value')\n",
    "        break\n"
   ]
  },
  {
   "cell_type": "markdown",
   "id": "76e54548-2293-4d73-9ad6-50b4e2397ca1",
   "metadata": {},
   "source": [
    "## 4.0) While Loops\n",
    "\n",
    "Another type of control loop is the `while` loop. \n",
    "\n",
    "In this structure, an initial condition statement is checked. \n",
    "If it is `True` then the code inside loop will be executed. \n",
    "The condition is then rechecked and if it is still `True` the loop repeats.\n"
   ]
  },
  {
   "cell_type": "markdown",
   "id": "60eba957-4c2f-47dd-9ce8-db5ae89c201d",
   "metadata": {},
   "source": [
    "### 4.1) Counting loops\n",
    "One common use of a while loop is checking to make sure a variable changed by the loop doesn't go outside of a limited range.\n",
    "\n",
    "The example below starts with an integer value and increases it by 1 until it gets larger than a preset limit.\n",
    "\n",
    "The `i += 1` command adds 1 to the value stored in the variable named i. "
   ]
  },
  {
   "cell_type": "code",
   "execution_count": null,
   "id": "ce4be41a",
   "metadata": {},
   "outputs": [],
   "source": [
    "#Example while loops that counts.\n",
    "i = 3\n",
    "while i < 9:\n",
    "  print(i)\n",
    "  i += 1\n",
    "    \n",
    "print('while loop is done')"
   ]
  },
  {
   "cell_type": "code",
   "execution_count": null,
   "id": "2103d3de-7ce8-4976-9acf-e7c88d2a2db6",
   "metadata": {},
   "outputs": [],
   "source": [
    "#Example while loops that counts,but now the value initially is too high and it never completes a loop\n",
    "i = 10\n",
    "while i < 9:\n",
    "  print(i)\n",
    "  i += 1\n",
    "    \n",
    "print(\"while loop is done\")"
   ]
  },
  {
   "cell_type": "markdown",
   "id": "d92ddf9f-5c5a-4690-b079-4fe8e8a510c8",
   "metadata": {},
   "source": [
    "### 4.2) Breaking while loops\n",
    "\n",
    "It is possible for `while` loops to get stuck if the condition never changes to `False`.\n",
    "\n",
    "For the code below, the condition is greater than 0, but since it starts greater than zero and keeps increasing, the loop would go on forever.\n",
    "\n",
    "The program can be stopped manually by interrupting the kernel, or the `break` can be added to the code to stop the loop if you reach a limit."
   ]
  },
  {
   "cell_type": "code",
   "execution_count": null,
   "id": "d722dc23",
   "metadata": {},
   "outputs": [],
   "source": [
    "#Break statement{\".\"}\n",
    "i = 1\n",
    "while i > 0:\n",
    "  print(i)\n",
    "  if i > 10:\n",
    "    print('went higher then expected')\n",
    "    break\n",
    "  i += 1"
   ]
  },
  {
   "cell_type": "markdown",
   "id": "84168e58-9bd4-451a-b9aa-3e0ea31b58a7",
   "metadata": {},
   "source": [
    "### 4.3) Using continue in while loops\n",
    "The `continue` keyword is used to end the current iteration in the `while` loop, and continues to the next iteration.\n",
    "\n",
    "The example below, the value is increased and printed unless it is a value of three which is skipped."
   ]
  },
  {
   "cell_type": "code",
   "execution_count": null,
   "id": "9b72bb06",
   "metadata": {},
   "outputs": [],
   "source": [
    "#Continue statement{\".\"}\n",
    "i = 0\n",
    "while i < 6:\n",
    "  i += 1\n",
    "  if i == 3:\n",
    "    continue\n",
    "  print(i)"
   ]
  },
  {
   "cell_type": "markdown",
   "id": "7cd508c5-6780-44dc-b908-7313d0034f25",
   "metadata": {},
   "source": [
    "### 4.4) Else statements and while loops\n",
    "\n",
    "When a `while` loop condition finally becomes `False`, you can specify a block of code to execute\n",
    "\n",
    "The `else` block is only executed when the `while` loop condition becomes `False` and the loop is not interrupted by a `break` statement.\n",
    "\n",
    "Examine the two examples below to see how these work."
   ]
  },
  {
   "cell_type": "code",
   "execution_count": null,
   "id": "5bfb3f9c",
   "metadata": {},
   "outputs": [],
   "source": [
    "#Example from \n",
    "\n",
    "numbers = [1, 3, 5, 7, 9]\n",
    "target = 6\n",
    "index = 0\n",
    "while index < len(numbers):\n",
    "    if numbers[index] == target:\n",
    "        print(f\"Found {target} at index {index}\")\n",
    "        break\n",
    "    index += 1\n",
    "else:\n",
    "    print(f\"{target} not found in the list.\")"
   ]
  },
  {
   "cell_type": "code",
   "execution_count": null,
   "id": "b827947d-f13c-4a27-9b1b-a01f79fe4dd5",
   "metadata": {},
   "outputs": [],
   "source": [
    "#Example from \n",
    "\n",
    "numbers = [1, 3, 5, 6, 9]\n",
    "target = 6\n",
    "index = 0\n",
    "while index < len(numbers):\n",
    "    if numbers[index] == target:\n",
    "        print(f\"Found {target} at index {index}\")\n",
    "        break\n",
    "    index += 1\n",
    "else:\n",
    "    print(f\"{target} not found in the list.\")"
   ]
  },
  {
   "cell_type": "markdown",
   "id": "89bef467-d976-4e40-8404-0f994c106840",
   "metadata": {},
   "source": [
    "### 4.5) Cautions for While Loops\n",
    "\n",
    "Good coding and the use of `if` and `break` statements will avoid an infinite `while` loop. \n",
    "\n",
    "If you accidentally execute a `while` loop that keeps going, you would need to manually stop the loop by interrupting the kernel. \n",
    "\n",
    "Additional information on kernel interrupts can be found at:\n",
    "https://www.geeksforgeeks.org/how-to-interrupt-the-kernel-in-jupyter-notebook/\n",
    "\n",
    "\n",
    "The cell below shows the code for a loop that would trigger an infinite loop. It is formatted as a `Raw` cell instead of a code cell. "
   ]
  },
  {
   "cell_type": "raw",
   "id": "7b58abd1-c87b-4170-a015-b9c25b4175c8",
   "metadata": {},
   "source": [
    "# This is a Raw cell. It can not be executed unless it is changed to a Code cell. \n",
    "# The contents of this cell should NOT be executed unless you are prepared to interrupt the kernel.\n",
    "\n",
    "i = 1\n",
    "while i > 0:\n",
    "  print(i)\n",
    "  i += 1\n",
    "\n",
    "print('loop finished')"
   ]
  },
  {
   "cell_type": "markdown",
   "id": "cc81a84b-ef8b-4067-a478-0cec0d95d896",
   "metadata": {},
   "source": [
    "# Assignments"
   ]
  },
  {
   "cell_type": "code",
   "execution_count": null,
   "id": "808c5ff8-5ec3-42f5-b549-1527c126a240",
   "metadata": {},
   "outputs": [],
   "source": [
    "import numpy as np"
   ]
  },
  {
   "cell_type": "markdown",
   "id": "227af28f",
   "metadata": {},
   "source": [
    "The assisgnment activities here will combine skills you have learned from the previous tutorials along with the current tutorials. \n",
    "\n",
    "- In some cases there will be some code provided for you that should not be changed. \n",
    "- You will then create the code for the additional steps of the process.\n",
    "\n",
    "As you work on the assignments:\n",
    "\n",
    "* You may also want to look at other websites for examples similar to these activities. \n",
    "* Remember that there is more than one possible solution for each of these."
   ]
  },
  {
   "cell_type": "markdown",
   "id": "ff1b82f1-b709-49d2-8408-e82eb25e7a9a",
   "metadata": {},
   "source": [
    "## Exercise 1) Intro level\n",
    "\n",
    "The purpose of this assignment is to practice skills that will allow you to filter a data set. You are given an input list of \n",
    "\n",
    "1) You are given the code to create a random array of integers that range between -5 and 20.\n",
    "2) Write code to show the nlist array values one at a time.\n",
    "3) Write a code loop to check each value and print a statement whenever it finds a negative value."
   ]
  },
  {
   "cell_type": "code",
   "execution_count": null,
   "id": "845207c1-bd89-4bf9-962a-3b45d6f425a2",
   "metadata": {},
   "outputs": [],
   "source": [
    "# Step 1\n",
    "# Don't change this code cell.\n",
    "\n",
    "nlist = np.random.randint(-5, 20, 30)\n",
    "\n",
    "#If you get an error about the name np, rerun the import cell at the top of the tutorial."
   ]
  },
  {
   "cell_type": "code",
   "execution_count": null,
   "id": "72cabfbc-896a-41f8-96fa-afdccdeecc09",
   "metadata": {},
   "outputs": [],
   "source": [
    "# Add your code in this cell and additional ones below for step 2"
   ]
  },
  {
   "cell_type": "code",
   "execution_count": null,
   "id": "1ad6854a-bf5e-4f02-bab4-38811fd1895f",
   "metadata": {},
   "outputs": [],
   "source": [
    "# Add your code in this cell and additional ones below for step 3"
   ]
  },
  {
   "cell_type": "markdown",
   "id": "b01ec070-a1b4-459f-9185-ec630bcd0a32",
   "metadata": {},
   "source": [
    "## Exercise 2) Moderate\n",
    "\n",
    "This exercise will focus on using conditionals and for loops to count the values in an array that exceed a threshold value. You will create one block of code that does the following steps, but you may want to create the code in smaller steps, testing as you go.  \n",
    "\n",
    "1) Create a numpy array of integers that range from 0 to 20 with a size of 30.\n",
    "2) Choose a value in the range of 0 to 20 to be your threshold and assign that value to a variable.\n",
    "3) Create a counter variable that is initially equal to zero.\n",
    "4) Loop through the array, checking each value.\n",
    "    - If it is larger than the threshold, increase the counter variable by one.\n",
    "6) At the end, print out the result with a statement of how many values were above the threshold."
   ]
  },
  {
   "cell_type": "code",
   "execution_count": null,
   "id": "039b13bd-507e-4029-8026-4987f05a5930",
   "metadata": {},
   "outputs": [],
   "source": [
    "# Enter your code here"
   ]
  },
  {
   "cell_type": "markdown",
   "id": "8f24dad1-1e7a-41e0-bf40-8582e3d92c44",
   "metadata": {},
   "source": [
    "## Exercise 3) Challenging \n",
    "\n",
    "In this exercise you will work with a data file. The first code cell should NOT be changed as it reads in the data. You will learn how to do this for yourself in later tutorials."
   ]
  },
  {
   "cell_type": "code",
   "execution_count": null,
   "id": "c88cbdb0-6049-43bb-85a3-ab495f833c12",
   "metadata": {},
   "outputs": [],
   "source": [
    "#give code to read in data file Moons_and_Planets\n",
    "file = \"./data/Moons_and_planets.csv\"\n",
    "data = np.loadtxt(file,dtype=\"str\",delimiter=',',skiprows=1)\n",
    "moons = data[:,0]\n",
    "planets = data[:,1]\n",
    "\n",
    "# If you want to see the data array listing the planets, uncomment the next line\n",
    "#print(planets)"
   ]
  },
  {
   "cell_type": "markdown",
   "id": "46be6729-eff3-4a65-97c4-df0de0c555a9",
   "metadata": {},
   "source": [
    "Now you have the data from the file read into data arrays. \n",
    "Create code that will go through the arrays and count the number of moons for each planet. "
   ]
  },
  {
   "cell_type": "code",
   "execution_count": null,
   "id": "1f015804-be0b-4d5f-a0e2-060360f46871",
   "metadata": {},
   "outputs": [],
   "source": [
    "# Add your code in this cell and additional ones below"
   ]
  },
  {
   "cell_type": "code",
   "execution_count": null,
   "id": "d1743b61-9e6c-47fb-87ca-65ebd7738b99",
   "metadata": {},
   "outputs": [],
   "source": []
  }
 ],
 "metadata": {
  "kernelspec": {
   "display_name": "Python 3 (ipykernel)",
   "language": "python",
   "name": "python3"
  },
  "language_info": {
   "codemirror_mode": {
    "name": "ipython",
    "version": 3
   },
   "file_extension": ".py",
   "mimetype": "text/x-python",
   "name": "python",
   "nbconvert_exporter": "python",
   "pygments_lexer": "ipython3",
   "version": "3.12.4"
  }
 },
 "nbformat": 4,
 "nbformat_minor": 5
}

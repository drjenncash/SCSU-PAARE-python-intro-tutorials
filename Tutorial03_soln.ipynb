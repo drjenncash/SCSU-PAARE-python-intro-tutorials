{
 "cells": [
  {
   "cell_type": "markdown",
   "id": "e58d02f5",
   "metadata": {},
   "source": [
    "# Solutions for Tutorial 3: Collection Data Types in Python"
   ]
  },
  {
   "cell_type": "markdown",
   "id": "9feff32b-8434-4ea0-accd-27dd961a9cf8",
   "metadata": {},
   "source": [
    "\n",
    "This notebook accompanies the Tutorial 3 notebook and shows some possible solutions for the Exercises at the end of the Tutorial\n",
    "\n",
    "This tutorial was compiled for the PAARE project at South Carolina State University in partnership with Clemson University and the University of the Virgin Islands and funded by NSF.  (NSF grant AST  2319415)\n",
    "\n",
    "* Original posting:\n",
    "  * JCash 06-13-2025\n",
    "* Last modification:\n",
    "  * JCash 06-13-2025"
   ]
  },
  {
   "cell_type": "markdown",
   "id": "a38285b6",
   "metadata": {},
   "source": [
    "###  Imports needed\n",
    "\n",
    "It is always best practice to import the needed packages at the very top of the notebook. As a notebook is developed, you can always add to or take away from that cell. \n",
    "\n",
    "The cell should always be run before any other cells in the notebook and right after any changes to the import list are given. \n",
    "\n",
    "For this tutorial we will use NumPy."
   ]
  },
  {
   "cell_type": "code",
   "execution_count": null,
   "id": "371a9388",
   "metadata": {},
   "outputs": [],
   "source": [
    "import numpy as np"
   ]
  },
  {
   "cell_type": "markdown",
   "id": "4705a873",
   "metadata": {},
   "source": [
    "# Assignment\n",
    "\n"
   ]
  },
  {
   "cell_type": "code",
   "execution_count": null,
   "id": "e4fd4cf4-1cd5-44e7-9167-db513a28444d",
   "metadata": {},
   "outputs": [],
   "source": [
    "#If you reopen the notebook to continue working on the assignments, you probable will need to rerun the import\n",
    "import numpy as np"
   ]
  },
  {
   "cell_type": "markdown",
   "id": "fa6b807c-00b0-443a-8108-6e43b91f9aa3",
   "metadata": {},
   "source": [
    "## Exercise 1)\n",
    "\n",
    "1) Manually create a list containing the names of the eight major planets. \n",
    "\n",
    "2) Use the append method to add the names of at least three dwarf planets to your list. "
   ]
  },
  {
   "cell_type": "code",
   "execution_count": null,
   "id": "99a7423f-638d-4cfd-bc34-0500db652d32",
   "metadata": {},
   "outputs": [],
   "source": [
    "# Create a list of the names of the planets.\n",
    "\n",
    "# Use an append to add the names of at least three dwarf planets.\n",
    "\n",
    "# Print out the full list at the end.\n"
   ]
  },
  {
   "cell_type": "code",
   "execution_count": null,
   "id": "435e90cf-8db2-4078-9e04-8458d5f802c0",
   "metadata": {},
   "outputs": [],
   "source": [
    "# Example Solution 2\n",
    "# create a list of the names of the planets\n",
    "SS = ['Mercury','Venus','Earth','Mars','Jupiter','Saturn','Uranus','Neptune']\n",
    "\n",
    "#use an append to add the names of the dwarf planets\n",
    "SS.append('Pluto')\n",
    "SS.append('Ceres')\n",
    "SS.append('Eris')\n",
    "SS.append('Haumea')\n",
    "#print out the full list at the end\n",
    "print(SS)"
   ]
  },
  {
   "cell_type": "markdown",
   "id": "8aa3811a-6039-44d7-ba80-bd8a397cf905",
   "metadata": {},
   "source": [
    "For append you need to add each item one at a time."
   ]
  },
  {
   "cell_type": "code",
   "execution_count": null,
   "id": "050c36e5-9f83-4584-a7e5-8a7987b7afb1",
   "metadata": {},
   "outputs": [],
   "source": [
    "# Example Solution 2\n",
    "# create a list of the names of the planets\n",
    "SS = ['Mercury','Venus','Earth','Mars','Jupiter','Saturn','Uranus','Neptune']\n",
    "\n",
    "#use an append to add the names of the dwarf planets\n",
    "SS.append(['Pluto','Ceres','Eris','Haumea'])\n",
    "#print out the full list at the end\n",
    "print(SS)"
   ]
  },
  {
   "cell_type": "markdown",
   "id": "42abae36-fe6d-47ab-a815-ab24ddb8e67d",
   "metadata": {},
   "source": [
    "Note that in solution 2 the four dwarf planets were added as a single item which was a list of the four. \n",
    "We really wanted them as individual items."
   ]
  },
  {
   "cell_type": "code",
   "execution_count": null,
   "id": "585b8b7e-9b20-4f9a-877a-0757e3d27b95",
   "metadata": {},
   "outputs": [],
   "source": [
    "# Example Solution 3\n",
    "# create a list of the names of the planets\n",
    "SS = ['Mercury','Venus','Earth','Mars','Jupiter','Saturn','Uranus','Neptune']\n",
    "\n",
    "#use an append to add the names of the dwarf planets\n",
    "SS.extend(['Pluto','Ceres','Eris','Haumea'])\n",
    "#print out the full list at the end\n",
    "print(SS)"
   ]
  },
  {
   "cell_type": "markdown",
   "id": "ff34b417-a312-4aa9-9567-c0e5418357a1",
   "metadata": {},
   "source": [
    "As an alternative, `extend` is another list method that allows you to add a list of items as individual items."
   ]
  },
  {
   "cell_type": "markdown",
   "id": "c7a45ba3-97d1-4a45-b45d-f739e0c45c80",
   "metadata": {},
   "source": [
    "## Exercise 2)\n",
    "\n",
    "1) Use the internet to look up information on the eight major planets in our solar system.\n",
    "2) Manually create a NumPy Array with the values for the mass of each major planet in units of kg.\n",
    "3) Manually create a NumPy Array with the values for the radius of each major planet in units of m.\n",
    "    - (You will want to put in the radius values in scientific notation not as integers) \n",
    "5) Using mathematical operations, create a new NumPy Array that holds the calculated values for the average density of each planet.\n",
    "6) Create a 2D array with rows for the mass, radius, and density, where each column is for a planet.\n",
    "7) Use slicing on the 2D array to get all of the values for the inner terrestrial planets.\n",
    "8) Use slicing on the 2D array to get just the density values for the outer jovian planets."
   ]
  },
  {
   "cell_type": "code",
   "execution_count": null,
   "id": "dc8ec298-f7de-44f6-97e4-5a2151b5dc58",
   "metadata": {},
   "outputs": [],
   "source": [
    "# Enter your code below."
   ]
  },
  {
   "cell_type": "code",
   "execution_count": null,
   "id": "8856b8f3-4248-490b-883e-3760b4afa21b",
   "metadata": {},
   "outputs": [],
   "source": [
    "#Possible Solution 1\n",
    "#enter your code below\n",
    "import numpy as np\n",
    "\n",
    "#Step 1, values from NASA website\n",
    "\n",
    "#Step two and three, create arrays\n",
    "Pmass = np.array([3.3e+23,4.87e+24,5.97e+24,6.42e+23,1.89e+27,5.68e+26,8.68e+25,1.02e+26])\n",
    "Prad = np.array([2.44e+7,6.05e+7,6.37e+7,3.39e+7,7.15e+8,6.03e+8,2.55e+8,2.47e+8])\n",
    "\n",
    "#Step 4, calculate density\n",
    "Pvol = 4/3*(np.pi)*(Prad**2)\n",
    "Pden = Pmass/Pvol\n",
    "print(Pden)\n",
    "\n",
    "#Step 5, create 2D array with mass, radius, and density as rows\n",
    "full = np.stack([Pmass,Prad,Pden])\n",
    "print(full)\n",
    "print(full.shape)\n",
    "\n",
    "#Step 6, \n",
    "print(full[:,0:3])\n",
    "\n",
    "#Step 7\n",
    "print(full[:,4:7])"
   ]
  },
  {
   "cell_type": "markdown",
   "id": "43ef281b-64b8-49df-b741-ce5d1429a846",
   "metadata": {},
   "source": [
    "Can you find the error in the code above?\n",
    "\n",
    "How can we make the code and output easier to follow."
   ]
  },
  {
   "cell_type": "code",
   "execution_count": null,
   "id": "18e7d9a5-4ef2-49a7-81d8-ce0e37b39b2f",
   "metadata": {},
   "outputs": [],
   "source": [
    "#Possible Solution 2\n",
    "#enter your code below\n",
    "import numpy as np\n",
    "\n",
    "#Step 1, values from NASA website\n",
    "print('Values for this assignment were taken from a NASA Website.')\n",
    "\n",
    "#Step two and three, create arrays for the mass and radius\n",
    "Pmass = np.array([3.3e+23,4.87e+24,5.97e+24,6.42e+23,1.89e+27,5.68e+26,8.68e+25,1.02e+26])\n",
    "Prad = np.array([2.44e+7,6.05e+7,6.37e+7,3.39e+7,7.15e+8,6.03e+8,2.55e+8,2.47e+8])\n",
    "\n",
    "#Step 4, calculate density\n",
    "Pvol = 4/3*(np.pi)*(Prad**3)\n",
    "Pden = Pmass/Pvol\n",
    "print('The densities are:')\n",
    "print(Pden)\n",
    "\n",
    "#Step 5, create 2D array with mass, radius, and density as rows\n",
    "full = np.stack([Pmass,Prad,Pden])\n",
    "print('The full data is:')\n",
    "print(full)\n",
    "print('The shape is:',full.shape)\n",
    "\n",
    "#Step 6, Use slicing on the 2D array to get all of the values for the inner terrestrial planets.\n",
    "print('The terrestrial planets')\n",
    "print(full[:,0:3])\n",
    "\n",
    "#Step 7 Use slicing on the 2D array to get just the density values for the outer jovian planets.\n",
    "print('The Jovian planets')\n",
    "print(full[:,4:7])"
   ]
  },
  {
   "cell_type": "markdown",
   "id": "2c30dc6c-0cba-4a12-bb8b-b3c3e45b9966",
   "metadata": {},
   "source": [
    "## Exercise 3)\n",
    "\n",
    "In this exercise, you are given a filename as a string. This file name contains information about the data contained in the file (a common practice in data science).\n",
    "\n",
    "You are told that the file name has three parts separated by underscore characters `_`.\n",
    "\n",
    "You need to:\n",
    "- Split the string using the delimiter.\n",
    "- Save the first part of the filename to a variable called `id` and convert it into an integer value.\n",
    "- Save the second part of the filename to a variable called `period` and convert it into a float.\n",
    "- Save the third part of the filename into a string variable called `ftype`."
   ]
  },
  {
   "cell_type": "code",
   "execution_count": null,
   "id": "6cc1b25a-8a83-4ef8-889b-102d3f7bb312",
   "metadata": {},
   "outputs": [],
   "source": [
    "fname = '450119293_0.522044_lc.dat'\n",
    "\n",
    "# Put your code below.\n"
   ]
  },
  {
   "cell_type": "markdown",
   "id": "af724cd7-d541-482f-b4b6-e75bc7a8696b",
   "metadata": {},
   "source": [
    "## Exercise 4)\n",
    "\n",
    "Create a dictionary representing the stellar characteristics of the Sun.\n",
    "\n",
    "1) Use the internet to look up the values for the Sun.\n",
    "2) Think about which values are important for an astronomer.\n",
    "3) Manually create a dictionary of the values.\n",
    "4) Use the dictionary values to calculate the average density of the Sun from the radius and mass.\n",
    "\n"
   ]
  },
  {
   "cell_type": "code",
   "execution_count": null,
   "id": "1b947808-6676-45ed-927d-bb2886628e97",
   "metadata": {},
   "outputs": [],
   "source": [
    "# Insert your code here.\n"
   ]
  }
 ],
 "metadata": {
  "kernelspec": {
   "display_name": "Python 3 (ipykernel)",
   "language": "python",
   "name": "python3"
  },
  "language_info": {
   "codemirror_mode": {
    "name": "ipython",
    "version": 3
   },
   "file_extension": ".py",
   "mimetype": "text/x-python",
   "name": "python",
   "nbconvert_exporter": "python",
   "pygments_lexer": "ipython3",
   "version": "3.12.4"
  }
 },
 "nbformat": 4,
 "nbformat_minor": 5
}

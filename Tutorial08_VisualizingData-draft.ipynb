{
 "cells": [
  {
   "cell_type": "markdown",
   "id": "1b64be04-b60e-424d-b3c4-c49cd869ba54",
   "metadata": {},
   "source": [
    "<div class=\"alert alert-block alert-info\">\n",
    "<b>TBA:</b> Use this when a section needs more content\n",
    "</div>"
   ]
  },
  {
   "cell_type": "markdown",
   "id": "6c37c9ea",
   "metadata": {},
   "source": [
    "<div class=\"alert alert-block alert-info\">\n",
    "<b>TBA:</b> Possible changes\n",
    "\n",
    "    This is still a draft version. Please let me know where things are unclear.\n",
    "</div>"
   ]
  },
  {
   "cell_type": "markdown",
   "id": "699ee8b8-6bf5-4527-bbbf-5d1ed4192fd1",
   "metadata": {},
   "source": [
    "<div class=\"alert alert-block alert-warning\">\n",
    "<b>Caution:</b> Use this when a section is unclear\n",
    "</div>"
   ]
  },
  {
   "cell_type": "markdown",
   "id": "b249ca9c",
   "metadata": {},
   "source": [
    "# Tutorial 08: Visualizing Data in Python \n",
    "\n",
    "Sections of this notebook come from several other tutorial notebooks including but not limited to: \n",
    "the Official Matplotlib.pyplot documentation at https://matplotlib.org/3.5.3/api/_as_gen/matplotlib.pyplot.html, \n",
    "tutorials at the W3 school (https://www.w3schools.com/python/matplotlib_pyplot.asp), \n",
    "the Geeks for Geeks website (https://www.geeksforgeeks.org/matplotlib-tutorial/), \n",
    "the Krittika Tutorials, and additional sources.\n",
    "\n",
    "This tutorial was compiled for the PAARE project at South Carolina State University in partnership with Clemson University and the University of the Virgin Islands and funded by NSF. (NSF grant AST 2319415)\n",
    "\n",
    "Originally posted\n",
    "JCash June 30, 2025\n",
    "Last modified:\n",
    "JCash June 30, 2025"
   ]
  },
  {
   "cell_type": "markdown",
   "id": "9a379d77",
   "metadata": {},
   "source": [
    "## Overview \n",
    "\n",
    "In this tutorial, you will learn how to plot data, emphasizing simple line and scatter plots. \n",
    "\n",
    "\n",
    "- Visualization of Data\n",
    "- Matplotlib basics (Krittika-04)\n",
    "- - line graphs\n",
    "  - scatter plots\n",
    "  - histograms\n",
    "  - image display (Kirttika -09) \n",
    "- Multiple figures (Kirttika-08) "
   ]
  },
  {
   "cell_type": "markdown",
   "id": "c431ee77-0801-468d-8fec-9652d97880ff",
   "metadata": {},
   "source": [
    "### Imports needed\n",
    "\n",
    "* `numpy` is the standard Numerical Python Package\n",
    "* `matplotlib` is the standard Mathematical Plotting Library\n",
    "\n",
    "Both of these packages have very standard shortened forms for the import statements that are widely used"
   ]
  },
  {
   "cell_type": "code",
   "execution_count": null,
   "id": "5a18883f-fa3e-49bd-8c9a-af25b250d98d",
   "metadata": {},
   "outputs": [],
   "source": [
    "import numpy as np\n",
    "import matplotlib.pyplot as plt\n",
    "\n"
   ]
  },
  {
   "cell_type": "markdown",
   "id": "1a8f8480-ecca-4858-b678-76e29c4dbf80",
   "metadata": {},
   "source": [
    "## 1.0) Visualization of Data\n",
    "\n",
    "> Draft only here\n",
    "\n",
    "section to include what we mean by visualization and why is it important\n",
    "\n"
   ]
  },
  {
   "cell_type": "markdown",
   "id": "ef276388-c78e-4d06-ab4f-1a65a136e894",
   "metadata": {},
   "source": [
    "### 1.1) Visualization Packages in Python"
   ]
  },
  {
   "cell_type": "markdown",
   "id": "acde2f01-eb72-476c-963e-90410a860fd0",
   "metadata": {},
   "source": [
    "There are many visualization packages available for Python and several of them are commonly used. The most widely used package is Matplotlib and many other packages build upon this standard. \n",
    "\n",
    "Since Matplotlib is the standard package, this tutorial will focus on its use, but we do highlihgt a few others here along with links to their documentation. \n",
    "\n"
   ]
  },
  {
   "cell_type": "markdown",
   "id": "385369cc-01c6-4f21-9850-f3f2317f69d7",
   "metadata": {},
   "source": [
    "---\n",
    "**Seaborn**\n",
    "\n",
    "Seaborn is described as a library for making statistical graphics in Python. It builds on top of matplotlib and integrates closely with pandas data structures. If you will be creating graphics that highlight statistical data, then using Seaborn may make it easier to create those plot. Since it is built on top of matplotlib, you still need to understand matplotlib in order to customize all of the plot options. \n",
    "\n",
    "https://seaborn.pydata.org/tutorial/introduction.html\n",
    "\n",
    "We will not cover specifics of using Seaborn in this tutorial. "
   ]
  },
  {
   "cell_type": "markdown",
   "id": "b83f03cb-f4da-4cc2-956e-49cb2e12759d",
   "metadata": {},
   "source": [
    "---\n",
    "**Plotly**\n",
    "\n",
    "On GitHub Plotly is described as an interactive, open-source, and browser-based graphing library for Python.\n",
    "\n",
    "Plotly's Python graphing library makes interactive, publication-quality graphs. Examples of how to make line plots, scatter plots, area charts, bar charts, error bars, box plots, histograms, heatmaps, subplots, multiple-axes, polar charts, and bubble charts.\n",
    "\n",
    "https://plotly.com/python/\n",
    "https://github.com/plotly/plotly.py"
   ]
  },
  {
   "cell_type": "markdown",
   "id": "6b31d257-3a4b-4341-acfa-ef3740f4d8be",
   "metadata": {},
   "source": [
    "---\n",
    "**Bokeh**\n",
    "\n",
    "According to the Bokeh documentation, it \"is a Python library for creating interactive visualizations for modern web browsers. It helps you build beautiful graphics, ranging from simple plots to complex dashboards with streaming datasets. With Bokeh, you can create JavaScript-powered visualizations without writing any JavaScript yourself.\"\n",
    "\n",
    "https://docs.bokeh.org/en/latest/"
   ]
  },
  {
   "cell_type": "markdown",
   "id": "ac0555a3-62d0-4cf7-9b11-21bd70af6cce",
   "metadata": {},
   "source": [
    "### 1.2) Matplotlib\n",
    "\n",
    "\n",
    "> Need to improve description of this package in general\n"
   ]
  },
  {
   "cell_type": "markdown",
   "id": "28e79ee4-7f95-49f5-91dd-c396793a1ce2",
   "metadata": {},
   "source": [
    "'Matplotlib is a low level graph plotting library in python that serves as a visualization utility.''\n",
    "\n",
    "'Matplotlib was created by John D. Hunter.''\n",
    "\n",
    "'Matplotlib is open source and we can use it freely.''\n",
    "\n",
    "'Matplotlib is mostly written in python, a few segments are written in C, Objective-C and Javascript for Platform compatibility.''\n",
    "\n"
   ]
  },
  {
   "cell_type": "markdown",
   "id": "e84f4163-676b-40c6-917a-923bb214ab7e",
   "metadata": {},
   "source": [
    "> Need to describe the optioning options in general\n",
    "\n",
    "If you want to add plots to your Jupyter Notebook, then `%matplotlib inline` is a standard solution.\n",
    "\n",
    "`%matplotlib` is a magic function in Python. (http://ipython.readthedocs.io/en/stable/interactive/tutorial.html#magics-explained)\n",
    "\n",
    "`%matplotlib inline` sets the backend of matplotlib to the 'inline' backend. With this backend, the output of plotting commands is displayed inline within frontends, directly below the code cell that produced it. The resulting plots will then also be stored in the notebook document. \n",
    "\n",
    "Depending on your system, without this command you will need to use `plt.show()` after any plotting command for the graphics to show in the notebook. Note that this is only for the Jupyter notebook; it won't work on the terminal.\n",
    "\n",
    "\n",
    "\n",
    "There are other magic commands that can use matplotlib interactively within Jupyter **if** the proper extensions have been installed on the Jupyter-Server.\n",
    "\n",
    "`%matplotlib`: any plt plot command will now cause a figure window to open, and further commands can be run to update the plot. Some changes will not draw automatically, to force an update, use plt.draw()\n",
    "\n",
    "`%matplotlib notebook`: will lead to interactive plots embedded within the notebook, you can zoom and resize the figure\n",
    "\n",
    "`%matplotlib inline`: only draw static images in the notebook"
   ]
  },
  {
   "cell_type": "code",
   "execution_count": null,
   "id": "502ca93d-249c-48ea-8587-260b20ca175a",
   "metadata": {},
   "outputs": [],
   "source": [
    "#Should always work\n",
    "%matplotlib inline"
   ]
  },
  {
   "cell_type": "markdown",
   "id": "26e5579e-83aa-40c5-be38-f96debeab39c",
   "metadata": {},
   "source": [
    "## 2.0) Line Plots"
   ]
  },
  {
   "cell_type": "markdown",
   "id": "4a919e5d-6f23-4fc8-9386-006844427dcd",
   "metadata": {},
   "source": [
    "### 2.1) Anatomy of the Plot function\n",
    "\n",
    "When creating a basic line plot in Matplotlib, we want to use the `matplotlib.pyplot.plot()` function. Due to the way we structured our import this simplifies down to `plt.plot()`\n",
    "\n",
    "Using snippets from the Documentation:\n",
    "\n",
    "Here is a typical calling signature:\n",
    "`plot([x], y, [fmt])`\n",
    "\n",
    "`y` is a required parameter which can be: a single numerical value, a list of numerical values, or an array of numerical values\n",
    "\n",
    "`x` is an optional parameter. If it is given it should be the same length as the y array, If it is not given, then it defaults to a list of indexes of the same length as y\n",
    "\n",
    "`[fmt]` The optional parameter *fmt* is a convenient way for defining basic\n",
    "    formatting like color, marker and linestyle. It's a shortcut string\n",
    "    notation described in the *Notes* section below.\n",
    "\n",
    "Full Documentation and additional tutorials for this package are available at https://matplotlib.org/stable/api/_as_gen/matplotlib.pyplot.plot.html\n",
    "\n"
   ]
  },
  {
   "cell_type": "code",
   "execution_count": null,
   "id": "24d9c5a0-2b67-46b4-a39b-a0929501ad83",
   "metadata": {},
   "outputs": [],
   "source": [
    "# Documentation for the plot function\n",
    "#uncomment the cell below to see the full help information (which is long)\n",
    "\n",
    "#help(plt.plot)"
   ]
  },
  {
   "cell_type": "markdown",
   "id": "77b764a5-4b07-4db5-84ee-56313e090a2e",
   "metadata": {},
   "source": [
    "### 2.2) Line Plots with one array\n",
    "\n",
    "You can make a line plot with one array of data if you assume that the values given are the y values and that the x values are the array indicies (0 - 10 for example)\n",
    "\n",
    "\n",
    "In this case, we can use the simplest call to the plot function of the form `plt.plot(y)`\n",
    "\n",
    "Where y is the list or array of values to be plotted."
   ]
  },
  {
   "cell_type": "code",
   "execution_count": null,
   "id": "f2876aaa-8978-4f38-b5de-13da302f504a",
   "metadata": {},
   "outputs": [],
   "source": [
    "# With a list of y values\n",
    "y = [0,5,2,8,8,2,4,1,2,6,4]\n",
    "\n",
    "plt.plot(y)"
   ]
  },
  {
   "cell_type": "code",
   "execution_count": null,
   "id": "00e0c061-6fd1-427f-b653-2e2e8fdddd9a",
   "metadata": {
    "editable": true,
    "slideshow": {
     "slide_type": ""
    },
    "tags": []
   },
   "outputs": [],
   "source": [
    "# Creating an array of values to plot.\n",
    "\n",
    "y = np.arange(25)**2\n",
    "\n",
    "plt.plot(y)"
   ]
  },
  {
   "cell_type": "code",
   "execution_count": null,
   "id": "65c05749-c862-4883-bb13-692eaafa2691",
   "metadata": {},
   "outputs": [],
   "source": []
  },
  {
   "cell_type": "markdown",
   "id": "78c637e9-eb20-410f-b70b-6baebff1936c",
   "metadata": {},
   "source": [
    "### 2.3) Line Plots with x and y\n",
    "\n",
    "Generally you will want two lists or arrays of data points for x and y.\n",
    "\n",
    "\n",
    "`plt.plot(x,y)`\n"
   ]
  },
  {
   "cell_type": "code",
   "execution_count": null,
   "id": "de8fad7f-10d1-4754-9bdd-7ae2929a3f1f",
   "metadata": {},
   "outputs": [],
   "source": [
    "# Here we have a set of x values and random y values\n",
    "x = np.linspace(0,5,15)\n",
    "y = np.random.randint(0,5,15)\n",
    "\n",
    "plt.plot(x,y)"
   ]
  },
  {
   "cell_type": "code",
   "execution_count": null,
   "id": "22ca0e42-6481-4a38-9f55-3ea6b07e72c0",
   "metadata": {},
   "outputs": [],
   "source": [
    "# Here we have a set of x values and y values calculated from the x values\n",
    "x = np.linspace(0,50,100)*.1 +2\n",
    "y = (x - 4)**3 \n",
    "\n",
    "plt.plot(x,y)"
   ]
  },
  {
   "cell_type": "markdown",
   "id": "dd32266b-086a-462e-8cfc-0ac7516ba7c3",
   "metadata": {},
   "source": [
    "### 2.4) Multiple Lines on one Plot\n",
    "\n",
    "If you have multiple data sets that you want to compare, you can create one plot which shows both lines.\n",
    "\n",
    "This is done using multiple calls to the the plot function in one cell.\n",
    "\n",
    "By default, matplotlib with color each line differently. \n"
   ]
  },
  {
   "cell_type": "code",
   "execution_count": null,
   "id": "cf564705",
   "metadata": {},
   "outputs": [],
   "source": [
    "#Setting multiple lines with only y values\n",
    "y1 = np.array([3, 8, 1, 10])\n",
    "y2 = np.array([6, 2, 7, 11])\n",
    "\n",
    "plt.plot(y1)\n",
    "plt.plot(y2)\n",
    "\n",
    "plt.show()"
   ]
  },
  {
   "cell_type": "code",
   "execution_count": null,
   "id": "b35932e1-7823-400f-b2da-a2fedb96e5e4",
   "metadata": {},
   "outputs": [],
   "source": [
    "# Setting up multiple lines with x and y\n",
    "\n",
    "x1 = np.linspace(0,10,5)\n",
    "y1 = x1**2\n",
    "\n",
    "x2 = np.linspace(0,10,5)\n",
    "y2 = (x2+0.5)**2 \n",
    "\n",
    "plt.plot(x1,y1)\n",
    "plt.plot(x2,y2)"
   ]
  },
  {
   "cell_type": "code",
   "execution_count": null,
   "id": "7b240017-569b-4b0b-9a55-f80a0cf37501",
   "metadata": {},
   "outputs": [],
   "source": [
    "# Setting up multiple lines with x and y\n",
    "\n",
    "x1 = np.linspace(0,10,5)\n",
    "y1 = x1**2\n",
    "\n",
    "x2 = np.linspace(0,10,5)\n",
    "y2 = (x2+0.5)**2 \n",
    "\n",
    "plt.plot(x1,y1)\n",
    "plt.plot(x2,y2)"
   ]
  },
  {
   "cell_type": "markdown",
   "id": "82a63b54-a171-47c5-a804-d667e67a7094",
   "metadata": {},
   "source": [
    "### 2.5) Plot style options\n",
    "\n",
    "Matplotlib pyplot has many customizations available. \n",
    "\n",
    "* Line colors\n",
    "* Line styles\n",
    "* Point styles\n",
    "* "
   ]
  },
  {
   "cell_type": "markdown",
   "id": "7bcc095f-5b2d-4fef-ab69-5088c957b375",
   "metadata": {},
   "source": [
    "#### Marker style\n",
    "Plotting markers for the points on the line\n",
    "\n",
    "If the data points form a very smooth line, it may be an advantage to mark the data points on the line. The syntax for this is `marker = ` in the format section of the plot\n",
    "\n",
    "You can specify the marker style using the following standard set:\n",
    "'o' Circle '*' Star '.' Point ',' Pixel 'x' X 'X' X (filled) '+' Plus 'P' Plus (filled) 's' Square 'D' Diamond 'd' Diamond (thin) 'p' Pentagon 'H' Hexagon 'h' Hexagon 'v' Triangle Down '^' Triangle Up '<' Triangle Left '>' Triangle Right '1' Tri Down '2' Tri Up '3' Tri Left '4' Tri Right '|' Vline '_' Hline"
   ]
  },
  {
   "cell_type": "code",
   "execution_count": null,
   "id": "f8680860-e6d2-4f6e-bc32-2edb86ee7eca",
   "metadata": {},
   "outputs": [],
   "source": [
    "# Here we have a set of x values and y values calculated from the x values\n",
    "x = np.linspace(0,50,10)*.1 +2\n",
    "y = (x - 4)**3 \n",
    "\n",
    "plt.plot(x,y,marker = 'o')"
   ]
  },
  {
   "cell_type": "code",
   "execution_count": null,
   "id": "a92b1e44",
   "metadata": {},
   "outputs": [],
   "source": [
    "#Markers\n",
    "ypoints = np.array([3, 8, 1, 10])\n",
    "\n",
    "plt.plot(ypoints, marker = 's')\n",
    "plt.show()"
   ]
  },
  {
   "cell_type": "markdown",
   "id": "b6e5345e-fbfa-47d8-8e22-644434b862a3",
   "metadata": {},
   "source": [
    "#### Line color and style\n",
    "\n",
    "If you don't specify the line color it will use the default blue color. You can choose different colors using the format option `color = ` or `linestyle = `\n",
    "\n",
    "There are also shorter versions of these format options for `c = ` and `ls = `\n",
    "\n",
    "You can also combine the two formating choices into a single string with the color and linestyle. For example the format string for a blue solid line with a square marker would be `'b-s'`\n",
    "\n",
    "For the linestyles you can use:\n",
    "* '-'\tSolid line\t\n",
    "* ':'\tDotted line\t\n",
    "* '--'\tDashed line\t\n",
    "* '-.'\tDashed/dotted line\n",
    "\n",
    "For colors, you can use any of the Matplotlib color names, but the standards are:\n",
    "'r' Red 'g' Green 'b' Blue 'c' Cyan 'm' Magenta 'y' Yellow 'k' Black 'w' White\n",
    "\n",
    "For the full list of colors see:\n",
    "https://matplotlib.org/stable/gallery/color/named_colors.html"
   ]
  },
  {
   "cell_type": "code",
   "execution_count": null,
   "id": "ee4c6a38-12e2-4034-8065-e106224edf9a",
   "metadata": {},
   "outputs": [],
   "source": [
    "x = np.linspace(1,5,20)\n",
    "y1 = 1*x\n",
    "y2 = 2*x\n",
    "y3 = 1.5*x+2\n",
    "\n",
    "plt.plot(x,y1,color = 'Red',linestyle = ':')\n",
    "plt.plot(x,y2, c = 'g', ls = '-.')\n",
    "plt.plot(x,y3, 'c--')"
   ]
  },
  {
   "cell_type": "markdown",
   "id": "65a252e4-3d86-4a6c-b4ef-f13bd5cf0d44",
   "metadata": {},
   "source": [
    "#### Points without lines\n",
    "Plotting points without lines\n",
    "\n",
    "If you don't want to show the line connecting the data points, you can use a format string without a line style. \n",
    "\n",
    "For example, red stars with a dotted line would be `r:*` and red stars without a line would be `'r*'`.\n",
    "\n",
    "A comparison is shown below."
   ]
  },
  {
   "cell_type": "code",
   "execution_count": null,
   "id": "05df437d-b3dd-41f3-af6a-f36813b5e486",
   "metadata": {},
   "outputs": [],
   "source": [
    "# Setting up multiple lines with x and y\n",
    "\n",
    "x1 = np.linspace(0,10,5)\n",
    "y1 = x1* 2\n",
    "\n",
    "x2 = np.linspace(0,10,5)\n",
    "y2 = (x2)*2 +4\n",
    "\n",
    "plt.plot(x1,y1,'r:*')\n",
    "plt.plot(x2,y2,'g*')"
   ]
  },
  {
   "cell_type": "markdown",
   "id": "8b451d3a-adef-48d7-9b0f-37fde6e9495b",
   "metadata": {},
   "source": [
    "Using a plot without a line is particular useful if the x points are not in order. \n",
    "\n",
    "In a case like this, the plot function will connect the data points in the order they are given. See the plot examples below for a data set where x is not in order.\n"
   ]
  },
  {
   "cell_type": "code",
   "execution_count": null,
   "id": "ee1f013f-ce74-4ef7-80c6-7e0bba4a05da",
   "metadata": {},
   "outputs": [],
   "source": [
    "# Randomized x-values with lines\n",
    "# There are many back and forth lines connecting the points.\n",
    "\n",
    "x = np.random.randint(0,100,20)\n",
    "y = x**2\n",
    "\n",
    "plt.plot(x,y)"
   ]
  },
  {
   "cell_type": "code",
   "execution_count": null,
   "id": "9ab7a8f8-da6a-4465-abbe-288380a8a77e",
   "metadata": {},
   "outputs": [],
   "source": [
    "# Randomized x-values with lines\n",
    "# The pattern in the data is much clearly without the lines\n",
    "\n",
    "x = np.random.randint(0,100,20)\n",
    "y = x**2\n",
    "\n",
    "plt.plot(x,y,'o')"
   ]
  },
  {
   "cell_type": "markdown",
   "id": "e56f27a3-7022-43a9-88db-2ad3800afbaa",
   "metadata": {},
   "source": [
    "## 3.0) Scatter plots\n",
    "\n",
    "Following the last example of the plots without lines, we have a different function in matplotlib that specifically works with scatter plots, where you don't use lines to connect the data points at all. \n",
    "\n",
    "This the `plt.scatter(x,y)` function.\n",
    "\n"
   ]
  },
  {
   "cell_type": "markdown",
   "id": "fdef2c5c-79be-4d57-a5c2-b8a0e77c6095",
   "metadata": {},
   "source": [
    "### 3.1) Simple Scatter plot"
   ]
  },
  {
   "cell_type": "code",
   "execution_count": null,
   "id": "18f95a23",
   "metadata": {},
   "outputs": [],
   "source": [
    "#Creating scatter plots\n",
    "x = np.array([5,7,8,7,2,17,2,9,4,11,12,9,6])\n",
    "y = np.array([99,86,87,88,111,86,103,87,94,78,77,85,86])\n",
    "\n",
    "plt.scatter(x, y)\n",
    "plt.show()"
   ]
  },
  {
   "cell_type": "markdown",
   "id": "07953198-05dc-455b-8757-c413da029d49",
   "metadata": {},
   "source": [
    "### 3.2) Multiple data sets on the same scatter plot\n",
    "\n",
    "If two scatter plots are created in the same code cell. It will overplot the two data sets in different colors. \n",
    "\n",
    "You can also choose the colors and symbols similar to options for line plots although you can't use the simple formatting string. \n",
    "\n",
    "If you want to use the same symbol for all data points in a set, it is sometimes preferrable to use the `plt.plot()` with no lines."
   ]
  },
  {
   "cell_type": "code",
   "execution_count": null,
   "id": "b8dd5b74",
   "metadata": {},
   "outputs": [],
   "source": [
    "#day one, the age and speed of 13 cars:\n",
    "x = np.array([5,7,8,7,2,17,2,9,4,11,12,9,6])\n",
    "y = np.array([99,86,87,88,111,86,103,87,94,78,77,85,86])\n",
    "plt.scatter(x, y, c='r',marker = '*')\n",
    "\n",
    "#day two, the age and speed of 15 cars:\n",
    "x = np.array([2,2,8,1,15,8,12,9,7,3,11,4,7,14,12])\n",
    "y = np.array([100,105,84,105,90,99,90,95,94,100,79,112,91,80,85])\n",
    "plt.scatter(x, y, c = 'g',marker = '<')\n",
    "\n",
    "plt.show()"
   ]
  },
  {
   "cell_type": "markdown",
   "id": "d41abea2-6be7-462f-a14b-2d5865ab8e1b",
   "metadata": {},
   "source": [
    "### 3.3) Formatting for scatter plots\n",
    "\n",
    "One advantage of the scatter plot function is the ability to use different colors or sizes on different data points. \n",
    "\n",
    "The colors can be set using arrays with a third parameter using a color map.\n",
    "The sizes of the data points can be set using a forth parameter represent some other aspect of the data mapped to a range of dot sizes. \n",
    "\n",
    "A full treatment of the mapping of color and size to other parameters is beyond the scope of this tutorial, but two examples are given below."
   ]
  },
  {
   "cell_type": "code",
   "execution_count": null,
   "id": "96f58c18-cc51-4b8e-b31a-bb68eae3a301",
   "metadata": {},
   "outputs": [],
   "source": [
    "a = np.arange(50)\n",
    "b = a + 10 * np.random.randn(50)\n",
    "c = np.random.randint(0, 50, 50)\n",
    "d = abs(np.random.randn(50))*100"
   ]
  },
  {
   "cell_type": "code",
   "execution_count": null,
   "id": "0df28482-1940-4194-809f-e5eab349160e",
   "metadata": {},
   "outputs": [],
   "source": [
    "plt.scatter(a, b, c=c, s=d)\n",
    "plt.colorbar()\n",
    "plt.show()"
   ]
  },
  {
   "cell_type": "code",
   "execution_count": null,
   "id": "f629bcd5-0a78-4c42-8ae2-12ff0321c0b3",
   "metadata": {},
   "outputs": [],
   "source": [
    "plt.scatter(a, b, c=c, s=d, cmap='jet')\n",
    "plt.colorbar()\n",
    "plt.show()"
   ]
  },
  {
   "cell_type": "markdown",
   "id": "28214b74-6c7e-4888-a6e4-467dd96badc6",
   "metadata": {},
   "source": [
    "## 4.0) Other Plot Types"
   ]
  },
  {
   "cell_type": "markdown",
   "id": "6c0f3205-847b-4d24-acc2-3bb52ba9d799",
   "metadata": {},
   "source": [
    "### 4.1) Histograms\n",
    "\n",
    "what are they"
   ]
  },
  {
   "cell_type": "code",
   "execution_count": null,
   "id": "e83b717f",
   "metadata": {},
   "outputs": [],
   "source": [
    "#Creating histograms\n",
    "x = np.random.normal(170, 10, 250)\n",
    "\n",
    "print(x)"
   ]
  },
  {
   "cell_type": "code",
   "execution_count": null,
   "id": "490de410",
   "metadata": {},
   "outputs": [],
   "source": [
    "\n",
    "plt.hist(x)\n",
    "plt.show() "
   ]
  },
  {
   "cell_type": "code",
   "execution_count": null,
   "id": "8d843768",
   "metadata": {},
   "outputs": [],
   "source": [
    "#Possible to do bar graphs and pie charts, but they are not the main focus of this tutorial."
   ]
  },
  {
   "cell_type": "markdown",
   "id": "dec76406-e1c8-40fd-b95f-75542f45f99f",
   "metadata": {},
   "source": [
    "### 4.2) Surface Plots\n",
    "\n",
    "We can plot the value of a function over a range of x and y values using a surface plot, where the z axis shows the value at each point in the x,y plane. \n",
    "\n",
    "They can be shown as heights or as color maps. "
   ]
  },
  {
   "cell_type": "code",
   "execution_count": null,
   "id": "ee9b8895-68d2-4be1-9f0f-5647d2f8c28b",
   "metadata": {},
   "outputs": [],
   "source": []
  },
  {
   "cell_type": "markdown",
   "id": "33cec40f-1e4a-448e-961e-d6c4f1bd02a3",
   "metadata": {},
   "source": [
    "### 4.3) SubPlots and other Fancy Stuff\n",
    "\n",
    "While not the focus of this tutorial, it is necessary to let you know that Matplotlib has many customization features which allow you to create a wide range of plots including plots which contain more than one subplot. \n",
    "\n",
    "A Gallery of examples is available at: https://matplotlib.org/stable/gallery/index.html\n",
    "\n",
    "Two such examples are shown below without explanation."
   ]
  },
  {
   "cell_type": "code",
   "execution_count": null,
   "id": "26175c02-a493-45d3-9f30-b7c2c1df2a62",
   "metadata": {},
   "outputs": [],
   "source": [
    "import matplotlib.pyplot as plt\n",
    "import numpy as np\n",
    "\n",
    "np.random.seed(0)\n",
    "\n",
    "dt = 0.01  # sampling interval\n",
    "Fs = 1 / dt  # sampling frequency\n",
    "t = np.arange(0, 10, dt)\n",
    "\n",
    "# generate noise:\n",
    "nse = np.random.randn(len(t))\n",
    "r = np.exp(-t / 0.05)\n",
    "cnse = np.convolve(nse, r) * dt\n",
    "cnse = cnse[:len(t)]\n",
    "\n",
    "s = 0.1 * np.sin(4 * np.pi * t) + cnse  # the signal\n",
    "\n",
    "fig = plt.figure(figsize=(7, 7), layout='constrained')\n",
    "axs = fig.subplot_mosaic([[\"signal\", \"signal\"],\n",
    "                          [\"magnitude\", \"log_magnitude\"],\n",
    "                          [\"phase\", \"angle\"]])\n",
    "\n",
    "# plot time signal:\n",
    "axs[\"signal\"].set_title(\"Signal\")\n",
    "axs[\"signal\"].plot(t, s, color='C0')\n",
    "axs[\"signal\"].set_xlabel(\"Time (s)\")\n",
    "axs[\"signal\"].set_ylabel(\"Amplitude\")\n",
    "\n",
    "# plot different spectrum types:\n",
    "axs[\"magnitude\"].set_title(\"Magnitude Spectrum\")\n",
    "axs[\"magnitude\"].magnitude_spectrum(s, Fs=Fs, color='C1')\n",
    "\n",
    "axs[\"log_magnitude\"].set_title(\"Log. Magnitude Spectrum\")\n",
    "axs[\"log_magnitude\"].magnitude_spectrum(s, Fs=Fs, scale='dB', color='C1')\n",
    "\n",
    "axs[\"phase\"].set_title(\"Phase Spectrum \")\n",
    "axs[\"phase\"].phase_spectrum(s, Fs=Fs, color='C2')\n",
    "\n",
    "axs[\"angle\"].set_title(\"Angle Spectrum\")\n",
    "axs[\"angle\"].angle_spectrum(s, Fs=Fs, color='C2')\n",
    "\n",
    "plt.show()"
   ]
  },
  {
   "cell_type": "code",
   "execution_count": null,
   "id": "24c920bb-1213-4bf4-b61b-2530e45de243",
   "metadata": {
    "collapsed": false,
    "jupyter": {
     "outputs_hidden": false
    }
   },
   "outputs": [],
   "source": [
    "import matplotlib.pyplot as plt\n",
    "import numpy as np\n",
    "\n",
    "# Fixing random state for reproducibility\n",
    "np.random.seed(19680801)\n",
    "\n",
    "\n",
    "# create some data to use for the plot\n",
    "dt = 0.001\n",
    "t = np.arange(0.0, 10.0, dt)\n",
    "r = np.exp(-t[:1000] / 0.05)  # impulse response\n",
    "x = np.random.randn(len(t))\n",
    "s = np.convolve(x, r)[:len(x)] * dt  # colored noise\n",
    "\n",
    "# the main axes is subplot(111) by default\n",
    "plt.plot(t, s)\n",
    "plt.axis([0, 1, 1.1 * np.min(s), 2 * np.max(s)])\n",
    "plt.xlabel('time (s)')\n",
    "plt.ylabel('current (nA)')\n",
    "plt.title('Gaussian colored noise')\n",
    "\n",
    "# this is an inset axes over the main axes\n",
    "a = plt.axes([.65, .6, .2, .2], facecolor='k')\n",
    "n, bins, patches = plt.hist(s, 400, density=True)\n",
    "plt.title('Probability')\n",
    "plt.xticks([])\n",
    "plt.yticks([])\n",
    "\n",
    "# this is another inset axes over the main axes\n",
    "a = plt.axes([0.2, 0.6, .2, .2], facecolor='k')\n",
    "plt.plot(t[:len(r)], r)\n",
    "plt.title('Impulse response')\n",
    "plt.xlim(0, 0.2)\n",
    "plt.xticks([])\n",
    "plt.yticks([])\n",
    "\n",
    "plt.show()"
   ]
  },
  {
   "cell_type": "markdown",
   "id": "5dd9fc1f-d839-4f97-87c6-b296a9cafb30",
   "metadata": {},
   "source": [
    "## 5.0) Axes Labels and Titles\n",
    "\n",
    "Coming soon"
   ]
  },
  {
   "cell_type": "markdown",
   "id": "9b99b779-f080-40f2-9a4b-6ad41fba8836",
   "metadata": {},
   "source": [
    "# Assignments\n",
    "\n",
    "> Not ready yet."
   ]
  },
  {
   "cell_type": "code",
   "execution_count": null,
   "id": "99edef6f-6aad-4fa1-aa65-f8cd645ceaac",
   "metadata": {},
   "outputs": [],
   "source": []
  }
 ],
 "metadata": {
  "kernelspec": {
   "display_name": "Python 3 (ipykernel)",
   "language": "python",
   "name": "python3"
  },
  "language_info": {
   "codemirror_mode": {
    "name": "ipython",
    "version": 3
   },
   "file_extension": ".py",
   "mimetype": "text/x-python",
   "name": "python",
   "nbconvert_exporter": "python",
   "pygments_lexer": "ipython3",
   "version": "3.12.4"
  }
 },
 "nbformat": 4,
 "nbformat_minor": 5
}

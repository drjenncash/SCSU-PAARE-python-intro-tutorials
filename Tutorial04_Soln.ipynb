{
 "cells": [
  {
   "cell_type": "markdown",
   "id": "16485e90",
   "metadata": {},
   "source": [
    "# Tutorial 4: Conditionals and Control Flow in Python\n",
    "\n",
    "This notebook accompanies the Tutorial Notebook and shows some possible solutions for the assignments.\n",
    "\n",
    "\n",
    "\n",
    "This tutorial was compiled for the PAARE project at South Carolina State University in partnership with Clemson University and the University of the Virgin Islands and funded by NSF.  (NSF grant AST  2319415)\n",
    "\n",
    "* Original posting:\n",
    "  * JCash 06-09-2025\n",
    "* Last modification:\n",
    "  * JCash 06-20-2025"
   ]
  },
  {
   "cell_type": "markdown",
   "id": "cc81a84b-ef8b-4067-a478-0cec0d95d896",
   "metadata": {},
   "source": [
    "# Assignments"
   ]
  },
  {
   "cell_type": "code",
   "execution_count": null,
   "id": "808c5ff8-5ec3-42f5-b549-1527c126a240",
   "metadata": {},
   "outputs": [],
   "source": [
    "# Run this cell first. \n",
    "import numpy as np"
   ]
  },
  {
   "cell_type": "markdown",
   "id": "227af28f",
   "metadata": {},
   "source": [
    "The assisgnment activities here will combine skills you have learned from the previous tutorials along with the current tutorials. \n",
    "\n",
    "- In some cases there will be some code provided for you that should not be changed. \n",
    "- You will then create the code for the additional steps of the process.\n",
    "\n",
    "As you work on the assignments:\n",
    "\n",
    "* You may also want to look at other websites for examples similar to these activities. \n",
    "* Remember that there is more than one possible solution for each of these."
   ]
  },
  {
   "cell_type": "markdown",
   "id": "ff1b82f1-b709-49d2-8408-e82eb25e7a9a",
   "metadata": {},
   "source": [
    "## Exercise 1) Intro level\n",
    "\n",
    "The purpose of this assignment is to practice skills that will allow you to filter a data set. You are given an input list of \n",
    "\n",
    "1) You are given the code to create a random array of integers that range between -5 and 20.\n",
    "2) Write code to show the nlist array values one at a time.\n",
    "3) Write a code loop to check each value and print a statement whenever it finds a negative value."
   ]
  },
  {
   "cell_type": "code",
   "execution_count": null,
   "id": "845207c1-bd89-4bf9-962a-3b45d6f425a2",
   "metadata": {},
   "outputs": [],
   "source": [
    "# Step 1: This is the code to create a random array of integers that range between -5 and 20.\n",
    "# Don't change this code cell.\n",
    "\n",
    "nlist = np.random.randint(-5, 20, 30)\n",
    "\n",
    "#If you get an error about the name np, rerun the import cell at the top of the tutorial."
   ]
  },
  {
   "cell_type": "code",
   "execution_count": null,
   "id": "72cabfbc-896a-41f8-96fa-afdccdeecc09",
   "metadata": {},
   "outputs": [],
   "source": [
    "# Step 2: Write code to show the nlist array one value at a time.\n",
    "for i in nlist:\n",
    "    print(i)\n"
   ]
  },
  {
   "cell_type": "code",
   "execution_count": null,
   "id": "1ad6854a-bf5e-4f02-bab4-38811fd1895f",
   "metadata": {},
   "outputs": [],
   "source": [
    "# Step 3: Write a code loop to check each value and print a statement whenever it finds a negative value.\n",
    "for i in nlist:\n",
    "    if i < 0:\n",
    "        print(\"Negative value was found\")"
   ]
  },
  {
   "cell_type": "markdown",
   "id": "b01ec070-a1b4-459f-9185-ec630bcd0a32",
   "metadata": {},
   "source": [
    "## Exercise 2) Moderate\n",
    "\n",
    "This exercise will focus on using conditionals and for loops to count the values in an array that exceed a threshold value. You will create one block of code that does the following steps, but you may want to create the code in smaller steps testing as you go.  \n",
    "\n",
    "1) Create a numpy array of integers that range from 0 to 20 with a size of 30.\n",
    "2) Choose a value in the range of 0 to 20 to be your threshold and assign that value to a variable.\n",
    "3) Create a counter variable that is initially equal to zero.\n",
    "4) Loop through the array, checking each value.\n",
    "    - If it is larger than the threshold, increase the counter variable by one.\n",
    "5) At the end, print out the result with a statement of how many values were above the threshold."
   ]
  },
  {
   "cell_type": "code",
   "execution_count": null,
   "id": "039b13bd-507e-4029-8026-4987f05a5930",
   "metadata": {},
   "outputs": [],
   "source": [
    "# Step 1: Create a numpy array of integers that range from 0 to 20 with a size of 30.\n",
    "my_arr = np.random.randint(0, 20, 30)\n",
    "\n",
    "# Step 2: Choose a value in the range of 0 to 20 to be your threshold and assign that value to a variable.\n",
    "thresh = 15\n",
    "\n",
    "#Step 3: Create a counter variable that is initially equal to zero.\n",
    "count = 0\n",
    "\n",
    "#Step 4: Loop through the array, checking each value.\n",
    "# If it is larger than the threshold, increase the counter variable by one.\n",
    "for num in my_arr:\n",
    "    if num > thresh:\n",
    "        count += 1\n",
    "\n",
    "#Step 5: At the end, print out the result with a statement of how many values were above the threshold.\n",
    "print(\"There were \", count, \"values larger than \", thresh)\n",
    "\n",
    "# Extra to check accuracy:\n",
    "print(my_arr)"
   ]
  },
  {
   "cell_type": "markdown",
   "id": "8f24dad1-1e7a-41e0-bf40-8582e3d92c44",
   "metadata": {},
   "source": [
    "## Exercise 3) Challenging \n",
    "\n",
    "In this exercise you will work with a data file. The first code cell should NOT be changed as it reads in the data. You will learn how to do this for yourself in later tutorials."
   ]
  },
  {
   "cell_type": "code",
   "execution_count": null,
   "id": "c88cbdb0-6049-43bb-85a3-ab495f833c12",
   "metadata": {},
   "outputs": [],
   "source": [
    "#give code to read in data file Moons_and_Planets\n",
    "file = \"./data/Moons_and_planets.csv\"\n",
    "data = np.loadtxt(file,dtype=\"str\",delimiter=',',skiprows=1)\n",
    "moons = data[:,0]\n",
    "planets = data[:,1]\n",
    "\n",
    "# If you want to see the data array listing the planets, uncomment the next line\n",
    "#print(planets)"
   ]
  },
  {
   "cell_type": "markdown",
   "id": "46be6729-eff3-4a65-97c4-df0de0c555a9",
   "metadata": {},
   "source": [
    "Now you have the data from the file read into data arrays. \n",
    "Create code that will go through the arrays and count the number of moons for each planet. "
   ]
  },
  {
   "cell_type": "code",
   "execution_count": null,
   "id": "1f015804-be0b-4d5f-a0e2-060360f46871",
   "metadata": {},
   "outputs": [],
   "source": [
    "# Add your code in this cell and additional ones below"
   ]
  },
  {
   "cell_type": "code",
   "execution_count": null,
   "id": "efe6e96d-ce0f-47a3-ab55-9d8e0e2eb672",
   "metadata": {},
   "outputs": [],
   "source": [
    "# Possible solution with if-else statements.\n",
    "# This is a long version.\n",
    "\n",
    "# Initially create a counter value for each planet\n",
    "cnt1 = 0\n",
    "cnt2 = 0\n",
    "cnt3 = 0\n",
    "cnt4 = 0\n",
    "cnt5 =0\n",
    "cnt6 = 0\n",
    "cnt7 =  0\n",
    "cnt8 = 0\n",
    "cnt9 = 0\n",
    "\n",
    "for item in planets:\n",
    "    if item == \"Mercury\":\n",
    "        cnt1 += 1\n",
    "    elif item == \"Venus\":\n",
    "        cnt2 += 1\n",
    "    elif item == \"Earth\":\n",
    "        cnt3 += 1\n",
    "    elif item == \"Mars\":\n",
    "        cnt4 += 1\n",
    "    elif item == \"Jupiter\":\n",
    "        cnt5 += 1\n",
    "    elif item == \"Saturn\":\n",
    "        cnt6 += 1\n",
    "    elif item == \"Uranus\":\n",
    "        cnt7 += 1\n",
    "    elif item == \"Neptune\":\n",
    "        cnt8 += 1\n",
    "    elif item == \"Pluto\":\n",
    "        cnt9 += 1\n",
    "\n",
    "print(\"Mercury has\",cnt1, \"moons.\")\n",
    "print(\"Venus has\",cnt2, \"moons.\")\n",
    "print(\"Earth has\",cnt3, \"moons.\")\n",
    "print(\"Mars has\",cnt4, \"moons.\")\n",
    "print(\"Jupiter has\",cnt5, \"moons.\")\n",
    "print(\"Saturn has\",cnt6, \"moons.\")\n",
    "print(\"Uranus has\",cnt7, \"moons.\")\n",
    "print(\"Neptune has\",cnt8, \"moons.\")\n",
    "print(\"Pluto has\",cnt9, \"moons.\")"
   ]
  },
  {
   "cell_type": "code",
   "execution_count": null,
   "id": "d1743b61-9e6c-47fb-87ca-65ebd7738b99",
   "metadata": {},
   "outputs": [],
   "source": [
    "# Possible solution using a list of the planets and a list of the counters.\n",
    "counts = np.zeros(9)\n",
    "pnames = [\"Mercury\",\"Venus\",\"Earth\",\"Mars\",\"Jupiter\",\"Saturn\",\"Uranus\",\"Neptune\",\"Pluto\"]\n",
    "for i in range(len(pnames)):\n",
    "    for row in planets:\n",
    "        if row == pnames[i]:\n",
    "            counts[i] +=1\n",
    "\n",
    "for i in range(len(pnames)):\n",
    "    print(pnames[i], \"has\", counts[i],\"moons.\")\n"
   ]
  },
  {
   "cell_type": "code",
   "execution_count": null,
   "id": "b1c73159-1483-4f24-bef4-2d69dbbeff30",
   "metadata": {},
   "outputs": [],
   "source": [
    "# Possible solution using dictionaries\n",
    "\n",
    "# First create a list of the planets.\n",
    "pnames = [\"Mercury\",\"Venus\",\"Earth\",\"Mars\",\"Jupiter\",\"Saturn\",\"Uranus\",\"Neptune\",\"Pluto\"]\n",
    "\n",
    "# Create an empty dictionary.\n",
    "moon_dict = {}\n",
    "\n",
    "#Looping over the list of planet names, add them to the dictionary with an initial count of zero.\n",
    "for i in range(len(pnames)):\n",
    "    moon_dict[pnames[i]] = 0\n",
    "\n",
    "# See the initial dictionary before counting.\n",
    "print(moon_dict)\n",
    "               \n",
    "\n",
    "# For each item in the list of planets, add 1 to the appropriate dictionary value for that planet.\n",
    "for row in planets:\n",
    "    moon_dict[row] += 1\n",
    "\n",
    "# See the new dictionary.\n",
    "print(moon_dict)\n",
    "\n",
    "# Print it out nicely.\n",
    "for key in moon_dict:\n",
    "    print(\"The planet\", key, \"has \", moon_dict[key], \"moons.\")"
   ]
  },
  {
   "cell_type": "code",
   "execution_count": null,
   "id": "b5348fa1-7d26-48a4-9401-5feb3d1f3c41",
   "metadata": {},
   "outputs": [],
   "source": []
  }
 ],
 "metadata": {
  "kernelspec": {
   "display_name": "Python 3 (ipykernel)",
   "language": "python",
   "name": "python3"
  },
  "language_info": {
   "codemirror_mode": {
    "name": "ipython",
    "version": 3
   },
   "file_extension": ".py",
   "mimetype": "text/x-python",
   "name": "python",
   "nbconvert_exporter": "python",
   "pygments_lexer": "ipython3",
   "version": "3.12.4"
  }
 },
 "nbformat": 4,
 "nbformat_minor": 5
}

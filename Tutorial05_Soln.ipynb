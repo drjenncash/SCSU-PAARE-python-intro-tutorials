{
 "cells": [
  {
   "cell_type": "markdown",
   "metadata": {},
   "source": [
    "### Tutorial 5: Functions in Python\n",
    "\n",
    "This notebook accompanies the related tutorial and shows some possible solutions to the exercises\n",
    "\n",
    "\n",
    "\n",
    "This tutorial was compiled for the PAARE project at South Carolina State University in partnership with Clemson University and the University of the Virgin Islands and funded by NSF.  (NSF grant AST  2319415)\n",
    "\n",
    "* Original posting:\n",
    "  * JCash 06-20-2025\n",
    "* Last modification:\n",
    "  * JCash 06-23-2025"
   ]
  },
  {
   "cell_type": "markdown",
   "metadata": {},
   "source": [
    "## Assignments"
   ]
  },
  {
   "cell_type": "code",
   "execution_count": null,
   "metadata": {},
   "outputs": [],
   "source": [
    "# Import the following packages\n",
    "\n",
    "import math\n",
    "import numpy as np\n"
   ]
  },
  {
   "cell_type": "markdown",
   "metadata": {},
   "source": [
    "### Exercise 1) Convert Light Years to Parsecs (Intro level)\n",
    "\n",
    "\n",
    "In astronomy, we often work with large distances between stars and galaxies. Two commonly used units are **light years (ly)** and **parsecs (pc)**. \n",
    "\n",
    "This assignment will give you practice writing a simple function to convert between these two units.\n",
    "\n",
    "\n",
    "Write a function called `lightyears_to_parsecs(ly)` that takes one input:\n",
    "\n",
    "- `ly`: a distance in light years (a float or int)\n",
    "\n",
    "and returns the equivalent distance in parsecs.\n",
    "\n",
    " **Conversion factor:**  \n",
    "$$\n",
    "1 \\text{ parsec} = 3.26 \\text{ light years}\n",
    "$$  \n",
    "So to convert from light years to parsecs:\n",
    "$$\n",
    "\\text{parsecs} = \\frac{\\text{light years}}{3.26}\n",
    "$$\n"
   ]
  },
  {
   "cell_type": "markdown",
   "metadata": {},
   "source": [
    "**Possible solution 1**"
   ]
  },
  {
   "cell_type": "code",
   "execution_count": null,
   "metadata": {},
   "outputs": [],
   "source": [
    "# Place your code for the function definition here.\n",
    "def lightyears_to_parsecs(ly):\n",
    "    distance = ly/(3.26)\n",
    "    return distance"
   ]
  },
  {
   "cell_type": "code",
   "execution_count": null,
   "metadata": {},
   "outputs": [],
   "source": [
    "# Test your function.\n",
    "print(lightyears_to_parsecs(32.6))   # Should print 10.0\n",
    "print(lightyears_to_parsecs(3.26))   # Should print 1.0\n",
    "print(lightyears_to_parsecs(0))      # Should print 0.0\n"
   ]
  },
  {
   "cell_type": "markdown",
   "metadata": {},
   "source": [
    "**Possible solution 2**\n",
    "\n",
    "With more documentation in the code"
   ]
  },
  {
   "cell_type": "code",
   "execution_count": null,
   "metadata": {},
   "outputs": [],
   "source": [
    "def lightyears_to_parsecs(ly):\n",
    "    \"\"\"\n",
    "    input ly is distance in lightyears\n",
    "    output is the distance in parsecs\n",
    "    \"\"\"\n",
    "\n",
    "    #Do the conversions\n",
    "    distance = ly/(3.26)\n",
    "\n",
    "    #return the result\n",
    "    return distance\n",
    "\n"
   ]
  },
  {
   "cell_type": "markdown",
   "metadata": {},
   "source": [
    "**Possible solution 3**\n",
    "\n",
    "With minimal code and shortened function name\n"
   ]
  },
  {
   "cell_type": "code",
   "execution_count": null,
   "metadata": {},
   "outputs": [],
   "source": [
    "def ly_to_pc(ly):\n",
    "    return ly/3.26\n",
    "\n",
    "ly_to_pc(32.6)"
   ]
  },
  {
   "cell_type": "markdown",
   "metadata": {},
   "source": [
    "### Exercise 2) Calculate Apparent Brightness of a Star\n",
    "\n",
    "In astronomy, the **apparent brightness** of a star (how bright it appears from Earth) depends on both its **luminosity** and **distance**.\n",
    "\n",
    "This assignment will give you practice using formulas and writing functions with multiple inputs.\n",
    "\n",
    "---\n",
    "\n",
    "**Task**\n",
    "\n",
    "Write a function called `apparent_brightness(luminosity, distance)` that takes:\n",
    "\n",
    "- `luminosity`: the true brightness of the star (a float), measured in solar units (relative to the Sun)\n",
    "- `distance`: the distance to the star in parsecs\n",
    "\n",
    "and returns:\n",
    "\n",
    "- the **apparent brightness** of the star, calculated using the **inverse square law**:\n",
    "\n",
    "$$\n",
    "b = \\frac{L}{4 \\pi d^2}\n",
    "$$\n",
    "\n",
    "where:\n",
    "- \\( b \\) is the apparent brightness\n",
    "- \\( L \\) is the luminosity\n",
    "- \\( d \\) is the distance in parsecs\n",
    "- \\( \\pi \\) is the mathematical constant pi (available in Python as `math.pi` or `np.pi`)\n",
    "\n",
    "---\n",
    "\n",
    "**Pseudocode Outline**\n",
    "\n",
    "1. Import the `math` or `numpy` module (if you haven’t already).\n",
    "2. Define a function that takes `luminosity` and `distance` as inputs.\n",
    "3. Use the inverse square law formula:  \n",
    "   brightness = luminosity divided by (4 × pi × distance squared)\n",
    "4. Return the computed brightness.\n",
    "\n",
    "\n",
    "\n"
   ]
  },
  {
   "cell_type": "markdown",
   "metadata": {},
   "source": [
    "**Possible solution 1**\n",
    "\n",
    "With extra documentation in the code"
   ]
  },
  {
   "cell_type": "code",
   "execution_count": null,
   "metadata": {},
   "outputs": [],
   "source": [
    "# Place your code for the function in this code cell\n",
    "\n",
    "def apparent_brightness(L,d):\n",
    "    \"\"\"\n",
    "    inputs: \n",
    "       L is luminosity of the star in solar lums\n",
    "       d is the distance to the star in pcs\n",
    "    output:\n",
    "       b is brightness \n",
    "    \"\"\"\n",
    "    b = L/(4*np.pi*d**2)  # do the calculation\n",
    "\n",
    "    return b              #return the calculated value"
   ]
  },
  {
   "cell_type": "code",
   "execution_count": null,
   "metadata": {},
   "outputs": [],
   "source": [
    "# Test your code in this cell\n",
    "\n",
    "print(apparent_brightness(1.0, 10.0))     # Around 0.000795\n",
    "print(apparent_brightness(10.0, 10.0))    # Around 0.00795\n"
   ]
  },
  {
   "cell_type": "code",
   "execution_count": null,
   "metadata": {},
   "outputs": [],
   "source": [
    "# Look up values for the Luminosity and distance for Sirius. Use your function to calculate its brightness. \n",
    "# The Luminosity listed in Wikipedia was 24.7 solar luminosities\n",
    "# The distance was 2.67 parsecs\n",
    "\n",
    "print('The brightness of Sirius is',apparent_brightness(24.7,2.67))"
   ]
  },
  {
   "cell_type": "markdown",
   "metadata": {},
   "source": [
    "**Possible solution 2**"
   ]
  },
  {
   "cell_type": "code",
   "execution_count": null,
   "metadata": {},
   "outputs": [],
   "source": [
    "def app_bright(L,d):\n",
    "    return L/(4*np.pi*d**2)\n",
    "\n",
    "print(app_bright(10.0,10.0))"
   ]
  },
  {
   "cell_type": "markdown",
   "metadata": {},
   "source": [
    "**Possible solution 3**"
   ]
  },
  {
   "cell_type": "code",
   "execution_count": null,
   "metadata": {},
   "outputs": [],
   "source": [
    "def app_bright(L,d):\n",
    "    return L/(4*np.pi*d**2)\n",
    "\n",
    "bright = app_bright(10.0,10.0)\n",
    "print(bright)\n",
    "\n",
    "# An example of a nicer formatted print statement\n",
    "print(f'The brightness is {bright:.3e}')"
   ]
  },
  {
   "cell_type": "markdown",
   "metadata": {},
   "source": [
    "### Exercise 3) Count Values Above a Threshold\n",
    "\n",
    "In this exercise, you'll work with a NumPy array of brightness measurements. Your task is to count how many values are greater than a given threshold.\n",
    "\n",
    "---\n",
    "\n",
    "**Task**\n",
    "\n",
    "Write a function called `count_above_threshold(data, threshold)` that takes:\n",
    "\n",
    "- `data`: a NumPy array of brightness values (floats)\n",
    "- `threshold`: a numeric threshold\n",
    "\n",
    "and returns the **number of elements in the array that are greater than the threshold**.\n",
    "\n",
    "---\n",
    "\n",
    "**Pseudocode Outline**\n",
    "\n",
    "1. Use a comparison expression to create a Boolean array: `data > threshold`\n",
    "2. Use a NumPy function to count the number of `True` values.\n",
    "3. Return the count.\n",
    "\n"
   ]
  },
  {
   "cell_type": "markdown",
   "metadata": {},
   "source": [
    "**Possible Solution 1**\n",
    "\n",
    "This example solution uses full documentation code at the top and comments showing what is being done at each step."
   ]
  },
  {
   "cell_type": "code",
   "execution_count": null,
   "metadata": {},
   "outputs": [],
   "source": [
    "# Place your code for the function definition here.\n",
    "\n",
    "def count_above_threshold(data,threshold):\n",
    "    \"\"\"\n",
    "    task:       This function takes in an array and determines how many values in the array are higher than a \n",
    "                 set threshold level\n",
    "    inputs: \n",
    "        data       should be a numpy array of numbers\n",
    "        threshold  should be a single number\n",
    "    output:\n",
    "        count      is an integer\n",
    "    \"\"\"\n",
    "\n",
    "    n = len(data)  #n is the length of the dataset\n",
    "\n",
    "    count = 0      #count is initially set as zero\n",
    "\n",
    "    for i in range(n):    #loop over the index of the array\n",
    "        if data[i] > threshold:    #check to see if the value at that index is above the threshold\n",
    "            count = count +1           #if yes, then increase the counter variable\n",
    "\n",
    "    return count    #return the new value of count after checking all of the data array values\n",
    "    "
   ]
  },
  {
   "cell_type": "code",
   "execution_count": null,
   "metadata": {},
   "outputs": [],
   "source": [
    "# Test your code here.\n",
    "\n",
    "arr = np.array([0.1, 2.3, 1.5, 0.7, 3.0])\n",
    "count_above_threshold(arr, 1.0) #should return a value of 3\n"
   ]
  },
  {
   "cell_type": "markdown",
   "metadata": {},
   "source": [
    "**Possible Solution 2**\n",
    "\n",
    "This one uses a slightly different loop structure and doesn't have the full documentation code. "
   ]
  },
  {
   "cell_type": "code",
   "execution_count": null,
   "metadata": {},
   "outputs": [],
   "source": [
    "def count_above_threshold(data,threshold):\n",
    "\n",
    "    count = 0\n",
    "    for num in data:\n",
    "        if num >threshold:\n",
    "            count +=1\n",
    "\n",
    "    return count\n",
    "\n",
    "arr = np.array([0.1, 2.3, 1.5, 0.7, 3.0])\n",
    "count_above_threshold(arr, 1.0) #should return a value of 3"
   ]
  },
  {
   "cell_type": "markdown",
   "metadata": {},
   "source": [
    "### Exercise 4) Replace Negative Values with np.nan\n",
    "\n",
    "Sometimes in astronomy data, measurements may be corrupted or invalid. For example, a brightness measurement shouldn't be negative. In this exercise, you'll write a function to clean a NumPy array by replacing all negative values with np.nan.\n",
    "\n",
    "**Task**\n",
    "Write a function called clean_negatives(data) that:\n",
    "\n",
    "Takes a NumPy array of brightness values.\n",
    "\n",
    "Returns a new array with all negative values replaced by np.nan.\n",
    "\n",
    "Note: Do not modify the original array — return a copy with the cleaned values.\n",
    "\n",
    "**Pseudocode Outline**\n",
    "1. Import NumPy (`import numpy as np`).\n",
    "2. Make a copy of the input array.\n",
    "3. Loop through the indices of the array using `range(len(...))`.\n",
    "4. For each index:\n",
    "   - If the value is less than 0, replace it with `np.nan`.\n",
    "5. Return the modified copy.\n"
   ]
  },
  {
   "cell_type": "markdown",
   "metadata": {},
   "source": [
    "**Possible Solution 1**"
   ]
  },
  {
   "cell_type": "code",
   "execution_count": null,
   "metadata": {},
   "outputs": [],
   "source": [
    "# Place your code for the function definition here.\n",
    "\n",
    "def clean_negatives(data):\n",
    "    \"\"\"\n",
    "    task:      \n",
    "            for a numpy array of values, replace any negative values with the Numpy nan (not a number)\n",
    "    inputs:\n",
    "            data      should be a numpy array of numerical values\n",
    "    output:\n",
    "            cleaned   should be a numpy array with the replaced values\n",
    "    \"\"\"\n",
    "\n",
    "    clean = data    # create a copy of the data array\n",
    "\n",
    "    for i in range(len(clean)):     #iterate over the index of the array\n",
    "        if data[i] < 0:             #check each original value\n",
    "            clean[i] = np.nan       #replace only the negative values\n",
    "    \n",
    "    return clean\n"
   ]
  },
  {
   "cell_type": "code",
   "execution_count": null,
   "metadata": {},
   "outputs": [],
   "source": [
    "# Test your function here\n",
    "\n",
    "arr = np.array([1.2, -0.5, 0.3, -2.0, 5.0])\n",
    "cleaned = clean_negatives(arr)\n",
    "print(cleaned)\n",
    "\n",
    "#should return [ 1.2   nan  0.3   nan  5.0]"
   ]
  },
  {
   "cell_type": "code",
   "execution_count": null,
   "metadata": {},
   "outputs": [],
   "source": [
    "# Another test with a larger array\n",
    "\n",
    "arr2 = np.random.uniform(-5.0,20.0,50)\n",
    "\n",
    "print(arr2)\n",
    "arr3 = clean_negatives(arr2)\n",
    "print(arr3)"
   ]
  },
  {
   "cell_type": "code",
   "execution_count": null,
   "metadata": {},
   "outputs": [],
   "source": []
  }
 ],
 "metadata": {
  "kernelspec": {
   "display_name": "Python 3 (ipykernel)",
   "language": "python",
   "name": "python3"
  },
  "language_info": {
   "codemirror_mode": {
    "name": "ipython",
    "version": 3
   },
   "file_extension": ".py",
   "mimetype": "text/x-python",
   "name": "python",
   "nbconvert_exporter": "python",
   "pygments_lexer": "ipython3",
   "version": "3.12.4"
  }
 },
 "nbformat": 4,
 "nbformat_minor": 4
}
